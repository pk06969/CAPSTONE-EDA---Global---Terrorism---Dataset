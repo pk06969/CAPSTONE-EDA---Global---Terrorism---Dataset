{
  "nbformat": 4,
  "nbformat_minor": 0,
  "metadata": {
    "colab": {
      "provenance": [],
      "collapsed_sections": [
        "mDgbUHAGgjLW",
        "PBTbrJXOngz2",
        "GF8Ens_Soomf",
        "0wOQAZs5pc--",
        "K5QZ13OEpz2H",
        "lQ7QKXXCp7Bj",
        "448CDAPjqfQr",
        "KSlN3yHqYklG",
        "t6dVpIINYklI",
        "ijmpgYnKYklI",
        "-JiQyfWJYklI",
        "EM7whBJCYoAo",
        "fge-S5ZAYoAp",
        "85gYPyotYoAp",
        "RoGjAbkUYoAp",
        "4Of9eVA-YrdM",
        "iky9q4vBYrdO",
        "F6T5p64dYrdO",
        "y-Ehk30pYrdP",
        "bamQiAODYuh1",
        "QHF8YVU7Yuh3",
        "GwzvFGzlYuh3",
        "qYpmQ266Yuh3",
        "OH-pJp9IphqM",
        "bbFf2-_FphqN",
        "_ouA3fa0phqN",
        "Seke61FWphqN",
        "PIIx-8_IphqN",
        "t27r6nlMphqO",
        "r2jJGEOYphqO",
        "b0JNsNcRphqO",
        "BZR9WyysphqO",
        "jj7wYXLtphqO",
        "eZrbJ2SmphqO",
        "rFu4xreNphqO",
        "YJ55k-q6phqO",
        "gCFgpxoyphqP",
        "OVtJsKN_phqQ",
        "lssrdh5qphqQ",
        "U2RJ9gkRphqQ",
        "1M8mcRywphqQ",
        "tgIPom80phqQ",
        "JMzcOPDDphqR",
        "x-EpHcCOp1ci",
        "X_VqEhTip1ck",
        "8zGJKyg5p1ck",
        "PVzmfK_Ep1ck",
        "n3dbpmDWp1ck",
        "ylSl6qgtp1ck",
        "ZWILFDl5p1ck",
        "M7G43BXep1ck",
        "Ag9LCva-p1cl",
        "E6MkPsBcp1cl",
        "2cELzS2fp1cl",
        "3MPXvC8up1cl",
        "NC_X3p0fY2L0",
        "UV0SzAkaZNRQ",
        "YPEH6qLeZNRQ",
        "q29F0dvdveiT",
        "EXh0U9oCveiU",
        "22aHeOlLveiV",
        "JcMwzZxoAimU",
        "8G2x9gOozGDZ",
        "gCX9965dhzqZ",
        "gIfDvo9L0UH2"
      ],
      "include_colab_link": true
    },
    "kernelspec": {
      "name": "python3",
      "display_name": "Python 3"
    },
    "language_info": {
      "name": "python"
    }
  },
  "cells": [
    {
      "cell_type": "markdown",
      "metadata": {
        "id": "view-in-github",
        "colab_type": "text"
      },
      "source": [
        "<a href=\"https://colab.research.google.com/github/pk06969/CAPSTONE-EDA---Global---Terrorism---Dataset/blob/main/Copy_of_Sample_EDA_Submission_Template.ipynb\" target=\"_parent\"><img src=\"https://colab.research.google.com/assets/colab-badge.svg\" alt=\"Open In Colab\"/></a>"
      ]
    },
    {
      "cell_type": "markdown",
      "source": [
        "# **Project Name**    -\n",
        "\n"
      ],
      "metadata": {
        "id": "vncDsAP0Gaoa"
      }
    },
    {
      "cell_type": "markdown",
      "source": [
        "##### **Project Type**    - EDA/Regression/Classification/Unsupervised\n",
        "##### **Contribution**    - Individual\n",
        "##### **Parikshit -**\n"
      ],
      "metadata": {
        "id": "beRrZCGUAJYm"
      }
    },
    {
      "cell_type": "markdown",
      "source": [
        "# **Project Summary -**"
      ],
      "metadata": {
        "id": "FJNUwmbgGyua"
      }
    },
    {
      "cell_type": "markdown",
      "source": [
        "**The Global Terrorism Database (GTD) is a comprehensive open-source repository that records detailed information about terrorist attacks worldwide from 1970 through 2017. This extensive dataset, managed by the National Consortium for the Study of Terrorism and Responses to Terrorism (START) at the University of Maryland, encompasses both domestic and international terrorist incidents, totaling over 180,000 attacks. The GTD plays a pivotal role in providing critical insights into the nature, trends, and characteristics of terrorism, facilitating in-depth analysis to develop effective counterterrorism strategies and policies.**\n",
        "\n",
        "**The GTD's historical scope allows researchers and policymakers to study the evolution of terrorism over nearly five decades. By capturing data on a vast array of terrorist activities, it offers a nuanced understanding of the changing face of terrorism, enabling a deeper appreciation of its complexity. This temporal breadth equips analysts with the tools to identify long-term patterns, crucial milestones, and periods of heightened terrorism, empowering them to address the issue with greater accuracy and foresight.**\n",
        "\n",
        "**One of the GTD's key strengths lies in its systematic classification of incidents. By categorizing attacks based on various attributes such as attack type, target type, weapon used, and geographic location, the database offers a rich resource for examining trends and tendencies across different terrorist organizations and regions. Researchers can discern the preferred tactics of various groups, the relative frequency of attack types, and the preferred targets of terrorism. Such knowledge allows for targeted counterterrorism efforts and the allocation of resources in high-risk areas.**\n",
        "\n",
        "**The GTD's inclusion of both domestic and international terrorist incidents offers a comprehensive picture of the global threat landscape. This feature allows researchers to draw connections between local and transnational terrorism, leading to insights into potential linkages between seemingly isolated attacks. Understanding these connections is crucial for formulating multinational counterterrorism strategies and improving international cooperation in tackling the global menace.**\n",
        "\n",
        "**Additionally, the GTD captures data on the aftermath of terrorist attacks, including information on casualties, injuries, and property damage. This wealth of post-attack data enables researchers to assess the true impact of terrorism on affected communities, providing valuable insights into the psychological, social, and economic consequences of such acts. Policymakers can use this knowledge to devise measures that go beyond immediate security concerns, focusing on the long-term rehabilitation and resilience of communities affected by terrorism.**\n",
        "\n",
        "**Moreover, the GTD's extensive dataset allows for a thorough examination of the ideologies and motivations behind terrorist activities. Researchers can explore the affiliations and ideologies of different terrorist groups, shedding light on the underlying causes of violence. This knowledge is crucial for addressing root causes and developing strategies to prevent radicalization and recruitment into extremist organizations.**\n",
        "\n",
        "**The database's centralized collection of data also aids in identifying hotspots of terrorist activity around the world. Through geographic analysis, researchers can pinpoint regions and countries with high concentrations of terrorist incidents, thereby prioritizing resources for counterterrorism efforts in these areas.**\n",
        "\n",
        "**The GTD's ongoing updates and maintenance by researchers at START ensure that it remains a dynamic and reliable resource for counterterrorism research. Its accessibility to the public and the academic community allows for collaborative efforts in analyzing trends and generating actionable insights.**\n",
        "\n",
        "**In conclusion, the Global Terrorism Database serves as a critical tool in understanding and analyzing the multifaceted phenomenon of terrorism. With its extensive historical scope, systematic classification, and comprehensive global coverage, the GTD empowers researchers and policymakers to uncover key insights and trends in terrorist activities. By leveraging this data-driven knowledge, the international community can develop effective strategies to counter terrorism, enhance security, and promote peace worldwide.**"
      ],
      "metadata": {
        "id": "F6v_1wHtG2nS"
      }
    },
    {
      "cell_type": "markdown",
      "source": [
        "# **GitHub Link -**"
      ],
      "metadata": {
        "id": "w6K7xa23Elo4"
      }
    },
    {
      "cell_type": "markdown",
      "source": [
        "https://github.com/pk06969/CAPSTONE-EDA---Global---Terrorism---DatasetProvide"
      ],
      "metadata": {
        "id": "h1o69JH3Eqqn"
      }
    },
    {
      "cell_type": "markdown",
      "source": [
        "# **Problem Statement**\n"
      ],
      "metadata": {
        "id": "yQaldy8SH6Dl"
      }
    },
    {
      "cell_type": "markdown",
      "source": [
        "**1. What are the trends in the frequency and severity of terrorist attacks worldwide from 1970 to 2017?**\n",
        "\n",
        "**2. How does the geographical distribution of terrorist incidents vary over the years covered by the Global Terrorism Database (GTD)?**\n",
        "\n",
        "**3. What are the primary motives behind terrorist attacks during the specified time period, and have there been any notable shifts in these motives over time?**\n",
        "\n",
        "**4. Are there any discernible patterns in the types of weapons and tactics used in terrorist attacks across different regions and periods?**\n",
        "\n",
        "**5. What is the relationship between domestic and international terrorist incidents, and how have these relationships evolved over the four-decade period?**\n",
        "\n",
        "**6. Are there any specific regions or countries that have experienced a significant increase or decrease in terrorist activity over the years, and what factors may have contributed to these changes?**\n",
        "\n",
        "**7. How do the profiles of terrorist perpetrators differ in terms of demographic characteristics, affiliations, and radicalization pathways across different regions?**\n",
        "\n",
        "**8. What impact have counterterrorism efforts had on reducing the occurrence and impact of terrorist attacks globally?**\n",
        "\n",
        "**9. What role, if any, does socio-economic and political instability play in facilitating the rise of terrorism in specific regions?**\n",
        "\n",
        "**10. Are there any identifiable patterns in the targeting of specific sectors or industries by terrorist groups during the period under study?**\n",
        "\n",
        "**11. How has the use of technology, particularly the internet and social media, influenced the tactics and strategies of terrorist organizations over time?**\n",
        "\n",
        "**12. Are there any significant differences in the response to terrorism by democratic versus non-democratic countries, and how have these responses impacted the incidence of terrorist attacks in respective regions?**"
      ],
      "metadata": {
        "id": "DpeJGUA3kjGy"
      }
    },
    {
      "cell_type": "markdown",
      "source": [
        "#### **Define Your Business Objective?**"
      ],
      "metadata": {
        "id": "PH-0ReGfmX4f"
      }
    },
    {
      "cell_type": "markdown",
      "source": [
        "**My business objective is to utilize the rich data available in the Global Terrorism Database (GTD) to develop innovative and effective security solutions for governments, organizations, and communities. By leveraging the comprehensive information on terrorist attacks worldwide from 1970 through 2017, we aim to provide data-driven insights, risk assessments, and actionable recommendations to enhance global security and counterterrorism effortsAnswer Here.**"
      ],
      "metadata": {
        "id": "PhDvGCAqmjP1"
      }
    },
    {
      "cell_type": "markdown",
      "source": [
        "# **General Guidelines** : -  "
      ],
      "metadata": {
        "id": "mDgbUHAGgjLW"
      }
    },
    {
      "cell_type": "markdown",
      "source": [
        "1.   Well-structured, formatted, and commented code is required.\n",
        "2.   Exception Handling, Production Grade Code & Deployment Ready Code will be a plus. Those students will be awarded some additional credits.\n",
        "     \n",
        "     The additional credits will have advantages over other students during Star Student selection.\n",
        "       \n",
        "             [ Note: - Deployment Ready Code is defined as, the whole .ipynb notebook should be executable in one go\n",
        "                       without a single error logged. ]\n",
        "\n",
        "3.   Each and every logic should have proper comments.\n",
        "4. You may add as many number of charts you want. Make Sure for each and every chart the following format should be answered.\n",
        "        \n",
        "\n",
        "```\n",
        "# Chart visualization code\n",
        "```\n",
        "            \n",
        "\n",
        "*   Why did you pick the specific chart?\n",
        "*   What is/are the insight(s) found from the chart?\n",
        "* Will the gained insights help creating a positive business impact?\n",
        "Are there any insights that lead to negative growth? Justify with specific reason.\n",
        "\n",
        "5. You have to create at least 20 logical & meaningful charts having important insights.\n",
        "\n",
        "\n",
        "[ Hints : - Do the Vizualization in  a structured way while following \"UBM\" Rule.\n",
        "\n",
        "U - Univariate Analysis,\n",
        "\n",
        "B - Bivariate Analysis (Numerical - Categorical, Numerical - Numerical, Categorical - Categorical)\n",
        "\n",
        "M - Multivariate Analysis\n",
        " ]\n",
        "\n",
        "\n",
        "\n"
      ],
      "metadata": {
        "id": "ZrxVaUj-hHfC"
      }
    },
    {
      "cell_type": "markdown",
      "source": [
        "# ***Let's Begin !***"
      ],
      "metadata": {
        "id": "O_i_v8NEhb9l"
      }
    },
    {
      "cell_type": "markdown",
      "source": [
        "## ***1. Know Your Data***"
      ],
      "metadata": {
        "id": "HhfV-JJviCcP"
      }
    },
    {
      "cell_type": "markdown",
      "source": [
        "### Import Libraries"
      ],
      "metadata": {
        "id": "Y3lxredqlCYt"
      }
    },
    {
      "cell_type": "code",
      "source": [
        "# Import Libraries\n",
        "import pandas as pd\n",
        "import numpy as np\n",
        "import matplotlib.pyplot as plt\n",
        "import seaborn as sns\n"
      ],
      "metadata": {
        "id": "M8Vqi-pPk-HR"
      },
      "execution_count": 2,
      "outputs": []
    },
    {
      "cell_type": "markdown",
      "source": [
        "### Dataset Loading"
      ],
      "metadata": {
        "id": "3RnN4peoiCZX"
      }
    },
    {
      "cell_type": "code",
      "source": [
        "# Load Dataset\n",
        "file_path = \"/content/Global Terrorism Data.csv\"\n",
        "df = pd.read_csv(file_path, encoding='ISO-8859-1')"
      ],
      "metadata": {
        "id": "4CkvbW_SlZ_R",
        "colab": {
          "base_uri": "https://localhost:8080/"
        },
        "outputId": "9c029933-8297-45ff-c11f-76a0e0acfdff"
      },
      "execution_count": 54,
      "outputs": [
        {
          "output_type": "stream",
          "name": "stderr",
          "text": [
            "<ipython-input-54-b2d7300b44a0>:3: DtypeWarning: Columns (4,6,31,33,61,62,63,76,79,90,92,94,96,114,115,121) have mixed types. Specify dtype option on import or set low_memory=False.\n",
            "  df = pd.read_csv(file_path, encoding='ISO-8859-1')\n"
          ]
        }
      ]
    },
    {
      "cell_type": "markdown",
      "source": [
        "### Dataset First View"
      ],
      "metadata": {
        "id": "x71ZqKXriCWQ"
      }
    },
    {
      "cell_type": "code",
      "source": [
        "# Dataset First Look\n",
        "print(df.head())"
      ],
      "metadata": {
        "id": "LWNFOSvLl09H",
        "colab": {
          "base_uri": "https://localhost:8080/"
        },
        "outputId": "6d5cba77-af76-4079-dac6-21e7835611a0"
      },
      "execution_count": 55,
      "outputs": [
        {
          "output_type": "stream",
          "name": "stdout",
          "text": [
            "        eventid  iyear  imonth  iday approxdate  extended resolution  country  \\\n",
            "0  197000000001   1970       7     2        NaN         0        NaN       58   \n",
            "1  197000000002   1970       0     0        NaN         0        NaN      130   \n",
            "2  197001000001   1970       1     0        NaN         0        NaN      160   \n",
            "3  197001000002   1970       1     0        NaN         0        NaN       78   \n",
            "4  197001000003   1970       1     0        NaN         0        NaN      101   \n",
            "\n",
            "          country_txt  region  ... addnotes scite1 scite2  scite3  dbsource  \\\n",
            "0  Dominican Republic       2  ...      NaN    NaN    NaN     NaN      PGIS   \n",
            "1              Mexico       1  ...      NaN    NaN    NaN     NaN      PGIS   \n",
            "2         Philippines       5  ...      NaN    NaN    NaN     NaN      PGIS   \n",
            "3              Greece       8  ...      NaN    NaN    NaN     NaN      PGIS   \n",
            "4               Japan       4  ...      NaN    NaN    NaN     NaN      PGIS   \n",
            "\n",
            "   INT_LOG  INT_IDEO INT_MISC INT_ANY  related  \n",
            "0        0         0        0       0      NaN  \n",
            "1        0         1        1       1      NaN  \n",
            "2       -9        -9        1       1      NaN  \n",
            "3       -9        -9        1       1      NaN  \n",
            "4       -9        -9        1       1      NaN  \n",
            "\n",
            "[5 rows x 135 columns]\n"
          ]
        }
      ]
    },
    {
      "cell_type": "markdown",
      "source": [
        "### Dataset Rows & Columns count"
      ],
      "metadata": {
        "id": "7hBIi_osiCS2"
      }
    },
    {
      "cell_type": "code",
      "source": [
        "# Dataset Rows & Columns count\n",
        "num_rows, num_columns = df.shape\n",
        "print(\"Number of rows:\", num_rows)\n",
        "print(\"Number of columns:\", num_columns)"
      ],
      "metadata": {
        "id": "Kllu7SJgmLij",
        "colab": {
          "base_uri": "https://localhost:8080/"
        },
        "outputId": "09e20c1c-4e1b-478c-c142-ce908507dce6"
      },
      "execution_count": 56,
      "outputs": [
        {
          "output_type": "stream",
          "name": "stdout",
          "text": [
            "Number of rows: 181691\n",
            "Number of columns: 135\n"
          ]
        }
      ]
    },
    {
      "cell_type": "markdown",
      "source": [
        "### Dataset Information"
      ],
      "metadata": {
        "id": "JlHwYmJAmNHm"
      }
    },
    {
      "cell_type": "code",
      "source": [
        "# Dataset Info\n",
        "df.info()"
      ],
      "metadata": {
        "id": "e9hRXRi6meOf",
        "colab": {
          "base_uri": "https://localhost:8080/"
        },
        "outputId": "5ac486ad-1352-4fa2-a215-34f267980091"
      },
      "execution_count": 57,
      "outputs": [
        {
          "output_type": "stream",
          "name": "stdout",
          "text": [
            "<class 'pandas.core.frame.DataFrame'>\n",
            "RangeIndex: 181691 entries, 0 to 181690\n",
            "Columns: 135 entries, eventid to related\n",
            "dtypes: float64(55), int64(22), object(58)\n",
            "memory usage: 187.1+ MB\n"
          ]
        }
      ]
    },
    {
      "cell_type": "markdown",
      "source": [
        "#### Duplicate Values"
      ],
      "metadata": {
        "id": "35m5QtbWiB9F"
      }
    },
    {
      "cell_type": "code",
      "source": [
        "# Dataset Duplicate Value Count\n",
        "total_duplicates = df.duplicated().sum()\n",
        "\n",
        "columns_to_check_duplicates = ['eventid', 'iyear', 'imonth', 'iday', 'approxdate', 'extended',\n",
        "                               'resolution', 'country', 'country_txt', 'region',\n",
        "                               'addnotes', 'scite1', 'scite2', 'scite3', 'dbsource', 'INT_LOG',\n",
        "                               'INT_IDEO', 'INT_MISC', 'INT_ANY', 'related']\n",
        "\n",
        "# Count the duplicate rows for the specified columns\n",
        "column_duplicates = df.duplicated(subset=columns_to_check_duplicates).sum()\n",
        "\n",
        "# Print the results\n",
        "print(\"Total duplicate rows in the DataFrame:\", total_duplicates)\n",
        "print(\"Duplicate rows in the specified columns:\", column_duplicates)\n"
      ],
      "metadata": {
        "id": "1sLdpKYkmox0",
        "colab": {
          "base_uri": "https://localhost:8080/"
        },
        "outputId": "dd57181e-b2dd-4f03-a7d1-026733772ae3"
      },
      "execution_count": 65,
      "outputs": [
        {
          "output_type": "stream",
          "name": "stdout",
          "text": [
            "Total duplicate rows in the DataFrame: 0\n",
            "Duplicate rows in the specified columns: 0\n"
          ]
        }
      ]
    },
    {
      "cell_type": "markdown",
      "source": [
        "#### Missing Values/Null Values"
      ],
      "metadata": {
        "id": "PoPl-ycgm1ru"
      }
    },
    {
      "cell_type": "code",
      "source": [
        "# Missing Values/Null Values Count\n",
        "import pandas as pd\n",
        "\n",
        "# Count the missing values in the entire DataFrame\n",
        "total_missing_values = df.isnull().sum().sum()\n",
        "\n",
        "# Count the missing values in each column\n",
        "missing_values_per_column = df.isnull().sum()\n",
        "\n",
        "# Print the results\n",
        "print(\"Total missing values in the DataFrame:\", total_missing_values)\n",
        "print(\"Missing values per column:\")\n",
        "print(missing_values_per_column)\n"
      ],
      "metadata": {
        "id": "GgHWkxvamxVg",
        "colab": {
          "base_uri": "https://localhost:8080/"
        },
        "outputId": "9e9ac5de-6a3c-4fc1-cf20-8ce76e9e34c1"
      },
      "execution_count": 66,
      "outputs": [
        {
          "output_type": "stream",
          "name": "stdout",
          "text": [
            "Total missing values in the DataFrame: 13853997\n",
            "Missing values per column:\n",
            "eventid            0\n",
            "iyear              0\n",
            "imonth             0\n",
            "iday               0\n",
            "approxdate    172452\n",
            "               ...  \n",
            "INT_LOG            0\n",
            "INT_IDEO           0\n",
            "INT_MISC           0\n",
            "INT_ANY            0\n",
            "related       156653\n",
            "Length: 135, dtype: int64\n"
          ]
        }
      ]
    },
    {
      "cell_type": "code",
      "source": [
        "# Visualizing the missing values\n",
        "plt.figure(figsize=(10, 6))\n",
        "sns.heatmap(df.isnull(), cmap='viridis', cbar=False, yticklabels=False)\n",
        "plt.title(\"Missing Values Heatmap\")\n",
        "plt.show()\n",
        "\n",
        "# Create a bar plot to visualize missing values per column\n",
        "plt.figure(figsize=(10, 6))\n",
        "missing_values_per_column = df.isnull().sum()\n",
        "sns.barplot(x=missing_values_per_column.index, y=missing_values_per_column.values, palette='viridis')\n",
        "plt.xticks(rotation=90)\n",
        "plt.xlabel('Columns')\n",
        "plt.ylabel('Missing Values Count')\n",
        "plt.title('Missing Values per Column')\n",
        "plt.show()"
      ],
      "metadata": {
        "id": "3q5wnI3om9sJ",
        "colab": {
          "base_uri": "https://localhost:8080/",
          "height": 1000
        },
        "outputId": "5d15f864-039e-47b2-8ddb-2b82e199e3a8"
      },
      "execution_count": 67,
      "outputs": [
        {
          "output_type": "display_data",
          "data": {
            "text/plain": [
              "<Figure size 1000x600 with 1 Axes>"
            ],
            "image/png": "[encoded data removed]"
          },
          "metadata": {}
        },
        {
          "output_type": "display_data",
          "data": {
            "text/plain": [
              "<Figure size 1000x600 with 1 Axes>"
            ],
            "image/png": "[encoded data removed]"
          },
          "metadata": {}
        }
      ]
    },
    {
      "cell_type": "markdown",
      "source": [
        "### What did you know about your dataset?"
      ],
      "metadata": {
        "id": "H0kj-8xxnORC"
      }
    },
    {
      "cell_type": "markdown",
      "source": [
        "**The Global Terrorism Database (GTD) is an dataset that compiles information on terrorist attacks worldwide from 1970 to 2017, encompassing over 180,000 incidents. It includes data on both domestic and international terrorist acts, allowing researchers to study trends and patterns over time. The database is curated and maintained by the National Consortium for the Study of Terrorism and Responses to Terrorism (START), based at the University of Maryland. Researchers use this dataset to analyze and understand key factors related to terrorist activities, such as attack frequencies, targets, weapons used, perpetrator groups, and geographical distributions. The GTD serves as a valuable resource for governments, academics, and policymakers in their efforts to counter terrorism and enhance global security.**"
      ],
      "metadata": {
        "id": "gfoNAAC-nUe_"
      }
    },
    {
      "cell_type": "markdown",
      "source": [
        "## ***2. Understanding Your Variables***"
      ],
      "metadata": {
        "id": "nA9Y7ga8ng1Z"
      }
    },
    {
      "cell_type": "code",
      "source": [
        "# Dataset Columns\n",
        "column_names = df.columns.tolist()\n",
        "print(\"Column names:\", column_names)"
      ],
      "metadata": {
        "id": "j7xfkqrt5Ag5",
        "colab": {
          "base_uri": "https://localhost:8080/"
        },
        "outputId": "0eb485ad-43f6-4447-8903-690a2c04b0c4"
      },
      "execution_count": 68,
      "outputs": [
        {
          "output_type": "stream",
          "name": "stdout",
          "text": [
            "Column names: ['eventid', 'iyear', 'imonth', 'iday', 'approxdate', 'extended', 'resolution', 'country', 'country_txt', 'region', 'region_txt', 'provstate', 'city', 'latitude', 'longitude', 'specificity', 'vicinity', 'location', 'summary', 'crit1', 'crit2', 'crit3', 'doubtterr', 'alternative', 'alternative_txt', 'multiple', 'success', 'suicide', 'attacktype1', 'attacktype1_txt', 'attacktype2', 'attacktype2_txt', 'attacktype3', 'attacktype3_txt', 'targtype1', 'targtype1_txt', 'targsubtype1', 'targsubtype1_txt', 'corp1', 'target1', 'natlty1', 'natlty1_txt', 'targtype2', 'targtype2_txt', 'targsubtype2', 'targsubtype2_txt', 'corp2', 'target2', 'natlty2', 'natlty2_txt', 'targtype3', 'targtype3_txt', 'targsubtype3', 'targsubtype3_txt', 'corp3', 'target3', 'natlty3', 'natlty3_txt', 'gname', 'gsubname', 'gname2', 'gsubname2', 'gname3', 'gsubname3', 'motive', 'guncertain1', 'guncertain2', 'guncertain3', 'individual', 'nperps', 'nperpcap', 'claimed', 'claimmode', 'claimmode_txt', 'claim2', 'claimmode2', 'claimmode2_txt', 'claim3', 'claimmode3', 'claimmode3_txt', 'compclaim', 'weaptype1', 'weaptype1_txt', 'weapsubtype1', 'weapsubtype1_txt', 'weaptype2', 'weaptype2_txt', 'weapsubtype2', 'weapsubtype2_txt', 'weaptype3', 'weaptype3_txt', 'weapsubtype3', 'weapsubtype3_txt', 'weaptype4', 'weaptype4_txt', 'weapsubtype4', 'weapsubtype4_txt', 'weapdetail', 'nkill', 'nkillus', 'nkillter', 'nwound', 'nwoundus', 'nwoundte', 'property', 'propextent', 'propextent_txt', 'propvalue', 'propcomment', 'ishostkid', 'nhostkid', 'nhostkidus', 'nhours', 'ndays', 'divert', 'kidhijcountry', 'ransom', 'ransomamt', 'ransomamtus', 'ransompaid', 'ransompaidus', 'ransomnote', 'hostkidoutcome', 'hostkidoutcome_txt', 'nreleased', 'addnotes', 'scite1', 'scite2', 'scite3', 'dbsource', 'INT_LOG', 'INT_IDEO', 'INT_MISC', 'INT_ANY', 'related']\n"
          ]
        }
      ]
    },
    {
      "cell_type": "code",
      "source": [
        "# Dataset Describe\n",
        "description = df.describe()\n",
        "print(description)"
      ],
      "metadata": {
        "id": "DnOaZdaE5Q5t",
        "colab": {
          "base_uri": "https://localhost:8080/"
        },
        "outputId": "6279100b-0615-4721-a002-dd78260d316d"
      },
      "execution_count": 69,
      "outputs": [
        {
          "output_type": "stream",
          "name": "stdout",
          "text": [
            "            eventid          iyear         imonth           iday  \\\n",
            "count  1.816910e+05  181691.000000  181691.000000  181691.000000   \n",
            "mean   2.002705e+11    2002.638997       6.467277      15.505644   \n",
            "std    1.325957e+09      13.259430       3.388303       8.814045   \n",
            "min    1.970000e+11    1970.000000       0.000000       0.000000   \n",
            "25%    1.991021e+11    1991.000000       4.000000       8.000000   \n",
            "50%    2.009022e+11    2009.000000       6.000000      15.000000   \n",
            "75%    2.014081e+11    2014.000000       9.000000      23.000000   \n",
            "max    2.017123e+11    2017.000000      12.000000      31.000000   \n",
            "\n",
            "            extended        country         region       latitude  \\\n",
            "count  181691.000000  181691.000000  181691.000000  177135.000000   \n",
            "mean        0.045346     131.968501       7.160938      23.498343   \n",
            "std         0.208063     112.414535       2.933408      18.569242   \n",
            "min         0.000000       4.000000       1.000000     -53.154613   \n",
            "25%         0.000000      78.000000       5.000000      11.510046   \n",
            "50%         0.000000      98.000000       6.000000      31.467463   \n",
            "75%         0.000000     160.000000      10.000000      34.685087   \n",
            "max         1.000000    1004.000000      12.000000      74.633553   \n",
            "\n",
            "          longitude    specificity  ...     ransomamt   ransomamtus  \\\n",
            "count  1.771340e+05  181685.000000  ...  1.350000e+03  5.630000e+02   \n",
            "mean  -4.586957e+02       1.451452  ...  3.172530e+06  5.784865e+05   \n",
            "std    2.047790e+05       0.995430  ...  3.021157e+07  7.077924e+06   \n",
            "min   -8.618590e+07       1.000000  ... -9.900000e+01 -9.900000e+01   \n",
            "25%    4.545640e+00       1.000000  ...  0.000000e+00  0.000000e+00   \n",
            "50%    4.324651e+01       1.000000  ...  1.500000e+04  0.000000e+00   \n",
            "75%    6.871033e+01       1.000000  ...  4.000000e+05  0.000000e+00   \n",
            "max    1.793667e+02       5.000000  ...  1.000000e+09  1.320000e+08   \n",
            "\n",
            "         ransompaid  ransompaidus  hostkidoutcome     nreleased  \\\n",
            "count  7.740000e+02    552.000000    10991.000000  10400.000000   \n",
            "mean   7.179437e+05    240.378623        4.629242    -29.018269   \n",
            "std    1.014392e+07   2940.967293        2.035360     65.720119   \n",
            "min   -9.900000e+01    -99.000000        1.000000    -99.000000   \n",
            "25%   -9.900000e+01      0.000000        2.000000    -99.000000   \n",
            "50%    0.000000e+00      0.000000        4.000000      0.000000   \n",
            "75%    1.273412e+03      0.000000        7.000000      1.000000   \n",
            "max    2.750000e+08  48000.000000        7.000000   2769.000000   \n",
            "\n",
            "             INT_LOG       INT_IDEO       INT_MISC        INT_ANY  \n",
            "count  181691.000000  181691.000000  181691.000000  181691.000000  \n",
            "mean       -4.543731      -4.464398       0.090010      -3.945952  \n",
            "std         4.543547       4.637152       0.568457       4.691325  \n",
            "min        -9.000000      -9.000000      -9.000000      -9.000000  \n",
            "25%        -9.000000      -9.000000       0.000000      -9.000000  \n",
            "50%        -9.000000      -9.000000       0.000000       0.000000  \n",
            "75%         0.000000       0.000000       0.000000       0.000000  \n",
            "max         1.000000       1.000000       1.000000       1.000000  \n",
            "\n",
            "[8 rows x 77 columns]\n"
          ]
        }
      ]
    },
    {
      "cell_type": "markdown",
      "source": [
        "### Variables Description"
      ],
      "metadata": {
        "id": "PBTbrJXOngz2"
      }
    },
    {
      "cell_type": "markdown",
      "source": [
        "Answer Here"
      ],
      "metadata": {
        "id": "aJV4KIxSnxay"
      }
    },
    {
      "cell_type": "markdown",
      "source": [
        "### Check Unique Values for each variable."
      ],
      "metadata": {
        "id": "u3PMJOP6ngxN"
      }
    },
    {
      "cell_type": "code",
      "source": [
        "# Check Unique Values for each variable.\n",
        "for column in df.columns:\n",
        "    unique_values = df[column].unique()\n",
        "    print(f\"Unique values in '{column}': {unique_values}\")"
      ],
      "metadata": {
        "id": "zms12Yq5n-jE",
        "colab": {
          "base_uri": "https://localhost:8080/"
        },
        "outputId": "978447d0-5744-4364-9f5d-0bb56ed69cc9"
      },
      "execution_count": 70,
      "outputs": [
        {
          "output_type": "stream",
          "name": "stdout",
          "text": [
            "Unique values in 'eventid': [197000000001 197000000002 197001000001 ... 201712310030 201712310031\n",
            " 201712310032]\n",
            "Unique values in 'iyear': [1970 1971 1972 1973 1974 1975 1976 1977 1978 1979 1980 1981 1986 1982\n",
            " 1983 1984 1985 1987 1988 1989 1990 1991 1992 1994 1995 1996 1997 1998\n",
            " 1999 2000 2001 2002 2003 2004 2005 2006 2007 2008 2009 2010 2011 2012\n",
            " 2013 2014 2015 2016 2017]\n",
            "Unique values in 'imonth': [ 7  0  1  2  3  4  5  6  8  9 10 11 12]\n",
            "Unique values in 'iday': [ 2  0  1  3  6  8  9 10 11 12 13 14 15 19 20 21 22 25 26 27 28 30 31  4\n",
            "  7 16 17 18 23 24  5 29]\n",
            "Unique values in 'approxdate': [nan 'January 19-20, 1970' 'February 6-9, 1970' ... '2017-12-29 00:00:00'\n",
            " 'December 25, 2017-January 5, 2018' '2017-12-31 00:00:00']\n",
            "Unique values in 'extended': [0 1]\n",
            "Unique values in 'resolution': [nan '3/8/1970' '3/15/1970' ... '3/23/2013' '12/9/2011' '12/27/2011']\n",
            "Unique values in 'country': [  58  130  160   78  101  217  218   98  499   65   83  222  362  199\n",
            "  102  185   30   60   11  110   96  209  158   94  603   45   26  145\n",
            "  142   21   38   14  153  230  198   49  406   36   97  161  201  156\n",
            "  106  155   15  236   92   69  428   31  604  605  162    6   61  205\n",
            "   87  195  136   53  138    4  159   43   88  235   59  144  121  178\n",
            "   29  100   42  377    7  200  184  215  183  104   95  182  203  186\n",
            "  139   17  147   20  207   19    8  128  173   56   93  124  403  359\n",
            "   55  349   86  137  208  213  151  111   72  113   18   89  174  231\n",
            "   84   80  532   22   81  127  221    5   41  176   57  164   32  196\n",
            "  197  116   91   70   66   33  143  166  146  141  204   68   67   76\n",
            "  122  129   90  108  157   44  112   47  123   75  228  168  177   37\n",
            "   51   50   74   16  119  115   34  214  132   12  167   99  103   10\n",
            "   28   62  202  120  219  109   64  223   46   23  179  118  226   35\n",
            "   54  180   73  149   63  189   71  117  107  220  229 1003  181  347\n",
            "  190   85 1002  422  210  175   25 1001 1004]\n",
            "Unique values in 'country_txt': ['Dominican Republic' 'Mexico' 'Philippines' 'Greece' 'Japan'\n",
            " 'United States' 'Uruguay' 'Italy' 'East Germany (GDR)' 'Ethiopia'\n",
            " 'Guatemala' 'Venezuela' 'West Germany (FRG)' 'Switzerland' 'Jordan'\n",
            " 'Spain' 'Brazil' 'Egypt' 'Argentina' 'Lebanon' 'Ireland' 'Turkey'\n",
            " 'Paraguay' 'Iran' 'United Kingdom' 'Colombia' 'Bolivia' 'Nicaragua'\n",
            " 'Netherlands' 'Belgium' 'Canada' 'Australia' 'Pakistan' 'Zambia' 'Sweden'\n",
            " 'Costa Rica' 'South Yemen' 'Cambodia' 'Israel' 'Poland' 'Taiwan' 'Panama'\n",
            " 'Kuwait' 'West Bank and Gaza Strip' 'Austria' 'Czechoslovakia' 'India'\n",
            " 'France' 'South Vietnam' 'Brunei' 'Zaire'\n",
            " \"People's Republic of the Congo\" 'Portugal' 'Algeria' 'El Salvador'\n",
            " 'Thailand' 'Haiti' 'Sudan' 'Morocco' 'Cyprus' 'Myanmar' 'Afghanistan'\n",
            " 'Peru' 'Chile' 'Honduras' 'Yugoslavia' 'Ecuador' 'New Zealand' 'Malaysia'\n",
            " 'Singapore' 'Botswana' 'Jamaica' 'Chad' 'North Yemen' 'Andorra' 'Syria'\n",
            " 'South Korea' 'United Arab Emirates' 'South Africa' 'Kenya' 'Iraq'\n",
            " 'Somalia' 'Tanzania' 'Sri Lanka' 'Namibia' 'Bahamas' 'Nigeria' 'Barbados'\n",
            " 'Trinidad and Tobago' 'Bangladesh' 'Angola' 'Mauritania' 'Saudi Arabia'\n",
            " 'Djibouti' 'Indonesia' 'Malta' 'Rhodesia' 'Soviet Union' 'Denmark'\n",
            " 'Western Sahara' 'Guyana' 'Mozambique' 'Tunisia' 'Uganda' 'Norway'\n",
            " 'Lesotho' 'Gabon' 'Libya' 'Bahrain' 'Hong Kong' 'Senegal' 'Zimbabwe'\n",
            " 'Guinea' 'Grenada' 'New Hebrides' 'Belize' 'Guadeloupe' 'Martinique'\n",
            " 'Vatican City' 'Albania' 'Central African Republic' 'Seychelles'\n",
            " 'Dominica' 'Qatar' 'Bulgaria' 'Suriname' 'Swaziland' 'Luxembourg'\n",
            " 'Iceland' 'French Guiana' 'Falkland Islands' 'Burkina Faso'\n",
            " 'New Caledonia' 'Romania' 'Niger' 'Nepal' 'Togo' 'Finland' 'Fiji' 'Ghana'\n",
            " 'Maldives' 'Mauritius' 'Hungary' 'Laos' 'Papua New Guinea' 'China'\n",
            " 'Liberia' 'Republic of the Congo' 'Mali' 'Germany' 'Yemen' 'Rwanda'\n",
            " 'Sierra Leone' 'Cameroon' 'Cuba' 'Croatia' 'Georgia' 'Azerbaijan'\n",
            " 'Madagascar' 'Lithuania' 'Burundi' 'Ukraine' 'Moldova' 'Armenia' 'Russia'\n",
            " 'Ivory Coast' 'Kazakhstan' 'Antigua and Barbuda' 'Bosnia-Herzegovina'\n",
            " 'Equatorial Guinea' 'Tajikistan' 'Malawi' 'Uzbekistan' 'Latvia' 'Estonia'\n",
            " 'Vietnam' 'Comoros' 'Benin' 'Slovak Republic' 'Macedonia'\n",
            " 'Wallis and Futuna' 'Belarus' 'Czech Republic' 'Slovenia' 'Gambia'\n",
            " 'North Korea' 'Eritrea' 'St. Kitts and Nevis' 'French Polynesia' 'Macau'\n",
            " 'Kyrgyzstan' 'Vanuatu' 'Democratic Republic of the Congo' 'Kosovo'\n",
            " 'Solomon Islands' 'East Timor' 'St. Lucia' 'Guinea-Bissau' 'Montenegro'\n",
            " 'International' 'Turkmenistan' 'Serbia-Montenegro' 'Bhutan' 'Serbia'\n",
            " 'South Sudan']\n",
            "Unique values in 'region': [ 2  1  5  8  4  3  9 11 10 12  6  7]\n",
            "Unique values in 'region_txt': ['Central America & Caribbean' 'North America' 'Southeast Asia'\n",
            " 'Western Europe' 'East Asia' 'South America' 'Eastern Europe'\n",
            " 'Sub-Saharan Africa' 'Middle East & North Africa' 'Australasia & Oceania'\n",
            " 'South Asia' 'Central Asia']\n",
            "Unique values in 'provstate': [nan 'Federal' 'Tarlac' ... 'Carlow' 'Western Lakes' 'Vidzeme']\n",
            "Unique values in 'city': ['Santo Domingo' 'Mexico city' 'Unknown' ... 'Hungrum' 'Ceelka Geelow'\n",
            " 'Kubentog']\n",
            "Unique values in 'latitude': [18.456792 19.371887 15.478598 ...  2.359673 35.407278  6.900742]\n",
            "Unique values in 'longitude': [-69.951164 -99.086624 120.599741 ...  45.385034  35.942679 124.437908]\n",
            "Unique values in 'specificity': [ 1.  4.  5.  2.  3. nan]\n",
            "Unique values in 'vicinity': [ 0  1 -9]\n",
            "Unique values in 'location': [nan 'Edes Substation' 'Caparra Shopping Center' ...\n",
            " 'The incident occurred near the town of Balcad.'\n",
            " 'The incident occurred at the Humaymim Airport.'\n",
            " 'The incident occurred in the Datu Hoffer district.']\n",
            "Unique values in 'summary': [nan\n",
            " '1/1/1970: Unknown African American assailants fired several bullets at police headquarters in Cairo, Illinois, United States.  There were no casualties, however, one bullet narrowly missed several police officers.  This attack took place during heightened racial tensions, including a Black boycott of White-owned businesses, in Cairo Illinois.'\n",
            " '1/2/1970: Unknown perpetrators detonated explosives at the Pacific Gas & Electric Company Edes substation in Oakland, California, United States.  Three transformers were damaged costing an estimated $20,000 to $25,000.  There were no casualties.'\n",
            " ...\n",
            " '12/31/2017: Assailants set fire to houses in Kubentog, Datu Hoffer, Maguindanao, Philippines. There were no reported casualties in the attack. No group claimed responsibility for the incident; however, sources attributed the attack to the Bangsamoro Islamic Freedom Movement (BIFM).'\n",
            " '12/31/2017: Assailants threw a grenade at a Forest Department office in Mantripukhri neighborhood, Imphal, Manipur, India. No casualties were reported in the blast. No group claimed responsibility for the incident.'\n",
            " '12/31/2017: An explosive device was discovered and defused at a plaza in Cotabato City, Maguindanao, Philippines. No group claimed responsibility for the incident.']\n",
            "Unique values in 'crit1': [1 0]\n",
            "Unique values in 'crit2': [1 0]\n",
            "Unique values in 'crit3': [1 0]\n",
            "Unique values in 'doubtterr': [ 0. -9.  1. nan]\n",
            "Unique values in 'alternative': [nan  2.  1.  3.  5.  4.]\n",
            "Unique values in 'alternative_txt': [nan 'Other Crime Type' 'Insurgency/Guerilla Action'\n",
            " 'Intra/Inter-group Conflict' 'State Actors' 'Lack of Intentionality']\n",
            "Unique values in 'multiple': [ 0.  1. nan]\n",
            "Unique values in 'success': [1 0]\n",
            "Unique values in 'suicide': [0 1]\n",
            "Unique values in 'attacktype1': [1 6 3 7 2 4 9 8 5]\n",
            "Unique values in 'attacktype1_txt': ['Assassination' 'Hostage Taking (Kidnapping)' 'Bombing/Explosion'\n",
            " 'Facility/Infrastructure Attack' 'Armed Assault' 'Hijacking' 'Unknown'\n",
            " 'Unarmed Assault' 'Hostage Taking (Barricade Incident)']\n",
            "Unique values in 'attacktype2': [nan  2.  7.  3.  6.  1.  4.  5.  9.  8.]\n",
            "Unique values in 'attacktype2_txt': [nan 'Armed Assault' 'Facility/Infrastructure Attack' 'Bombing/Explosion'\n",
            " 'Hostage Taking (Kidnapping)' 'Assassination' 'Hijacking'\n",
            " 'Hostage Taking (Barricade Incident)' 'Unknown' 'Unarmed Assault']\n",
            "Unique values in 'attacktype3': [nan  2.  4.  7.  3.  6.  1.  5.  8.]\n",
            "Unique values in 'attacktype3_txt': [nan 'Armed Assault' 'Hijacking' 'Facility/Infrastructure Attack'\n",
            " 'Bombing/Explosion' 'Hostage Taking (Kidnapping)' 'Assassination'\n",
            " 'Hostage Taking (Barricade Incident)' 'Unarmed Assault']\n",
            "Unique values in 'targtype1': [14  7 10  3 21  4  2  6  1  8 22 15 20 19 18 12 16  9 17 13 11  5]\n",
            "Unique values in 'targtype1_txt': ['Private Citizens & Property' 'Government (Diplomatic)'\n",
            " 'Journalists & Media' 'Police' 'Utilities' 'Military'\n",
            " 'Government (General)' 'Airports & Aircraft' 'Business'\n",
            " 'Educational Institution' 'Violent Political Party'\n",
            " 'Religious Figures/Institutions' 'Unknown' 'Transportation' 'Tourists'\n",
            " 'NGO' 'Telecommunication' 'Food or Water Supply'\n",
            " 'Terrorists/Non-State Militia' 'Other' 'Maritime' 'Abortion Related']\n",
            "Unique values in 'targsubtype1': [ 68.  45.  54.  46.  22.  25. 107.  28.  21.  27.  42.   7.  nan  34.\n",
            "  49.   4. 110.  76.  71.  14.  23.  86.  73.  99.  15.   8.  44.   3.\n",
            "  12.  96. 100.  69.   1.  53.  32.  17.  11.  82.   2.  81.  18.  79.\n",
            "   5.  62.  67.  84.  90.  43.  52.  77.  35.  61.  88.   9.  93.  29.\n",
            "  64.  50.  78.  10. 108.   6.  75.  80.  47.  87.  95.  89.  56.  55.\n",
            " 109. 104.  59.  98.  97.  16.  57. 106.  37.  31. 105.  48.  85.  58.\n",
            "  94.  74.  26. 102. 101. 103.  20. 113.  70. 112.  40.  19.  92.  72.\n",
            "  51.  13.  60.  24.  83.  65.  39.  36. 111.  41.  91.  63.  30.  66.\n",
            "  33.]\n",
            "Unique values in 'targsubtype1_txt': ['Named Civilian' 'Diplomatic Personnel (outside of embassy, consulate)'\n",
            " 'Radio Journalist/Staff/Facility' 'Embassy/Consulate'\n",
            " 'Police Building (headquarters, station, school)'\n",
            " 'Police Security Forces/Officers' 'Electricity'\n",
            " 'Military Recruiting Station/Academy'\n",
            " 'Government Building/Facility/Office'\n",
            " 'Military Barracks/Base/Headquarters/Checkpost'\n",
            " 'Aircraft (not at an airport)' 'Retail/Grocery/Bakery' nan\n",
            " 'Military Personnel (soldiers, troops, officers, forces)'\n",
            " 'School/University/Educational Building' 'Multinational Corporation'\n",
            " 'Party Office/Facility' 'House/Apartment/Residence'\n",
            " 'Race/Ethnicity Identified' 'Judge/Attorney/Court'\n",
            " 'Police Patrol (including vehicles and convoys)' 'Place of Worship'\n",
            " 'Vehicles/Transportation' 'Bus (excluding tourists)'\n",
            " 'Politician or Political Party Movement/Meeting/Rally' 'Hotel/Resort'\n",
            " 'Airport' 'Bank/Commerce' 'Construction' 'Tour Bus/Van'\n",
            " 'Train/Train Tracks/Trolley' 'Religion Identified' 'Gas/Oil/Electric'\n",
            " 'Newspaper Journalist/Staff/Facility' 'Military Maritime' 'Head of State'\n",
            " 'Entertainment/Cultural/Stadium/Casino' 'Labor Union Related'\n",
            " 'Restaurant/Bar/Café' 'Museum/Cultural Center/Cultural House'\n",
            " 'Government Personnel (excluding police, military)'\n",
            " 'Public Area (garden, parking lot, garage, beach, public building, camp)'\n",
            " 'Industrial/Textiles/Factory' 'International NGO'\n",
            " 'Unnamed Civilian/Unspecified' 'Political Party Member/Rally'\n",
            " 'Telephone/Telegraph' 'Airline Officer/Personnel' 'Water Supply'\n",
            " 'Laborer (General)/Occupation Identified'\n",
            " 'Military Transportation/Vehicle (excluding convoys)' 'Domestic NGO'\n",
            " 'Radio' 'Farm/Ranch' 'Terrorist' 'Military Unit/Patrol/Convoy'\n",
            " 'Fire Fighter/Truck' 'Other Personnel'\n",
            " 'Procession/Gathering (funeral, wedding, birthday, religious)' 'Mining'\n",
            " 'Oil' 'Medical/Pharmaceutical' 'Village/City/Town/Suburb'\n",
            " 'Memorial/Cemetery/Monument'\n",
            " 'International Organization (peacekeeper, aid agency, compound)'\n",
            " 'Affiliated Institution' 'Tourism Travel Agency' 'Television'\n",
            " 'Other (including online news agencies)'\n",
            " 'Television Journalist/Staff/Facility'\n",
            " 'Party Official/Candidate/Other Personnel'\n",
            " 'Highway/Road/Toll/Traffic Signal' 'Oil Tanker' 'Other Facility'\n",
            " 'Tourist' 'Royalty' 'Civilian Maritime' 'Gas' 'NATO' 'Military Aircraft'\n",
            " 'Taxi/Rickshaw' 'Teacher/Professor/Instructor' 'Religious Figure'\n",
            " 'Commercial Maritime' 'Non-State Militia' 'Marketplace/Plaza/Square'\n",
            " 'Prison/Jail' 'Subway' 'Bus Station/Stop' 'Bridge/Car Tunnel'\n",
            " 'Intelligence' 'Alleged Informant' 'Student' 'Legal Services' 'Clinics'\n",
            " 'Election-related' 'Multiple Telecommunication Targets' 'Farmer'\n",
            " 'Food Supply' 'Private Security Company/Firm' 'Port' 'Police Checkpoint'\n",
            " 'Protester' 'Refugee (including Camps/IDP/Asylum Seekers)' 'Paramilitary'\n",
            " 'Military Checkpoint' 'Rally' 'Personnel' 'Internet Infrastructure'\n",
            " 'Ambulance' 'Military Weaponry'\n",
            " 'Demilitarized Zone (including Green Zone)' 'Non-combatant Personnel']\n",
            "Unique values in 'corp1': [nan 'Belgian Ambassador Daughter' 'Voice of America' ...\n",
            " 'Pacalna Variety Store' 'NC Hills Autonomous Council'\n",
            " 'Forest Department Manipur']\n",
            "Unique values in 'target1': ['Julio Guzman' 'Nadine Chaval, daughter' 'Employee' ...\n",
            " 'Personal Security Officer of Council Member Ihuing Pame: Prafulla Phukan'\n",
            " 'Jewelry Shop' 'Hmeymim Air Base']\n",
            "Unique values in 'natlty1': [  58.   21.  217.  218.   75.  216.  222.  163.   97.   15.  199.  102.\n",
            "   65.  185.   nan  101.  422.   60.  158.  359.   96.   11.  160.   44.\n",
            "  155.  999.  233.   30.   87.  183.  162.   45.   78.  145.   93.  235.\n",
            "   98.  403.   99.   94.   38.  161.  198.  209.   49.  167.   95.   51.\n",
            "   69.  120.  229.  142.   43.   89.  228.  130.  200.   92.  144.  174.\n",
            "    6.  159.  236.  173.   55.  362.   17.   26.   61.   29.   83.  110.\n",
            "  149.    5.  184.  603.  153.  104.   53.  156.  186.   59.  121.  136.\n",
            "  182.  147.  139.   12.   20.  106.  137.   86.  201.  208.  138.  207.\n",
            "  128.   32.  205.   18.   68.  223.  215.  124.   14.  231.  230.    8.\n",
            "  151.  100.  213.   50.  111.  203.   84.   67.   56.  113.   63.    4.\n",
            "   88.  604.  123.   19.   80.  220.   22.  377.  166.  195.   42.   41.\n",
            "  112.  176.   57.  605.   46.  196.  221.  115.   81.  127.  349.  197.\n",
            "   33.  125.  143.   36.  178.  238.  116.  146.  141.   90.  204.   91.\n",
            "  520.   76.  122.  129.  157.  164.  168.   37.   64.  177.  109.   79.\n",
            "   28.  119.   34.   16.  103.   74.   10.  351.  214.  132.   62.  202.\n",
            "  108.   31.  219.  175.   47.   72.  179.  118.  134.   23.   35.  152.\n",
            "   54.   73.  334. 1001.  189.  107.  117.  180.   70.  347. 1003.  181.\n",
            "  190.   85. 1002.   25.   24.  192. 1004.  210.  169.  212.  225.  126.]\n",
            "Unique values in 'natlty1_txt': ['Dominican Republic' 'Belgium' 'United States' 'Uruguay' 'Germany'\n",
            " 'Great Britain' 'Venezuela' 'Puerto Rico' 'Israel' 'Austria'\n",
            " 'Switzerland' 'Jordan' 'Ethiopia' 'Spain' nan 'Japan' 'International'\n",
            " 'Egypt' 'Paraguay' 'Soviet Union' 'Ireland' 'Argentina' 'Philippines'\n",
            " 'China' 'West Bank and Gaza Strip' 'Multinational' 'Northern Ireland'\n",
            " 'Brazil' 'Haiti' 'South Africa' 'Portugal' 'Colombia' 'Greece'\n",
            " 'Nicaragua' 'Indonesia' 'Yugoslavia' 'Italy' 'Rhodesia' 'Ivory Coast'\n",
            " 'Iran' 'Canada' 'Poland' 'Sweden' 'Turkey' 'Costa Rica' 'Russia' 'Iraq'\n",
            " 'Cuba' 'France' 'Malawi' 'Democratic Republic of the Congo' 'Netherlands'\n",
            " 'Chile' 'Hong Kong' 'Yemen' 'Mexico' 'Syria' 'India' 'New Zealand'\n",
            " 'Senegal' 'Algeria' 'Peru' 'Czechoslovakia' 'Saudi Arabia' 'Denmark'\n",
            " 'West Germany (FRG)' 'Bahamas' 'Bolivia' 'El Salvador' 'Botswana'\n",
            " 'Guatemala' 'Lebanon' 'North Korea' 'Albania' 'South Korea'\n",
            " 'United Kingdom' 'Pakistan' 'Kenya' 'Cyprus' 'Panama' 'Sri Lanka'\n",
            " 'Ecuador' 'Malaysia' 'Morocco' 'Somalia' 'Nigeria' 'Namibia' 'Armenia'\n",
            " 'Barbados' 'Kuwait' 'Mozambique' 'Guyana' 'Taiwan' 'Tunisia' 'Myanmar'\n",
            " 'Trinidad and Tobago' 'Mauritania' 'Bulgaria' 'Thailand' 'Bahrain'\n",
            " 'Finland' 'Vietnam' 'United Arab Emirates' 'Malta' 'Australia' 'Zimbabwe'\n",
            " 'Zambia' 'Angola' 'Norway' 'Jamaica' 'Uganda' 'Croatia' 'Lesotho'\n",
            " 'Tanzania' 'Guinea' 'Fiji' 'Djibouti' 'Libya' 'Eritrea' 'Afghanistan'\n",
            " 'Honduras' 'Zaire' 'Mali' 'Bangladesh' 'Grenada' 'Vanuatu' 'Belize'\n",
            " 'North Yemen' 'Romania' 'Sudan' 'Chad' 'Central African Republic'\n",
            " 'Liberia' 'Seychelles' 'Dominica' \"People's Republic of the Congo\"\n",
            " 'Comoros' 'Suriname' 'Vatican City' 'Lithuania' 'Guadeloupe' 'Martinique'\n",
            " 'Western Sahara' 'Swaziland' 'Burkina Faso' 'Man, Isle of'\n",
            " 'New Caledonia' 'Cambodia' 'Singapore' 'Corsica' 'Luxembourg' 'Niger'\n",
            " 'Nepal' 'Hungary' 'Togo' 'Iceland' 'Sinhalese' 'Ghana' 'Maldives'\n",
            " 'Mauritius' 'Papua New Guinea' 'Qatar' 'Rwanda' 'Cameroon' 'Estonia'\n",
            " 'Sierra Leone' 'Latvia' 'Greenland' 'Bosnia-Herzegovina' 'Madagascar'\n",
            " 'Burundi' 'Azerbaijan' 'Kazakhstan' 'Georgia' 'Antigua and Barbuda'\n",
            " 'Commonwealth of Independent States' 'Ukraine' 'Moldova'\n",
            " 'Equatorial Guinea' 'Tajikistan' 'Laos' 'Brunei' 'Uzbekistan'\n",
            " 'Serbia-Montenegro' 'Republic of the Congo' 'Gabon' 'Slovak Republic'\n",
            " 'Macedonia' 'Mongolia' 'Benin' 'Belarus' 'Oman' 'Czech Republic' 'Gambia'\n",
            " 'Asian' 'Serbia' 'St. Kitts and Nevis' 'Kyrgyzstan' 'Macau' 'Slovenia'\n",
            " 'French Guiana' 'East Timor' 'Kosovo' 'Solomon Islands' 'St. Lucia'\n",
            " 'Guinea-Bissau' 'Montenegro' 'Bhutan' 'Bermuda' 'St. Martin'\n",
            " 'South Sudan' 'Turkmenistan' 'Saba (Netherlands Antilles)' 'Tuvalu'\n",
            " 'Virgin Islands (U.S.)' 'Marshall Islands']\n",
            "Unique values in 'targtype2': [nan  3.  8. 20.  1. 14.  2.  7. 16. 21.  6.  4. 15. 17. 19. 10. 18. 22.\n",
            " 12. 11.  5. 13.  9.]\n",
            "Unique values in 'targtype2_txt': [nan 'Police' 'Educational Institution' 'Unknown' 'Business'\n",
            " 'Private Citizens & Property' 'Government (General)'\n",
            " 'Government (Diplomatic)' 'Telecommunication' 'Utilities'\n",
            " 'Airports & Aircraft' 'Military' 'Religious Figures/Institutions'\n",
            " 'Terrorists/Non-State Militia' 'Transportation' 'Journalists & Media'\n",
            " 'Tourists' 'Violent Political Party' 'NGO' 'Maritime' 'Abortion Related'\n",
            " 'Other' 'Food or Water Supply']\n",
            "Unique values in 'targsubtype2': [ nan  25.  50.   2.  70.   5.  15.  68.  77.  45.  67.  88.  22.  49.\n",
            "   1.  23.  69. 107.  79.  78.  34.  46.  28.  85.  87.  21.  48.  93.\n",
            "  71.  18.   7.  99.   3.  54.  72.  89.  37. 108.  84.   4.  98. 100.\n",
            "  82.   9.  62.  43.  61.  53.  97.  92. 106.  73.  10.  11.  35.  57.\n",
            "  27.  86.  75.  96.  55.  12.   8.  81.  40.  42. 101.  76.  29.   6.\n",
            "  26.  47.  64.  17. 109. 113.  60.  74.  14.  51. 104.  19. 102.  20.\n",
            "  52.  39.  36.  13.  24.  56. 103.  65.  90.  94.  58.  44.  63. 105.\n",
            "  83. 110. 111. 112.  59.  31.  80.  33.  30.  95.]\n",
            "Unique values in 'targsubtype2_txt': [nan 'Police Security Forces/Officers' 'Other Personnel'\n",
            " 'Restaurant/Bar/Café' 'Student' 'Industrial/Textiles/Factory'\n",
            " 'Politician or Political Party Movement/Meeting/Rally' 'Named Civilian'\n",
            " 'Laborer (General)/Occupation Identified'\n",
            " 'Diplomatic Personnel (outside of embassy, consulate)'\n",
            " 'Unnamed Civilian/Unspecified' 'Radio'\n",
            " 'Police Building (headquarters, station, school)'\n",
            " 'School/University/Educational Building' 'Gas/Oil/Electric'\n",
            " 'Police Patrol (including vehicles and convoys)' 'Religion Identified'\n",
            " 'Electricity'\n",
            " 'Public Area (garden, parking lot, garage, beach, public building, camp)'\n",
            " 'Procession/Gathering (funeral, wedding, birthday, religious)'\n",
            " 'Military Personnel (soldiers, troops, officers, forces)'\n",
            " 'Embassy/Consulate' 'Military Recruiting Station/Academy'\n",
            " 'Religious Figure' 'Affiliated Institution'\n",
            " 'Government Building/Facility/Office' 'Teacher/Professor/Instructor'\n",
            " 'Terrorist' 'Race/Ethnicity Identified'\n",
            " 'Government Personnel (excluding police, military)'\n",
            " 'Retail/Grocery/Bakery' 'Bus (excluding tourists)' 'Bank/Commerce'\n",
            " 'Radio Journalist/Staff/Facility' 'Farmer' 'Television' 'NATO' 'Oil'\n",
            " 'Political Party Member/Rally' 'Multinational Corporation'\n",
            " 'Other Facility' 'Train/Train Tracks/Trolley' 'Labor Union Related'\n",
            " 'Farm/Ranch' 'International NGO' 'Airline Officer/Personnel'\n",
            " 'Domestic NGO' 'Newspaper Journalist/Staff/Facility' 'Tourist'\n",
            " 'Multiple Telecommunication Targets' 'Gas' 'Vehicles/Transportation'\n",
            " 'Mining' 'Entertainment/Cultural/Stadium/Casino'\n",
            " 'Military Transportation/Vehicle (excluding convoys)' 'Civilian Maritime'\n",
            " 'Military Barracks/Base/Headquarters/Checkpost' 'Place of Worship'\n",
            " 'Village/City/Town/Suburb' 'Tour Bus/Van'\n",
            " 'Television Journalist/Staff/Facility' 'Construction' 'Hotel/Resort'\n",
            " 'Museum/Cultural Center/Cultural House' 'Clinics'\n",
            " 'Aircraft (not at an airport)' 'Bus Station/Stop'\n",
            " 'House/Apartment/Residence' 'Military Unit/Patrol/Convoy'\n",
            " 'Medical/Pharmaceutical' 'Prison/Jail'\n",
            " 'International Organization (peacekeeper, aid agency, compound)'\n",
            " 'Fire Fighter/Truck' 'Head of State'\n",
            " 'Party Official/Candidate/Other Personnel' 'Alleged Informant' 'Port'\n",
            " 'Marketplace/Plaza/Square' 'Judge/Attorney/Court' 'Food Supply'\n",
            " 'Highway/Road/Toll/Traffic Signal' 'Election-related' 'Subway'\n",
            " 'Intelligence' 'Water Supply' 'Paramilitary' 'Military Checkpoint'\n",
            " 'Private Security Company/Firm' 'Police Checkpoint'\n",
            " 'Other (including online news agencies)' 'Bridge/Car Tunnel'\n",
            " 'Refugee (including Camps/IDP/Asylum Seekers)' 'Telephone/Telegraph'\n",
            " 'Non-State Militia' 'Commercial Maritime' 'Airport' 'Ambulance'\n",
            " 'Taxi/Rickshaw' 'Protester' 'Party Office/Facility' 'Rally'\n",
            " 'Legal Services' 'Oil Tanker' 'Military Aircraft'\n",
            " 'Memorial/Cemetery/Monument' 'Non-combatant Personnel'\n",
            " 'Military Weaponry' 'Tourism Travel Agency']\n",
            "Unique values in 'corp2': [nan 'Fraternal Order of Police' 'San Francisco State College' ...\n",
            " 'Pakistan Fisher Folk Forum (PFF)' 'Afghan Voice Agency'\n",
            " 'Should Egyptian Arab Land Bank (EALB)']\n",
            "Unique values in 'target2': [nan 'Fraternal Order of Police, Cleveland Ohio'\n",
            " 'Officer of the president, San Francisco State College' ...\n",
            " 'Tribal Elder: Bada Dagadas' 'Student: Gulbadin'\n",
            " 'Residence of Muslim Civilians']\n",
            "Unique values in 'natlty2': [  nan  217.  233.  161.  422.  216.   97.   30.  144.  142.   92.  218.\n",
            "  605.  130.   96.  185.   45.  145.  100.   98.   61.  110.   94.   59.\n",
            "  359.  201.  173.   83.   51.   21.  199.  209.   38.   95.   69.   60.\n",
            "  160.  231.  101.   75.  235.   11.   43.  159.  163.  999.  155.  153.\n",
            "  183.   15.  143.  113.  186.  162.   65.  603.  200.  122.  208.    4.\n",
            "  157.   47.  362.  213.   89.  203.   36.  112.  167.   14.  106.  104.\n",
            "  179.  166.    6.   78.  197.  156.  198.   87.   84.  123.  151.   42.\n",
            "  124.  168.   53.   19.  102.  205.   81.   93.  177.  222.   55.   74.\n",
            "   44.  228.   34.    8.  229.    5.  175. 1003.  219.  195.   28.   26.\n",
            "   35.  141.  139.  107.   50.   12.  147.  202.   22.   16.  121.  204.\n",
            "   67.   99.  108.  182.  137.  174.  184.  103.  118.   32.  138.   86.\n",
            "   88.  114.  223.  136.  146.  334.  207.   62.   63.   41.  214.   90.\n",
            "  119. 1004.   18.   54.  158.   37.  206.   56.  111.   33.  164.   76.\n",
            "  238.  215.    7.]\n",
            "Unique values in 'natlty2_txt': [nan 'United States' 'Northern Ireland' 'Poland' 'International'\n",
            " 'Great Britain' 'Israel' 'Brazil' 'New Zealand' 'Netherlands' 'India'\n",
            " 'Uruguay' \"People's Republic of the Congo\" 'Mexico' 'Ireland' 'Spain'\n",
            " 'Colombia' 'Nicaragua' 'Jamaica' 'Italy' 'El Salvador' 'Lebanon' 'Iran'\n",
            " 'Ecuador' 'Soviet Union' 'Taiwan' 'Saudi Arabia' 'Guatemala' 'Cuba'\n",
            " 'Belgium' 'Switzerland' 'Turkey' 'Canada' 'Iraq' 'France' 'Egypt'\n",
            " 'Philippines' 'Zimbabwe' 'Japan' 'Germany' 'Yugoslavia' 'Argentina'\n",
            " 'Chile' 'Peru' 'Puerto Rico' 'Multinational' 'West Bank and Gaza Strip'\n",
            " 'Pakistan' 'South Africa' 'Austria' 'New Caledonia' 'Libya' 'Sri Lanka'\n",
            " 'Portugal' 'Ethiopia' 'United Kingdom' 'Syria' 'Maldives' 'Tunisia'\n",
            " 'Afghanistan' 'Papua New Guinea' 'Republic of the Congo'\n",
            " 'West Germany (FRG)' 'Uganda' 'Hong Kong' 'Tanzania' 'Cambodia' 'Liberia'\n",
            " 'Russia' 'Australia' 'Kuwait' 'Kenya' 'Slovak Republic' 'Romania'\n",
            " 'Algeria' 'Greece' 'Swaziland' 'Panama' 'Sweden' 'Haiti' 'Guinea' 'Mali'\n",
            " 'Norway' 'Chad' 'Malta' 'Rwanda' 'Cyprus' 'Bangladesh' 'Jordan'\n",
            " 'Thailand' 'Guadeloupe' 'Indonesia' 'Sierra Leone' 'Venezuela' 'Denmark'\n",
            " 'Georgia' 'China' 'Yemen' 'Burundi' 'Angola'\n",
            " 'Democratic Republic of the Congo' 'Albania' 'Serbia-Montenegro' 'Kosovo'\n",
            " 'Uzbekistan' 'Sudan' 'Bosnia-Herzegovina' 'Bolivia' 'Belarus' 'Nepal'\n",
            " 'Namibia' 'Kyrgyzstan' 'Croatia' 'Armenia' 'Nigeria' 'Tajikistan'\n",
            " 'Belize' 'Azerbaijan' 'Malaysia' 'Togo' 'Fiji' 'Ivory Coast' 'Laos'\n",
            " 'Somalia' 'Mozambique' 'Senegal' 'South Korea' 'Kazakhstan' 'Macedonia'\n",
            " 'Bulgaria' 'Myanmar' 'Guyana' 'Honduras' 'Liechtenstein' 'Vietnam'\n",
            " 'Morocco' 'Niger' 'Asian' 'Trinidad and Tobago' 'Equatorial Guinea'\n",
            " 'Eritrea' 'Central African Republic' 'Ukraine' 'Hungary' 'Madagascar'\n",
            " 'South Sudan' 'Bahrain' 'Czech Republic' 'Paraguay' 'Cameroon' 'Tonga'\n",
            " 'Djibouti' 'Lesotho' 'Burkina Faso' 'Qatar' 'Ghana' 'Corsica'\n",
            " 'United Arab Emirates' 'Andorra']\n",
            "Unique values in 'targtype3': [nan  7.  1. 14.  2.  3.  6. 10. 22.  4. 15. 21. 12. 18. 19.  8. 17. 16.\n",
            " 11. 13.  9.]\n",
            "Unique values in 'targtype3_txt': [nan 'Government (Diplomatic)' 'Business' 'Private Citizens & Property'\n",
            " 'Government (General)' 'Police' 'Airports & Aircraft'\n",
            " 'Journalists & Media' 'Violent Political Party' 'Military'\n",
            " 'Religious Figures/Institutions' 'Utilities' 'NGO' 'Tourists'\n",
            " 'Transportation' 'Educational Institution' 'Terrorists/Non-State Militia'\n",
            " 'Telecommunication' 'Maritime' 'Other' 'Food or Water Supply']\n",
            "Unique values in 'targsubtype3': [ nan  45.   8.  68.  18.  25.  42.  72.  77.  46.  34.  85.  67.  53.\n",
            "  39. 108.  62.  15.  11.   7.  21.  76.  44.  86.  82.  97.  96. 101.\n",
            "  49.  47.  87.   1.  71.   3.  73. 100.  22.  13.  78.  81.  23.  93.\n",
            "  70.  69.  61.  99.  48.  88.  37.  35.  89.  75.  19.  36.  26.  27.\n",
            "  84.  12.   2.  74.  24.  60.  14.   5.   6. 107.  63.  57.  79.  64.\n",
            "  54. 104.  10.   9.  90.  94.  33.  65.   4.  20.  29.  80.  92.  55.\n",
            " 109.  52.  50.  17.  83.  58. 113. 105.  31.]\n",
            "Unique values in 'targsubtype3_txt': [nan 'Diplomatic Personnel (outside of embassy, consulate)' 'Hotel/Resort'\n",
            " 'Named Civilian' 'Government Personnel (excluding police, military)'\n",
            " 'Police Security Forces/Officers' 'Aircraft (not at an airport)' 'Farmer'\n",
            " 'Laborer (General)/Occupation Identified' 'Embassy/Consulate'\n",
            " 'Military Personnel (soldiers, troops, officers, forces)'\n",
            " 'Religious Figure' 'Unnamed Civilian/Unspecified'\n",
            " 'Newspaper Journalist/Staff/Facility' 'Paramilitary' 'Oil'\n",
            " 'International NGO'\n",
            " 'Politician or Political Party Movement/Meeting/Rally'\n",
            " 'Entertainment/Cultural/Stadium/Casino' 'Retail/Grocery/Bakery'\n",
            " 'Government Building/Facility/Office' 'House/Apartment/Residence'\n",
            " 'Airport' 'Place of Worship' 'Labor Union Related' 'Tourist'\n",
            " 'Tour Bus/Van' 'Bus Station/Stop'\n",
            " 'School/University/Educational Building'\n",
            " 'International Organization (peacekeeper, aid agency, compound)'\n",
            " 'Affiliated Institution' 'Gas/Oil/Electric' 'Race/Ethnicity Identified'\n",
            " 'Bank/Commerce' 'Vehicles/Transportation' 'Train/Train Tracks/Trolley'\n",
            " 'Police Building (headquarters, station, school)'\n",
            " 'Private Security Company/Firm'\n",
            " 'Procession/Gathering (funeral, wedding, birthday, religious)'\n",
            " 'Museum/Cultural Center/Cultural House'\n",
            " 'Police Patrol (including vehicles and convoys)' 'Terrorist' 'Student'\n",
            " 'Religion Identified' 'Domestic NGO' 'Bus (excluding tourists)'\n",
            " 'Teacher/Professor/Instructor' 'Radio' 'NATO'\n",
            " 'Military Transportation/Vehicle (excluding convoys)' 'Television'\n",
            " 'Village/City/Town/Suburb' 'Election-related' 'Military Checkpoint'\n",
            " 'Prison/Jail' 'Military Barracks/Base/Headquarters/Checkpost'\n",
            " 'Political Party Member/Rally' 'Construction' 'Restaurant/Bar/Café'\n",
            " 'Marketplace/Plaza/Square' 'Police Checkpoint' 'Port'\n",
            " 'Judge/Attorney/Court' 'Industrial/Textiles/Factory'\n",
            " 'Medical/Pharmaceutical' 'Electricity' 'Ambulance' 'Civilian Maritime'\n",
            " 'Public Area (garden, parking lot, garage, beach, public building, camp)'\n",
            " 'Fire Fighter/Truck' 'Radio Journalist/Staff/Facility'\n",
            " 'Highway/Road/Toll/Traffic Signal' 'Mining' 'Farm/Ranch'\n",
            " 'Telephone/Telegraph' 'Non-State Militia' 'Non-combatant Personnel'\n",
            " 'Refugee (including Camps/IDP/Asylum Seekers)'\n",
            " 'Multinational Corporation' 'Intelligence' 'Military Unit/Patrol/Convoy'\n",
            " 'Memorial/Cemetery/Monument' 'Multiple Telecommunication Targets'\n",
            " 'Television Journalist/Staff/Facility'\n",
            " 'Party Official/Candidate/Other Personnel' 'Water Supply'\n",
            " 'Other Personnel' 'Head of State' 'Protester' 'Commercial Maritime'\n",
            " 'Alleged Informant' 'Taxi/Rickshaw' 'Military Aircraft']\n",
            "Unique values in 'corp3': [nan 'Polish Ministry of Foreign Affairs' 'Howard Johnson Hotel'\n",
            " 'Royal Ulster Constabulary' 'Airplane' 'City of San Sebastien' 'EFE'\n",
            " 'independent' 'Democratic Revolutionary Front (FDR)' 'India' 'Guatemalan'\n",
            " 'local papers' 'unk' 'Unknown' 'Mobil' 'Save the Children Fund'\n",
            " 'colombian army' 'local, La Traviata Hacienda' 'Sinn Fein'\n",
            " 'Mill hill missionaries' 'West German firm/Mannesmann -Anlagenban AG'\n",
            " 'UPS' 'International Jewish Film Festival' 'French Auto Companies'\n",
            " 'Kuwait Airways' 'Male International Airport' 'Catholic Church'\n",
            " 'International Red Cross' 'Village Council (government)'\n",
            " 'Mountain Climbing Federation' 'Tourists' 'Military' 'Journalist'\n",
            " 'Sanford Canadian Company' 'Journalists'\n",
            " 'Christian Missions in Many Lands' 'Lakas Manggagawa Labor Center'\n",
            " 'local government' 'Doctors without Borders'\n",
            " \"Noah's Ark Research Foundation\" 'government'\n",
            " 'African National Congress (ANC)' 'World Action Against Hunger' 'Unk'\n",
            " 'Schlumberger' 'Sieromco' 'Jinotega Department / \"Humbolt\" NGO'\n",
            " 'Intl Agency (UN Development Program)' 'German tourists' 'civilians'\n",
            " 'Ibero-American Summit' 'Indian Army' 'Sri Lankan Police' 'Civilians'\n",
            " 'Rioclaro Cement' 'Christian Religious Denomination'\n",
            " 'ETPM French Oil Field Services Corporation' 'Small businesses'\n",
            " 'Credit Lyonnais' 'person in shop' 'Govt' 'Triton Hotel' 'Police'\n",
            " 'Farm administrator' 'Civilian' 'Alcatel' 'Cooperative'\n",
            " 'Caloto Government' 'Christian Congressional Association' 'Vehicles'\n",
            " 'European Union (EU)' 'Turkish Government' 'Indian railway'\n",
            " 'Shell Oil Company' 'Namibia Police' 'United Nations' 'Relief Workers'\n",
            " 'Humanitarian aid workers' 'Turkish government' 'Nigerian citizen'\n",
            " 'Philippines police' 'Kashmir police' 'Tamil party'\n",
            " 'Bangladesh Rifles (BDR)' 'Bilbao Bizkaia Kutxa (BBK)'\n",
            " 'Colombia Government' 'Tenere Hotel' 'Shell Oil' 'Civilian vehicle'\n",
            " 'Kenyan Civilians' 'Sri Lankan civilians' 'Abkhaz Translator'\n",
            " 'Muslim Community in Athlone, South Africa'\n",
            " 'Agricultural Development Bank' 'Municipality of Surata'\n",
            " 'Guinean government' 'Sri Lankan police' 'A rival terrorist group'\n",
            " \"Municipal People's Assembly\" 'Telecommunications office'\n",
            " 'Indian Paramilitary'\n",
            " 'Private citizens and property in the vicinity of the blast'\n",
            " 'Undangan Police' 'Private citizens' 'Employees' 'Philippine military'\n",
            " 'Airline Travellers' 'Barrancabermeja Harbor'\n",
            " 'Pagadian citizens and property' 'Australian Tourist' 'American Airlines'\n",
            " 'United Airlines' 'Haifa police officers'\n",
            " 'Krasnodar nongovernmental organizations' 'Sgem World of Colombia'\n",
            " 'Algerian Police' 'Government Administrative Infrastructure'\n",
            " 'Royal Nepalese Army' 'US diplomat' 'United Nations Observers'\n",
            " 'Civilians and civilian property' 'Bus load of tourists' 'Local Bus'\n",
            " 'Spanish police' 'Spanish Tourism Industry' 'Businesses'\n",
            " 'Local businesses' 'A passenger bus' 'Indian Police force'\n",
            " \"Les Coulisses' newspaper\" 'Border Security Force'\n",
            " 'Parliamentary candidate' 'Local Telecommunications equipment'\n",
            " 'Government of the United Kingdom' 'A bus terminal'\n",
            " 'Indiscriminate Algerian citizens' 'US Department of Defense'\n",
            " 'Indian Military Forces' 'NATO' 'Not Applicable' 'Algerian soldiers'\n",
            " 'Nepalese Bank' 'British Soldiers' 'Turkish Police'\n",
            " 'British security firm' 'Orascom Employees' 'Peacekeepers'\n",
            " 'Pan-Arab Satellite TV network' 'Olice Security' 'Village' 'Halliburton'\n",
            " 'Kroll Inc.' 'Government Polling Station' 'Israel Defense Force'\n",
            " 'Indiscriminate Algerian civilians' 'Indian Police Forces'\n",
            " 'Nepalese Military Forces' 'Sri Lankan Prison guards'\n",
            " 'Regional French Government' 'Assam Police Forces'\n",
            " 'Property of civilian(s)' 'Iraqi Government' 'Toribio Police'\n",
            " 'Sunni Islam' 'Nepalese Military' 'Son of the Governor' 'Train Station'\n",
            " 'Bodyguard' 'Shi i mosques' 'Thai Police' 'Hotels' 'Telefonica'\n",
            " 'British Petroleum'\n",
            " \"People's Liberation Organisation of Tamil Eelam (PLOTE)\"\n",
            " 'Turkish Road Construction Company' 'Baghdad Police' 'Iraqi Police Force'\n",
            " 'India Police' 'Afghan Police' 'Indian civilians'\n",
            " 'Afghan deputy security commander of Urozgan' 'Restaurants' 'Restaurant'\n",
            " 'Turkish Military' 'Pakistan Petroleum Limited' 'Local Shop'\n",
            " 'Bangladesh Police' 'Burundi citizens' 'Iraqna Mobile Phone Company'\n",
            " 'Nepalese Government' 'Doctors Without Borders' 'Albanian police'\n",
            " 'Khan Bani Saad tribal council member' 'Government of Nepal'\n",
            " 'Somali government official' 'Spanish local police' 'Private homes'\n",
            " 'Nigerian Military' 'Indian Military' 'Thailand Armed Forces'\n",
            " 'Gol Agha Sherzai, former Governor of Kandahar (Province)'\n",
            " 'Sri Lankan guards' 'Sri Lankan government' 'Federal Electoral Tribunal'\n",
            " 'Car Dealership' 'Austrian Police' 'Chad Military' 'Madrid Airport'\n",
            " 'Shops' 'Business' 'Mosque' 'Great Britain' 'Factory workers'\n",
            " 'General National Security Directorate' 'Hospital' 'Mayor'\n",
            " 'Iraqi civilians' 'Nepal Electricity Industry' 'Iraqi Police'\n",
            " 'Police forces' 'Shopping Center' 'Saddar Bazaar' 'Gendarmes'\n",
            " 'Paramilitary of the Civilian Armed Forces Geographical Unit'\n",
            " 'Security forces' 'Security guards' 'Educational' 'Greek power firm'\n",
            " 'Telecommunication' 'Somali police' 'Indian police forces'\n",
            " 'US armed forces' 'Green Zone military and diplomatic compound' 'Hyundai'\n",
            " 'Eritrean Government' 'Tipo Tipo Law Enforcement'\n",
            " 'International Rescue Committee' 'Tangcal city Law Enforcement'\n",
            " \"People's National Army\" 'Filipino Government'\n",
            " 'United Nations High Commissioner for Refugees'\n",
            " 'Action Contre la Faim/Action Against Hunger' 'Tourist'\n",
            " 'Philippines Military' 'Indian Law Enforcement'\n",
            " 'Zugdidi Police Department' 'Algerian firefighters'\n",
            " 'Action Against Hunger' 'Filipino Military' 'Radio Hobyo'\n",
            " 'Colombian Military' \"Ba'quba Law Enforcement\"\n",
            " 'German Development Cooperation (GTZ)' 'Spanish Embassy'\n",
            " 'Indian COBRA Military Forces' 'India Special Police Personnel'\n",
            " 'Pakistani Law Enforcement' 'Afghan Law Enforcement'\n",
            " 'Turkish Judicial Government' 'International Medical Corps'\n",
            " 'Indian Forest Department' 'Areva' 'Ivoirian Law Enforcement'\n",
            " 'Yemeni Military' 'Maiduguri Law Enforcement' 'Domodedovo Airport'\n",
            " 'Pakistani Home Secretary' 'Afghan Military' 'Congolese Military'\n",
            " 'Jharkhand Armed Police' 'Engineer' 'Toribio Law Enforcement'\n",
            " 'German Military' 'Indian District Law Enforcement'\n",
            " 'Arturo Ledesma Hacienda' 'Thai Law Enforcement' 'Lashkar-e-Jhangvi'\n",
            " 'Afghan Government' 'Not applicable' 'PT Freeport'\n",
            " 'Emergency response teams' 'Safaricom' 'Homes'\n",
            " 'Gadsden Police Department' 'AusAID' 'Indonesian Armed Forces'\n",
            " 'Abdul Kaliq Shindandi Security Company' 'Government of Balochistan'\n",
            " 'Parliament of the Republic of Somalia' 'Braeval Mining Corporation'\n",
            " 'Ras Kamboni Militia' 'Government of Pakistan' 'Army'\n",
            " 'French Armed Forces' 'Ministry of Finance' 'Pakistani Police'\n",
            " 'Government of Peshawar' 'Pakistan Rangers' 'INTERSOS'\n",
            " 'Saudi Arabian Ministry of Foreign Affairs'\n",
            " 'Afghan National Security Force (ANSF)' 'Etisalat'\n",
            " 'North Refineries Company (NRC)' 'ASEA Brown Boveri (ABB)'\n",
            " 'Sulaiman Bek Town' 'National Directorate of Security (NDS)'\n",
            " 'Afghan Ministry of Transport and Civil Aviation'\n",
            " 'Armed Forces of the Philippines (AFP)'\n",
            " 'Philippine National Police (PNP)' 'Samora Machel Military Academy'\n",
            " 'Somali National Army (SNA)' 'Kanar Oil Field'\n",
            " 'Iraqi Police Service (IPS)' 'Central Security Organization (CSO)'\n",
            " 'Mandisar Hospital' 'Piacentini Costruzioni SpA' 'Al-Naqshabandiya Army'\n",
            " 'Zintan Militia' 'Ukrainian Army' 'Military of Yemen' 'Mitra Television'\n",
            " 'Nigeria Police Force (NPF)' 'Geidam Town' 'Babban Gida Village'\n",
            " 'Sahwa Council' 'Bangladesh Chhatra League (BCL)'\n",
            " 'Uttaran Printing Press' 'Armed Forces of Ukraine'\n",
            " 'Iraqi Volunteer Forces' 'Congolese National Police (PNC)'\n",
            " 'Al-Mabrook Oilfield' 'Fotokol Town' 'Iraqi Armed Forces' 'Adhaim Dam'\n",
            " 'Central Hotel' 'Central Security Forces (CSF)' 'Hizballah'\n",
            " 'Central Bank of Somalia' 'Pan African Minerals' 'Iraqi Army'\n",
            " 'Levies Forces' 'Popular Committees' 'Capalonga College'\n",
            " 'Afghan Central Statistics Organziation' 'Kafrayah Town' 'Fuah Town'\n",
            " 'South Sudan National Police Service (SSNPS)'\n",
            " 'African Union Mission in Somalia (AMISOM)' 'Government of Burkina Faso'\n",
            " 'Israel Police' 'General National Congress (GNC)'\n",
            " 'South African National Defense Force (SANDF)'\n",
            " 'Egyptian National Police (ENP)' 'Turkish National Police (EGM)'\n",
            " 'Diyarbakir Bar Association' 'Mindanao State University (MSU)'\n",
            " 'Yemeni Police' 'Frontier Corps (FC)' 'Burundi National Police'\n",
            " 'Al-Baghdadi Town' 'Federal Police' 'Kismaayo University'\n",
            " 'Pattani Concrete Company, Ltd.' \"Asa'ib Ahl al-Haqq\"\n",
            " \"Republican Forces of Cote d'Ivoire (FRCI)\"\n",
            " 'Partido Demokratiko Pilipino-Lakas ng Bayan (PDP-Laban)'\n",
            " 'al-Baghdadi District' 'Armed Forces of Libya' 'Raja Town'\n",
            " 'Turkish Armed Forces (TSK)' 'Iraqi Ministry of Health'\n",
            " 'Government of Kunduz' 'Government of Somalia'\n",
            " 'Russian Ministry of the Interior' 'Ungwan Misisi Village'\n",
            " 'United States Armed Forces' 'Syrian Arab Red Crescent (SARC)'\n",
            " 'Armed Forces of the Democratic Republic of the Congo (FARDC)'\n",
            " 'Tal Afar Airport' 'Gold Bus Line Company'\n",
            " 'United Arab Emirates Ministry of Foreign Affairs and International Cooperation'\n",
            " 'Philippine Army (PA)' 'Avdiyivka City' 'Government of Kunar'\n",
            " 'Banro Corporation' 'Magumeri Town' 'European Central Bank (ECB)'\n",
            " 'Philippine Navy (PN)'\n",
            " 'International Federation of the Red Cross and Red Crescent (IFRC)'\n",
            " 'Italian Cafe' 'Afghan National Army Special Forces (ANASF)'\n",
            " 'Laanta Buuro Village' 'Somali Armed Forces (SAF)'\n",
            " 'National Uprising Movement (NUM)' 'Pizza House'\n",
            " 'International Committee of the Red Cross (ICRC)'\n",
            " 'Barangay Peacekeeping Action Team (BPAT)' 'Banro Mining Corporation'\n",
            " 'Not Applicalbe' 'Imam Gharbi Village' 'Chragh Village'\n",
            " 'Citizens Armed Forces Geographical Unit (CAFGU)' 'Al-Mergib University'\n",
            " 'Nigerian Army (NA)' 'Syrian Army' 'Syrian Democratic Forces'\n",
            " 'Nigerian Inland Waterways Authority' 'At Tashi Area' \"Al-Sab'ah Area\"\n",
            " 'Route 91 Harvest Festival' 'Wereh Village' 'Border Security Force (BSF)'\n",
            " 'Government of Takhar' 'Libyan National Police (LNP)'\n",
            " 'Rastriya Janamorcha (RJM)' 'Carranglan Police Station'\n",
            " 'Morobi Zone II Camp' 'Mantapi Ebwan Farmers Association'\n",
            " 'Syro-Malabar Church of Northern India' 'Solidarity International'\n",
            " 'Egyptian Armed Forces' 'East Central Railways' 'Veronica Funeral Homes']\n",
            "Unique values in 'target3': [nan 'Consul General in Karachi: W. Duda'\n",
            " 'The Downtown Howard Johnson Hotel in New Orleans' 'Brian Haslehurst'\n",
            " 'Zuhayr Mughrabi, driver' 'Norman Lynch, Protestant' 'woolworth'\n",
            " 'Cypriot Airlines' 'Angel Crus Salcines, Policeman'\n",
            " 'Filadelfo Martinez, EFE; correspondent' 'Gabriel Gomez Arrubla, rancher'\n",
            " 'British Airways' 'Manuel Franco, leader' '4 construction workers'\n",
            " 'Centroamericana Building (houses 4 embassies)' 'Banker, Ilkay KArokoc'\n",
            " 'unknown' 'Corporal, Unk, Military Driver, Unk' 'Leading Clergyman'\n",
            " 'unk, bodyguard  (wounded)' 'unidentified woman'\n",
            " 'Felit Argueta, seminarist' 'Rafael Arrieta, reporter'\n",
            " 'car (on Ilisia) belonging to foreign diplomatic mission'\n",
            " 'Karl Hans Schulz, technician' 'James Greenwell, 18' 'Unknowns'\n",
            " \"Surgeon: Dr. As'ad Taha\" '3 unk militiamen escorts'\n",
            " 'Oil storage complex (called Munhava tanker farm)' 'Unks' 'pavillion'\n",
            " 'Orlando Estrada, sgt.' 'Jorge Montoya, land owners, peasants'\n",
            " 'Joe Keenan' 'Rev Zachariah Chatin, roman catholic priest'\n",
            " 'unk, interpreter' 'Maggie Fox, 25, fereelance reporter'\n",
            " 'International Jewish Film Festival' 'Rental Car Agency/Ford Dealer'\n",
            " 'Office of National Planning Institute' 'Turkish Woman, 27 years old'\n",
            " 'state enterprise' '1 Citroen dealership' 'Homes (2)'\n",
            " 'Kuwait Airways property and employees' 'Airport' '*'\n",
            " 'Ruben Gallo, associate' 'Trevor Anderson' 'Dino Rossy' '4 soldiers'\n",
            " 'Wemer Kiwitt' 'Engineer Marcel Chambard' 'Aurora Building'\n",
            " 'West German National' '5 Others' '3 Missionaries'\n",
            " 'Honorio Bulacao, Pres. Cebu alternative workers assembly' '4 persons'\n",
            " 'Belgian Paramedic' '5 companions to mayor' 'governor'\n",
            " 'East Rand (ANC official)' 'Tourist Vehicle Carrying German tourists'\n",
            " 'other leaders' 'tourists, 1 Swede, Tommy Cylad (21)'\n",
            " 'International Bus Terminal' 'Apartment block occupied by immigrants'\n",
            " 'Foreign workers' \"Foreign support of the gov't\"\n",
            " 'Students and teachers at the Lincoln Savage Middle School'\n",
            " 'Sarah Howart' 'German tourists' 'Asylum seeker'\n",
            " 'civilians including children' 'Summit Attendees' 'Two soldiers'\n",
            " 'Egyptian Embassy'\n",
            " 'Police near army headquarters and Slave Island Railway Station'\n",
            " 'Russian Citizens' 'Ulrich Dresser' 'UN Peacekeepers'\n",
            " 'UN peacekeepers/ Aid Workers' 'Aid workers'\n",
            " 'Roman Catholic Priests/Nuns*' '1 orphanage' 'AID Workers' 'UN Personnel'\n",
            " 'Tourists at Empire State Bldg' 'Oil barge 3 Britons'\n",
            " 'Shops surrounding the bus station' 'Arab civilian' 'Bank'\n",
            " 'Filipino Good Samaritan' 'work crew' 'Candidates (6)' 'Hotel'\n",
            " 'Egyptian police' 'Colombian Birdwatchers' 'Colombian Civilians'\n",
            " 'Civilians' 'Juan Carlos Sierra' 'Sri Lankan Police Officers'\n",
            " 'Shops and Banks in Dabeiba' 'Palestinian civilians' 'Rudolf Peichy'\n",
            " 'Vehicles owned by residents of Albania, Colombia'\n",
            " \"Civilians' homes in Chinhungo, Algeria\"\n",
            " \"Australian tourists near Sana'a, Yemen\"\n",
            " 'Four civilians working for Alcatel in Chinchina, Colombia'\n",
            " 'Three New Zealander Tourists' 'Cooperative in Piendamo, Colombia'\n",
            " 'City Hall and Town Council in Caloto, Colombia'\n",
            " 'Civilians at roadblocks in El Desastre' 'Civilians in Margosatubig'\n",
            " 'British Citizen' 'Angolan Aid Workers'\n",
            " 'A cargo truck and three trailers transporting vehicles from Venezuela'\n",
            " 'Stephan Devaux, EU Official' 'A private homestead'\n",
            " 'Two Indian Army Soldiers' 'Nigerian jet passengers'\n",
            " 'Private homes in El Espino' 'Serb civilian'\n",
            " 'Unnamed municipal government buildings in Diyadin District'\n",
            " 'New Jalpaiguri railway station' 'Employees of Shell Oil'\n",
            " 'Nigerian Citizens working on a Royal Dutch Oil rig'\n",
            " 'Namibia Police Station in Katima Mulilo, Namibia'\n",
            " 'United Nations staff in Sierra Leone' 'Norwegian Relief Workers'\n",
            " 'United Nations  High Commissioner for Refugees (UNHCR) employee'\n",
            " 'Foreign civilians in Sucumbios Province, Ecuador'\n",
            " 'Workers of an unnamed U.S. Oil Company'\n",
            " 'Workers from an unnamed humanitarian aid organization'\n",
            " 'Individuals at the Turkish embassy' 'Nigerian citizens'\n",
            " 'Nigerian citizen' 'Police officers in the area of Tibao village'\n",
            " 'Constable Latief Ahmad; Constable Mohammad Dayim' \"Tamil party's office\"\n",
            " 'Bangladesh Rifles (BDR)'\n",
            " 'A cash dispenser at a Bilbao Bizkaia Kutxa (BBK) bank in Gernika'\n",
            " 'Government buildings in Puerra' 'Government buildings in Cordoba'\n",
            " 'Government buildings in Potosi' 'Farmer Angga Antinado'\n",
            " 'Tenere Hotel in Algeria' 'Private Shell secuity guards'\n",
            " 'South Korean Citizens living in residences owned by Elf Aquitaine Oil Company'\n",
            " 'Private vehicle between Anori and Amalfi, Antioquia Department, Colombia'\n",
            " 'Kenyan Civilians who had gathered around a stadium in Isiolo'\n",
            " 'Tamil civilians' 'An Abkhaz Woman Interpreter' 'Italian Journalist'\n",
            " 'Power Plant, Tomas Razon town' 'A journalist in the park'\n",
            " 'Samaj Community Center and Gatesville Mosque, Athlone'\n",
            " 'UN employee Sapeu Laurence Djeya'\n",
            " 'Agricultural Development Bank building in Bhorletar in Lamjung District'\n",
            " 'Mayor Orlando Lizcano' 'Government buildings in Gueckedou'\n",
            " 'Police officers on board the passenger bus'\n",
            " 'United Self Defense Units of Colombia (AUC)'\n",
            " \"Chairman of Bordj Thar's Municipal People's Assembly\"\n",
            " 'Students at the university in Grozny'\n",
            " 'Indonesian Telecommunications office'\n",
            " 'Civilian accompanying the transport'\n",
            " 'Civilians on board a passenger plane bound for Chiang Mai'\n",
            " 'Civilians worshipping in a mosque in Lahore'\n",
            " 'A paramilitary soldier in Imphal'\n",
            " 'Private citizens and property near Montecarlo Hotel'\n",
            " 'Police Barracks in Kasese'\n",
            " 'Private citizens in the vicinity of the blast'\n",
            " 'Serbian Civilian in the village of Matejce'\n",
            " 'Employees at the Dos Palmas Island Resort at Honda Bay'\n",
            " 'Philippine soldiers responding to the attack'\n",
            " 'People at the airport waiting to depart' 'Barrancabermeja Harbor'\n",
            " 'Citizens and property in the vicinity of the explosion'\n",
            " 'Amanda Brigg, Australian Tourist'\n",
            " 'American Airlines-owned Boeing 767 passenger jet aircraft'\n",
            " 'United Airlines-owned Boeing 767 passenger jet aircraft'\n",
            " 'American Airlines-owned Boeing 757 passenger jet aircraft'\n",
            " 'United Airlines-owned Boeing 757 passenger jet aircraft'\n",
            " 'Police officers in the vicinity of the explosion'\n",
            " 'A convoy of Krasnodar nongovernmental organization vehicles'\n",
            " 'Employees of Sgem World of Colombia'\n",
            " 'Algerian policemen at a restaurant in Laghouat'\n",
            " 'Nepal district administrative offices in Salleri'\n",
            " 'Civilians in Cauca, Colombia' 'Nepalese soldiers in Mangalsen'\n",
            " 'US diplomat and wife' 'UN Observers in Lebanon'\n",
            " 'Private homes and civilians in Rovira'\n",
            " 'Tourists unloading from bus near the Ghriba synogogue'\n",
            " 'Civilians at the Mamara Hotel in Istanbul' 'A bus in Bilbao'\n",
            " 'Police in the vicinity of the parking lot at the university'\n",
            " 'Tourists and vehicles in the Spanish town of Santander'\n",
            " 'Pakistani security guard'\n",
            " 'Small and large business buildings in Dolores'\n",
            " 'Local businesses in the vicinity of the police station'\n",
            " 'A passenger bus traveling to Palu' 'Central Reserve Police Force (CRPF)'\n",
            " 'Afghan civilians'\n",
            " \"Nicaise Kibelbel, editor of 'Les Coulisses' newspaper\"\n",
            " '2 American teachers working at a school near the mine'\n",
            " 'Border Security Force members at a bus stand in Surankote'\n",
            " 'Civilians at a bar in Georgetown'\n",
            " 'Zahoor Ali Chishti, a candidate for Parliament'\n",
            " 'Nephew of Mayor Luis Antonio Motta' 'Indiscriminate civilians in Gitega'\n",
            " 'Indiscriminate civilians at the Paradise Hotel in Mombasa'\n",
            " 'Multi-Access Radio relay equipment in Peddaktnta, India'\n",
            " 'Civilians in the vicinity of the hotel'\n",
            " 'Various Congolese Shop Owners in Yamba'\n",
            " 'British High Commissioner in Wellington, New Zealand'\n",
            " 'Civilians in Ricaurte, Colombia' 'A bus terminal in Parang'\n",
            " 'Indiscriminate citizens in Siocon, Philippines'\n",
            " 'Civilians in the vicinity of a patrol in Granada'\n",
            " 'Algerian civilians travelling through Batna'\n",
            " 'Indians and tourists visiting the Gateway of India and the Zaveri Bazaar'\n",
            " 'Attendees at the weekly sermon at the Tomb of Ali'\n",
            " 'Somali maintenance worker'\n",
            " 'US Deputy Defense Secretary Paul D. Wolfowitz'\n",
            " 'Federal Police at the central telegraph office in Srinagar'\n",
            " 'International Security Assistance Force'\n",
            " 'Churchgoers and passersby at the incident site'\n",
            " 'Algerian soldier driving through Skikda'\n",
            " 'A state-run bank in the town of Bhojpur'\n",
            " 'Two British soldiers serving in Basra'\n",
            " 'Indiscriminate Syrian civilian near the Diplomatic Quarters in Damascus'\n",
            " 'A Police Station of Pervari, Turkey.'\n",
            " 'Security guards from a private British security firm'\n",
            " 'Iraqi Orascom employees in Qaim, Iraq' 'Icelandic peacekeepers'\n",
            " 'Pan-Arab Satellite TV network' 'Olice Security Convoy'\n",
            " 'Indiscriminate Iraqi citizens' 'Indiscriminate citizens' 'Unknown'\n",
            " 'Contractors' 'British and American employees of Kroll Inc. in Baghdad'\n",
            " 'A government polling station located 90 miles south of Charlie Camp'\n",
            " 'Civilians in Yala Province' 'IDF soldiers manning the Qarni Checkpoint'\n",
            " 'Algerian citizens on a public bus travelling on Wilaya Road 19'\n",
            " 'Four policemen in Pulwama (District)' 'Major Ravi Gartaula'\n",
            " 'prison guards' 'Offices of the Corsican Regional Natural Park'\n",
            " 'Police forces'\n",
            " 'Indian policemen near the Punjab National Bank in Poonch'\n",
            " 'Two houses of school-teachers, Two empty civilian homes, and One excavator vehicle'\n",
            " 'Ministry of Agriculture in Baghdad'\n",
            " 'Policemen near Alvaro Ulcue Hospital' 'Australian National in Baghdad'\n",
            " 'Sunni leaders in Baghdad'\n",
            " 'Indicriminate civilians in the resort town of Jounieh, Lebanon'\n",
            " 'Civilians at the Rajpur bazaar' 'UN employee in the internet café'\n",
            " 'Chorhawa Military Base'\n",
            " 'Son of the governor of Iraq\\x92s Anbar Governorate, Raja Nawaf Farhan al- Mahalawi'\n",
            " 'Srinagar civilians' 'The Thepa train station'\n",
            " 'Bodyguard assigned to ZagirArukhov'\n",
            " 'Civilians attending a funeral at Abdul Rab Akhundzada Mosque'\n",
            " 'Thadchanamoorthy Karunamoorthy, a civilian'\n",
            " 'Husseiniyah Abdul- Rassul mosque and Albu Jumaa mosque'\n",
            " 'Thai Police in Yala' 'Mosque in Al-Musayyib'\n",
            " 'Hotels at and around the Egyptian resort of Sharm el-Sheikh.'\n",
            " 'A Telefonica sales offices in Gexto' 'Civilians in Antalya'\n",
            " 'The British Petroleum office in Tehran' 'Civilians in Baghdad'\n",
            " \"Relangi Selvarajah and S. Selvarajah, supporters of the People's Liberation Organisation of Tamil Eelam (PLOTE)\"\n",
            " 'Indiscriminate Egyptian and Indian civilians'\n",
            " 'Five employees of a Turkish construction firm in Afghanistan'\n",
            " 'Police transporting injured people to Kindi Hospital'\n",
            " 'Promenade Hotel in Beirut'\n",
            " 'Iraqi policemen working at the Joint Coordination Center for Diyala Governorate'\n",
            " \"Police providing security at Irrigation Minister Qazi Afzal's political rally\"\n",
            " \"Policemen providing security for Addison's convoy\"\n",
            " 'Civilians in the state of Jammu and Kashmir' 'Abdol Matin'\n",
            " 'Restaurants located near Jimbaran Beach' 'Raja Restaurant in Kuta'\n",
            " 'Police officer in the vicinity of the water truck' 'Tourists in Hillah'\n",
            " 'Algerian citizens at a town market in Medea'\n",
            " 'Soldiers stationed in Semdinli' 'Baghdad Civilians'\n",
            " 'The Qadduri restaurant in central Baghdad'\n",
            " 'A Pakistan Petroleum Limited office in Karachi'\n",
            " 'Guests staying at the Hamra Hotel in Baghdad' 'Thai police officers'\n",
            " 'A liquor store in Kirkuk' 'Police working at a court complex in Gazipur'\n",
            " 'A police checkpoint in Chittagong'\n",
            " 'Civilian in the vicinity of the fruit stand'\n",
            " 'Burundi Citizens in Magara'\n",
            " 'Kenyan workers for Iraqna Mobile Phone Company'\n",
            " 'Private homes and property'\n",
            " 'Police officers in Batticaloa riding in a targeted army truck'\n",
            " 'Police constables in the vicinity of the attack'\n",
            " 'Nepalese Government Officials'\n",
            " 'Dutch doctors from Doctors Without Borders in the Norte de Santander Department, Colombia'\n",
            " 'Police roadblock near Rreshen in the Mirdite (District)'\n",
            " 'Raad Ahmed Chibish al-Jibouri' 'Nepalese Civilians' '(District) Prison'\n",
            " 'Somali parliamentarian' 'Central African Republic doctors'\n",
            " 'Spanish police officers who arrived to help at the scene of the fire.'\n",
            " 'Private homes' 'Bus driver and conductor'\n",
            " 'Soldiers in the Nigerian Military' 'Indian Soldier' 'Thailand Marines'\n",
            " \"Gol Agha Sherzai's home\"\n",
            " 'Iranian pilgrims at the Shi i shrine of Maitham al-Tamar in Kufa, Iraq'\n",
            " 'Guards in the vicinity' \"Members of the Eelam People's Democratic Party\"\n",
            " 'fishing harbor in the port city of Galle'\n",
            " 'United Nations Assistance Mission to Afghanistan regional office in Konar Province, Afghanistan'\n",
            " 'Government' 'Chevrolet Dealership' 'Austrian police officers'\n",
            " 'Chad Soldiers' 'NATO officers'\n",
            " 'Parking garage loctaed at Madrid Airport' 'Gaza'\n",
            " 'Shops in Tal Afar market' 'Afghani laborers' 'Karradah market district'\n",
            " 'Civilians near the incident' 'Villa Somalia' 'Mosque in Slalma, Algeria'\n",
            " 'Child and other civilians in the vicinity of the attack' 'Kirkuk'\n",
            " 'Indian workers in a factory in Vilage Developmental Area'\n",
            " 'Residence of Ali Tounsi, the director of the General National Security Directorate'\n",
            " 'Private hospital in Baghdad' 'Hajarun Jamiri' 'Journalists'\n",
            " 'Kenyan guard at Indorama' 'Power poles in Chandravata.'\n",
            " 'Government soldiers'\n",
            " 'Iraqi Police Forces at a police checkpoint in Anbar' 'Soldiers'\n",
            " 'Bus stand' 'Shopping Center' 'Small eatery'\n",
            " 'Commercial shops and businesses within the market' 'Shops in the market'\n",
            " 'Rudy Villaflor' 'Security forces in Matta'\n",
            " \"Civilians at two hotels in Narathiwat's Sungai Kolok municipality\"\n",
            " 'Afghan security' 'Teacher' 'Vehicle'\n",
            " 'Telecommunication installations in Tanout' 'Police vehicle'\n",
            " \"Civilians in the vicinity of the city of N'Djamena\" 'Nayagarh armory'\n",
            " 'American soldiers' 'Indiscriminate Afghan civilians' 'Iraqi Civilians'\n",
            " 'US Embassy' 'A Hyundai car was targeted.'\n",
            " 'A foreign teacher was targeted.'\n",
            " 'The building housing the Apostolic Nuncio was targeted.'\n",
            " 'Hospital ambulances were also targeted.' 'Sudanese Civilians.'\n",
            " 'The Ethiopian Foreign Ministry building was also suspected to be targeted.'\n",
            " 'An Afghan civilian, the driver of French national Johann Freckhaus who heads the French company Gohan Sreckhaus, was also targeted.'\n",
            " 'Three houses belonging to Benoi-Vedeno residents were also targeted.'\n",
            " 'The target was the security guards.' 'A tribal elder was targeted.'\n",
            " 'The attack targeted various villages in Georgia.'\n",
            " 'Café employees and patrons were also targeted.'\n",
            " 'A policeman from Uganda was killed in the attack.'\n",
            " 'Target was 2 motorcycles.'\n",
            " 'Two Ukrainian crew members of the Hercules were targeted.'\n",
            " 'The target was the police officers.' 'Civilians were targeted.'\n",
            " 'A female British-Canadian International Rescue Committee aid worker was targeted.'\n",
            " 'A military fortification was targeted.'\n",
            " 'Tangcal city policemen were also targeted.'\n",
            " 'Abdifatah Mohammed Elmi, Somali photo-journalist and two Somali drivers'\n",
            " 'Government vehicles were targeted in the attack.'\n",
            " 'Algerian soldiers on a search operation in Boumerdès'\n",
            " 'Foreign civilians were targeted.'\n",
            " 'Rival cartel members were also targeted.'\n",
            " 'A Zone of Peace and Development building was targeted.'\n",
            " 'The third car belonged to a private citizen.'\n",
            " 'One target was the office of the village chieftain and local council.'\n",
            " 'Several United Nations High Commissioner for Refugees workers were targeted.'\n",
            " 'A driver was kidnapped.' 'One Bulgarian national was killed.'\n",
            " 'Electricity lines were targeted.' 'Reporter: Tahir Ludin'\n",
            " 'A civilian was the target of the attack.'\n",
            " 'Offices of the Pakistan Air Force were targeted.'\n",
            " 'A Chinese engineer was targeted in the incident.' 'Edwin Dyer'\n",
            " 'A German tourist was targeted.'\n",
            " 'Several civilian residences were also targeted.'\n",
            " 'Chruhatpat villagers were targeted.' 'Three civilians were wounded.'\n",
            " 'Military responders' 'The VBIED targeted a nearby Shiite mosque.'\n",
            " 'A community hall was targeted.' 'A prosecutor was targeted.'\n",
            " 'A store that sells military uniforms was targeted.'\n",
            " 'The additional target were police officers.'\n",
            " 'The target was a community hall.' 'A police station was targeted.'\n",
            " 'A South Korean citizen was targeted.'\n",
            " 'The assailants attacked a CPI-M member.'\n",
            " 'Firefighters that responded to the first explosion in Hazama'\n",
            " 'One aid worker was targeted.'\n",
            " 'The assailants detonated an improvised explosive device (IED) targeting a communications antenna.'\n",
            " 'A Filipino soldier was targeted.'\n",
            " 'Seven school were targeted in the attack.'\n",
            " 'A Venezuelan soccer player member of the team Los Maniceros was targeted.'\n",
            " 'A unknown number of schools were targeted.'\n",
            " 'An unknown terrorist was targeted.'\n",
            " 'An Indian engineer was the target of the attack.'\n",
            " 'The target of this attack was a police officer.'\n",
            " 'The mobile column Teofilo Forero Castro, who placed a powerful explosive to detonate the passage of police and army patrols and even civilians who passes by this area constantly.'\n",
            " 'A photographer in Ain Sebt' 'The attacked damaged seven vehicles.'\n",
            " 'A radio station was targeted in this attack.'\n",
            " 'Several un-named official government buildings in Popayan were targeted.'\n",
            " 'Military soldiers responding to the attack were also targeted.'\n",
            " 'The headquarters of the Emergency Police 3rd Regiment was targeted in the attack.'\n",
            " 'Shia pilgrims were targeted.'\n",
            " 'An Indian construction engineer was also targeted in the attack.'\n",
            " 'Driver'\n",
            " 'Twelve trucks, including eight of a private construction company, were targeted in the attack.'\n",
            " 'One German humanitarian worker was targeted.'\n",
            " 'Civilians were targeted in the attack.'\n",
            " 'The Spanish Embassy was targeted.'\n",
            " 'Fifteen COBRA commandos were targeted.'\n",
            " 'The Chintalamma and Koyyur ghat roads were targeted in the attack.'\n",
            " 'Special police personnel were also targeted in the attack.'\n",
            " 'Civilians and civilian property in the vicinity of the device in Baghlia'\n",
            " 'Bomb Disposal Squad members were targeted.'\n",
            " 'Seven business were also targeted in the attack.'\n",
            " 'One teacher was targeted.'\n",
            " 'A forest guest house was also targeted in the attack.'\n",
            " 'Police officers were targeted.'\n",
            " 'A judicial housing complex was targeted in the attack.'\n",
            " 'One Georgian aid worker with the International Medical Corps was targeted in the attack.'\n",
            " 'A Congolese pilot was targeted.'\n",
            " \"The Lieutenant Colonel's wife was targeted.\"\n",
            " \"A Forest Department subdivision ranger's quarter was targeted in the attack.\"\n",
            " 'One Malagasy worker was targeted.' 'A driver was targeted.'\n",
            " 'A civilian was targeted.' 'Policemen were targeted.'\n",
            " 'Yemeni Soldiers were targeted.' 'A policeman was targeted.'\n",
            " 'Civilians at Domodedovo Airport were targeted in the attack.'\n",
            " 'The Home Secretary, Akbar Hussain Durrani, was targeted in the attack.'\n",
            " 'Afghan soldiers were targeted.' 'A construction worker was targeted.'\n",
            " 'Four Congolese soldiers were targeted.'\n",
            " 'Jharkhand Armed Police (JAP) personnel were targeted.' 'Unidentified'\n",
            " 'Toribio policemen were targeted.'\n",
            " 'German soldier, including General Markus Kneip, were also targeted.'\n",
            " 'Italian soldiers were also targeted in the attack.'\n",
            " 'A joint team of Central Reserve Police Force (CRPF) personnel, Jharkhand Jaguar and District Police, were targeted.'\n",
            " \"The hacienda's timekeeper, Christopher Gerza, was also targeted.\"\n",
            " 'Police members of a bomb disposal unit were also targeted in the attack.'\n",
            " 'An undetermined number of villagers were also targeted in the attack.'\n",
            " 'Another civilian, Golamani Chakma, was also targeted in the attack.'\n",
            " 'A security guard was targeted in the attack.'\n",
            " 'Four schools were targeted.'\n",
            " 'A Lashkar-e-Jhangvi commander was targeted.' 'Afghani civilians'\n",
            " 'An unknown number of government office buildings were also targeted.'\n",
            " \"It is unknown if the target of the attack was the regional hospital, the governor's office or the Interior and Local Government Secretary, Jesse Robredo, was targeted.\"\n",
            " 'An unspecified number of government offices were also targeted.'\n",
            " 'Construction workers at the airport were targeted.'\n",
            " 'The targets were PT Freeport security management unit employees.'\n",
            " 'Four Afghani civilians' 'First responder emergency response teams'\n",
            " 'A police officer staffing a security checkpoint outside of a mosque'\n",
            " \"Police officers who were in the vicinity of the district governor's office\"\n",
            " 'Civilians in the vicinity of the courthouse'\n",
            " 'Civilians in the vicinity of the assailant in a weapons store'\n",
            " 'Civilian onlookers in Maiduguri'\n",
            " 'Civilians in the vicinity of the market and the mosque'\n",
            " 'Three civilians in the vicinity of a military patrol in Mosul'\n",
            " 'Soldiers providing security in the vicinity of a Sunni mosque in Abu Ghraib area'\n",
            " \"Civilians in the vicinity of the girls' school in Mardan\"\n",
            " 'Civilians in the vicinity of the medical center and police station'\n",
            " 'Civilians in the market' 'A Safaricom mast in Arabia village'\n",
            " 'Civilians and civilians homes in the vicinity of the residence of Ali Mehdi Sadiq'\n",
            " 'Young Boy' 'Civilians leaving the mosque' 'Private Homes' 'Civilian'\n",
            " 'Police' 'Four defense volunteers and three civilians'\n",
            " 'At least 2 civilians' 'Officers' 'Birdwatcher: Ivan Sarenas'\n",
            " 'Firefighters' 'Aid Worker: David Savage' 'Vehicles' 'Bar'\n",
            " 'Security Personnel' 'Banker'\n",
            " 'Excise and Taxation Minister: Mir Mohammad Ameen Umrani' 'Farm'\n",
            " 'Civilian: Somchit' 'Member: Mohamed Hirsi Dhunkal' 'Telephone Booth'\n",
            " 'Employee' 'Members' 'Offices' 'Private Garage; Civilians'\n",
            " '84th Infantry Battalion' 'Checkpoint' 'Building' 'Officer'\n",
            " 'Commissioner: Sahibzada Anees' 'Refugees' 'Base' 'Embassy' 'Marketplace'\n",
            " 'Civilians: Muhammad Irfan Thaheem' 'Cell Phone Tower' 'Cart' 'Town'\n",
            " 'Intelligence Agents' 'Passenger Buses' 'Residences' 'Business Premises'\n",
            " 'Market' 'Hospital' 'Forces' 'Employees' 'Escort Patrol'\n",
            " 'Provincial Council Candidate' 'Houses'\n",
            " 'Worshippers Outside Al-Quds Sunni Mosque' 'Construction Workers'\n",
            " 'Tribal Sheiks' 'Convoy' 'Buildings' 'Photojournalist' 'Polio Worker'\n",
            " 'New Year Celebration' 'Kismayo Airport' 'Somali Workers'\n",
            " 'Chief: Awad Majwar al-Awlaqi' 'Translator: Andrey Mironov' 'Academic'\n",
            " 'Stone Crushing Plant Employee' 'Children' 'Engineer: Miljazin Gafuri'\n",
            " 'Health Center' 'Residential Areas' 'Residence' 'Workers'\n",
            " 'Tomb of Former President: Saddam Hussein' 'Plaza'\n",
            " '39th Battalion Soldiers' 'Food Aid Convoy' 'Communications Masts'\n",
            " 'Former Militia Members' 'Kurdish Civilian' 'Town Entrance'\n",
            " 'Houses of Clan Leaders' 'Former Engineer' 'Polio Vaccination Team'\n",
            " 'House' 'Hospital Residential Compound' 'Funeral of Tribal Elder' 'Banks'\n",
            " 'Camera Operator: Zubair Hatami' 'Divisional Police Station' 'Truck'\n",
            " 'Cook' 'Village' 'Civilians: Saleem Bazai, Noor-ul-Ameen, Qureshi' 'Car'\n",
            " 'Deputy Sports Secretary: Golam Baki Chowdhury' 'Shop' 'Volunteers'\n",
            " 'Village Chief' 'Posts' 'Dam' 'Vendors' 'Shops' 'Rescue Workers'\n",
            " 'Clergy Members' 'Motorcycle' 'Consultant: Farhiya Bashir Nur'\n",
            " 'Christian Civilians' 'Security Guard' 'Patrol' 'Students'\n",
            " 'Celebration of Imam Ali' 'Officer: Ahmed Ali'\n",
            " 'Utility Worker: Mandy Retiro' 'Censes Director: Niamatullah'\n",
            " 'Medical Center' 'Bus' 'Village Watchman' 'Mosque'\n",
            " 'Christian Civilian: Ibrahim Adeola' 'Officer: Yona Francis' 'Tea Shop'\n",
            " 'Tea House' 'Kenyan Soldiers' 'Chief' 'Prime Minister Yacouba Isaac Zida'\n",
            " 'Civilian: Maritess Flor' 'Apartments' 'Officials' 'Trainer'\n",
            " 'Civilian: Shadi Arafa' 'Bar Owner' 'Tuareg Civilian'\n",
            " 'Convoy of Aden Security Director: Brigadier General Shalal Ali Shayyeh'\n",
            " 'Tourist: Sammie Olovsson' 'Convoy of Chief: Abdul Habib Syedkhel'\n",
            " 'Houses of Pro-Government Supporters' 'University' 'Civil Activists'\n",
            " 'Bakery' 'Office' 'Catholic Priest: Tom Uzhunnalil' 'Crewmembers'\n",
            " 'Watchperson' 'Rally' 'District' 'Airboats' 'Joint Convoy'\n",
            " 'Translator: Zabihullah Tamanna'\n",
            " 'Second Chief of General Staff: General Yasar Guler'\n",
            " 'Civilian: Daniela Gonzales' 'Water Plant Employee' 'Teachers'\n",
            " 'Spy Chief' 'Truck Drivers' 'School' 'Civilian: Chayanan Intharat'\n",
            " 'Joint Patrol' 'Suspected Informant' 'Shiite Muslim Procession' 'Member'\n",
            " 'Ambulance' 'Drinking Water Factory' 'Provincial Intelligence Chief'\n",
            " 'Soldier: Rifleman Moalosi Albert Mokhothu'\n",
            " 'Ambassador: Juma Mohammed Abdullah al-Kaabi' 'Goods-Laden Trucks' 'City'\n",
            " 'Convoy of Governor: Wahidullah Kalimzai' 'Relief Convoy'\n",
            " 'Gold Mine Worker: Yusuf Kapanga' 'Taxi Drivers' 'Regional Office'\n",
            " 'Aid Convoy' 'Civilian Residences' 'Aid Workers' 'Bystanders' 'Tourists'\n",
            " 'Emirian Convoy of Aid Workers' 'Foreign Civilian' 'Cafe' 'Restaurant'\n",
            " 'Soldier' 'District Police Chief: Hashim Zwak'\n",
            " 'Civilian: Zynab Al-Harbiya'\n",
            " 'Civilians: John Nigo, Charles Yeka, Rev Yona Mboro' 'Chef'\n",
            " 'Joint Aid Convoy' 'Free Lance Journalist: Samuel Forey'\n",
            " 'Commercial Vehicle Convoy' 'Village Watchmen: Jhonny Pasawilan'\n",
            " 'Drivers' 'Domestic Servant' 'Residential Area' 'Journalist' 'Tourist'\n",
            " \"Deputy President of the Students' Union\" 'Security Forces'\n",
            " 'Driver: Michael Jambalus'\n",
            " 'Former Revolutionary Armed Forces of Colombia Members'\n",
            " 'Convoy of Trucks' 'Mosques' 'Film Maker: Mehmet Aksoy' 'Area'\n",
            " 'Officer: PO2 Bobby Guialani Pendililang' 'Country Music Festival'\n",
            " 'Construction Site' 'Civilian: Juliana Palmero' 'Compound'\n",
            " 'Political Analyst: Viktor Bala' 'Internally Displaced Persons (IDPs)'\n",
            " 'Deputy Governor'\n",
            " 'Civilians: Anne Laure Decadt, Darren Drake, and Nicholas Cleves'\n",
            " 'Refugee Camp' 'Civilian: Danilo Montances' 'Member: Elioterio Moises'\n",
            " 'Helicopter' 'Assistant Station Manager: Mukesh Kumar'\n",
            " 'Director: Tristan Ocampo']\n",
            "Unique values in 'natlty3': [  nan  161.  217.  216.  110.  233.   53.  185.   45.   61.   92.  199.\n",
            "  209.   94.   83.   32.   75.   15.  231.  160.   98.    6.  195.   38.\n",
            "  422.   69.  159.  106.  122.   96.  362.  144.  183.   21.  198.  236.\n",
            "  235.  182.  177.   42.   76.   95.    4.  186.  167.   55.   90.   93.\n",
            "  104.   99.   11.   51.   60.  155.    8.   14.  222.  147.  175.  139.\n",
            "  999.  151.   65.   19.  184.   74.  229.  141.   84.  205.  153.  213.\n",
            "   97.  101.   86.   34.   59.   47.  200.  142.    5.   41.  130.   78.\n",
            "  146.  334.   63.   16.   54.   62.  221.  119.  228.  103.  123.  173.\n",
            "  113.  137.  210.  118.   37.  214. 1004.  166.   33.  138.  102.  215.\n",
            "  203.   72.   30.]\n",
            "Unique values in 'natlty3_txt': [nan 'Poland' 'United States' 'Great Britain' 'Lebanon' 'Northern Ireland'\n",
            " 'Cyprus' 'Spain' 'Colombia' 'El Salvador' 'India' 'Switzerland' 'Turkey'\n",
            " 'Iran' 'Guatemala' 'Bulgaria' 'Germany' 'Austria' 'Zimbabwe'\n",
            " 'Philippines' 'Italy' 'Algeria' 'Sudan' 'Canada' 'International' 'France'\n",
            " 'Peru' 'Kuwait' 'Maldives' 'Ireland' 'West Germany (FRG)' 'New Zealand'\n",
            " 'South Africa' 'Belgium' 'Sweden' 'Czechoslovakia' 'Yugoslavia' 'Somalia'\n",
            " 'Sierra Leone' 'Chad' 'Ghana' 'Iraq' 'Afghanistan' 'Sri Lanka' 'Russia'\n",
            " 'Denmark' 'Hungary' 'Indonesia' 'Kenya' 'Ivory Coast' 'Argentina' 'Cuba'\n",
            " 'Egypt' 'West Bank and Gaza Strip' 'Angola' 'Australia' 'Venezuela'\n",
            " 'Nigeria' 'Serbia-Montenegro' 'Namibia' 'Multinational' 'Norway'\n",
            " 'Ethiopia' 'Bangladesh' 'South Korea' 'Georgia'\n",
            " 'Democratic Republic of the Congo' 'Nepal' 'Guinea' 'Thailand' 'Pakistan'\n",
            " 'Uganda' 'Israel' 'Japan' 'Guyana' 'Burundi' 'Ecuador'\n",
            " 'Republic of the Congo' 'Syria' 'Netherlands' 'Albania'\n",
            " 'Central African Republic' 'Mexico' 'Greece' 'Niger' 'Asian' 'Eritrea'\n",
            " 'Azerbaijan' 'Czech Republic' 'Equatorial Guinea' 'Vatican City'\n",
            " 'Madagascar' 'Yemen' 'Kazakhstan' 'Mali' 'Saudi Arabia' 'Libya'\n",
            " 'Mozambique' 'Turkmenistan' 'Macedonia' 'Cameroon' 'Ukraine'\n",
            " 'South Sudan' 'Romania' 'Burkina Faso' 'Myanmar' 'Jordan'\n",
            " 'United Arab Emirates' 'Tanzania' 'Gabon' 'Brazil']\n",
            "Unique values in 'gname': ['MANO-D' '23rd of September Communist League' 'Unknown' ...\n",
            " 'Fatoni Warriors' 'Minorities of Metropolitan Attacks'\n",
            " 'Baloch Republican Party']\n",
            "Unique values in 'gsubname': [nan 'FALN-R' 'Palestinian Liberation Army (military wing)' ...\n",
            " 'Oliver Sinisterra Front' 'Chingtam Liberation Army'\n",
            " 'Mt. Apo Sub-Regional Command']\n",
            "Unique values in 'gname2': [nan 'Armed Revolutionary Independence Movement (MIRA)'\n",
            " 'Popular Front for the Liberation of Palestine (PFLP)'\n",
            " 'Carlos the Jackal' 'Palestine Liberation Organization (PLO)'\n",
            " 'Puerto Rican Nationalists'\n",
            " 'Organization of Volunteers for the Puerto Rican Revolution'\n",
            " 'Revolutionary Student Movement (MER)' 'Jewish Action Movement'\n",
            " 'Abu Baker Martyr Group' 'National Liberation Army of Colombia (ELN)'\n",
            " \"People's Revolutionary Army (ERP) (El Salvador)\"\n",
            " 'Armed Forces of National Resistance (FARN)' 'Ex-Somoza National Guard'\n",
            " 'Revolutionary Armed Forces of Colombia (FARC)'\n",
            " 'Justice Commandos for the Armenian Genocide' 'The Mukti Bahini'\n",
            " 'Palestinians' 'Moro National Liberation Front (MNLF)'\n",
            " 'M-19 (Movement of April 19)'\n",
            " 'Vietnamese Organization to Exterminate Communists and Restore the Nation'\n",
            " 'Popular Liberation Army (EPL)' \"Al-Gama'at al-Islamiyya (IG)\"\n",
            " \"Al-Da'wah Party\" 'Democratic Revolutionary Front (FDR)'\n",
            " 'Boricuan Armed Anti-Imperialist Commandos' 'Armed Struggle Organization'\n",
            " 'Zairean Socialist Party' 'Red Brigades' 'Quintin Lame' 'Hezbollah'\n",
            " 'Lebanese National Resistance Front'\n",
            " 'Ricardo Franco Front (Dissident FARC)' 'Red Army Faction (RAF)'\n",
            " 'America Battalion' 'Tupac Amaru Revolutionary Movement (MRTA)'\n",
            " 'Movement of the Revolutionary Left (MIR) (Peru)'\n",
            " 'Omar Torrijos Commando for Latin American Dignity'\n",
            " 'Patriotic Morazanista Front (FPM)' 'Karen National Union'\n",
            " 'The Extraditables' '1 May' 'Popular Militia (Chile)'\n",
            " 'Afrikaner Resistance Movement (AWB)' 'Force 17'\n",
            " \"Revolutionary People's Struggle (ELA)\" 'Shining Path (SL)'\n",
            " 'Montoneros (Argentina)' 'Recompras' 'Cali Narcotics Cartel'\n",
            " 'Fatherland for the Poor' 'Turkish Communist Party/Marxist (TKP-ML)'\n",
            " 'Hizbul Mujahideen (HM)' 'Bougainville Revolutionary Army (BRA)'\n",
            " 'Shia Muslim extremists' 'Egyptian Islamic Jihad (Al-Jihad)'\n",
            " 'West Nile Bank Front (WNBF)' 'Earth Liberation Front (ELF)'\n",
            " 'Palestinian Islamic Revolutionary Army'\n",
            " 'Revolutionary Bolivariano Movement 200' 'Harkat ul Ansar'\n",
            " 'Muslim Mujahideen' 'Animal Liberation Front (ALF)'\n",
            " 'Moro Islamic Liberation Front (MILF)' 'Fighting Guerrillas of May'\n",
            " 'Forest Brothers' 'Hamas (Islamic Resistance Movement)'\n",
            " 'Armed Forces Revolutionary Council (AFRC)' 'Chechen Rebels' 'Unknown'\n",
            " 'White Wolves (UK)' 'Aitarak Militia' 'Nationalsocialistisk Front (NSF)'\n",
            " 'Al-Badr' 'Revolutionaries of the Streets'\n",
            " 'Grupo de Combatientes Populares' 'Abu Sayyaf Group (ASG)'\n",
            " 'Oromo Liberation Front' 'Jamiat ul-Mujahedin (JuM)'\n",
            " \"United People's Democratic Solidarity (UPDS)\" 'Al-Aqsa Martyrs Brigade'\n",
            " 'United Liberation Front of Assam (ULFA)' 'Jaish-e-Mohammad (JeM)'\n",
            " 'Lashkar-e-Taiba (LeT)' 'Palestinian Hezbollah' 'Mayi Mayi'\n",
            " 'Palestinian Islamic Jihad (PIJ)'\n",
            " 'Salafist Group for Preaching and Fighting (GSPC)'\n",
            " 'Albanian Liberation Army' \"People's Revolutionary Army (ERP)\"\n",
            " \"People's Army's Pioneers\" 'Hutu extremists' 'Armed Islamic Group (GIA)'\n",
            " 'Ulster Freedom Fighters (UFF)' 'Asif Raza Commandos' 'Al-Qaida'\n",
            " 'Al-Fatah' 'Al-Mansoorian' 'Ulster Volunteer Force (UVF)' 'Al-Madina'\n",
            " 'Dima Halao Daoga (DHD)' 'Adan Abyan Islamic Army (AAIA)'\n",
            " 'Riyadus-Salikhin Reconnaissance and Sabotage Battalion of Chechen Martyrs'\n",
            " 'Taliban' 'Harkatul Jihad-e-Islami' 'Save Kashmir Movement'\n",
            " 'Hizb-I-Islami' \"People's Revolutionary Militias (MRP)\"\n",
            " \"New People's Army (NPA)\" 'Harakat ul-Mujahidin (HuM)'\n",
            " 'Lashkar-e-Fidayan-e-Islam' 'Jemaah Islamiya (JI)'\n",
            " 'Tehrik-e-Jehad-e-Islami'\n",
            " 'National Council for Defense of Democracy (NCDD)'\n",
            " 'Free Aceh Movement (GAM)' 'Forces for the Defense of Democracy (FDD)'\n",
            " 'Great Eastern Islamic Raiders Front (IBDA-C)' 'Ansar al-Islam'\n",
            " 'Jamaat-E-Islami (India/Pakistan)' 'Maoist Communist Party (MKP)'\n",
            " 'Islamic Movement of Uzbekistan (IMU)'\n",
            " 'National Democratic Front of Bodoland (NDFB)'\n",
            " 'Egyptian Tawhid and Jihad' 'Colonel Karuna Faction' 'Ansar al-Sunna'\n",
            " 'Islamic Army in Iraq (al-Jaish al-Islami fi al-Iraq)'\n",
            " \"Jihad Martyr's Companies in Iraq\" 'Black Banner Brigade'\n",
            " \"Kurdistan Workers' Party (PKK)\" 'Jamaat-E-Islami (Bangladesh)'\n",
            " 'Al-Arifeen' 'Takfir wal-Hijra (Excommunication and Exodus)'\n",
            " 'Shan State Army - South (SSA-S)'\n",
            " \"Al-Ahwaz Arab People's Democratic Front\" 'Islamic Front'\n",
            " 'Democratic Front for the Liberation of Palestine (DFLP)'\n",
            " 'Lashkar-e-Jhangvi' 'Islamic Jihad Front'\n",
            " 'Houthi extremists (Ansar Allah)' 'Popular Resistance Committees'\n",
            " 'Liberation Tigers of Tamil Eelam (LTTE)'\n",
            " 'Janatantrik Terai Mukti Morcha- Goit (JTMM-G)'\n",
            " \"Niger Delta People's Volunteer Force (NDPVF)\"\n",
            " 'Karbi Longri North Cachar Liberation Front (KLNLF)'\n",
            " \"Minawi's faction forces.\" \"Nepal People's Army\"\n",
            " 'Irish National Liberation Army (INLA)' 'Mujahideen Youth Movement (MYM)'\n",
            " 'Jaish al-Muslimin (Army of the Muslims)' 'Other'\n",
            " 'Janatantrik Terai Mukti Morcha- Jwala Singh (JTMM-J)'\n",
            " 'Madhesi Mukti Tigers (MMT)' 'Jund al-Sham for Tawhid and Jihad'\n",
            " \"People's United Liberation Front (PULF)\" 'Hizbul al Islam (Somalia)'\n",
            " '8 March Coalition'\n",
            " 'National Socialist Council of Nagaland-Khaplang (NSCN-K)'\n",
            " 'United Self Defense Units of Colombia (AUC)'\n",
            " 'Janatantrik Terai Mukti Morcha- Ranbir Singh (JTMM-RS)'\n",
            " 'Niger Delta Patriotic Force' 'Black Widows'\n",
            " 'Students Islamic Movement of India (SIMI)' 'Madhesi Liberation Front'\n",
            " 'Armed Revolutionary Action (ENEDRA)' 'Young Communist League'\n",
            " 'Ahlu-sunah Wal-jamea (Somalia)'\n",
            " 'National Liberation Front of Tripura (NLFT)' 'Los Rastrojos (Colombia)'\n",
            " 'Revolutionary Nuclei' 'Mahdi Army'\n",
            " 'Communist Party of India - Maoist (CPI-Maoist)' \"Asa'ib Ahl al-Haqq\"\n",
            " 'Terai Janatantrik Party (TJP)'\n",
            " \"People's Committee against Police Atrocities (PCPA)\"\n",
            " 'Democratic Front for the Liberation of Rwanda (FDLR)'\n",
            " 'Ogaden National Liberation Front (ONLF)'\n",
            " 'Tehrik-i-Taliban Pakistan (TTP)' 'Terrorists Guerrilla Group'\n",
            " 'Revolutionary Struggle'\n",
            " 'Janatantrik Terai Mukti Morcha- Rajan Mukti (JTMM-R)'\n",
            " 'Ansar Al Sunnah (Palestine)' 'Informal Anarchist Federation'\n",
            " 'Islamic State of Iraq (ISI)' 'Al-Qaida in Iraq'\n",
            " \"Sudan People's Liberation Army (SPLA)\" 'Laqmush' 'Janjaweed'\n",
            " \"Al-Shabaab al-Mu'minin\" 'Khatm-e-Nabuwat (KeN)'\n",
            " 'Amr Bil Maroof Wa Nahi Anil Munkir' 'Baloch Liberation Front (BLF)'\n",
            " 'Achik National Volunteer Council (ANVC)' 'Indian Mujahideen'\n",
            " 'Zeliangrong United Front' 'Red Sea Afar Democratic Organization (RSADO)'\n",
            " \"People's Liberation Army (India)\"\n",
            " 'Al-Qaida in the Islamic Maghreb (AQIM)' 'Boko Haram'\n",
            " 'Abu Hafs Katibatul al-Ghurba al-Mujahideen' 'February 12 Movement'\n",
            " 'United Ethnic Liberation Front (UELF)' 'Jundallah (Pakistan)'\n",
            " 'Lashkar-e-Islam (Pakistan)' 'Al-Qaida in the Arabian Peninsula (AQAP)'\n",
            " 'Garo National Liberation Army' 'Fulani extremists' 'Liwa al-Islam'\n",
            " 'United National Liberation Front (UNLF)' 'Al-Nusrah Front'\n",
            " 'Free Syrian Army' 'Jamaah Ansharut Tauhid (JAT)' 'Islamic Front (Syria)'\n",
            " 'Convention of Patriots for Justice and Peace' 'Ahrar al-Sham'\n",
            " 'Circle of Violators/Nucleus Lovers of Anomy'\n",
            " 'Instigators of Social Explosion' 'United Achik Liberation Army (UALA)'\n",
            " \"Kata'ib Hezbollah\" 'Al-Qaida in the Indian Subcontinent'\n",
            " 'Loyalist Volunteer Forces (LVF)' 'International Revolutionary Front'\n",
            " 'Ansar al-Dine (Mali)' 'Bangsamoro Islamic Freedom Movement (BIFM)'\n",
            " 'Syrian Resistance'\n",
            " \"Al-Mua'qi'oon Biddam Brigade (Those who Sign with Blood)\" 'Jaish Usama'\n",
            " 'Jamat al-Tawhid wal-Qisas' 'Ansar al-Sharia (Tunisia)'\n",
            " 'Kilafah Islamic Movement' \"Sudan People's Liberation Movement - North\"\n",
            " 'Haqqani Network' 'Jaish al-Muhajireen wal-Ansar (Muhajireen Army)'\n",
            " 'Baloch Nationalists' 'Ansar Bayt al-Maqdis (Ansar Jerusalem)'\n",
            " 'All Coppers Are Bastards (ACAB)' 'Mahaz Fedai Tahrik Islami Afghanistan'\n",
            " 'Jund al-Islam' 'Ahrar Al-Jalil (Free People of the Galilee)'\n",
            " 'Al-Shabaab' 'Murle Tribe' 'Sindhudesh Revolutionary Army (SRA)'\n",
            " 'Rabha National Security Force' 'Al-Shuda Brigade' 'Sipah-I-Mohammed'\n",
            " 'Tribesmen' 'Mujahideen Ansar' 'Maoists' 'Island Brigade (Libya)'\n",
            " 'Achik National Volunteer Council-B (ANVC-B)' 'Hadramawt Tribes Alliance'\n",
            " 'Abdullah Azzam Brigades' 'Greater Damascus Operations Room'\n",
            " 'Southern Front' 'Baloch Waja Liberation Army (BWLA)'\n",
            " 'Movement for Oneness and Jihad in West Africa (MUJAO)'\n",
            " 'Popular Resistance Brigade'\n",
            " 'Islamic State of Iraq and the Levant (ISIL)'\n",
            " 'Baloch Liberation Army (BLA)'\n",
            " 'Movement for the Actualization of the Sovereign State of Biafra (MASSOB)'\n",
            " 'Muslim Brotherhood' 'Sudan Liberation Army-Minni Minawi (SLA-MM)'\n",
            " 'United Baloch Army (UBA)' 'Baloch Republican Army (BRA)'\n",
            " 'Liwa Ahrar al-Sunna' 'Ahle Sunnat Wal Jamaat (ASWJ-Pakistan)'\n",
            " 'Southern Mobility Movement (Yemen)'\n",
            " \"Achik Songna An'pachakgipa Kotok (ASAK)\"\n",
            " 'November 17 Revolutionary Organization (N17RO)' 'Al-Furqan Brigades'\n",
            " 'Lashkar-e-Jarrar' 'Okba Ibn Nafaa Brigade'\n",
            " \"Karbi People's Liberation Tigers (KPLT)\" 'Ansar al-Sharia (Libya)'\n",
            " 'Mombasa Republican Council (MRC)'\n",
            " 'Balochistan Liberation United Front (BLUF)' 'Libya Shield Force'\n",
            " 'Abu Baker al-Siddiq Brigade' \"People's Protection Units (YPG)\"\n",
            " 'Loyalists' 'Sindhu Desh Liberation Army (SDLA)' 'Al-Sawaiq Brigade'\n",
            " 'Al-Naqshabandiya Army' 'Halqa-e-Mehsud' 'Tehrik-e-Khilafat'\n",
            " 'Bru Democratic Front of Mizoram (BDFM)' 'Seleka' 'Al-Qaqa Brigade'\n",
            " 'Anti-Balaka Militia' 'Jamaat-ul-Ahrar'\n",
            " 'Military Council of the Tribal Revolutionaries (MCTR)'\n",
            " \"Odua Peoples' Congress (OPC)\" 'Ansar al-Din Front'\n",
            " 'Popular Resistance Movement (Egypt)' 'Waning Abdusalam Group (WAG)'\n",
            " 'Azawad National Liberation Movement (MNLA)'\n",
            " \"Jama'atul Mujahideen Bangladesh (JMB)\"\n",
            " 'Khorasan Chapter of the Islamic State' \"Abu Salim Martyr's Brigade\"\n",
            " 'Tuareg extremists' 'Barqa Province of the Islamic State' 'Jund al-Aqsa'\n",
            " 'Shura Council of Benghazi Revolutionaries'\n",
            " 'Supporters of Abd Rabbuh Mansur Hadi'\n",
            " 'National Socialist Council of Nagaland-Isak-Muivah (NSCN-IM)'\n",
            " 'Jaysh al-Islam (Syria)' 'Supporters of the Islamic State in Jerusalem'\n",
            " 'Ajnad Misr' 'Al-Sham Legion' 'Arab Movement of Azawad (MAA)'\n",
            " 'Devrimici Halk Kurtulus Cephesi (DHKP/C)'\n",
            " \"A'chik Matgrik Elite Force (AMEF)\" 'Mai Mai Bakata Katanga Militia'\n",
            " 'Kanglei Yawol Kanna Lup (KYKL)' 'Al-Islah Party'\n",
            " 'Macina Liberation Front (FLM)' 'Sinai Province of the Islamic State'\n",
            " 'Nyatura Militia' 'Democratic Front of the Central African People (FDPC)'\n",
            " 'Army of the Tribes' 'Bahir Eldeen Brigade' 'Komala'\n",
            " 'Ansarullah Bangla Team' \"People's Defense Unit (Turkey)\" 'Grey Wolves'\n",
            " 'Black Bloc' 'Lashkar-e-Islam (India)'\n",
            " 'Shura Council of Ajdabiya Revolutionaries'\n",
            " \"People's Liberation Front of India\" 'Pentagon Kidnap Group' 'Al-Khobar'\n",
            " 'Democratic Force for the Defense of Human Rights (FDDH)'\n",
            " 'Tehrik al-Mojahedin' 'Misrata Brigades' 'Uzair Baloch Gang'\n",
            " 'White extremists' 'Syrian Turkmen Brigades'\n",
            " 'Ansar Al-Mujahideen (Pakistan)' 'Islamic State in Bangladesh'\n",
            " 'Tripoli Province of the Islamic State'\n",
            " 'Free Papua Movement (OPM-Organisasi Papua Merdeka)' 'Qaddafi loyalists'\n",
            " 'The New Irish Republican Army' 'Badr Brigades' 'Jaish-e-Islam'\n",
            " 'Mujahidin Indonesia Timur (MIT)' 'Saraya al-Salam' 'Ijaw extremists'\n",
            " 'Adan-Abyan Province of the Islamic State'\n",
            " 'Revolutionary Punishment Movement' 'Nduma Defense of Congo (NDC)'\n",
            " 'United Freedom Forces (BOG)' 'Lahij Province of the Islamic State'\n",
            " 'Maute Group' 'Shamiya Front'\n",
            " 'Alliance of Patriots for a Free and Sovereign Congo (APCLS)'\n",
            " 'Lekagak Tenggamati' 'Majlis-e-Lashkari' 'Runda Kumpulan Kecil (RKK)'\n",
            " 'Abdul Ghani Kikli Militia' 'Barisan Revolusi Nasional (BRN)'\n",
            " 'Imam al-Bukhari Brigade' 'Kuki National Front (KNF)' 'Ajnad al-Sham'\n",
            " 'Civil Protection Units (YPS)' 'Allied Democratic Forces (ADF)'\n",
            " 'Jaish al-Adl'\n",
            " \"Sudan People's Liberation Movement in Opposition (SPLM-IO)\"\n",
            " 'Niger Delta Volunteers (NDV)' 'Kurdish Islamic Group (KIG)'\n",
            " 'Al-Nasir Army (Syria)' 'United Democratic Liberation Army (UDLA)'\n",
            " 'Fetullah Terrorist Organization'\n",
            " 'National Alliance for the Protection of the Fulani Identity and the Restoration of Justice (ANSIPRJ)'\n",
            " 'Jaish al-Mujahideen (Syria)' 'Muslim extremists'\n",
            " 'Khalistan Liberation Force' 'Niger Delta Avengers (NDA)'\n",
            " 'Ahfad al-Sahaba-Aknaf Bayt al-Maqdis'\n",
            " 'Islamic State in the Greater Sahara (ISGS)'\n",
            " 'All Nepal National Free Student Union-Revolutionary'\n",
            " 'Rohingya Solidarity Organization' \"Paraguayan People's Army (EPP)\"\n",
            " 'Free Idlib Army' 'Arakan Army (AA)'\n",
            " 'National Democratic Alliance Army (NDAA-ESSA)'\n",
            " 'Kachin Independence Army (KIA)' \"Ta'ang National Liberation Army (TNLA)\"\n",
            " 'Ansar Al-Khilafa (Philippines)' 'Conspiracy of Cells of Fire'\n",
            " 'Jeay Sindh Qaumi Mahaz (JSQM)' 'Jaish al-Fatah (Syria)'\n",
            " 'Khasavyurt Group' 'Coordination Committee (CORCOM)'\n",
            " 'Khalistan Zindabad (Long Live Khalistan)' 'Hafiz Gul Bahadur Group'\n",
            " 'Ansar al-Islam (Burkina Faso)'\n",
            " 'Popular Front for the Renaissance of the Central African Republic (FPRC)'\n",
            " 'Separatists' 'Gaitanista Self-Defense Forces of Colombia (AGC)'\n",
            " 'Mai Mai Simba Militia' 'East Asia Division of the Islamic State'\n",
            " 'Hasam Movement' 'Jammu and Kashmir Islamic Front'\n",
            " 'Ansar al-Sharia (Pakistan)' \"Revolution's Brigade\"\n",
            " \"Hay'at Tahrir al-Sham\" 'Kuki Revolutionary Army (KRA)'\n",
            " 'Neo-Nazi extremists' 'Anti-Muslim extremists'\n",
            " 'Nepali Congress Party (NC)' 'Benghazi Defense Brigades (BDB)'\n",
            " 'Sudan Liberation Army - Transitional Council (SLA-TC)'\n",
            " 'United Front for Democracy Against Dictatorship' 'Al-Umar Mujahideen'\n",
            " 'Children and Matches (Des enfants et des allumettes)'\n",
            " \"Manipur Naga People's Army (MNPA)\" 'Islamic Movement (Israel)'\n",
            " 'Rashtriya Swayamsevak Sangh' 'Jabha East Africa'\n",
            " 'Revolutionary Armed Forces of Colombia (FARC) dissidents'\n",
            " 'Weichan Auka Mapu' 'Gorkha Janmukti Morcha (GJM)' 'Sanatan Sanstha'\n",
            " 'Majlis-e-Abrar' 'Turkestan Islamic Party'\n",
            " 'Anarchist Revolt Against Exiled Gendarmes' 'Nuer White Army'\n",
            " 'Communist Party of Nepal-Maoist (Baidya)' 'Mai Mai Malaika Militia'\n",
            " 'Sons of Jesus Movement'\n",
            " \"Southern Cameroon's Ambazonia Consortium United Forces (SCACUF)\"\n",
            " 'Kurdistan Free Life Party' 'Kuki Tribal Militants' 'Golden Dawn']\n",
            "Unique values in 'gsubname2': [nan 'Islamic Jihad' 'The Family' 'Abu Ali Mustafa Brigades'\n",
            " 'Ezzedine al-Qassam Brigades' 'Forces for the Defense of Democracy (FDD)'\n",
            " 'al-Quds Brigades' 'Kongra-Gel' 'National Resistance Brigades'\n",
            " \"The National Resistance Brigades-Martyr Sa'id Hajuj Groups\"\n",
            " 'Al Nasir Salah al-Din Brigades' 'Los Rastrojos' 'Fidayeen'\n",
            " 'Tritiya Prastuti Committee (TPC)' 'Islamic Shiite Resistance in Iraq'\n",
            " 'Frente 30' 'Frente 55' 'Jund al-Sham for Tawhid and Jihad'\n",
            " 'Jacobo Arenas Mobile Column' 'Manuel Cepeda Varga Urban Front'\n",
            " 'Al Quds Brigades' 'Alirio Torres Mobile Column'\n",
            " \"Revolutionary People's Front\" 'Ahrar al-Sham'\n",
            " 'Intact Revolutionary Cell' 'Junood-ul-Hifsa'\n",
            " 'Al-Nusrah Front in Lebanon' 'Marwan Hadid Brigades' 'Ajnad al-Sham'\n",
            " 'Sangbojit faction' 'Jund al-Aqsa' 'Damascus Prefecture'\n",
            " 'South Indian Mujahideen' 'Ansar al-Sharia in Benghazi'\n",
            " 'Central Libya Shield' 'Intifadat Ahrar al-Iraq' 'Division 13'\n",
            " 'Suqour al-Sham' 'Jaish al-Muhajireen wal-Ansar (Muhajireen Army)'\n",
            " '101st Battalion' \"Turkish Workers and Peasants' Liberation Army (TIKKO)\"\n",
            " 'Yahya Ayyash Brigade' 'Supremacists' 'Khorasan Wing' 'Nehlun'\n",
            " 'Homs Liberation Movement' 'Jamaat-ul-Ahrar' 'Ansar al-Islam'\n",
            " 'Islami Chhatra Shibir (ICS)' 'Al-Rahman Corps' 'Naeem Bukhari Group'\n",
            " 'Jaish al-Tahrir' 'First Army' 'Al-Izzah'\n",
            " 'The Fastaqim Kama Umirta Gathering'\n",
            " 'Liwa al-Sultan Murad; Central Division' 'Al-Alami'\n",
            " '252 Mobile Battalion' 'Taliban Special Group (TSG)' 'Northern Branch'\n",
            " 'Al-Fath al-Mubin Brigade']\n",
            "Unique values in 'gname3': [nan 'Guerrilla Column 29 September' 'Lebanese Resistance Group'\n",
            " 'Armed Revolutionary Nuclei (NAR)' 'M-19 (Movement of April 19)'\n",
            " 'Armed Forces of Popular Resistance (FARP)'\n",
            " 'November 17 Revolutionary Organization (N17RO)' 'SKIF Detachment'\n",
            " 'Unknown' 'Umar al-Mukhtar Martyr Forces' 'Harkatul Jihad-e-Islami'\n",
            " 'Al-Aqsa Martyrs Brigade' 'Al-Fatah'\n",
            " 'Popular Front for the Liberation of Palestine (PFLP)'\n",
            " 'Jamiat ul-Mujahedin (JuM)'\n",
            " 'Democratic Front for the Liberation of Palestine (DFLP)'\n",
            " 'Achik National Volunteer Council (ANVC)' 'Al-Barq'\n",
            " 'Islamic International Peacekeeping Brigade (IIPB)'\n",
            " 'Palestinian Islamic Jihad (PIJ)' 'Hizb-I-Islami' 'Tanzim'\n",
            " 'Hizb al-Tahrir al-Islami (HT)'\n",
            " 'Jamaa Al-Islamiya Al-Alamiya (World Islamist Group)'\n",
            " 'Mutassim Bellah Brigade' 'Popular Resistance Committees'\n",
            " 'Rajah Solaiman Revolutionary Movement' 'Farzandan-e-Millat'\n",
            " 'Karenni National Progressive Party' 'Armed Renaissance Group of Ahvaz'\n",
            " 'Jaish-e-Mohammad (JeM)' 'Sirri Powz' 'Other' 'Lashkar-e-Taiba (LeT)'\n",
            " 'Al-Qassam Brigades' '313 Brigade' 'Conspiracy of Cells of Fire'\n",
            " 'Terai Army' 'United National Liberation Front (UNLF)'\n",
            " 'Ansar al-Dine (Mali)' 'Free Syrian Army' 'Jamaat-E-Islami (Bangladesh)'\n",
            " 'Tehrik-i-Taliban Pakistan (TTP)' 'Boko Haram'\n",
            " 'Moro Islamic Liberation Front (MILF)' 'Ahrar al-Sham' 'Liwa al-Islam'\n",
            " 'Bangsamoro Islamic Freedom Movement (BIFM)' 'Zwai Tribe'\n",
            " 'Lashkar-e-Jhangvi' 'Misrata Brigades' 'Rafallah al-Sahati Brigade'\n",
            " 'Islamic Front (Syria)' 'Azawad National Liberation Movement (MNLA)'\n",
            " 'Halqa-e-Mehsud' 'Taliban' 'Libya Shield Force' 'Lashkar-e-Balochistan'\n",
            " 'Jundallah (Pakistan)' 'Haftar Militia'\n",
            " 'Military Council of the Tribal Revolutionaries (MCTR)' 'Al-Nusrah Front'\n",
            " 'Lashkar-e-Islam (Pakistan)' 'Shamiya Front' 'Ansar al-Sharia (Libya)'\n",
            " 'United Liberation Front of Assam (ULFA)' 'Ansar al-Din Front'\n",
            " 'Jund al-Aqsa' 'Al-Sham Legion' 'Kangleipak Communist Party (KCP)'\n",
            " 'Muslim Brotherhood' 'Hamas (Islamic Resistance Movement)'\n",
            " 'Macina Liberation Front (FLM)' 'Kurdistan Free Life Party'\n",
            " 'Turkestan Islamic Party' 'Bangladesh Nationalist Party (BNP)'\n",
            " 'Islamic State in Bangladesh' 'Al-Qaida in the Islamic Maghreb (AQIM)'\n",
            " 'Islamic State of Iraq and the Levant (ISIL)'\n",
            " 'Al-Muthana Islamic Movement'\n",
            " 'Democratic Front for the Liberation of Rwanda (FDLR)'\n",
            " 'Abu Sayyaf Group (ASG)' 'Jaysh al-Islam (Syria)'\n",
            " 'Northern Homs Countryside Operations Room'\n",
            " 'Al-Qaida in the Indian Subcontinent' 'Baloch Republican Army (BRA)'\n",
            " 'Sindhu Desh Liberation Army (SDLA)'\n",
            " \"Jama'atul Mujahideen Bangladesh (JMB)\" \"Lord's Resistance Army (LRA)\"\n",
            " 'Al-Nasir Army (Syria)' 'Southern Front' 'Mai Mai Mazembe Militia'\n",
            " 'Maute Group' 'Maoist Communist Central of Nepal (MCCN)' 'Ajnad al-Sham'\n",
            " 'Free Idlib Army' 'Authenticity and Development Front'\n",
            " 'Jaish al-Mujahideen (Syria)' 'Kurdistan Freedom Hawks (TAK)'\n",
            " \"People's Liberation Army (India)\"\n",
            " 'National Democratic Alliance Army (NDAA-ESSA)'\n",
            " 'Kachin Independence Army (KIA)'\n",
            " 'Islamic State in the Greater Sahara (ISGS)'\n",
            " 'Fetullah Terrorist Organization'\n",
            " \"People's Revolutionary Party of Kangleipak (PREPAK)\"\n",
            " 'Hafeez Brohi Group' \"New People's Army (NPA)\" \"Hay'at Tahrir al-Sham\"\n",
            " 'Quit Kashmir Movement (QKM)' 'Aalmi Majlis-i-Tahfuz-i-Khatam-i-Nubuwaat'\n",
            " 'Hasam Movement' 'Ansar al-Sharia (Pakistan)'\n",
            " 'Ansar al-Islam (Burkina Faso)' 'Maoists' 'Rashtriya Swayamsevak Sangh'\n",
            " 'Freedom Movement of Iran' 'Ansar Ghazwat-ul-Hind']\n",
            "Unique values in 'gsubname3': [nan 'Commander Ibn al-Khattab' 'Ezzedine al-Qassam Brigades'\n",
            " 'Jihad Jibril' 'Ahrar al-Sham' 'Paresh Barua'\n",
            " 'Jaish al-Muhajireen wal-Ansar (Muhajireen Army)' 'Al-Rahman Corps'\n",
            " 'Turkistan Islamic Party (Syria)' 'Islami Chhatra Shibir (ICS)'\n",
            " 'Al-Izzah; Jaish al-Tahrir' 'Al-Alami'\n",
            " 'The Fastaqim Kama Umirta Gathering' 'Shehryar Mehsud Group'\n",
            " 'Jaysh al-Nukhba; Al-Izzah']\n",
            "Unique values in 'motive': [nan 'To protest the Cairo Illinois Police Deparment'\n",
            " 'To protest the War in Vietnam and the draft' ...\n",
            " 'The specific motive is unknown; however, sources stated that the attack was carried out in retaliation for the death of Noor Mohammad Tantray (Noor Trali), a Jaish-e-Mohammad (JeM) leader, by security personnel on December 26, 2017 in Pulwama.'\n",
            " 'The specific motive is unknown; however, sources noted that the targeted building housed migrants.'\n",
            " 'The specific motive is unknown; however, sources stated that the Taliban had warned one of the victims against collaborating with the government.']\n",
            "Unique values in 'guncertain1': [ 0.  1. nan]\n",
            "Unique values in 'guncertain2': [nan  1.  0.]\n",
            "Unique values in 'guncertain3': [nan  0.  1.]\n",
            "Unique values in 'individual': [0 1]\n",
            "Unique values in 'nperps': [      nan  7.00e+00 -9.90e+01  3.00e+00  1.00e+00  5.00e+00  2.00e+00\n",
            "  4.00e+00  6.00e+00  4.20e+01  2.20e+01  9.00e+00  2.50e+01  1.60e+01\n",
            "  1.10e+01  1.20e+01  8.00e+00  0.00e+00  1.50e+01  1.00e+01  1.80e+01\n",
            "  1.70e+01  2.00e+02  3.00e+01  6.00e+01  2.00e+01  5.00e+01  1.30e+01\n",
            "  2.40e+01  7.00e+01  4.00e+01  1.00e+02  1.40e+01  1.40e+02  8.00e+01\n",
            "  3.20e+01  4.00e+02  1.00e+03  2.50e+02  3.50e+01  1.50e+02  3.00e+02\n",
            "  7.50e+01  5.00e+02  6.00e+02  4.40e+01  4.50e+01  3.80e+01  9.00e+01\n",
            "  1.20e+02  3.40e+01  2.70e+01  1.80e+02  9.00e+02  1.20e+03  3.70e+02\n",
            "  1.30e+02  7.50e+02  4.80e+01  7.00e+02  7.20e+01  3.30e+01  3.90e+01\n",
            "  4.90e+01  2.60e+01  1.90e+01  2.90e+02  6.80e+01  1.60e+02  2.04e+02\n",
            "  2.80e+01  3.60e+01  2.10e+01  2.50e+04  2.90e+01  1.50e+03  2.50e+03\n",
            "  1.90e+02  4.70e+01  1.00e+04  1.38e+02  2.00e+04  3.50e+02  5.10e+01\n",
            "  5.50e+01  5.60e+01  8.00e+02  3.20e+03  5.00e+03  3.10e+01  4.50e+02\n",
            "  4.10e+01  8.70e+01  3.00e+03  2.00e+03  8.40e+01  5.20e+01 -9.00e+00\n",
            "  2.30e+02  1.56e+02  5.50e+02  1.25e+02  9.90e+01  5.30e+01  2.30e+01\n",
            "  1.73e+02  2.07e+02  5.40e+01  5.90e+01  6.40e+01  1.01e+02  8.60e+01\n",
            "  5.80e+01  3.01e+02]\n",
            "Unique values in 'nperpcap': [  nan -99.    1.    2.    0.    4.    3.    6.    5.    7.    8.    9.\n",
            "  10.   26.   24.   13.   14.   45.   12.   11.    2.5  25.   32.   27.\n",
            "  -9.   15.   43.   21.   50.  406.   17.  100.   60.   87.   55.   20.\n",
            "  18.   76.   29.   40.  271.   28.   16.   19.   30.  200.   41.  126.\n",
            "  23.   22.   63. ]\n",
            "Unique values in 'claimed': [nan  0.  1. -9.]\n",
            "Unique values in 'claimmode': [nan  1. 10.  3.  9.  8.  5.  2.  7.  4.  6.]\n",
            "Unique values in 'claimmode_txt': [nan 'Letter' 'Unknown' 'Call (pre-incident)' 'Other' 'Personal claim'\n",
            " 'Note left at scene' 'Call (post-incident)'\n",
            " 'Posted to website, blog, etc.' 'E-mail' 'Video']\n",
            "Unique values in 'claim2': [nan  0.  1. -9.]\n",
            "Unique values in 'claimmode2': [nan  2. 10.  1.  5.  9.  7.  4.  8.  6.]\n",
            "Unique values in 'claimmode2_txt': [nan 'Call (post-incident)' 'Unknown' 'Letter' 'Note left at scene'\n",
            " 'Other' 'Posted to website, blog, etc.' 'E-mail' 'Personal claim' 'Video']\n",
            "Unique values in 'claim3': [nan  1.  0.]\n",
            "Unique values in 'claimmode3': [nan  1.  9.  2. 10.  7.  6.  8.  4.]\n",
            "Unique values in 'claimmode3_txt': [nan 'Letter' 'Other' 'Call (post-incident)' 'Unknown'\n",
            " 'Posted to website, blog, etc.' 'Video' 'Personal claim' 'E-mail']\n",
            "Unique values in 'compclaim': [nan  0.  1. -9.]\n",
            "Unique values in 'weaptype1': [13  6  8  5  2  9 11 10  7  3 12  1]\n",
            "Unique values in 'weaptype1_txt': ['Unknown' 'Explosives' 'Incendiary' 'Firearms' 'Chemical' 'Melee'\n",
            " 'Sabotage Equipment'\n",
            " 'Vehicle (not to include vehicle-borne explosives, i.e., car or truck bombs)'\n",
            " 'Fake Weapons' 'Radiological' 'Other' 'Biological']\n",
            "Unique values in 'weapsubtype1': [nan 16.  5.  2. 19. 20.  4. 18. 31. 15. 28. 10. 14. 17.  1. 11.  3.  9.\n",
            " 21. 29.  7. 23.  8. 22. 12. 24. 30. 27. 26. 13.  6.]\n",
            "Unique values in 'weapsubtype1_txt': [nan 'Unknown Explosive Type' 'Unknown Gun Type'\n",
            " 'Automatic or Semi-Automatic Rifle' 'Molotov Cocktail/Petrol Bomb'\n",
            " 'Gasoline or Alcohol' 'Rifle/Shotgun (non-automatic)' 'Arson/Fire'\n",
            " 'Pipe Bomb' 'Vehicle' 'Dynamite/TNT' 'Pressure Trigger' 'Time Fuse'\n",
            " 'Other Explosive Type' 'Poisoning'\n",
            " 'Projectile (rockets, mortars, RPGs, etc.)' 'Handgun' 'Letter Bomb'\n",
            " 'Blunt Object' 'Sticky Bomb' 'Grenade' 'Knife or Other Sharp Object'\n",
            " 'Landmine' 'Hands, Feet, Fists' 'Remote Trigger'\n",
            " 'Rope or Other Strangling Device' 'Explosive' 'Unknown Weapon Type'\n",
            " 'Suffocation' 'Suicide (carried bodily by human being)' 'Other Gun Type']\n",
            "Unique values in 'weaptype2': [nan  5.  7.  9.  8.  6. 12. 11.  2. 13. 10.  1.]\n",
            "Unique values in 'weaptype2_txt': [nan 'Firearms' 'Fake Weapons' 'Melee' 'Incendiary' 'Explosives' 'Other'\n",
            " 'Sabotage Equipment' 'Chemical' 'Unknown'\n",
            " 'Vehicle (not to include vehicle-borne explosives, i.e., car or truck bombs)'\n",
            " 'Biological']\n",
            "Unique values in 'weapsubtype2': [nan  3.  5. 23. 20.  2.  7. 18. 19.  4. 22. 16. 26. 21. 11. 14. 24. 28.\n",
            "  8. 27. 17. 12.  6. 31. 13. 10.  1. 30. 15.]\n",
            "Unique values in 'weapsubtype2_txt': [nan 'Handgun' 'Unknown Gun Type' 'Knife or Other Sharp Object'\n",
            " 'Gasoline or Alcohol' 'Automatic or Semi-Automatic Rifle' 'Grenade'\n",
            " 'Arson/Fire' 'Molotov Cocktail/Petrol Bomb'\n",
            " 'Rifle/Shotgun (non-automatic)' 'Hands, Feet, Fists'\n",
            " 'Unknown Explosive Type' 'Suffocation' 'Blunt Object'\n",
            " 'Projectile (rockets, mortars, RPGs, etc.)' 'Time Fuse'\n",
            " 'Rope or Other Strangling Device' 'Dynamite/TNT' 'Landmine'\n",
            " 'Unknown Weapon Type' 'Other Explosive Type' 'Remote Trigger'\n",
            " 'Other Gun Type' 'Pipe Bomb' 'Suicide (carried bodily by human being)'\n",
            " 'Pressure Trigger' 'Poisoning' 'Explosive' 'Vehicle']\n",
            "Unique values in 'weaptype3': [nan 13.  5.  9.  8.  6. 12.  7. 11. 10.  2.]\n",
            "Unique values in 'weaptype3_txt': [nan 'Unknown' 'Firearms' 'Melee' 'Incendiary' 'Explosives' 'Other'\n",
            " 'Fake Weapons' 'Sabotage Equipment'\n",
            " 'Vehicle (not to include vehicle-borne explosives, i.e., car or truck bombs)'\n",
            " 'Chemical']\n",
            "Unique values in 'weapsubtype3': [nan 23.  2. 16.  7. 11.  3. 21.  5.  4. 17. 18. 19. 28. 26.  8. 20. 24.\n",
            " 22.  6. 15. 27.  1.]\n",
            "Unique values in 'weapsubtype3_txt': [nan 'Knife or Other Sharp Object' 'Automatic or Semi-Automatic Rifle'\n",
            " 'Unknown Explosive Type' 'Grenade'\n",
            " 'Projectile (rockets, mortars, RPGs, etc.)' 'Handgun' 'Blunt Object'\n",
            " 'Unknown Gun Type' 'Rifle/Shotgun (non-automatic)' 'Other Explosive Type'\n",
            " 'Arson/Fire' 'Molotov Cocktail/Petrol Bomb' 'Dynamite/TNT' 'Suffocation'\n",
            " 'Landmine' 'Gasoline or Alcohol' 'Rope or Other Strangling Device'\n",
            " 'Hands, Feet, Fists' 'Other Gun Type' 'Vehicle' 'Unknown Weapon Type'\n",
            " 'Poisoning']\n",
            "Unique values in 'weaptype4': [nan  6.  9.  5.  8. 12.]\n",
            "Unique values in 'weaptype4_txt': [nan 'Explosives' 'Melee' 'Firearms' 'Incendiary' 'Other']\n",
            "Unique values in 'weapsubtype4': [nan 16. 11. 21.  2.  7.  5.  8. 23.  4. 27. 18.  3. 14. 20. 17. 28.]\n",
            "Unique values in 'weapsubtype4_txt': [nan 'Unknown Explosive Type' 'Projectile (rockets, mortars, RPGs, etc.)'\n",
            " 'Blunt Object' 'Automatic or Semi-Automatic Rifle' 'Grenade'\n",
            " 'Unknown Gun Type' 'Landmine' 'Knife or Other Sharp Object'\n",
            " 'Rifle/Shotgun (non-automatic)' 'Unknown Weapon Type' 'Arson/Fire'\n",
            " 'Handgun' 'Time Fuse' 'Gasoline or Alcohol' 'Other Explosive Type'\n",
            " 'Dynamite/TNT']\n",
            "Unique values in 'weapdetail': [nan 'Explosive' 'Incendiary' ...\n",
            " 'More than 10 mortars were used in the attack.'\n",
            " 'A 9-mm carbine rifle was used in the attack.'\n",
            " 'An explosive device containing a detonating cord, a battery, and a blasting cap was used in the attack.']\n",
            "Unique values in 'nkill': [1.000e+00 0.000e+00       nan 7.000e+00 4.700e+01 2.000e+00 3.600e+01\n",
            " 5.000e+00 3.000e+00 4.000e+00 2.500e+01 1.500e+01 2.600e+01 8.000e+00\n",
            " 8.100e+01 6.000e+00 9.000e+00 1.600e+01 3.000e+01 3.100e+01 1.200e+01\n",
            " 2.100e+01 1.400e+01 8.800e+01 1.100e+01 1.000e+01 2.700e+01 1.800e+01\n",
            " 2.200e+01 1.900e+01 9.200e+01 1.300e+01 7.300e+01 1.000e+02 4.200e+01\n",
            " 4.300e+01 1.700e+01 9.800e+01 4.220e+02 4.800e+01 3.400e+01 5.400e+01\n",
            " 5.000e+01 3.500e+01 2.000e+01 4.100e+01 3.700e+01 2.800e+01 4.000e+01\n",
            " 3.200e+01 8.500e+01 2.300e+01 3.000e+02 6.000e+01 2.400e+01 5.800e+01\n",
            " 7.000e+01 8.700e+01 4.500e+01 3.800e+01 2.900e+01 7.400e+01 8.300e+01\n",
            " 9.000e+01 6.600e+01 8.000e+01 6.700e+01 5.100e+01 3.900e+01 1.140e+02\n",
            " 1.240e+02 7.600e+01 3.300e+01 7.500e+01 5.700e+01 6.200e+01 4.600e+01\n",
            " 5.600e+01 6.300e+01 1.200e+02 1.020e+02 7.800e+01 7.900e+01 5.200e+01\n",
            " 7.700e+01 2.000e+02 4.900e+01 1.110e+02 1.650e+02 4.400e+01 2.410e+02\n",
            " 6.400e+01 1.080e+02 6.500e+01 1.320e+02 2.700e+02 2.280e+02 1.100e+02\n",
            " 1.360e+02 1.800e+02 2.500e+02 9.300e+01 1.300e+02 5.900e+01 9.400e+01\n",
            " 5.300e+01 1.460e+02 3.290e+02 9.700e+01 7.100e+01 2.400e+02 2.270e+02\n",
            " 1.260e+02 1.060e+02 3.880e+02 6.800e+01 8.400e+01 8.200e+01 1.710e+02\n",
            " 1.070e+02 5.500e+01 1.120e+02 7.200e+01 9.600e+01 1.400e+02 6.100e+01\n",
            " 1.050e+02 1.500e+02 1.150e+02 8.900e+01 1.180e+03 1.700e+02 1.680e+02\n",
            " 1.210e+02 3.750e+02 9.100e+01 3.040e+02 1.230e+02 1.350e+02 2.560e+02\n",
            " 1.090e+02 2.710e+02 2.060e+02 1.040e+02 3.200e+02 2.750e+02 2.240e+02\n",
            " 1.180e+02 1.290e+02 9.500e+01 2.590e+02 1.384e+03 1.383e+03 1.900e+02\n",
            " 1.190e+02 1.010e+02 1.160e+02 5.180e+02 3.440e+02 1.600e+02 1.880e+02\n",
            " 1.030e+02 2.050e+02 1.450e+02 1.530e+02 1.270e+02 6.900e+01 1.410e+02\n",
            " 1.340e+02 4.000e+02 8.600e+01 1.840e+02 2.100e+02 1.420e+02 2.120e+02\n",
            " 2.870e+02 3.150e+02 1.510e+02 6.700e+02 1.570e+03 3.100e+02 2.980e+02\n",
            " 9.530e+02 5.170e+02 2.010e+02 1.220e+02 1.580e+02 1.170e+02 1.440e+02\n",
            " 2.080e+02 1.520e+02 2.300e+02 2.800e+02 1.740e+02 1.430e+02 3.830e+02\n",
            " 2.830e+02 1.540e+02 2.840e+02 4.330e+02 2.660e+02 1.330e+02 1.630e+02\n",
            " 1.280e+02 5.880e+02 3.110e+02]\n",
            "Unique values in 'nkillus': [      nan 0.000e+00 2.000e+00 1.000e+00 4.000e+00 3.000e+00 8.000e+00\n",
            " 7.000e+00 3.000e+01 1.100e+01 5.000e+00 1.700e+01 2.410e+02 6.000e+00\n",
            " 3.100e+01 1.890e+02 1.680e+02 1.900e+01 6.000e+01 1.200e+01 1.500e+01\n",
            " 1.360e+03 1.327e+03 1.820e+02 3.800e+01 9.000e+00 1.400e+01 1.600e+01\n",
            " 2.000e+01 1.300e+01 1.000e+01 4.400e+01]\n",
            "Unique values in 'nkillter': [ nan   0.   2.   1.   3.   4.   5.  15.  85.   7.   6.   9.  12.  14.\n",
            "  10.  18.  11.   8.  20.  17.  60.  34.  23.  24.  21.  35.  16.  41.\n",
            "  13.  80. 100. 300.  47.  70.  50.  64.  25.  30.  19.  48.  62.  40.\n",
            " 500.  27.  32.  52.  53.  36.  22.  26.  45.  28. 151.  29.  31.  38.\n",
            "  58.  57. 207. 200.  51. 110. 346.  59. 101.  81. 201. 180. 116.  33.\n",
            " 143. 123.  55.  54.  86.  73. 156. 136.  46.  65.  90.  39.  43.  63.\n",
            " 102.  72.  67. 250. 140.  56. 301.  75.  93.  49.  44.  42.  92.]\n",
            "Unique values in 'nwound': [0.000e+00       nan 1.000e+00 2.000e+00 7.000e+00 9.000e+00 1.700e+01\n",
            " 5.000e+00 3.000e+00 1.000e+01 1.200e+01 2.000e+01 4.000e+00 1.100e+01\n",
            " 2.700e+01 1.300e+01 1.900e+01 1.300e+02 5.600e+01 2.400e+01 6.000e+00\n",
            " 7.200e+01 2.380e+02 5.500e+01 1.500e+01 8.000e+00 1.800e+01 5.000e+01\n",
            " 3.400e+01 1.400e+01 7.000e+01 1.020e+02 4.100e+01 4.800e+01 3.600e+01\n",
            " 2.500e+01 8.100e+01 5.400e+01 5.300e+01 1.000e+02 4.500e+01 3.300e+01\n",
            " 4.000e+01 6.200e+01 7.400e+01 2.200e+01 3.100e+01 1.600e+01 3.000e+01\n",
            " 2.850e+02 2.300e+01 4.200e+01 4.300e+01 7.600e+01 4.400e+01 5.200e+01\n",
            " 4.600e+01 4.900e+01 1.600e+02 3.700e+01 2.100e+01 6.000e+01 7.800e+01\n",
            " 2.600e+01 2.800e+01 3.900e+01 3.800e+01 3.500e+01 3.200e+01 8.000e+01\n",
            " 4.700e+01 1.880e+02 2.150e+02 8.500e+01 7.500e+01 1.610e+02 9.000e+01\n",
            " 3.000e+02 9.500e+01 1.350e+02 6.100e+01 1.380e+02 7.100e+01 7.000e+02\n",
            " 6.600e+01 1.360e+02 1.200e+02 2.170e+02 3.190e+02 1.330e+02 6.800e+01\n",
            " 7.300e+01 2.900e+01 7.510e+02 2.000e+02 1.120e+02 2.500e+02 8.200e+01\n",
            " 1.320e+02 2.300e+02 1.070e+02 1.140e+02 8.400e+01 1.400e+02 1.500e+02\n",
            " 9.600e+01 5.100e+01 5.800e+01 6.400e+01 2.950e+02 1.060e+02 1.250e+02\n",
            " 6.900e+01 5.900e+01 5.700e+01 1.220e+02 1.090e+02 8.800e+01 1.150e+02\n",
            " 1.760e+02 2.200e+02 9.700e+01 6.500e+01 8.000e+02 1.730e+02 9.200e+01\n",
            " 5.000e+02 2.360e+02 9.800e+01 2.860e+02 1.410e+02 5.500e+03 6.500e+02\n",
            " 6.710e+02 8.600e+01 1.040e+02 8.300e+01 1.010e+02 1.272e+03 1.050e+02\n",
            " 3.860e+02 3.910e+02 1.100e+02 1.490e+02 8.900e+01 9.100e+01 1.190e+02\n",
            " 7.700e+01 1.180e+02 6.700e+01 1.700e+02 1.940e+02 1.920e+02 2.270e+02\n",
            " 2.600e+02 4.000e+03 1.800e+02 1.840e+02 9.900e+01 9.400e+01 1.370e+02\n",
            " 8.190e+03 8.191e+03 1.710e+02 1.210e+02 1.030e+02 1.620e+02 1.970e+02\n",
            " 1.510e+02 2.240e+02 1.340e+02 2.330e+02 1.670e+02 4.500e+02 2.160e+02\n",
            " 1.450e+02 6.300e+01 7.270e+02 1.820e+02 1.590e+02 1.080e+02 1.280e+02\n",
            " 3.400e+02 1.630e+02 5.420e+02 8.700e+01 1.550e+02 8.170e+02 2.570e+02\n",
            " 1.480e+02 1.230e+02 2.460e+02 1.270e+02 3.470e+02 1.780e+02 1.680e+02\n",
            " 2.070e+02 1.830e+02 1.170e+02 7.500e+02 1.470e+02 1.001e+03 9.300e+01\n",
            " 1.540e+02 2.350e+02 1.580e+02 2.110e+02 1.160e+02 2.760e+02 5.520e+02\n",
            " 3.600e+02 1.130e+02 1.570e+02 1.750e+02 3.010e+02 1.310e+02 4.000e+02\n",
            " 3.700e+02 8.500e+00 1.690e+02 2.010e+02 1.110e+02 1.430e+02 1.530e+02\n",
            " 1.240e+02 7.900e+01 2.700e+02 1.520e+02 2.960e+02 2.450e+02 1.500e+03\n",
            " 3.510e+02 6.000e+02 4.330e+02 1.770e+02 4.910e+02 4.050e+02 8.510e+02\n",
            " 3.160e+02]\n",
            "Unique values in 'nwoundus': [ nan   0.   1.   2.   7.  17.   5.   3.  10.  12.  20.  27.   8.  50.\n",
            "   4.  36.  11.  22.   9.  75.  25.  18. 751.  14.  64.   6.  15. 650.\n",
            "  78.  37. 109.  19.  24.  38.  33.  13.  57.  60.  31.  77. 101. 151.\n",
            "  16.  48.  29.]\n",
            "Unique values in 'nwoundte': [ nan   0.   1.   4.   2.   3.   5.   6.  50.  10.  16.  20.   9.  13.\n",
            "  11. 200.   7.  15.  31.   8.  12.  25.  30.  38.  14.  21.  24.  18.\n",
            "  62.  17. 150.  22.  23.  33.  19.  40.  51. 101.  60.  35.  53.  26.\n",
            " 100.  49.  27.]\n",
            "Unique values in 'property': [ 0  1 -9]\n",
            "Unique values in 'propextent': [nan  3.  2.  4.  1.]\n",
            "Unique values in 'propextent_txt': [nan 'Minor (likely < $1 million)'\n",
            " 'Major (likely >= $1 million but < $1 billion)' 'Unknown'\n",
            " 'Catastrophic (likely >= $1 billion)']\n",
            "Unique values in 'propvalue': [            nan  2.25000000e+04  6.00000000e+04  0.00000000e+00\n",
            "  3.05000000e+02  2.00000000e+06  1.70000000e+04  2.50000000e+03\n",
            "  2.20000000e+03  5.00000000e+03  8.80000000e+03  3.00000000e+03\n",
            "  4.18900000e+03  2.00000000e+05  1.00000000e+03  1.00000000e+06\n",
            "  8.00000000e+03  3.50000000e+05  4.50000000e+02  1.00000000e+05\n",
            "  3.00000000e+06  2.00000000e+03  5.00000000e+02  2.00000000e+02\n",
            "  3.20000000e+05  2.50000000e+04  4.00000000e+03  1.05000000e+05\n",
            "  7.00000000e+05  1.50000000e+04  5.00000000e+04  3.00000000e+04\n",
            "  2.50000000e+05  7.50000000e+04  2.00000000e+04  4.00000000e+04\n",
            "  3.33000000e+02  1.00000000e+04  9.00000000e+03  1.60000000e+03\n",
            "  6.00000000e+05  2.50000000e+06  2.31000000e+05  1.50000000e+05\n",
            "  3.00000000e+05  7.00000000e+03  1.50000000e+03  2.35000000e+04\n",
            "  6.00000000e+02  5.00000000e+05  2.75000000e+03  1.50000000e+06\n",
            "  1.60000000e+05  5.00000000e+06  6.00000000e+03  4.00000000e+02\n",
            "  7.00000000e+02  7.50000000e+03  5.02500000e+05  7.00000000e+04\n",
            "  1.10000000e+04  1.20000000e+04  2.50000000e+02  5.50000000e+03\n",
            "  1.75000000e+05  5.00000000e+01  1.50000000e+02  3.50000000e+03\n",
            "  8.50000000e+03  2.40000000e+03  9.40000000e+03  3.00000000e+02\n",
            "  1.00000000e+02  1.18000000e+05  1.80000000e+04  7.00000000e+06\n",
            "  3.70000000e+03 -9.90000000e+01  8.00000000e+04  4.40000000e+05\n",
            "  1.30000000e+04  1.00000000e+07  1.20000000e+05  4.50000000e+05\n",
            "  5.20000000e+04  2.60000000e+04  9.00000000e+06  2.20000000e+04\n",
            "  1.30000000e+05  5.30000000e+04  1.20000000e+03  1.35000000e+05\n",
            "  3.50000000e+04  9.00000000e+02  4.50000000e+03  7.40000000e+04\n",
            "  3.59400000e+03  3.20000000e+04  4.63610000e+04  2.80000000e+04\n",
            "  1.26060000e+04  1.25000000e+05  5.10000000e+04  3.20000000e+03\n",
            "  2.30000000e+03  1.66000000e+05  1.10000000e+03  2.80000000e+05\n",
            "  1.30000000e+03  3.90000000e+04  3.00000000e+07  4.20000000e+03\n",
            "  8.00000000e+02  7.50000000e+06  6.00000000e+06  4.00000000e+05\n",
            "  1.37853000e+05  1.13000000e+04  1.55600000e+06  1.38000000e+04\n",
            "  5.90000000e+03  3.60000000e+04  3.50000000e+02  6.20000000e+04\n",
            "  8.50000000e+04  2.60000000e+03  3.50000000e+06  1.25000000e+07\n",
            "  1.80000000e+03  7.50000000e+02  1.40000000e+04  2.55000000e+05\n",
            "  2.10000000e+04  5.60000000e+06  1.70000000e+02  2.10000000e+02\n",
            "  3.75000000e+04  2.70000000e+05  3.75000000e+03  1.20000000e+06\n",
            "  4.28000000e+05  9.00000000e+04  1.70000000e+03  2.40000000e+04\n",
            "  1.60000000e+04  3.25000000e+02  4.50000000e+04  1.10000000e+05\n",
            "  9.00000000e+05  8.38000000e+03  4.27000000e+04  1.40000000e+05\n",
            "  2.85700000e+03  7.14000000e+02  8.50000000e+02  5.28000000e+05\n",
            "  1.40000000e+06  3.30000000e+05  4.28570000e+04  3.33000000e+05\n",
            "  5.71420000e+04  5.25000000e+05  1.12500000e+04  4.30000000e+04\n",
            "  6.80000000e+05  4.00000000e+06  1.70000000e+05  1.25000000e+03\n",
            "  5.75000000e+05  1.90000000e+04  2.10000000e+03  2.92656300e+06\n",
            "  2.40000000e+06  1.72000000e+05  1.15000000e+05  3.70000000e+06\n",
            "  7.50000000e+05  5.29000000e+05  9.99000000e+02  6.50000000e+06\n",
            "  1.18000000e+06  8.00000000e+06  1.66058000e+05  1.90000000e+06\n",
            "  7.78000000e+00  7.80000000e+03  6.50000000e+05  8.50000000e+05\n",
            "  2.37603900e+06  5.00000000e+07  4.50000000e+07  5.85000000e+02\n",
            "  8.42100000e+04  2.09000000e+05  3.48000000e+05  5.90000000e+04\n",
            "  3.80000000e+04  1.80000000e+05  2.92000000e+05  5.33330000e+04\n",
            "  4.90000000e+04  8.90000000e+04  2.82550000e+04  6.25000000e+05\n",
            "  2.75000000e+05  6.25000000e+02  3.10000000e+01  4.70000000e+04\n",
            "  6.24100000e+04  4.99300000e+03  2.62120000e+04  1.88000000e+05\n",
            "  6.60000000e+04  1.93730000e+04  3.13101700e+06  5.71400000e+01\n",
            "  1.90000000e+03  6.40000000e+04  6.24100000e+03  6.89770000e+04\n",
            "  5.52900000e+03  4.69653000e+05  1.20000000e+07  1.90000000e+05\n",
            "  8.40000000e+03  8.19600000e+03  6.14940000e+04  4.88511300e+06\n",
            "  1.22000000e+05  3.40000000e+05  1.95000000e+05  4.80000000e+05\n",
            "  2.25700000e+05  5.48000000e+08  1.57000000e+06  1.07000000e+08\n",
            "  5.71500000e+03  1.64000000e+04  3.12000000e+05  3.70000000e+04\n",
            "  1.40350000e+05  1.23000000e+02  2.40000000e+05  9.50000000e+04\n",
            "  2.60000000e+05  8.20000000e+04  1.92000000e+05  6.84660000e+04\n",
            "  5.87000000e+05  6.01200000e+03  8.82000000e+05  1.61500000e+03\n",
            "  1.00210000e+04  1.15800000e+03  4.70000000e+05  8.30000000e+06\n",
            "  1.00400000e+03  1.00000000e+00  1.65000000e+05  7.78000000e+02\n",
            "  1.50000000e+07  1.57000000e+05  3.69100000e+02  1.95000000e+02\n",
            "  2.65000000e+05  4.40000000e+04  3.40000000e+04  8.73800000e+03\n",
            "  1.42857000e+05  3.60000000e+03  7.70000000e+01  1.21200000e+05\n",
            "  4.12500000e+05  1.70000000e+06  4.33450000e+04  4.84000000e+02\n",
            "  4.25000000e+06  5.36000000e+05  2.90000000e+01  1.28200000e+04\n",
            "  6.34100000e+03  1.47400000e+03  1.97500000e+05  3.00000000e+00\n",
            "  2.30000000e+05  3.60000000e+06  1.96000000e+04  2.60550000e+04\n",
            "  3.50000000e+01  2.78000000e+03  4.32000000e+05  4.84000000e+03\n",
            "  1.61335000e+05  9.66000000e+03  1.61000000e+05  1.62500000e+05\n",
            "  8.75000000e+04  8.60000000e+04  6.53750000e+04  4.00000000e+01\n",
            "  3.87000000e+02  5.00700000e+03  5.40000000e+06  6.40000000e+05\n",
            "  6.50000000e+04  1.70360000e+04  5.50000000e+04  1.30000000e+06\n",
            "  4.12000000e+04  8.00000000e+05  7.11750000e+05  2.20000000e+01\n",
            "  3.55000000e+05  1.50300000e+03  1.53000000e+05  1.92932700e+06\n",
            "  3.21260000e+04  2.64000000e+04  1.34110500e+06  9.47500000e+03\n",
            "  1.05200000e+03  5.25150000e+04  2.18650000e+04  1.68000000e+05\n",
            "  2.90000000e+04  4.20000000e+05  5.54500000e+04  2.82000000e+03\n",
            "  1.27000000e+02  4.30000000e+05  9.80000000e+04  1.35000000e+04\n",
            "  3.27000000e+04  9.88000000e+02  1.45000000e+04  4.80000000e+03\n",
            "  2.32600000e+05  8.20000000e+05  1.85000000e+05  4.50000000e+01\n",
            "  1.60000000e+07  1.39000000e+05  1.60000000e+06  3.80000000e+05\n",
            "  2.70000000e+04  3.85714000e+05  4.67741000e+05  3.62000000e+05\n",
            "  4.30000000e+06  2.73000000e+05  4.22500000e+03  1.27000000e+05\n",
            "  1.69000000e+05  7.00000000e+07  2.70000000e+06  1.00600000e+04\n",
            "  1.66666700e+04  1.10000000e+06  5.95000000e+05  3.10000000e+05\n",
            "  1.14600000e+04  1.90000000e+07  7.08880000e+04  1.49500000e+05\n",
            "  3.70700000e+03  4.16666667e+04  2.10600000e+06  3.70000000e+05\n",
            "  3.30000000e+03  5.70000000e+02  1.06000000e+06  5.16000000e+02\n",
            "  9.30000000e+05  1.06000000e+05  2.16000000e+05  2.14000000e+05\n",
            "  5.40000000e+04  2.14000000e+07  5.80000000e+04  1.87500000e+05\n",
            "  6.60700000e+06  2.10000000e+05  9.60000000e+04  2.00000000e+07\n",
            "  2.33380000e+05  9.27550000e+04  1.14390000e+04  2.70000000e+09\n",
            "  3.79000000e+05  5.82200000e+03  4.18000000e+05  2.20000000e+05\n",
            "  8.40000000e+04  7.14280000e+04  8.92800000e+03  7.20000000e+04\n",
            "  1.13207600e+06  5.71400000e+03  2.25000000e+06  1.66700000e+05\n",
            "  5.70000000e+05  1.62600000e+06  3.40000000e+06  1.02180000e+04\n",
            "  4.40000000e+03  8.82350000e+04  1.18900000e+04  2.87000000e+03\n",
            "  3.73000000e+05  3.40000000e+03  7.90600000e+03  3.01440000e+04\n",
            "  7.10000000e+05  1.89000000e+04  1.78000000e+05  7.10000000e+04\n",
            "  6.52000000e+08  1.66060000e+04  9.84500000e+03  1.42000000e+05\n",
            "  7.40000000e+03  1.55000000e+08  6.60000000e+03  2.37000000e+03\n",
            "  1.42230000e+04  1.07912000e+09  7.90000000e+04  6.75400000e+04\n",
            "  2.02600000e+04  2.95000000e+07  1.74750000e+04  1.86401900e+06\n",
            "  2.15000000e+04  2.10000000e+07  9.50000000e+03  4.65000000e+03\n",
            "  1.86046500e+06  1.21138800e+06  2.32558000e+05  4.02400000e+03\n",
            "  1.61031000e+05  6.19075000e+05  1.93098000e+05  2.40000000e+07\n",
            "  9.90220000e+05  1.32000000e+05  1.17700000e+06  5.13000000e+05\n",
            "  1.68959300e+06  1.26000000e+05  8.60000000e+01  2.87000000e+04\n",
            "  1.75000000e+03  1.04169600e+06  1.35000000e+02  9.59000000e+05\n",
            "  9.94412000e+05  3.31243400e+06  3.50000000e+08  2.04415950e+05\n",
            "  4.68010000e+02  2.23813790e+05  1.34228000e+05  2.37183000e+03\n",
            "  2.90000000e+06  2.07497000e+05  7.30000000e+07  6.66666666e+04\n",
            "  9.35000000e+05  6.20000000e+03  3.66000000e+05  9.25900000e+04\n",
            "  1.32000000e+04  6.60000000e+06  1.30000000e+07  1.26000000e+06\n",
            "  6.40000000e+06  2.87000000e+07  1.81077400e+06  1.30325000e+05\n",
            "  3.24200000e+03  5.22309260e+05  2.00566800e+04  2.08160000e+04\n",
            "  2.22971900e+04  1.46000000e+04  1.72061000e+03  6.50398500e+04\n",
            "  5.10000000e+03  7.49793800e+04  4.78797000e+05  8.46000000e+05\n",
            "  5.01250000e+04  6.00875130e+05  7.68400000e+04  2.26000000e+02\n",
            "  1.12900000e+03  1.36301000e+05  2.28650000e+04  9.24600000e+03\n",
            "  1.15393000e+05  3.32341000e+05  2.23278000e+05  9.32840000e+04\n",
            "  4.40020000e+04  3.80904000e+05  1.15154500e+04  2.07278000e+05\n",
            "  2.23000000e+04  1.11501000e+05  1.86393000e+05  1.04913000e+05\n",
            "  5.64200000e+03  6.52000000e+05  3.29272000e+04  1.81890240e+05\n",
            "  3.64927000e+03  1.63000000e+06  2.70000000e+03  1.22579000e+05\n",
            "  6.29250000e+02  2.83902000e+03  4.76000000e+05  3.68088080e+05\n",
            "  1.24550000e+06  9.02936000e+03  3.41507000e+06  1.32626000e+05\n",
            "  1.02000000e+05  2.57000000e+05  2.45000000e+03  9.04560000e+04\n",
            "  1.66792000e+04  1.37470000e+05  1.22576300e+06  2.25530000e+04\n",
            "  8.03450000e+06  6.45640000e+06  1.00000100e+06  2.23337400e+04\n",
            "  1.37460000e+02  3.01400000e+03  8.84173000e+03  2.21240000e+04\n",
            "  6.58164000e+05  1.78064000e+05  1.29352000e+03  1.62485200e+04\n",
            "  2.35904000e+05  2.26350000e+05  2.43000000e+05  1.34244000e+04\n",
            "  1.60922000e+04  4.94320000e+02  8.33200000e+05  6.86656000e+04\n",
            "  9.21375900e+04  2.96364000e+04  3.13972100e+06  1.23240000e+04\n",
            "  1.01940000e+02  3.03600000e+03  2.41429350e+05  5.72738000e+05\n",
            "  5.40540200e+04  3.13676500e+05  1.00000010e+07  2.25784900e+05\n",
            "  6.02413000e+06  2.44200000e+03  1.20286400e+04  9.30882000e+03\n",
            "  1.20710000e+04  1.49417800e+04  3.11596200e+04  1.12479000e+03\n",
            "  4.46200000e+02  1.10316700e+06  3.78530000e+04  1.34167000e+05\n",
            "  5.30475000e+03  6.70900000e+04  1.32594554e+06  7.65900000e+03\n",
            "  2.89000000e+02  4.52442800e+05  1.00000000e+08  7.96994000e+05\n",
            "  5.57724750e+05  4.55000000e+04  1.16500000e+05  1.39606500e+04\n",
            "  3.13230600e+04  6.71208500e+04  1.56031000e+03  6.55600000e+03\n",
            "  8.86000000e+03  4.48040000e+02  7.48917800e+04  5.61925000e+04\n",
            "  6.41867400e+04  1.50858000e+03  2.15185000e+05  7.48890000e+02\n",
            "  7.23649270e+05  1.06340500e+04  4.20000000e+04  1.08075000e+05\n",
            "  1.08075000e+03  2.16000000e+04  8.63166000e+03  3.71963330e+05\n",
            "  2.10931000e+03  1.67383500e+04  8.00000000e+01  9.90000000e+01\n",
            "  4.46828100e+05  6.33916000e+03  6.68851600e+04  1.43512800e+04\n",
            "  3.30000000e+06  1.83000000e+06  3.35190000e+05  2.46000000e+04\n",
            "  1.68093750e+06  6.00000000e+07  5.99785200e+05  2.02934000e+04\n",
            "  3.33333000e+05  1.40490900e+06  2.24391440e+05  6.70918500e+05\n",
            "  2.12681000e+04  2.85714284e+07  2.75500000e+03  1.88177200e+04\n",
            "  7.70000000e+04  5.74400000e+03  1.53481200e+04  1.53692500e+04\n",
            "  1.99554940e+06  9.69930000e+02  1.99596900e+04  1.77823300e+04\n",
            "  1.03063000e+03  1.54000000e+05  3.60000000e+02  1.16700000e+03\n",
            "  5.88000000e+04  1.30400000e+04  1.96200000e+04  1.14840000e+05\n",
            "  7.74500000e+03  3.06702000e+03  4.78250000e+04  1.72260000e+05\n",
            "  3.85400000e+03  5.45100000e+02  1.49033000e+03  4.61100000e+05]\n",
            "Unique values in 'propcomment': [nan 'Three transformers were damaged.'\n",
            " 'Basketball courts, weight room, swimming pool, gymnastic equipment, and lockers were destroyed.'\n",
            " ... 'Several construction vehicles were damaged in the attack.'\n",
            " \"A migrants' center was damaged in this attack.\"\n",
            " 'Seven military planes were damaged in this attack.']\n",
            "Unique values in 'ishostkid': [ 0.  1. nan -9.]\n",
            "Unique values in 'nhostkid': [       nan  1.000e+00  5.000e+00  1.300e+01  1.290e+02  6.000e+01\n",
            "  2.000e+00  5.500e+01 -9.900e+01  1.550e+02  1.750e+02  3.000e+00\n",
            "  4.400e+01  4.000e+00  6.000e+00  2.400e+01  1.870e+02  6.100e+01\n",
            "  1.200e+01  2.000e+01  1.100e+01  1.000e+01  4.000e+01  1.400e+02\n",
            "  5.000e+01  3.000e+01  1.400e+01  7.000e+00  1.600e+01  1.020e+02\n",
            "  1.800e+01  8.000e+00  3.500e+01  5.300e+01  2.600e+01  3.100e+01\n",
            "  8.700e+01  2.500e+01  2.570e+02  9.200e+01  9.000e+01  1.100e+02\n",
            "  6.400e+01  2.420e+02  1.460e+02  1.000e+02  4.500e+01  3.400e+01\n",
            "  7.000e+01  5.600e+01  1.200e+03  2.500e+02  1.300e+02  8.200e+01\n",
            "  1.300e+03  1.700e+01  3.600e+01  2.300e+01  4.000e+03  1.350e+02\n",
            "  1.860e+02  2.000e+02  5.000e+02  1.500e+01  2.100e+01  2.700e+01\n",
            "  9.000e+00  5.400e+01  1.130e+02  2.150e+02  1.190e+02  3.900e+01\n",
            "  1.170e+02  4.800e+01  2.630e+02  1.280e+02  2.700e+02  2.800e+01\n",
            "  6.900e+01  7.300e+01  6.200e+01  3.800e+01  1.000e+03  3.900e+02\n",
            "  1.890e+02  5.000e+03  1.000e+04  1.700e+04  1.500e+02  7.700e+01\n",
            "  1.420e+02  6.000e+02  2.640e+02  7.900e+01  1.180e+02  1.200e+02\n",
            "  1.310e+02  1.270e+02  8.000e+01  1.610e+02  2.200e+01  3.300e+01\n",
            "  9.700e+01  7.400e+01  1.530e+02  4.200e+02  4.900e+01  9.800e+01\n",
            "  1.700e+02  4.000e+02  5.700e+01  3.200e+01  3.700e+01  4.300e+01\n",
            "  1.560e+02  1.120e+02  1.900e+01  1.600e+02  2.070e+02  1.250e+02\n",
            "  1.040e+02  2.900e+01  1.370e+02  1.440e+02  1.050e+02  8.800e+01\n",
            "  1.150e+02  4.600e+01  8.300e+01  1.390e+02  3.000e+02  7.800e+01\n",
            "  7.200e+01  1.640e+02  4.200e+01  8.500e+01  1.070e+02  2.000e+03\n",
            "  3.640e+02  2.980e+02  1.940e+02  1.160e+02  1.990e+02  2.010e+02\n",
            "  7.500e+01  2.320e+02  1.580e+02  5.030e+02  4.700e+01  4.100e+01\n",
            "  1.680e+02  7.500e+02  1.510e+02  3.290e+02  1.650e+02  9.100e+01\n",
            "  1.740e+02  1.900e+02  5.900e+01  9.120e+02  2.670e+02  6.500e+01\n",
            "  1.690e+02  1.830e+02  1.030e+02  3.250e+02  3.500e+02  6.300e+01\n",
            "  9.500e+01  0.000e+00  1.430e+02  7.000e+02  1.201e+03  5.200e+01\n",
            "  8.800e+02  9.900e+01  2.760e+02  1.930e+02  1.686e+03  1.010e+02\n",
            "  5.100e+01  6.700e+01  5.350e+03  6.800e+01  7.100e+01  1.850e+02\n",
            "  2.430e+02  8.900e+01  2.340e+02  1.210e+02  1.720e+02  2.800e+02\n",
            "  8.600e+01  1.820e+02  3.010e+02  2.300e+02  8.400e+01  1.260e+02\n",
            "  1.500e+03  9.600e+01  3.000e+03  2.840e+02  1.950e+02  8.000e+02\n",
            "  2.600e+02  9.300e+01  5.350e+02  3.220e+02  3.350e+02  6.500e+02]\n",
            "Unique values in 'nhostkidus': [ nan   0.   1.  13. -99.   2.   4.  11.  50.   3.  30.   6.   9.  70.\n",
            "  10.  66.   5.   8.  21.  19.  35.  15.   7.  56.  86.  54.  38.  17.]\n",
            "Unique values in 'nhours': [      nan  0.00e+00  2.20e+01  1.70e+01  2.00e+00  1.80e+01 -9.90e+01\n",
            "  1.50e+01  1.00e+00  5.00e+00  3.00e+01  8.00e+00  1.00e+01  2.50e-01\n",
            "  6.00e+00  3.00e+00  4.00e+00  1.20e+01  9.99e+02  7.20e+01  3.70e+01\n",
            "  1.40e+01  5.00e-01  3.60e+01  1.60e+01  2.40e+01  1.90e+01  2.60e+01\n",
            "  9.00e+00  2.00e+01  7.00e+00 -9.00e+00  2.30e+01  1.10e+01  1.30e+01\n",
            "  2.10e+01]\n",
            "Unique values in 'ndays': [       nan  2.000e+00  4.000e+00  1.700e+01  1.000e+00  5.000e+00\n",
            "  0.000e+00  3.000e+00  7.000e+00  6.000e+00  2.020e+02  1.000e+01\n",
            "  8.000e+00  5.900e+01  2.300e+01  4.200e+01  1.410e+02  2.100e+01\n",
            "  1.200e+01  6.300e+01  4.000e+01  1.300e+01  1.540e+02  1.800e+02\n",
            "  9.500e+01  1.350e+02  4.100e+01  8.000e+01  2.600e+01  1.900e+01\n",
            "  2.700e+01  6.200e+01  2.900e+02  3.000e+01  8.900e+01  1.170e+02\n",
            "  3.500e+01  1.910e+02  6.100e+01  2.900e+01  1.500e+01  1.620e+02\n",
            "  6.000e+01  1.200e+02  3.650e+02  4.800e+01  1.070e+02  7.520e+02\n",
            "  2.800e+01  2.580e+02  1.010e+02  1.800e+01  8.500e+01  3.800e+01\n",
            "  2.000e+01  2.200e+01  1.090e+02  8.800e+01  2.400e+01  5.500e+01\n",
            "  3.700e+01  1.400e+01  9.300e+01  1.610e+02  5.000e+01  5.200e+01\n",
            "  2.160e+02  4.500e+01  8.700e+01  9.100e+01  1.240e+02  9.000e+00\n",
            "  4.300e+01  1.020e+02  1.100e+01  3.200e+01  3.300e+01  4.700e+01\n",
            "  9.900e+01  5.670e+02  3.800e+02  2.454e+03 -9.900e+01  1.140e+02\n",
            "  1.935e+03  9.000e+01  3.370e+02  1.759e+03  1.600e+01  6.100e+02\n",
            "  3.150e+02  1.720e+02  5.290e+02  2.490e+02  3.930e+02  1.730e+02\n",
            "  6.700e+01  5.600e+01  8.400e+01  1.920e+02  6.500e+01  1.470e+02\n",
            "  1.190e+02  6.400e+02  3.100e+01  4.400e+01  5.400e+01  6.900e+01\n",
            "  1.870e+02  4.900e+01  7.500e+01  5.100e+01  5.700e+01  8.100e+01\n",
            "  4.600e+01  4.920e+02  5.160e+02  1.060e+02  3.100e+02  1.000e+02\n",
            "  2.120e+02  1.130e+02  5.020e+02  5.310e+02  2.200e+02  1.280e+02\n",
            "  2.470e+02  1.400e+02  2.850e+02  2.050e+02  1.530e+02  7.800e+01\n",
            "  6.400e+01  2.500e+01  1.030e+02  2.640e+02  2.610e+02  3.900e+01\n",
            "  2.440e+02  3.300e+02  9.400e+01  1.790e+02  2.080e+02  1.220e+02\n",
            "  1.150e+02  2.320e+02  3.400e+01  1.500e+02  1.970e+02  6.800e+01\n",
            "  3.600e+02  1.120e+02  3.600e+01  4.500e+02  7.000e+01  1.380e+02\n",
            "  7.100e+01  2.280e+02  3.730e+02  2.690e+02  3.700e+02  1.680e+02\n",
            "  9.700e+01  2.700e+02  1.474e+03  3.790e+02  4.100e+02  3.110e+02\n",
            "  1.670e+02  8.200e+01  1.940e+02  1.941e+03  5.240e+02  5.300e+01\n",
            "  9.400e+02  2.520e+02  1.260e+02  1.040e+02  4.590e+02  1.310e+02\n",
            "  2.590e+02  2.380e+02  1.700e+02  1.100e+02  6.230e+02  1.796e+03\n",
            "  1.282e+03  7.700e+01  1.080e+02  5.800e+01  3.050e+02  1.550e+02\n",
            "  1.340e+03  1.451e+03  1.129e+03  1.879e+03  1.740e+02  6.130e+02\n",
            "  4.400e+02  2.990e+02  1.900e+02  3.010e+02  1.520e+02  1.250e+03\n",
            "  1.270e+02  9.190e+02  6.430e+02  8.740e+02  1.111e+03  2.078e+03\n",
            "  4.740e+02  1.091e+03  9.760e+02  4.630e+02  8.600e+01  2.660e+02\n",
            "  3.500e+02  1.069e+03  2.180e+02  8.770e+02  4.140e+02  5.140e+02\n",
            "  5.400e+02  6.940e+02  1.590e+02  3.950e+02  1.510e+02  1.826e+03\n",
            "  1.271e+03  6.740e+02  1.250e+02  2.630e+02  3.330e+02  2.100e+02\n",
            "  2.210e+02  7.400e+01  2.420e+02  5.500e+02  7.450e+02  5.560e+02\n",
            "  1.097e+03  3.980e+02  1.180e+02  3.390e+02  7.610e+02  5.580e+02\n",
            "  7.900e+01  1.880e+02  1.290e+02  2.430e+02  5.920e+02  3.940e+02\n",
            "  5.550e+02  9.520e+02  4.440e+02  1.110e+02  1.110e+03  4.110e+02\n",
            "  2.310e+02  3.470e+02  5.080e+02  9.600e+01  2.810e+02  1.320e+02\n",
            "  7.300e+01  2.040e+02  1.640e+02  7.200e+01  2.670e+02  2.360e+02\n",
            "  7.600e+01  1.750e+02  4.600e+02  1.360e+02  7.130e+02  7.380e+02\n",
            "  2.650e+02  9.930e+02  9.200e+01  7.070e+02  1.050e+02  1.600e+02\n",
            "  1.300e+02  2.370e+02  1.890e+02  6.890e+02  1.630e+02  6.600e+01\n",
            "  9.800e+01  7.050e+02  1.760e+02  1.930e+02  4.190e+02  2.820e+02\n",
            "  2.980e+02  2.600e+02  3.630e+02  4.860e+02  1.840e+02  2.940e+02\n",
            "  3.130e+02  1.480e+02  2.250e+02  2.130e+02  2.290e+02  3.450e+02\n",
            "  4.130e+02  1.580e+02  7.930e+02  1.390e+02  5.320e+02  3.620e+02\n",
            "  3.070e+02  6.990e+02  5.530e+02  2.410e+02  1.830e+02  3.780e+02\n",
            "  2.510e+02  4.620e+02  2.060e+02  4.040e+02  2.730e+02  4.270e+02\n",
            "  2.920e+02  2.090e+02  1.330e+02  2.000e+02  1.570e+02]\n",
            "Unique values in 'divert': [nan 'Beirut' 'Cambodia' 'South Korea' 'Jordan' 'Egypt' 'England'\n",
            " 'Arrested before boarding' 'Iraq' 'Libya' 'China' 'Yemen' 'Bulgaria'\n",
            " 'Lod Airport in Israel' 'Spain' 'Cuba' 'United Arab Emirates' 'Kuwait'\n",
            " 'Netherlands' 'Tunisia' 'Iran' 'Zamboanga Philippines' 'Uganda' 'Paris'\n",
            " 'Qatar' 'Peru' 'Italy' 'Algeria' 'Somalia' 'Singapore' 'Cyprus'\n",
            " 'Stockholm' 'San Jose, Costa Rica' 'Ireland' 'Cologne' 'Malta' 'Teheran'\n",
            " 'Cuba, Havana' 'unknown' 'Diyarbakir, Turkley for refueling'\n",
            " 'Brussels (to a broadcasting centre)' 'Cuba (Havana)'\n",
            " 'Higuerote, 110km NE of Caracus' 'Havana, Cuba' 'Cucuta'\n",
            " 'no (police foiled operation)' 'Kabul, Afghanistan- Damascus, Syria'\n",
            " 'Managua Nicaragua to Panama' 'Bangkok, Thailand' 'France'\n",
            " 'Tangiers, Morocco' 'Tel Aviv' 'Lakore, Pakistan'\n",
            " 'Guajira Peninsula in N. Colombia' 'Colombia'\n",
            " 'Costa Rica, Juan Santamaria Airport' 'Costa Rica, San Jose' 'Durban, SA'\n",
            " 'Lebanon' 'Guatemala city, Panama, Havana' 'Bogota, Cali'\n",
            " 'Nairobi, Kenya, Jidda, Saudi Arabia, Athens, *' 'Tegucigalpa'\n",
            " 'Amristar, India' 'Djibouti, Africa' 'Mexico'\n",
            " 'Greece, Athens-Ellinikon Airport' 'Larnaca, Cyprus' 'Paris, France'\n",
            " 'Beneva, Sicily, Damascus, Teheran' 'West Bank and Gaza Strip'\n",
            " 'Pakistan, Lahore' 'Trinidad-This; Aruba-12 hrs; Curacas'\n",
            " 'Pakistan (Lahore, Karachi) Dubai' 'Baghdad' 'Teheran, Iran'\n",
            " 'Addis Ababa, Ethiopia (Bole international airport)' 'Tehran airport'\n",
            " 'Vienna, Austria' 'Amalfi' 'Kasese' 'Prague to Karolovy Vary Flight'\n",
            " 'En route Nickerie to Paramaribo' 'Fukuoka, Japan' 'Bandar Abbas'\n",
            " 'Finland' 'Calcutta, India' 'Lima' 'Medellin'\n",
            " 'Singapore s Changi Airport' 'United States' 'strip near Neiva'\n",
            " 'Djibouti' 'Saudi Arabia' 'Russia' 'Madrid' 'Nairobi, Kenya' 'Moscow'\n",
            " 'Ho Chi Minh City' 'Afghanistan' 'Rome, Italy' 'Taiwan' 'Alicante, Spain'\n",
            " 'Luxor, Egypt' 'Sanaa, Yemen' 'Salonika' 'Estonia' 'not stated'\n",
            " 'Marseilles' 'Port Sudan' 'Sudan' 'Johannesburg, South Africa' 'Geneva'\n",
            " 'Greece' 'Unknown' 'Miami, Florida, USA' 'Great Britain'\n",
            " 'Varna, Bulgaria' 'Germany' 'India' 'Tanzania' 'Angola' 'Uzbekistan'\n",
            " 'Bangladesh' 'Philippines' 'Sierra Leone' 'Ethiopia' 'Burundi' 'Congo'\n",
            " 'Gambia' 'Mali' 'Bolivia' 'Georgia' 'Nigeria' 'Nepal' 'Turkey' 'Israel'\n",
            " 'Palestine' 'Pakistan' 'Chad' 'Niger' 'Syria' 'Central African Republic'\n",
            " 'South Sudan']\n",
            "Unique values in 'kidhijcountry': [nan 'Mexico' 'Beirut' 'Venezuela' 'Spain' 'Guatemala' 'Brazil' 'Ethiopia'\n",
            " 'Cambodia' 'Dominican Republic' 'Argentina' 'South Korea' 'Jordan'\n",
            " 'Colombia' 'Bolivia' 'Greece' 'Nicaragua' 'Uruguay' 'Egypt' 'England'\n",
            " 'Great Britain' 'Arrested before boarding' 'Canada' 'Iraq' 'Iran'\n",
            " 'Zambia' 'Libya' 'Turkey' 'Costa Rica' 'China' 'Northern Ireland' 'Yemen'\n",
            " 'Bulgaria' 'Lod Airport in Israel' 'United States' 'France' 'Cuba'\n",
            " 'West Germany (FRG)' 'Haiti' 'Myanmar' 'Austria' 'United Arab Emirates'\n",
            " 'Kuwait' 'Italy' 'Netherlands' 'Chad' 'Thailand' 'Lebanon' 'Japan'\n",
            " 'East Germany (GDR)' 'Tunisia' 'Somalia' 'Tanzania' 'Ireland'\n",
            " 'Philippines' 'Morocco' 'Portugal' 'Zamboanga Philippines' 'Uganda'\n",
            " 'El Salvador' 'Paris' 'Republic of the Congo' 'Mauritania'\n",
            " 'Democratic Republic of the Congo' 'Qatar' 'Peru' 'Algeria' 'Ecuador'\n",
            " 'Djibouti' 'Singapore' 'Cyprus' 'Rhodesia' 'Belgium' 'Western Sahara'\n",
            " 'Indonesia' 'Jamaica' 'Afghanistan' 'Stockholm' 'Namibia'\n",
            " 'San Jose, Costa Rica' 'Israel' 'Cologne' 'Malta' 'Puerto Rico' 'Corsica'\n",
            " 'Teheran' 'Cuba, Havana' 'Honduras' 'unknown'\n",
            " 'Diyarbakir, Turkley for refueling' 'Brussels (to a broadcasting centre)'\n",
            " 'Cuba (Havana)' 'Higuerote, 110km NE of Caracus' 'Havana, Cuba' 'Syria'\n",
            " 'Cucuta' 'no (police foiled operation)'\n",
            " 'Kabul, Afghanistan- Damascus, Syria' 'Managua Nicaragua to Panama'\n",
            " 'Bangkok, Thailand' 'Guyana' 'Tangiers, Morocco' 'Tel Aviv'\n",
            " 'Lakore, Pakistan' 'Guajira Peninsula in N. Colombia'\n",
            " 'Costa Rica, Juan Santamaria Airport' 'Costa Rica, San Jose' 'Durban, SA'\n",
            " 'Guatemala city, Panama, Havana' 'Mozambique' 'Bogota, Cali'\n",
            " 'Nairobi, Kenya, Jidda, Saudi Arabia,' 'Tegucigalpa' 'Zimbabwe'\n",
            " 'Amristar, India' 'Angola' 'Djibouti, Africa'\n",
            " 'Greece, Athens-Ellinikon Airport' 'Sudan' 'Larnaca, Cyprus'\n",
            " 'Paris, France' 'Beneva, Sicily, Damascus, Teheran' 'India'\n",
            " 'West Bank and Gaza Strip' 'Sri Lanka' 'Chile' 'Pakistan, Lahore'\n",
            " 'Trinidad-This; Aruba-12 hrs; Curacas' 'Pakistan (Lahore, Karachi) Dubai'\n",
            " 'Baghdad' 'Teheran, Iran' 'Addis Ababa, Ethiopia (Bole internati'\n",
            " 'Tehran airport' 'Vienna, Austria' 'Saudi Arabia' 'Amalfi' 'Kasese'\n",
            " 'Swaziland' 'Suriname' 'Pakistan' 'Switzerland' 'New Caledonia'\n",
            " 'Bangladesh' 'Lesotho' 'South Africa' 'Laos' 'Czechoslovakia'\n",
            " 'Prague to Karolovy Vary Flight' 'En route Nickerie to Paramaribo'\n",
            " 'Fukuoka, Japan' 'Bandar Abbas' 'Papua New Guinea' 'Liberia' 'Panama'\n",
            " 'Soviet Union' 'Finland' 'Calcutta, India' 'Lima' 'Medellin'\n",
            " 'Singapore s Changi Airport' 'Sierra Leone' 'Belize' 'Yugoslavia'\n",
            " 'Georgia' 'strip near Neiva' 'Azerbaijan' 'Togo' 'Kazakhstan' 'Niger'\n",
            " 'Russia' 'Madrid' 'Nairobi, Kenya' 'Moldova' 'Nigeria' 'Moscow' 'Senegal'\n",
            " 'Madagascar' 'Ho Chi Minh City' 'Tajikistan' 'Bosnia-Herzegovina'\n",
            " 'Rome, Italy' 'Germany' 'Taiwan' 'Alicante, Spain' 'Ivory Coast'\n",
            " 'Luxor, Egypt' 'Sanaa, Yemen' 'New Zealand' 'Hong Kong' 'Norway'\n",
            " 'Salonika' 'Estonia' 'not stated' 'Marseilles' 'Port Sudan' 'Cameroon'\n",
            " 'Eritrea' 'Denmark' 'Johannesburg, South Africa' 'Geneva' 'Benin'\n",
            " 'Guadeloupe' 'Miami, Florida, USA' 'Ukraine' 'Varna, Bulgaria' 'Vanuatu'\n",
            " 'Paraguay' 'Albania' 'Unknown' 'United Kingdom' 'International' 'Burundi'\n",
            " 'Congo' 'Russian Federation' 'Palestine' 'Nepal' 'Mali'\n",
            " 'Central African Republic']\n",
            "Unique values in 'ransom': [ 0.  1. nan -9.]\n",
            "Unique values in 'ransomamt': [            nan  8.00000000e+05  1.10000000e+05  0.00000000e+00\n",
            "  7.00000000e+05  1.20000000e+04  1.50000000e+04  2.50000000e+05\n",
            "  1.00000000e+05  4.00000000e+05  8.00000000e+04  5.00000000e+06\n",
            "  1.00000000e+06  2.20000000e+05  5.00000000e+05  4.00000000e+04\n",
            "  1.05000000e+05  3.20000000e+05  2.50000000e+04  1.00000000e+07\n",
            "  2.00000000e+04  1.50000000e+06  2.00000000e+05  1.68000000e+05\n",
            "  1.14500000e+06  1.42000000e+07  3.00000000e+06  6.21000000e+05\n",
            "  6.10000000e+07  1.33000000e+04  2.70000000e+04  2.00000000e+07\n",
            "  3.40000000e+06  3.00000000e+05  3.75000000e+05  4.08000000e+05\n",
            "  2.80000000e+04  1.40000000e+05  1.30000000e+06  5.07000000e+06\n",
            "  1.40000000e+07  4.37000000e+05  2.10000000e+06  1.94000000e+05\n",
            "  5.00000000e+04  1.35000000e+06  4.77950000e+05  6.00000000e+06\n",
            "  3.50000000e+05  1.50000000e+07  6.00000000e+05  2.20000000e+06\n",
            "  1.07000000e+07  5.30000000e+04  7.40000000e+05  6.00000000e+04\n",
            "  1.30000000e+05  3.10000000e+05  4.00000000e+06  1.40000000e+06\n",
            "  1.50000000e+05  2.60000000e+05  8.20000000e+07  1.30000000e+07\n",
            "  1.00000000e+09  7.50000000e+04  2.10000000e+04  2.00000000e+06\n",
            "  8.70000000e+04  4.40000000e+04  1.25000000e+05  8.00000000e+06\n",
            "  2.30000000e+06  3.60000000e+04  5.90000000e+05  1.42000000e+05\n",
            "  4.50000000e+05  1.10000000e+06  1.00000000e+04  7.50000000e+05\n",
            "  1.54000000e+05  2.40000000e+05  4.15000000e+05  1.20000000e+06\n",
            "  5.00000000e+07  1.25000000e+04  4.35000000e+05  4.30000000e+06\n",
            "  9.26000000e+05  9.00000000e+05  3.00000000e+07  8.34000000e+05\n",
            "  2.50000000e+06  1.20000000e+05  9.99000000e+02  5.00000000e+03\n",
            "  7.50000000e+06  2.50000000e+07  3.90000000e+05  2.40000000e+06\n",
            "  8.40000000e+06  2.40000000e+04  1.70000000e+07  4.60000000e+04\n",
            "  3.30000000e+06  2.80000000e+06  5.10700000e+06  2.18000000e+05\n",
            "  3.57000000e+04  1.79000000e+05  3.55000000e+05  1.00000000e+00\n",
            "  7.10000000e+04  1.15000000e+05  3.42000000e+05  6.20000000e+04\n",
            "  1.72000000e+03  1.00000000e+08  1.80000000e+06  2.12000000e+05\n",
            "  7.00000000e+06  5.80000000e+06  3.70000000e+05  4.61500000e+05\n",
            "  1.80600000e+05  1.28000000e+06  3.00000000e+04  4.16660000e+04\n",
            "  3.20000000e+04  2.07641000e+05  6.30000000e+05  1.93000000e+04\n",
            "  1.94332000e+05  2.60000000e+07  3.10000000e+03  3.90000000e+03\n",
            "  7.80000000e+04  1.90000000e+06  1.70000000e+04  5.72210000e+04\n",
            "  4.00000000e+03  5.80000000e+05  1.20000000e+07  5.55000000e+05\n",
            "  3.85000000e+04  3.84000000e+05  1.91000000e+05  2.00000000e+03\n",
            "  6.82000000e+05  2.62000000e+06  5.70600000e+03  3.85000000e+05\n",
            "  1.92000000e+05  3.55000000e+04  5.65000000e+04  1.15384000e+05\n",
            "  4.71920000e+04  5.66300000e+04  1.90440000e+05  2.65836000e+05\n",
            "  5.79000000e+05  1.23000000e+06  5.80000000e+07  1.86000000e+03\n",
            "  9.00000000e+03  1.02500000e+07  8.24640000e+04  9.43430000e+04\n",
            "  2.42317000e+05  8.07750000e+04  1.43000000e+05  2.61136000e+05\n",
            "  4.50000000e+03  1.10000000e+07  8.10000000e+03 -9.90000000e+01\n",
            "  1.03300000e+05  1.98000000e+06  1.50000000e+03  2.00000000e+08\n",
            "  1.20000000e+03  4.76190000e+05  1.17000000e+05  2.30600000e+05\n",
            "  2.25174000e+05  1.60000000e+06 -9.00000000e+00  3.40000000e+04\n",
            "  1.27621000e+05  6.15260000e+04  1.03300000e+03  2.12800000e+05\n",
            "  1.88400000e+06  1.78000000e+05  2.04883000e+05  1.01250000e+05\n",
            "  6.60000000e+04  1.06400000e+05  1.17900000e+05  5.24000000e+05\n",
            "  7.30000000e+04  1.27388500e+06  7.46268600e+06  2.43540000e+06\n",
            "  2.50207700e+04  6.25519200e+04  7.98400000e+04  2.65440000e+04\n",
            "  2.59000000e+05  1.97156700e+04  6.64000000e+05  2.72720000e+04\n",
            "  4.75000000e+07  4.43066100e+04  6.37000000e+03  2.00000000e+01\n",
            "  6.64000000e+04  2.51109200e+04  4.25980000e+04  1.19365000e+03\n",
            "  3.44392200e+05  2.10000000e+07  2.35000000e+05  9.76117500e+05\n",
            "  5.93870000e+04  1.60000000e+04  1.67100000e+03  2.32550000e+04\n",
            "  1.10076000e+05  5.76968250e+05  2.23000000e+04  3.03498000e+05\n",
            "  1.04913000e+05  1.66623600e+05  4.00000000e+07  7.95550000e+04\n",
            "  2.02737200e+06  2.18956160e+05  1.92975000e+07  1.84230000e+05\n",
            "  1.50000000e+08  3.03774600e+05  1.32000000e+08  2.48600000e+05\n",
            "  1.67630000e+05  5.09550000e+06  1.01910000e+04  1.55980000e+04\n",
            "  3.77000000e+05  9.47688000e+06  3.30000000e+07  3.48150000e+05\n",
            "  1.38040000e+06  1.06636800e+05  1.11570000e+06  7.60000000e+05\n",
            "  3.35645500e+04  1.92139000e+05  3.01279000e+05  6.60000000e+06\n",
            "  5.09400000e+05  3.35260000e+06  8.36100000e+04  3.02902000e+06\n",
            "  3.34335000e+05  8.34725000e+05  3.33890000e+04  1.66182000e+05\n",
            "  1.66945000e+05  1.62285000e+05  3.07787500e+04  1.11185400e+04\n",
            "  3.31071000e+04  1.22820000e+04  3.04329300e+05  6.14628000e+04\n",
            "  1.66530700e+04  6.87286200e+04  1.15620450e+07  3.08737500e+05\n",
            "  1.45917900e+05  5.06073000e+05  5.58347500e+06  4.35790000e+04\n",
            "  8.10386080e+06  6.28516500e+05  1.23000000e+04  2.02373000e+06\n",
            "  5.05830000e+05  1.96083200e+05  4.51569800e+05  6.13686000e+04\n",
            "  2.81175450e+06  8.17675160e+05  9.84026000e+05  4.89680000e+04\n",
            "  6.15926600e+04  4.10010000e+04  3.28000000e+04  7.32874410e+05\n",
            "  2.09000000e+03  3.05110630e+06  1.60000000e+05  1.40536000e+03\n",
            "  5.50000000e+06  1.09298570e+05  8.70000000e+02  3.26370800e+04\n",
            "  1.62900000e+03  3.24201800e+05  1.62100900e+05  3.23926000e+05\n",
            "  3.33556200e+05  6.74876400e+04  9.30710000e+04  4.72920000e+04\n",
            "  1.02014800e+05  1.60667200e+04  4.82160000e+03  1.47096200e+04\n",
            "  1.42000000e+04  7.88377000e+04  7.88265000e+03  3.36836550e+05\n",
            "  1.56684700e+04  2.21388400e+05  2.51334900e+04  2.24719000e+05\n",
            "  1.33005000e+06  2.21806600e+04  3.28396500e+07  4.38000000e+04\n",
            "  2.43960300e+04  6.86296366e+06  1.92077000e+04  1.41284000e+05\n",
            "  2.25950000e+02  7.55745000e+03  5.06657200e+04  2.80000000e+07\n",
            "  3.27600000e+03  1.74200000e+04  8.02426800e+07  3.17713000e+05\n",
            "  6.43267100e+04  1.63000000e+04  5.60000000e+06  3.67840000e+05\n",
            "  6.36360000e+04  2.44600000e+04  1.51400000e+04  5.67774698e+06\n",
            "  1.14000000e+04  2.99325400e+04  7.46882000e+03  3.19050000e+04\n",
            "  3.28000000e+03  2.95000000e+02  1.90794200e+05  1.06043550e+06\n",
            "  7.46168250e+06  1.08254010e+05  3.82897000e+03  1.58604500e+04\n",
            "  4.11862730e+05  1.04182190e+05  2.96263200e+04  1.63000000e+03\n",
            "  7.40901000e+03  2.42116190e+06  6.35426000e+03  6.02775300e+05\n",
            "  2.03321900e+04  1.11639000e+07  3.73995000e+03  1.48130400e+05\n",
            "  2.50000000e+03  9.92880000e+04  2.22401700e+04  8.90000000e+02\n",
            "  6.00000000e+03  4.01372800e+04  4.80000000e+04  4.27704000e+06\n",
            "  2.28571430e+05  1.00492000e+03  8.19675000e+03  1.00573000e+03\n",
            "  3.63000000e+05  1.02745400e+04  5.23835200e+04  1.13780000e+05\n",
            "  6.05000000e+05  4.88520000e+04  2.20690080e+05  9.77997000e+04\n",
            "  4.74451000e+05  2.33281500e+04  3.11100000e+04  9.53745000e+04\n",
            "  1.52500000e+03  4.30000000e+05  9.48992000e+06  5.54786000e+03\n",
            "  1.00278720e+05  1.13879000e+04  5.43110000e+04  2.71555000e+06\n",
            "  3.94013000e+03  5.57108000e+04  1.39082500e+05  1.93577900e+04\n",
            "  2.23850000e+04  2.21586000e+03  3.90000000e+04  2.77000000e+05\n",
            "  4.51500000e+05  4.34000000e+01  3.08400000e+04  2.30400000e+05\n",
            "  5.97000000e+03  2.77000000e+03  6.92500000e+04  2.77000000e+04\n",
            "  1.22880000e+04  1.00295000e+05  3.06600000e+05  3.57200000e+03\n",
            "  4.31400000e+03  2.00070000e+04]\n",
            "Unique values in 'ransomamtus': [         nan  2.00000e+04  0.00000e+00 -9.90000e+01  4.00000e+05\n",
            "  6.00000e+04  1.00000e+05  2.00000e+05  3.00000e+06  5.00000e+06\n",
            "  6.00000e+06  2.00000e+06  3.00000e+05  1.88400e+06  1.50000e+07\n",
            "  2.00000e+07  1.50000e+06  8.00000e+06  1.19365e+03  1.50000e+04\n",
            "  1.00000e+08  1.32000e+08  6.60000e+06  1.00000e+04]\n",
            "Unique values in 'ransompaid': [           nan  1.1000000e+05  1.2000000e+04  1.5000000e+04\n",
            "  1.0000000e+05  4.0000000e+05  8.0000000e+04  0.0000000e+00\n",
            "  2.2000000e+05  4.0000000e+04  2.5000000e+04  1.0000000e+07\n",
            "  2.0000000e+04  1.0000000e+06  7.0000000e+05  5.0000000e+06\n",
            "  1.5000000e+06  1.1500000e+06  1.4200000e+07  5.0000000e+05\n",
            "  6.2100000e+05  4.1000000e+07  1.3300000e+04  2.7000000e+04\n",
            "  2.0000000e+06  4.0800000e+05  1.4000000e+05  1.3000000e+06\n",
            "  8.5714000e+04  5.0700000e+06  2.1000000e+06  5.1000000e+05\n",
            "  2.2000000e+06  1.0700000e+07  5.3000000e+04  5.7142000e+04\n",
            "  1.2500000e+05  7.5000000e+04  5.0000000e+04  4.5000000e+04\n",
            "  8.0000000e+05  2.3000000e+06  3.6000000e+04  3.8500000e+04\n",
            "  1.4000000e+06  6.6000000e+04  9.9900000e+02  1.2000000e+05\n",
            "  2.4000000e+04  2.0000000e+00  2.5000000e+06  3.5700000e+04\n",
            "  6.0000000e+06  7.5000000e+06  6.2000000e+04  3.0000000e+07\n",
            "  8.0000000e+06  2.4000000e+05  7.4000000e+03  2.6325000e+04\n",
            "  1.9500000e+05  3.8500000e+05  1.9500000e+07  2.0000000e+05\n",
            "  1.9100000e+05  2.6200000e+06  1.3000000e+03  9.0000000e+04\n",
            "  4.1232000e+05  9.4343000e+04  2.4231700e+05 -9.9000000e+01\n",
            "  4.8000000e+04  2.6000000e+04  2.3060000e+05 -9.0000000e+00\n",
            "  3.6900000e+06  1.7000000e+06  1.0000000e+04  1.7250000e+03\n",
            "  1.0125000e+05  7.8600000e+04  6.0000000e+04  3.3970300e+05\n",
            "  4.8800000e+03  2.4354000e+06  7.9680000e+04  4.5000000e+03\n",
            "  1.9000000e+07  6.3700000e+03  1.2000000e+07  1.1936500e+03\n",
            "  1.0123770e+04  1.1539365e+05  2.3049400e+03  7.9555000e+04\n",
            "  4.2000000e+06  7.8900000e+04  2.3697500e+05  1.8702000e+04\n",
            "  3.0000000e+06  4.0764000e+03  8.1171500e+06  9.4250000e+04\n",
            "  1.9213900e+05  5.0940000e+05  3.0000000e+05  6.4516050e+04\n",
            "  3.9067280e+05  1.1118540e+04  2.3726220e+05  8.2767800e+03\n",
            "  2.3541000e+06  6.0306600e+03  4.0100000e+04  1.1289240e+04\n",
            "  2.9165240e+05  4.1943000e+04  1.2268500e+06  4.4772800e+03\n",
            "  1.4053600e+03  2.2180660e+04  6.3800000e+05  4.5080000e+03\n",
            "  1.0030335e+06  2.5122980e+04  2.9660000e+03  2.7500000e+08\n",
            "  2.0000000e+02  8.2000000e+02  3.8169760e+04  3.0000000e+04\n",
            "  1.0604355e+06  6.0277530e+05  3.7399500e+03  9.9288000e+04\n",
            "  1.1861400e+03  2.2857143e+05  1.0049200e+03  1.0057300e+03\n",
            "  6.5136000e+02  3.8880000e+02  1.1095700e+03  3.9401300e+03\n",
            "  1.3927700e+04  6.7000000e+03  1.3908250e+04  1.8465500e+03\n",
            "  3.9000000e+04  6.9250000e+03  7.5000000e+05  1.5440000e+04\n",
            "  6.9804000e+04  2.7700000e+04  7.7150000e+04  3.5720000e+03\n",
            "  4.3140000e+03]\n",
            "Unique values in 'ransompaidus': [        nan  0.0000e+00  2.6325e+04  4.0000e+04  6.5000e+02 -9.9000e+01\n",
            "  4.8000e+04 -9.0000e+00  1.0000e+04]\n",
            "Unique values in 'ransomnote': [nan\n",
            " 'A note, with a sticker of the Black Liberation Army, demanded $20,000 for the safe return of the bartender.  However, the perpetrators left the bartender alone and he was able to escape.'\n",
            " 'Perpetrators demanded support by the Dutch in the UN for independence for the Moluccan Islands.'\n",
            " 'The gunmen demanded the release of 21 South Moluccans jailed in the Netherlands on terrorism charges.  They also demanded a plane to transport themselves and the jailed individuals to an unspecified location.'\n",
            " 'Demand access to the airport.'\n",
            " 'Assailants demanded the release of prisoners'\n",
            " 'The perpetrators demanded that Russians forces stop shelling the town of Pervomayskaya.'\n",
            " 'Reports on whether or not ransom was paid were conflicting.'\n",
            " 'Two ransoms were demanded in this incident, for a total of $2,500,000 ($500,000 for hostage number one, Edward Leonard, and $2 million for hostage number 2, Norbert Reinhart).'\n",
            " 'The note, left in an envelope, said the plane would be blown up unless a ransom of 621,000 rubles ($100,000) was placed in the toilet and the aircraft belonging to East-Line Airlines allowed to fly out of Russia.  The note said there were several remote-control bombs on the plane, while the hijacker was armed with a grenade.'\n",
            " '5 Million Philippine Pesos [converted to 2009 USD]'\n",
            " 'The ransom was only demanded for one of the Spanish hostages.'\n",
            " 'This kidnapping was a financing operation for ELN and FARC. No specific information was given on the ransom.'\n",
            " 'This kidnapping was a financing operation for FARC. No specific information was given on the ransom.'\n",
            " 'The ransom note was sent to the family for 5 million Philippine Pesos. [converted to 2009 USD]'\n",
            " 'The perpetrators demanded the release of  Islamic extremists held in Uzbek prisons.'\n",
            " \"While Downey's body was found 15 hours after his abduction, it is unclear when he died and hence how long the kidnapping incident lasted.\"\n",
            " 'It was not known whether a ransom was demanded.'\n",
            " 'The ransom was never paid.'\n",
            " 'Reports did not specify the amount of ransom requested.' 'No'\n",
            " 'One hostage was killed on day 1. Ransom demand included $200 million (U.S.), the body of a dead comrade, and the release of a Muslim cleric and 35 other militants held in Indian jails. They settled for the release of three prominent militants: Maulana Masood Azhar, Mohammad Omar Syed, and Mushtaq Ahmad Zarzar.  One of the released was a cleric who leads a group seeking independence for Indian-held Kashmir.'\n",
            " 'None' 'Unknown'\n",
            " 'The victim was told that she was on a death list, as was four other journalists.'\n",
            " 'The ransom note, demanding 10 million rupees, was sent by way of release of other hostages'\n",
            " 'In addition to money, the abductors also made a variety of political demands, including the release of prisoners'\n",
            " \"Drummond Company stated during the kidnapping that they would not pay any ransom.  However, there was no mention of ransom paid in reports of the hostages' releases.\"\n",
            " 'Azad made a list of seven demands: 1) eradicate corruption from society, 2) salary and wage rises for the Police Force, 3) execution for Policemen found taking bribes, 4) closing all tobacco industries and advertisements in Bangladesh, 5) a fine of Taka 1'\n",
            " \"The kidnapper's demands included the implementation of two drinking water projects and the reinstatement of tribe members to the civil and military jobs, from which they had been dismissed.\"\n",
            " 'The abductors demanded the release of prisoners'\n",
            " 'The group also demanded a halt to logging by the firm and the removal of police forces from the region.'\n",
            " 'The captors asked for employment in return for the the release of the captive.'\n",
            " 'The captors asked for schools and development projects in return for the the release of the captive.'\n",
            " 'The hostages were only held a few hours before they were killed.' '0'\n",
            " '-9'\n",
            " 'The assailants demanded the removal of government troops from Congo in exchange for the release of the hostages.'\n",
            " 'Gracia Burham later stated that although ransom was paid for her and her husband, the ASG refused to release them.'\n",
            " 'Philippino President Gloria Arroyo refused to pay any ransom from the very beginning of the conflict, although it is possible that ransom was paid for some of the hostages by their relatives: $100000 - 200000 per person.  Many of those taken hostage in the initial attack escaped or were freed during government offensives during the following year.'\n",
            " 'Philippino President Gloria Arroyo refused to pay any ransom for hostages taken in the attck, although it is possible that ransom was paid for some of the hostages by their relatives: $100000 - 200000 per person.'\n",
            " 'Ransom: 30 million dinar.'\n",
            " 'One of the people who had to collect the money demanded by the kidnappers warned the military, which immediately proceeded to carry out the rescue operation, according to the military report.'\n",
            " '160,000 Cdn [converted to 2009 USD]'\n",
            " 'Chechen law-enforcement carried out search operations.'\n",
            " 'A letter was mailed to the provincial governor with the ransom demand.'\n",
            " 'The assailants demanded the release of ten of their people'\n",
            " 'P50,000 [converted to 2009 USD]'\n",
            " 'Whether any ransom had been asked or paid was not reported.'\n",
            " 'It was reported that the perpetrators demanded one million dollars for each hostage.'\n",
            " 'The assailants demanded that a rival paramilitary leader be killed'\n",
            " 'The kidnappers demanded that six Taliban members be freed from prison.'\n",
            " \"The kidnapper called Francis Ngajokpa stating that he would release the minister's daughter for an undisclosed ransom amount.\"\n",
            " 'N260,000,000'\n",
            " 'The group released one hostage a head of the rest to relay the demand.'\n",
            " 'The kidnappers were demanding the release of two Taliban fighters in exchange for the hostages.'\n",
            " 'Ransom was not in a nominal amount. It was for the immediate removal of Italian forces in Southern Iraq, specifically around Nasiriyah.'\n",
            " 'Ansar E-Din wanted the release of Muslim prisoners in Iraq who were detained by US led coalition.'\n",
            " 'The ransom was not paid by Indonesia or Malaysia.'\n",
            " 'The \"ransom\" demanded on video was the departure of the Turkish truck driver\\'s company from Iraq.'\n",
            " 'In addition to the ransom, the kidnappers demanded the release of at least four prisoners from Abu Ghraib prison in Iraq.'\n",
            " 'The group demanded the resignation of President Alejandro Toledo.'\n",
            " 'Demanded release of one thousand Palestinian prisoners in exchange for her release.'\n",
            " \"The perpetrators placed a call to the local Catholic diocese from Monsignor Casmoussa's mobile phone.\"\n",
            " \"The perpetrators wanted the Berjani Group to cease all business in Iraq in exchange for Gebrayel Adib Azar's safety.\"\n",
            " 'On the website, the groups each demanded that Italy withdraw their troops.'\n",
            " 'Demand was not a specific quantity but was services such as water, good roads, schools, etc., that the oil company had failed to deliver.'\n",
            " 'Reports did not state that Al Hamrah had paid the ransom amount. The actual ransom demand was for 60,000 Kuwaiti Dinars. The U.S. dollar amount appearing under \"Total Ransom Amount Demanded\" is the exchange rate for the 60,000 Kuwaiti Dinars as of March 2009.'\n",
            " \"Reports indicated that Zaein's captors had demanded a ransom, but did not indicate how much they wanted in exchange for his life.\"\n",
            " 'Reports indicated that Jawid was released after having paid his abductors ransom.  However, reports did not disclose the amount asked for and paid.'\n",
            " 'Ransom Amount: 750 million centimes'\n",
            " 'The perpetrators were caught by Colombia\\'s Gaula Police Unified Action Groups to Rescue Kidnap Victims. The actual ransom demand was for 70 million Columbian Pesos (COP). The U.S. dollar amount appearing under \"Total Ransom Amount Demanded\" is the exchange rate for the 70 million COP as of March 2009.'\n",
            " 'The Yemeni tribesman/kidnappers demanded the release of their relatives held on suspicion of traveling to Iraq to fight the U.S.-led coalition.'\n",
            " 'Al-Qaida demanded that Sudan withdraw its Embassy in Iraq.  They complied and the hostages were set free.'\n",
            " 'Video footage was taken of the victims.'\n",
            " 'The perpetrators demanded the release of all female Iraqi prisoners in US custody.'\n",
            " 'Ransom Amount: 500 million centime'\n",
            " 'Perpetrators were seeking the release of Taliban fighters rather than monetary gain.'\n",
            " 'Ransom Amount: 800 million centimes'\n",
            " 'The perpetrators called for the closure of the UAE embassy in Baghdad and of the television station Al-Fayhah, but no money.  The victims family offered to pay a ransom.'\n",
            " 'The perpetrators were seeking the release of two suspected militants who were arrested earlier in the day in connection with a shooting at two Thai marines. Eleven teachers were taken hostage and all were released that same day, but two sustained critical injuries.'\n",
            " 'The perpetrators released Shalit in exchange for the release of over 1,000 prisoners from Israeli jails.'\n",
            " 'Ransom Amount: 900 million centime'\n",
            " \"The assailants called the victim's father and told him that if the ransom was not paid in five days, his son would be killed. Ransom demanded: 4 billion centimes.\"\n",
            " 'The Taliban demanded the release of Taliban prisoners from Afhan custody.'\n",
            " 'Demanded release of Muslim prisoners in British custody'\n",
            " 'Ransom was in the form of Italian withdrawal of military forces from Afghanistan rather than monetary.'\n",
            " 'NPR 5,000,000 converted to USD'\n",
            " 'Kidnappers demanded the release of 15 of their extremist comrades in return for the 4 kidnapped policemen.'\n",
            " 'Kidnappers demanded that British forces withdraw from Iraq'\n",
            " 'Ranson demand sent in a text message to a senior Indorama manager on June 7.'\n",
            " 'Militants wanted to swap the soldiers for detained militants.'\n",
            " \"This incident was reportedly 'all about the money.' One source states that the perpetrators demanded $1,000,000 dollars, but in fact received nothing for Gouil's release.\"\n",
            " 'The militants demanded that some of their own be freed.'\n",
            " 'Families refused to pay ransom'\n",
            " 'The assailants initially demanded the release of three prisoners from Guantanamo Bay before requesting the $1.5 million ransom.'\n",
            " 'The release of certain prisoners in Algeria and Tunisia, realease of two militants in Vienna and 5 million euros.'\n",
            " 'Wanted to be driven to nearest airport.'\n",
            " 'N12 Million ($79,680 USD) was paid for the release of the children.'\n",
            " 'A ransom ranging from $27,272 to $681,818 US dollars was demanded by the kidnappers. A \"Board and Lodging\" fee of $2,250 U.S. dollars was paid by the negotiator twice for the release of the cameraman and again for the release of the remaining hostages.'\n",
            " '\"board and lodging fee\"'\n",
            " 'Sources indicate that a ransom was paid but do not specify the amount.'\n",
            " \"The assailants sent a letter to Abdol Ahad's house, saying that unless $100,000 was paid to them in three days, they would kill Abdol Ahad.\"\n",
            " 'It is unknown if a ransom was paid.'\n",
            " 'Bowe Bergdahl was released in exchange for the freedom of five Taliban members being held in Guantanamo prison.'\n",
            " 'A cash ransom as well as the release of a militant commander is sought.'\n",
            " 'Family failed to pay the USD235,000 ransom.'\n",
            " 'There was a ransom demand of an unspecified amount.'\n",
            " 'The perpetrators demanded the release of a member of their group who was in custody.'\n",
            " \"The kidnappers initially demanded 2.7 million (59,387 USD) for the candidate's release which they later reduced to one million (21,995 USD).\"\n",
            " 'The Taliban demanded 800,000 Afghanis for the release of the observers.'\n",
            " 'The militants demanded P1 million (23,255 USD) in ransom for the release of Cecilia Sosas.'\n",
            " 'The kidnapper demanded 200,00 dollars for one of the engineers.'\n",
            " \"The EPP demanded from Pereira's family one million USD for his release or as an alternative demanded that the Paraguayan government release Miguel Lopez Perito, leader of Gabinete and the 10 de Abril Movement in exchange for Pereira\"\n",
            " 'The hostage was released unharmed in exchange for the release of at least five imprisoned Communist Party of India-Maoist (CPI-M) cadres.'\n",
            " 'The assailants initially demanded a ransom of $110,076 USD but then reduced the amount to $33,023 USD.'\n",
            " 'Authorities claim the kidnappers demanded compensation from the government for the 45 families who were killed by a suspected U.S. airstrike against a supposed Al Qaeda training camp in Al-Majala district of Abyan in late 2009 among other unstated non-monetary demands.'\n",
            " 'The assailants later lowered their ransom demand to $461,574.60'\n",
            " \"In a video released by the captors, McManus asks the British government to meet the demands of al Qa'ida. Sources do not indicate what the demands were.\"\n",
            " 'The assailants demanded that the hostages refrain from leaking information to the police.'\n",
            " \"The Tehrik-e-Taliban Pakistan's (TTP) commander has claimed they will free the hostages if the United States releases Aafia Siddiqu, a Pakistani woman convicted of trying to kill Americans.\"\n",
            " 'The ransom demand was later lowered to $10,000,000.00.'\n",
            " 'NLFT-BM set a ransom notice of one million Indian rupees for the release of eight tribal villagers on 07/20/2011.'\n",
            " \"In December 2011, Zawahiri stated that Weinstein would be released in exchange for the release of all al Qaida and Taliban prisoners, as well as the 1993 World Trade Center attackers and members of Osama bin Laden's family, the closing down of U.S. military prisons, including at Guantanamo Bay, Cuba, ending all bombing in Pakistan, Afghanistan, Yemen, Somalia, and Gaza, and allowing movement of people and trade between Egypt and Gaza.\"\n",
            " 'MUJAO demanded 30 million euros and the release of two Sahrawis arrested for their role in the kidnapping. They stated that their demands had been met, but the amount of ransom paid was unspecified.'\n",
            " 'The militants demanded a sizeable ransom, the amount was not released.'\n",
            " 'The perpetrator did not make a ransom demand in this case. However, he did request that the incident be shown on television.'\n",
            " 'The assailants did not demand any money for the release of the victim. Instead, they demanded that government forces be removed from Garo Hills.'\n",
            " '3500000 Euros' 'The demands for release were not reported'\n",
            " 'No ransom demand reported' 'No information regarding ransom given.'\n",
            " 'No information regarding ransom demand'\n",
            " 'No ransom was demanded.  The hostages were let go almost immediately.'\n",
            " 'No mention of ransom demanded.'\n",
            " 'No information given beyond the statement that five soldiers had been taken hostage.  As of December 19, 2011, efforts were still underway to locate the missing soldiers.'\n",
            " 'No reported information on a ransom'\n",
            " 'No information available regarding ransom'\n",
            " '5 million Nigerian Naira (approximately $32,000 U.S.) was demanded for the release of the victim in this case. The ransom was not paid.'\n",
            " 'No report of ransom demand'\n",
            " \"It is unknown if a ransom was paid for the victim's release.\"\n",
            " \"The perpetrators demanded that China pressure the government of Sudan to allow humanitarian aid into the country's restive northern region in exchange for the release of the hostages.\"\n",
            " \"The perpetrators demanded the release of one of their relatives in exchange for the victims' release.\"\n",
            " 'It could not be determined if the victim was released after negotiations or due to payment of a ransom.'\n",
            " 'The assailants later lowered their ransom demand to $70,958.02.'\n",
            " 'The perpetrators demanded that the government release all Maoist rebels from prison and that they disband all police and paramilitary camps in exchange for the release of the victims in this incident.'\n",
            " 'The perpetrators demanded Rs 1.2 crore. It was not reported whether the perpetrators were paid any ransom amount.'\n",
            " 'Reports indicate that the perpetrators made demands, but those demands were not identified.'\n",
            " 'The assailants have demanded an undisclosed amount of money and the release of prisoners in exchange for the release of the victim.'\n",
            " 'In addition to demanding 15 million Euro, the perpetrators also demanded the release of prisoners in exchange for the release of the diplomats.'\n",
            " 'The kidnap victims in this incident were released after the Afghan government agreed to release the relatives of a Taliban commander that had been jailed.'\n",
            " \"Sources stated that the  abductors called Faizul Islam's family members  demanding 1 crore ransom for his release.\"\n",
            " 'The perpetrator demanded that the relatives of the victims in this incident leave their government jobs in exchange for the release of the abductees.'\n",
            " 'The perpetrators reportedly demanded the release of anti-Assad prisoners being held in Syria and Lebanon in exchange for the release of the victims.'\n",
            " 'There were no monetary demands. The kidnappers demanded the release of their relatives who were jailed for involvement in terrorists activities.'\n",
            " 'The perpetrators in this incident demanded an unspecified number of weapons in exchange for the release of the abductees.'\n",
            " 'The perpetrators stated that the purpose of the abduction was to secure the release of 11 Lebanese pilgrims being held by Syrian opposition groups.'\n",
            " 'Perpetrators demanded money for the release of their fellow member, and return of land they claimed they had won.'\n",
            " 'The perpetrators in this incident demanded jobs in the police force in exchange for the release of the abductees.'\n",
            " 'The hostages were released in exchange for the release of 2130 prisoners being held in Syrian prisons.'\n",
            " 'The hostage victim was released by the perpetrators on October 7, 2012 in exchange for the promise of the release of a jailed kinsman of the Yemeni tribesmen who abducted the hostage victim.'\n",
            " 'The assailants demanded the release of Taliban prisoners in exchange for the release of the hostages.'\n",
            " 'The assailants later increased their ransom demanded to $25,000,000.'\n",
            " 'The assailants originally demanded $700,000 in exchange for the release of the three hostage victims. The hostage victims were later released on February 3, 2013 in exchange for the release of an unknown number of affiliated militants'\n",
            " 'An unknown amount was demanded for the release of the victim; however, the ransom was not paid. Instead, as a condition of his release, the victim was forced to sign a document stating that he would not seek a seat in an upcoming election.'\n",
            " 'The assailants demanded the release of Khaled Suleiman, an imprisoned Saudi Arabian national, in exchange for the return of the hostage.'\n",
            " 'The release of prisoners Omar Abdel and Aafia Siddiqui was demanded.'\n",
            " 'The perpetrators demanded that the construction of a local bridge stop in exchange for the release of the victims.'\n",
            " 'In addition to a monetary demand, the perpetrators also asked for the release of prisoners being held in Cameroon and Nigeria. An unspecified number of prisoners were reportedly released by both countries.'\n",
            " 'The assailants originally demanded $167,630 for the release of the victims, but later reduced the sum to $83,610.'\n",
            " 'The release of Taliban prisoners was demanded in this attack.'\n",
            " 'A ransom was paid for only one of the hostage victims.'\n",
            " 'The perpetrators demanded that citizens not participate in upcoming elections in exchange for the release of the kidnap victims.'\n",
            " 'The amount that was demanded for the release of the victim conflicts across sources. Following GTD protocol, the lowest estimate is reported here.'\n",
            " 'The assailants demanded the release of their imprisoned accomplices in exchange for the safe release of the hostages.'\n",
            " 'It is unknown if ransom was demanded in this kidnapping.'\n",
            " 'The perpetrators demanded the release of an unknown number of prisoners in exchange for the release of the kidnap victims.'\n",
            " 'It is unknown if ransom was requested in this kidnapping.'\n",
            " 'The perpetrators demanded that military activities in two contested areas be suspended in exchange for the release of the kidnap victims.'\n",
            " 'The kidnappers demanded the release of their jailed relatives from the central prison in Abyan.'\n",
            " 'The perpetrators demanded the release of prisoners in exchange for the kidnap victims.'\n",
            " 'The perpetrators demanded the release of a prisoner in exchange for the victims that were kidnapped in this incident.'\n",
            " 'Sources conflict on whether the assailants originally demanded $500,000 or $106,636.80.'\n",
            " 'Three prisoners were released in exchange for the release of the abductees.'\n",
            " 'The assailants demanded the release of two prisoners in exchange for the release of the victim.'\n",
            " 'The assailants demanded $33,526 from Nirajoy Tripura, a legislator, and $38.55 from an unknown number of families for the release of the victims.'\n",
            " 'The assailants originally demanded $301,279 for the release of the hostage victims. They later lowered the demands to $37,660.'\n",
            " 'The perpetrators demanded the release of Taliban prisoners and their family members in exchange for the release of the hostages.'\n",
            " 'The assailants demanded that a Manobo tribal chieftain be freed in exchange for the safe release of the hostage.'\n",
            " 'The assailants originally demanded $300,000 for the release of the hostage victim. They later increased their demands to $ 1,500,000 for his release.'\n",
            " 'It is unknown if a ransom was demanded in this kidnapping.'\n",
            " \"The assailants demanded the deactivation of 50 newly appointed government militia members and the withdrawal of military forces in exchange for the hostages' release.\"\n",
            " 'It is unknown if any ransom was demanded in this kidnapping.'\n",
            " 'It is unknown if any ransom was demanded in this attack.'\n",
            " 'The assailants demanded that electricity be extended to their village.'\n",
            " 'The assailants agreed to free the hostages on the condition that the Pakistani government stop sending polio vaccination teams into the area.'\n",
            " 'The perpetrators demanded the release of 1,000 female detainees from Syrian prisons.'\n",
            " 'The perpetrators demanded the release of individuals imprisoned in political and national security prisons without any charges or legal cases against them.'\n",
            " 'It is unknown if any ransom was demanded.'\n",
            " 'The assailants later reduced the demanded ransom amount to $116,861.'\n",
            " 'Although family sources reported that an undisclosed amount of money was paid for the release of the hostages, the police denied that any ransom was paid to the assailants.'\n",
            " 'A ransom was paid for only three of the hostages.'\n",
            " 'The assailants demanded six AK-47 rifles in exchange for the release of the hostage.'\n",
            " \"The assailants demanded the release of Sha'ban Hadiyah, the head of the Libya Revolutionaries' Operation Room (LROR), in exchange for the hostage.\"\n",
            " 'The ransom amount paid for this incident conflicted across sources. Following GTD protocol, the majority reliable estimates are reported here.'\n",
            " \"It is unknown whether the ransom was paid. While an intelligence official asserted that the ransom was paid, the victim's family denied paying the ransom demand.\"\n",
            " 'The total ransom amount demanded for this incident conflicts across sources. Following GTD protocol, the lowest reliable estimate is reported here.'\n",
            " 'The soldiers will be returned in exchange for the evacuation of all military camps in the governorate and the transfer of military leadership to soldiers from Hadramout.'\n",
            " 'The total ransom amount demanded for this incident conflicts across sources. Following GTD protocol, the majority reliable estimates are reported here.'\n",
            " 'While one source reported that the assailants demanded that the hostages resign from the Afghan National Army (ANA) in return for their safe release, another stated that the assailants demanded the return of the deceased bodies of two of their cohorts in exchange for the hostages.'\n",
            " 'The assailants demanded the release of two Libyan terror suspects in exchange for the safe return of the hostage.'\n",
            " 'It is unknown if a ransom was paid in exchange for the release of the hostage.'\n",
            " 'It is unknown whether a ransom was demanded or not.'\n",
            " \"The hostage's family paid $500,000 ransom and donated $50,000 worth of food to impoverished communities as demanded by the assailants.\"\n",
            " 'Prisoners were also exchanged for the release of the hostages.'\n",
            " 'The Nigerian government paid a $2,354,100 (2,000,000 EUR) ransom for the release of 82 hostages on May 6, 2017.'\n",
            " 'The assailants demanded the release of imprisoned pro-Russian separatists in exchange for the safe return of the hostages.'\n",
            " 'It is unknown if this ransom was paid.'\n",
            " 'The perpetrators demanded the acquittal and release of Justice and Equality Movement (JEM) members who are currently facing life in prison and death penalty charges in connection with the May 10, 2008 attack on Omdurman.'\n",
            " 'The assailants also demanded that the German government discontinue its support of the recent airstrikes against the Islamic State of Iraq and the Levant (ISIL).'\n",
            " 'The assailants demanded the release of an imprisoned relative in exchange for the safe return of the hostage.'\n",
            " 'The assailants demanded the return of 20 slain perpetrators in exchange for the release of the hostage.'\n",
            " 'The assailants demanded the release of imprisoned pro-Russian supporters in exchange for the safe return of the hostages.'\n",
            " 'The assailants demanded that one of the hostages resign from his local government position in exchange for his safe release.'\n",
            " 'The perpetrators demanded the release of Aung Soe, the removal of existing fence work, and no additional erecting of fencing on land whose owners rejected land subsidy from the government. Later, they demanded the total halting of the Letpadaung project.'\n",
            " 'The assailants demanded the release of prisoners in exchange for the safe return of the hostages.'\n",
            " 'The assailants later lowered their demand to $158,049.43 and then to $67,735.47.'\n",
            " 'The assailants demanded cattle in exchange for the release of the hostages.'\n",
            " 'A ransom was paid for only one of the hostages.'\n",
            " 'The assailants demanded the release of thousands of prisoners in exchange for the safe return of the hostages.'\n",
            " \"Prior to the ransom demand, the assailants originally demanded that the victim's son resign as Bayelsa State Commissioner in exchange for her release. The assailants also demanded that the victim's family provide them with four Nokia handsets in exchange for her release.\"\n",
            " 'The assailants later lowered their ransom demand to $842626.05.'\n",
            " 'The assailants later lowered their ransom demand to $109,931.16.'\n",
            " 'A ransom was paid for only two of the hostages.'\n",
            " 'It is unknown how much ransom was paid.'\n",
            " 'It is unknown if the $5,500,000 ransom was paid in this incident.'\n",
            " 'The kidnappers asked the victim to pay Rs 1 lakh when she got home.'\n",
            " 'The kidnap victims were released in a hostage swap.'\n",
            " 'The assailants later lowered their ransom demand to $8,105.05.'\n",
            " 'The assailants demanded that the military suspend its operations in Bukidnon in exchange for the release of the hostages.'\n",
            " 'The assailants demanded the release of prisoners in exchange for the return of the hostage.'\n",
            " \"The assailants demanded the release of two Donetsk People's Republic members in exchange for the safe return of the hostages.\"\n",
            " 'In exchange for the hostages, the assailants demanded that their organization be removed from the United Nations (UN) terror list; humanitarian aid be delivered to Damascus; and they receive compensation for the deaths of three of their fellow members.'\n",
            " 'The assailants demanded the release of 11 of their imprisoned members, including a leader, in exchange for the safe return of the hostages.'\n",
            " 'In addition to the ransom demand, the assailants also demanded the release of two of their imprisoned members and permission to move unimpeded in Maghrib Ans district in exchange for the safe return of the hostages.'\n",
            " 'The assailants demanded the release of their imprisoned relatives in Egypt in exchange for the safe return of the hostages.'\n",
            " 'The assailants demanded the release of their imprisoned leader in exchange for the safe return of the hostage.'\n",
            " 'The assailants demanded the release of their imprisoned leader in exchange for the safe return of the hostages.'\n",
            " 'The assailants later demanded the release of Sajida al-Rishawi, a woman imprisoned in Jordan on terrorism charges, in exchange for the safe return of the hostage.'\n",
            " \"One of the hostage victims was released in a prison exchange between the People's Protection Units (YPG) and the Islamic State of Iraq and the Levant (ISIL).\"\n",
            " 'The assailants demanded the release of Sajida al-Rishawi, a woman imprisoned in Jordan on terrorism charges, in exchange for the safe return of the hostage.'\n",
            " 'The assailant demanded that security forces allow Cherif Kouachi and Said Kouachi, who were involved in another hostage situation on the same day, to go free in exchange for the release of the hostages.'\n",
            " 'The hostage victim was released by the assailants in exchange for the release of two individuals, one Russian fighting for the separatists and a civilian who was accused of supporting the separatists (Oksana Lytovchenko).'\n",
            " 'The hostages were released in a prisoner swap.'\n",
            " 'The assailants demanded an unknown amount for the release of the hostage victims.'\n",
            " \"The assailants reportedly demanded the release of anti-Balaka commander Rodrigue Nagibona in exchange for the kidnap victim's freedom.\"\n",
            " 'The victims were released after the assailants were promised party funds.'\n",
            " \"The assailants originally demanded $23647.95 but later lowered this amount to $7882.65 and ten women's watches and two mobile handsets.\"\n",
            " 'The assailants demanded a ransom of $20,000 (50 million pesos) for each of the two hostages.'\n",
            " 'The assailants demanded the removal of military personnel from an army camp, the incorporation of 200 Radfan locals into the 201st Armored Brigade, the reinstatement of forcibly-retired military personnel from 1994, and the removal of five recently-established checkpoints in exchange for the safe release of the hostages.'\n",
            " 'There are conflicting reports regarding ransom demands. On May 5, 2015, it was reported that the assailants demands $100,000 for each prisoner, totaling $23,000,000 (Cross Map 05/05/2015). On October 9, 2015, it was reported that the assailants demanded $50,000 for each prisoner, totaling $14,000,000 (Christian Post, 10/19/2015). Later, reports noted that the assailants demanded $18,000,000 for the release of the hostage victims (San Francisco Chronicle, 2/22/2016). Finally, it was noted that less than $9,000,000 was paid for the release of the hostage victims (San Francisco Chronicle, 2/22/2016).'\n",
            " 'The assailants demanded the release of comrades held by the Afghan government in exchange for the hostages.'\n",
            " 'The assailants originally demanded $221388.40 for the release of the hostages. They later reduced their ransom demands to $21891.42.'\n",
            " 'The assailants demanded $150,000 for the release of the hostage victims. In addition, the assailants demanded three trucks loaded with food and relief aid.'\n",
            " 'The assailants demanded a live confession of police officers who killed Berkin Elvan in March 2014. Additionally, the assailants demanded that these police officers be put on trial before a \"people\\'s\" court.'\n",
            " 'The assailants requested either a ransom or the apples stocked in the truck.'\n",
            " 'Hostage was released after diplomatic negotiations.'\n",
            " 'The assailants demanded the release of two civilians in exchange for the release of the hostage victims.'\n",
            " 'Other sources noted that the assailants demanded a ransom of $68,629.64. The ransom was later decreased to $2,156,428. It was then decreased to $215,642. Finally, it was decreased to $64,693.'\n",
            " '$7610.36 might have been paid to kidnappers.'\n",
            " \"The assailants demanded $638,000 for the release of the hostage victims. In addition to monetary ransoms, the assailants demanded medicine from the victims' families.\"\n",
            " 'The assailants demanded a ransom of $5,000 for the release of one of the fourteen hostage victims.'\n",
            " 'The assailants demanded the release of four foreign prisoners in exchange for the hostages.'\n",
            " 'The assailants later decreased the ransom demanded to $4534.47.'\n",
            " 'The assailants demanded $50665.72 (70,000 Libyan Dinars) for the release of the hostage victims.'\n",
            " 'Al Nusra Front demanded an unknown ransom for the release of the hostage victim.'\n",
            " 'The assailants demanded an unspecified ransom for the release of hostage victims.'\n",
            " 'The assailants demanded the release of female prisoners in exchange for the release of the hostage victims.'\n",
            " 'Two sources note that the assailants demanded $40,000; however, the coding reflects the lowest reliable information, $20,000 as a ransom.'\n",
            " 'Assailants demanded the release of fifty Salafi jihadists who are being held by HAMAS. Additionally, the assailants desire the assurance that these people will not be abducted in the future.'\n",
            " 'The assailants demanded the release of two individuals imprisoned by the Keerom Police in exchange for the hostage victims.'\n",
            " 'The assailants demanded $4355 (300000 Afghani dinars) for each hostage victim in exchange for the release of the four hostage victims.'\n",
            " 'A ransom of four billion Philippine pesos ($80,242,680 USD) was demanded for the release of the four hostages. Fifty million Philippine pesos ($1,003,033.50 USD) was paid for the release of the Norwegian victim.'\n",
            " 'The assailants initially demanded $317,713 (100 million Nigerian Naira), but later reduced the demands to $285,941.70 (90 million Nigerian Naira). A ransom of $25,122.98 (5 million Nigerian Naira) was paid for the release of the victim.'\n",
            " 'The assailants demanded $64326.71 (Tk 50 lakh) for the release of the hostage victims.  The ALP later claimed that no ransom was demanded.'\n",
            " 'The assailants demanded $16,300 for the release of the hostage victims. It is unknown if the ransom was paid.'\n",
            " 'The assailants took hostages to protest against bauxite mining in the area.'\n",
            " 'The assailants demanded an unknown ransom amount for the release of the hostage victim. While the assailants were paid a ransom for the release of the victim, it is unknown how much was paid for the ransom.'\n",
            " 'The assailants demanded the release of government-held prisoners.'\n",
            " 'The assailants provided the hostage victim with a list of demands.'\n",
            " 'The hostage was used as leverage for perpetrators against government threats.'\n",
            " 'The assailants initially demanded $367840 dollars (500,000 Libyan dinars). The assailants later reduced their ransom demands to $220,178.41 (300,000 Libyan dinars). The ransom amount paid to the assailants is unknown.'\n",
            " 'The assailants demanded $2,000.00 per hostage for the release of the hostage victims.  Reports conflict on whether or not a ransom was paid.'\n",
            " 'The assailants demanded an unknown ransom for the release of the hostage victims.'\n",
            " 'The assailants demanded $63636 (210 million pesos) for the release of the hostage victims.  A source of unknown validity (Bogota Caracol Radio Online) reported that a ransom of 30 million pesos (approx. $10,000.00) was paid.'\n",
            " 'The assailants demanded $24,460 (SDG150,000) in exchange for the hostages. It is unknown if any ransom was paid for the release of the hostages.'\n",
            " 'It is unknown if any ransom was requested in this attack.'\n",
            " 'The assailants demanded an unknown amount for the release of the hostage victims. $2966 (Rs 2 lakh) was given as ransom for their release.'\n",
            " 'The assailants demanded the release of certain prisoners held in France.'\n",
            " 'The assailants demanded the return of four hundred sheep in exchange for the release of the hostage victims.'\n",
            " 'The assailants demanded an unknown amount for the release of the hostage victim. The hostage victim was released after an unknown ransom amount was paid.'\n",
            " 'The assailants demanded an unknown amount for the release of the hostage victim. The hostage victim was released after the assailants were paid an unknown amount.'\n",
            " 'The assailants demanded $15,140.00 (Rs 10 lakh) for the release of the hostage victims. The ransom demands were not paid.'\n",
            " 'The assailants demanded $5677746.98 (5 million euros) as a ransom for the release of the hostage victim; however, no ransom was paid.'\n",
            " 'The assailants demanded the release of Sheikh Nimr Baqir al-Nimr from Saudi custody in exchange for the safe release of the hostages. Ransom payment figures conflict across sources, ranging from $275 million to $500 million.'\n",
            " 'The assailants demanded a blanket, clothes, and perfume for the release of the hostage victim.'\n",
            " 'The abductors are demanding the release of Hannibal Gaddafi in exchange for the release of the hostages.'\n",
            " 'The assailants also demanded the release of Nnamdi Kanu, an imprisoned separatist leader, in exchange for the release of the hostages.'\n",
            " 'One hostage was released after paying $200 USD'\n",
            " 'The assailants initially demanded a ransom of an unknown amount for the release of the hostage victims; however, they released 108 of the 110 victims after viewing their identity cards.'\n",
            " 'A ransom of $10635 (approximately 500,000 Philippine pesos) was demanded for each of the hostage victims. The ransom was increased to $21270 (approximately 1,000,000 Philippine pesos); however, two of the three hostage victims were released without the ransom being paid.'\n",
            " 'The assailants demanded $3280 for the release of the hostage victims. The family of the victims paid $820 for the release of the victims and promised to pay the remainder later.'\n",
            " 'Assailants demanded $295 (INR 20,000) from a journalist.'\n",
            " 'The release of the \"Captain,\" presumed to be Hannibal Gadhafi, was demanded for the release of the hostage victim.'\n",
            " 'There is conflicting information on whether $286,724.70 was paid for the release of the hostages.'\n",
            " 'One source reported that the assailants demanded $95,397.10, while a more recent source indicated that a $190,794.20 ransom was demanded. The final three hostages were relased after $38,169.76 (4 million Pakistani Rupees) was paid.'\n",
            " 'An undisclosed amount of ransom was paid.'\n",
            " 'The hostage victims were released on the condition that they promise to not deliver any merchandise to the eastern areas.'\n",
            " \"The abductors demanded the release of their colleague from Tajikistan's custody for the release of the two kidnappees.\"\n",
            " '$1060436 (50 million Philippine pesos) was demanded as ransom for the hostages.'\n",
            " '$108254.01 (150000 Libyan dinars) was demanded as a ransom for the hostages.'\n",
            " 'There was an unconfirmed report that $2,147,561 was paid for the release of the hostages.'\n",
            " 'The assailants demanded the release of one of their captured members in exchange for the release of the hostages.'\n",
            " 'A ransom of $15,860.45 (5 million Naira) was demanded. A source stated that a ransom of $2,220.46 (700,000 Naira) was paid; however, authorities denied that the payment was made.'\n",
            " 'A ransom of $411,862.73 (SDG2.5 million) was demanded for the release of the hostages.'\n",
            " 'A ransom of $29,626.32 USD (2 million INR) was demanded for the release of the hostage.'\n",
            " 'An unspecified monetary payment was made in exchange for the release of the hostage.'\n",
            " 'Assailants demanded payment on May 18, 2016 and abducted victims when it was not received.'\n",
            " 'A ransom of $7,409.01 USD (500,000 INR) was demanded for the release of the hostage.'\n",
            " 'Ransom numbers represent a division of a cumulative ransom amount across incidents 201606200018 and 201606200019.'\n",
            " 'A ransom of $6,354.29 USD (2 million Nigerian Naira) was demanded.'\n",
            " 'A ransom of $602,775.30 USD (30,000,000 PHP) was paid in exchange for the release of the three hostages.'\n",
            " 'The initial ransom demand of $2,000,000 USD was lowered to $500,000 USD.'\n",
            " 'The assailants demanded $11,163,900 (10 million EUR) for the release of the hostage.'\n",
            " 'A ransom of $3,739.95 (300,000 BDT) was paid for the release of the hostage.'\n",
            " 'A ransom of $148,130.40 USD (10,000,000 INR) was demanded for the release of the hostage.'\n",
            " 'Two hostages were freed after a $19,856 ransom payment was made for each victim. The final hostage was released in exchange for a $59,576 payment.'\n",
            " 'The assailants demanded a ransom of $22,240.17 USD (1,500,000 INR). $1,186.14 USD (80,000 INR), a laptop, and a printer were paid in exchange for the release of the hostage.'\n",
            " 'A ransom of $1,000 per hostage was demanded.'\n",
            " 'A ransom of $40,137.28 USD (2,000,000 Philippine pesos) was demanded for the release of the hostages.'\n",
            " 'A ransom of $4,277,040 USD (4,000,000 EUR) was demanded for the release of the hostages.'\n",
            " 'A ransom of $228,571.43 USD (LD 320,000) was paid in exchange for the release of the hostages.'\n",
            " 'A ransom of $502.46 USD (25,000 Philippine Pesos) for each hostage was demanded and paid for the release of the the release of the victims.'\n",
            " 'A handgun was also included in the ransom demand.'\n",
            " 'A ransom of $363,000 (500,000 Libyan dinars) was demanded for the release of the hostage.'\n",
            " 'The assailants demanded the release of six prisoners in exchange for 11 of the hostages.'\n",
            " 'A ransom of $52,383.52 USD (3.5 miliion Indian Rupees) was demanded for the release of the hostage.'\n",
            " 'All ransom demands so far have been deemed fake.'\n",
            " 'The assailants demanded 15 sheep for the release of the hostage.'\n",
            " 'A ransom of $32,568.00 USD (10 million NGN) was demanded for the release of one hostage. A ransom of $16,284.00 USD (5 million NGN) was demanded for the release of the other two hostages.'\n",
            " 'The assailants demanded between two and three million NGR for the release of each hostage. Following GTD protocol, the loweset estimate of 2 million NGR ($6,519.98 USD) per hostage was used to estimate the total ransom demanded.'\n",
            " 'The assailants demanded between two and three million Nigerian Naira for the release of each hostage.'\n",
            " 'The assailants demanded $474,451 (50 million Pakistani Rupees) for the release of the hostage.'\n",
            " 'An initial demand of $23,328.15 was requested as ransom (500,000 Indian Rupees per hostage), however; the captors received $388.80 (25,000 Indian Rupees).'\n",
            " 'A ransom of 10,000 Sudanese Pounds ($1,500) was demanded in this attack.'\n",
            " 'A ransom of 2,000,000 Indian Rupees ($31,100) was demanded.'\n",
            " 'The assailants demanded $95,375.50 (30 million Nigerian Naira) for the release of the hostage.'\n",
            " 'A ransom of 10,000 Sudanese Pounds ($1,525) was demanded for the release of the victims.'\n",
            " 'A ransom of $2000.00 per hostage was demanded.'\n",
            " 'Ransom numbers conflict across sources. Following GTD protocol, the most recent reliable estimates are reported here.'\n",
            " 'The assailants demanded the delivery of aid supplies.'\n",
            " 'The assailants demanded $9,489,920 (1 billion Pakistani Rupees) for the hostage. The ransom demand was lowered to $237,248 (250 million Pakistani Rupees).'\n",
            " 'The assailants demanded $5,547.86 (2 million Naira) for the release of the victims. Both hostages were released after $1,109.57 (400,000 Naira) was paid.'\n",
            " 'The assailants demanded weapons in exchange for the release of the hostage.'\n",
            " 'The assailants demanded $100,278.72 (36 million Naira) for the release of the hostages.'\n",
            " 'The assailants demanded $11,387.90 (1.2 million Pakistani Rupees) for the release of the third hostage.'\n",
            " 'The assailants demanded $54,311 (20 million Naira) for the release of the hostage.'\n",
            " 'The assailants demanded $2,715,550 (1 billion Naira) for the release of the hostages.'\n",
            " 'A $3,940.13 (200,000 Philippine Pesos) ransom was paid for the release of the hostage.'\n",
            " 'The assailants initially demanded $55,710.80 (20 million Naira) for the release of the hostage. The hostage was released after $13,927.70 (5 million Naira) was paid.'\n",
            " 'A ransom of 20 million pesos ($6,700) was paid.'\n",
            " 'The assailants demanded 85 camels for the release of the hostages.'\n",
            " \"The assailants demanded $139,082.50 (50 million Naira) for the release of the hostage. The ransom was reduced to $30,598.15 (11 million Naira) on June 29, 2017. The victim's family paid $13,908 (5 million Naira) for her release.\"\n",
            " 'The assailants demanded the release of Boko Haram members held in prison for the release of the hostage'\n",
            " 'Assailants demanded uninterrupted electricity for their district for the release of the hostages.'\n",
            " 'The assailants demanded $1,846.55 (3 million MMK) for the release of the hostage.'\n",
            " 'The assailants initially demanded $451,500.00 (50 million Pakistani Rupees) for the release of the hostages. This demand was later lowered to $90,300 (10 million Pakistani Rupees).'\n",
            " 'The assailants demanded 70,000 Congolese Franc ($43.40 USD) for the release of the hostages.'\n",
            " 'The assailants demanded $10,000 for the release of each hostage.'\n",
            " 'The assailants demanded $30,840 (2,000,000 Indian Rupees) for the release of the hostage.'\n",
            " 'The assailants demanded $230,400 (15,000,000 Indian Rupees) for the release of the hostage. It is unknown if a ransom was paid.'\n",
            " 'Ransom was raised after the first demand to an unspecified amount.'\n",
            " 'A payment of 1385.00 was offered, but not paid.'\n",
            " 'One of the hostages paid to be released on the day of abduction. The assailants then demanded a formal ransom, which was paid 2 days later.'\n",
            " 'Another report suggested 92580.00 was initially demanded.'\n",
            " 'The assailants demanded $306,600 (20,000,000 Indian Rupees) for the release of the hostage.'\n",
            " 'A ransom of $3,572 (FCFA 1,900,000) was paid for the release of the hostage.'\n",
            " 'A ransom of $4,314 (300,000 Afghani) was paid for the release of the hostage.']\n",
            "Unique values in 'hostkidoutcome': [nan  2.  5.  4.  3.  7.  6.  1.]\n",
            "Unique values in 'hostkidoutcome_txt': [nan 'Hostage(s) released by perpetrators' 'Successful Rescue'\n",
            " 'Hostage(s) killed (not during rescue attempt)'\n",
            " 'Hostage(s) escaped (not during rescue attempt)' 'Unknown' 'Combination'\n",
            " 'Attempted Rescue']\n",
            "Unique values in 'nreleased': [       nan  1.000e+00  5.000e+00  6.000e+01  1.000e+01  1.550e+02\n",
            "  1.750e+02  3.000e+00  4.000e+00  6.000e+00  2.600e+01  1.870e+02\n",
            "  1.050e+02  2.000e+00  8.200e+01  1.300e+01  4.800e+01 -9.900e+01\n",
            "  1.600e+01  8.000e+00  2.300e+01  2.500e+01  9.200e+01  7.000e+00\n",
            "  1.200e+01  7.000e+01  5.600e+01  1.400e+01  3.400e+01  0.000e+00\n",
            "  6.600e+01  4.400e+01  3.000e+01  1.370e+02  1.800e+01  1.100e+02\n",
            "  1.470e+02  4.300e+01  5.000e+01  5.400e+01  1.130e+02  2.150e+02\n",
            "  7.900e+01  3.800e+01  1.020e+02  1.380e+02  1.000e+02  9.000e+01\n",
            "  9.000e+00  2.100e+01  1.140e+02  3.900e+02  1.890e+02  2.640e+02\n",
            "  4.600e+01  1.180e+02  1.310e+02  1.270e+02  1.570e+02  3.300e+01\n",
            "  9.700e+01  7.100e+01  1.610e+02  1.520e+02  2.200e+01  1.250e+02\n",
            "  1.510e+02  1.290e+02  4.200e+01  3.100e+01  3.200e+01  1.620e+02\n",
            "  8.800e+01  1.440e+02  1.150e+02  1.900e+01  4.000e+01  1.100e+01\n",
            "  1.300e+02  1.390e+02  1.560e+02  2.700e+01  1.640e+02  6.900e+01\n",
            "  3.600e+01  1.070e+02  1.990e+02  2.010e+02  1.500e+01  8.000e+01\n",
            "  4.700e+01  2.000e+01  1.700e+01  8.300e+01  2.400e+01  6.400e+01\n",
            "  2.300e+02  8.100e+01  1.880e+02  7.500e+02  3.900e+01  4.960e+02\n",
            "  1.650e+02  9.100e+01  1.720e+02  1.040e+02  5.100e+01  1.900e+02\n",
            "  4.100e+01  2.800e+01  6.200e+01  2.900e+01  6.100e+01  7.800e+02\n",
            "  2.670e+02  1.830e+02  8.560e+02  2.070e+02  9.900e+01  2.000e+02\n",
            "  1.030e+02  3.250e+02  3.500e+01  6.300e+01  9.500e+01  1.280e+02\n",
            "  4.000e+02  7.000e+02  1.260e+02  1.201e+03  4.500e+01  4.900e+01\n",
            "  7.300e+01  8.370e+02  9.300e+01  1.690e+02  1.530e+02  8.500e+01\n",
            "  2.769e+03  5.110e+02  1.920e+02  2.310e+02  3.000e+02  1.010e+02\n",
            "  3.010e+02  1.700e+02  5.700e+01  1.080e+02  1.400e+02  5.500e+01\n",
            "  6.000e+02  7.960e+02  1.000e+03  7.800e+01  3.220e+02  2.350e+02\n",
            "  5.740e+02]\n",
            "Unique values in 'addnotes': [nan\n",
            " 'The Cairo Chief of Police, William Petersen, resigned as a result of the attack.'\n",
            " 'Damages were estimated to be between $20,000-$25,000.' ...\n",
            " 'The victims included police commander Faqeer Ahmad. Casualty numbers conflict across sources. Following GTD protocol, the majority reliable estimates are reported here.'\n",
            " 'The victims included the owner, Norodin Pacalna, and employee Jamil Umraan.'\n",
            " 'The victims included Senior Police Officer 4 Max Kaibat, Police Officer 3 Jalison Abdullah and Police Officers 1 Archie Ansare Amelista, Ricardo Almonia, Alimodin Nuphay and Zainoden Abdullah. Casualty numbers conflict across sources. Following GTD protocol, the majority reliable estimates are reported here.']\n",
            "Unique values in 'scite1': [nan '\"Police Chief Quits,\" Washington Post, January 2, 1970.'\n",
            " 'Committee on Government Operations United States Senate, \"Riots, Civil, and Criminal Disorders,\" U.S. Government Printing Office, August 6, 1970.'\n",
            " ...\n",
            " '\"Maguindanao clashes trap tribe members,\" Philippines Daily Inquirer, January 3, 2018.'\n",
            " '\"Trader escapes grenade attack in Imphal,\" Business Standard India, January 3, 2018.'\n",
            " '\"Security tightened in Cotabato following IED discovery,\" Tempo, January 4, 2018.']\n",
            "Unique values in 'scite2': [nan\n",
            " '\"Cairo Police Chief Quits; Decries Local \\'Militants\\',\" Afro-American, January 10, 1970.'\n",
            " 'Christopher Hewitt, \"Political Violence and Terrorism in Modern America: A Chronology,\" Praeger Security International, 2005.'\n",
            " ...\n",
            " '\"Highlights: Somalia Daily Media Highlights 2 January 2018,\" Summary, January 3, 2018.'\n",
            " '\"Two Russian soldiers killed at Hmeymim base in Syria,\" Ansamed, January 4, 2018.'\n",
            " '\"Security tightened in Cotabato City,\" Manila Bulletin, January 3, 2018.']\n",
            "Unique values in 'scite3': [nan\n",
            " 'Christopher Hewitt, \"Political Violence and Terrorism in Modern America: A Chronology,\" Praeger Security International, 2005.'\n",
            " 'The Wisconsin Cartographers\\' Guild, \"Wisconsin\\'s Past and Present: A Historical Atlas,\" The University of Wisconsin Press, 2002.'\n",
            " ...\n",
            " '\"Cop killed, 7 injured in Maguindanao IED blasts,\" Philippine Star, January 1, 2018.'\n",
            " '\"Highlights: Somalia Daily Media Highlights 1 January 2018,\" Summary, January 2, 2018.'\n",
            " '\"Two Russian servicemen killed in Syria mortar attack,\" Turkish Daily, January 4, 2018.']\n",
            "Unique values in 'dbsource': ['PGIS' 'Hewitt Project' 'Hijacking DB' 'CBRN Global Chronology' 'CAIN'\n",
            " 'HSI' 'Disorders and Terrorism Chronology' 'UMD Miscellaneous'\n",
            " 'State Department 1997 Document'\n",
            " 'UMD Encyclopedia of World Terrorism 2012' 'Hyland' 'Armenian Website'\n",
            " 'UMD Sri Lanka 2011' 'UMD South Africa' 'Anti-Abortion Project 2010'\n",
            " 'UMD Assassinations Project' 'Eco Project 2010' 'UMD Algeria 2010-2012'\n",
            " 'CETIS' 'Leuprecht Canadian Data' 'UMD Schmid 2012'\n",
            " 'UMD Black Widows 2011' 'Sageman' 'UMD JTMM Nepal 2012' 'ISVG'\n",
            " 'START Primary Collection']\n",
            "Unique values in 'INT_LOG': [ 0 -9  1]\n",
            "Unique values in 'INT_IDEO': [ 0  1 -9]\n",
            "Unique values in 'INT_MISC': [ 0  1 -9]\n",
            "Unique values in 'INT_ANY': [ 0  1 -9]\n",
            "Unique values in 'related': [nan '197001300001, 197001300002' '197002030001, 197002030002' ...\n",
            " '201712290022, 201712290023, 201712290024' '201712290031, 201712290032'\n",
            " '201712300005, 201712310002']\n"
          ]
        }
      ]
    },
    {
      "cell_type": "markdown",
      "source": [
        "## 3. ***Data Wrangling***"
      ],
      "metadata": {
        "id": "dauF4eBmngu3"
      }
    },
    {
      "cell_type": "markdown",
      "source": [
        "### Data Wrangling Code"
      ],
      "metadata": {
        "id": "bKJF3rekwFvQ"
      }
    },
    {
      "cell_type": "code",
      "source": [
        "# Write your code to make your dataset analysis ready.\n",
        "df.dropna(inplace=True)\n",
        "\n",
        "df.drop_duplicates(inplace=True)\n",
        "\n",
        "# Convert 'date_column' to datetime type (if it exists)\n",
        "if 'date_column' in df.columns:\n",
        "    df['date_column'] = pd.to_datetime(df['date_column'])\n",
        "\n",
        "# Convert 'categorical_column' to 'category' type (if it exists)\n",
        "if 'categorical_column' in df.columns:\n",
        "    df['categorical_column'] = df['categorical_column'].astype('category')\n",
        "\n",
        "# Perform one-hot encoding on 'categorical_column' (if it exists)\n",
        "if 'categorical_column' in df.columns:\n",
        "    df_encoded = pd.get_dummies(df, columns=['categorical_column'])\n",
        "\n",
        "# Drop 'unwanted_column' (if it exists)\n",
        "if 'unwanted_column' in df.columns:\n",
        "    df.drop(['unwanted_column'], axis=1, inplace=True)\n",
        "\n",
        "# Set 'date_column' as the DataFrame index (if it exists)\n",
        "if 'date_column' in df.columns:\n",
        "    df.set_index('date_column', inplace=True)\n"
      ],
      "metadata": {
        "id": "wk-9a2fpoLcV"
      },
      "execution_count": 73,
      "outputs": []
    },
    {
      "cell_type": "markdown",
      "source": [
        "### What all manipulations have you done and insights you found?"
      ],
      "metadata": {
        "id": "MSa1f5Uengrz"
      }
    },
    {
      "cell_type": "markdown",
      "source": [
        "Answer Here."
      ],
      "metadata": {
        "id": "LbyXE7I1olp8"
      }
    },
    {
      "cell_type": "markdown",
      "source": [
        "## ***4. Data Vizualization, Storytelling & Experimenting with charts : Understand the relationships between variables***"
      ],
      "metadata": {
        "id": "GF8Ens_Soomf"
      }
    },
    {
      "cell_type": "markdown",
      "source": [
        "#### Chart - 1"
      ],
      "metadata": {
        "id": "0wOQAZs5pc--"
      }
    },
    {
      "cell_type": "code",
      "source": [
        "# Chart - 1 visualization code"
      ],
      "metadata": {
        "id": "7v_ESjsspbW7"
      },
      "execution_count": null,
      "outputs": []
    },
    {
      "cell_type": "markdown",
      "source": [
        "##### 1. Why did you pick the specific chart?"
      ],
      "metadata": {
        "id": "K5QZ13OEpz2H"
      }
    },
    {
      "cell_type": "markdown",
      "source": [
        "Answer Here."
      ],
      "metadata": {
        "id": "XESiWehPqBRc"
      }
    },
    {
      "cell_type": "markdown",
      "source": [
        "##### 2. What is/are the insight(s) found from the chart?"
      ],
      "metadata": {
        "id": "lQ7QKXXCp7Bj"
      }
    },
    {
      "cell_type": "markdown",
      "source": [
        "Answer Here"
      ],
      "metadata": {
        "id": "C_j1G7yiqdRP"
      }
    },
    {
      "cell_type": "markdown",
      "source": [
        "##### 3. Will the gained insights help creating a positive business impact?\n",
        "Are there any insights that lead to negative growth? Justify with specific reason."
      ],
      "metadata": {
        "id": "448CDAPjqfQr"
      }
    },
    {
      "cell_type": "markdown",
      "source": [
        "Answer Here"
      ],
      "metadata": {
        "id": "3cspy4FjqxJW"
      }
    },
    {
      "cell_type": "markdown",
      "source": [
        "#### Chart - 2"
      ],
      "metadata": {
        "id": "KSlN3yHqYklG"
      }
    },
    {
      "cell_type": "code",
      "source": [
        "# Chart - 2 visualization code"
      ],
      "metadata": {
        "id": "R4YgtaqtYklH"
      },
      "execution_count": null,
      "outputs": []
    },
    {
      "cell_type": "markdown",
      "source": [
        "##### 1. Why did you pick the specific chart?"
      ],
      "metadata": {
        "id": "t6dVpIINYklI"
      }
    },
    {
      "cell_type": "markdown",
      "source": [
        "Answer Here."
      ],
      "metadata": {
        "id": "5aaW0BYyYklI"
      }
    },
    {
      "cell_type": "markdown",
      "source": [
        "##### 2. What is/are the insight(s) found from the chart?"
      ],
      "metadata": {
        "id": "ijmpgYnKYklI"
      }
    },
    {
      "cell_type": "markdown",
      "source": [
        "Answer Here"
      ],
      "metadata": {
        "id": "PSx9atu2YklI"
      }
    },
    {
      "cell_type": "markdown",
      "source": [
        "##### 3. Will the gained insights help creating a positive business impact?\n",
        "Are there any insights that lead to negative growth? Justify with specific reason."
      ],
      "metadata": {
        "id": "-JiQyfWJYklI"
      }
    },
    {
      "cell_type": "markdown",
      "source": [
        "Answer Here"
      ],
      "metadata": {
        "id": "BcBbebzrYklV"
      }
    },
    {
      "cell_type": "markdown",
      "source": [
        "#### Chart - 3"
      ],
      "metadata": {
        "id": "EM7whBJCYoAo"
      }
    },
    {
      "cell_type": "code",
      "source": [
        "# Chart - 3 visualization code"
      ],
      "metadata": {
        "id": "t6GMdE67YoAp"
      },
      "execution_count": null,
      "outputs": []
    },
    {
      "cell_type": "markdown",
      "source": [
        "##### 1. Why did you pick the specific chart?"
      ],
      "metadata": {
        "id": "fge-S5ZAYoAp"
      }
    },
    {
      "cell_type": "markdown",
      "source": [
        "Answer Here."
      ],
      "metadata": {
        "id": "5dBItgRVYoAp"
      }
    },
    {
      "cell_type": "markdown",
      "source": [
        "##### 2. What is/are the insight(s) found from the chart?"
      ],
      "metadata": {
        "id": "85gYPyotYoAp"
      }
    },
    {
      "cell_type": "markdown",
      "source": [
        "Answer Here"
      ],
      "metadata": {
        "id": "4jstXR6OYoAp"
      }
    },
    {
      "cell_type": "markdown",
      "source": [
        "##### 3. Will the gained insights help creating a positive business impact?\n",
        "Are there any insights that lead to negative growth? Justify with specific reason."
      ],
      "metadata": {
        "id": "RoGjAbkUYoAp"
      }
    },
    {
      "cell_type": "markdown",
      "source": [
        "Answer Here"
      ],
      "metadata": {
        "id": "zfJ8IqMcYoAp"
      }
    },
    {
      "cell_type": "markdown",
      "source": [
        "#### Chart - 4"
      ],
      "metadata": {
        "id": "4Of9eVA-YrdM"
      }
    },
    {
      "cell_type": "code",
      "source": [
        "# Chart - 4 visualization code"
      ],
      "metadata": {
        "id": "irlUoxc8YrdO"
      },
      "execution_count": null,
      "outputs": []
    },
    {
      "cell_type": "markdown",
      "source": [
        "##### 1. Why did you pick the specific chart?"
      ],
      "metadata": {
        "id": "iky9q4vBYrdO"
      }
    },
    {
      "cell_type": "markdown",
      "source": [
        "Answer Here."
      ],
      "metadata": {
        "id": "aJRCwT6DYrdO"
      }
    },
    {
      "cell_type": "markdown",
      "source": [
        "##### 2. What is/are the insight(s) found from the chart?"
      ],
      "metadata": {
        "id": "F6T5p64dYrdO"
      }
    },
    {
      "cell_type": "markdown",
      "source": [
        "Answer Here"
      ],
      "metadata": {
        "id": "Xx8WAJvtYrdO"
      }
    },
    {
      "cell_type": "markdown",
      "source": [
        "##### 3. Will the gained insights help creating a positive business impact?\n",
        "Are there any insights that lead to negative growth? Justify with specific reason."
      ],
      "metadata": {
        "id": "y-Ehk30pYrdP"
      }
    },
    {
      "cell_type": "markdown",
      "source": [
        "Answer Here"
      ],
      "metadata": {
        "id": "jLNxxz7MYrdP"
      }
    },
    {
      "cell_type": "markdown",
      "source": [
        "#### Chart - 5"
      ],
      "metadata": {
        "id": "bamQiAODYuh1"
      }
    },
    {
      "cell_type": "code",
      "source": [
        "# Chart - 5 visualization code"
      ],
      "metadata": {
        "id": "TIJwrbroYuh3"
      },
      "execution_count": null,
      "outputs": []
    },
    {
      "cell_type": "markdown",
      "source": [
        "##### 1. Why did you pick the specific chart?"
      ],
      "metadata": {
        "id": "QHF8YVU7Yuh3"
      }
    },
    {
      "cell_type": "markdown",
      "source": [
        "Answer Here."
      ],
      "metadata": {
        "id": "dcxuIMRPYuh3"
      }
    },
    {
      "cell_type": "markdown",
      "source": [
        "##### 2. What is/are the insight(s) found from the chart?"
      ],
      "metadata": {
        "id": "GwzvFGzlYuh3"
      }
    },
    {
      "cell_type": "markdown",
      "source": [
        "Answer Here"
      ],
      "metadata": {
        "id": "uyqkiB8YYuh3"
      }
    },
    {
      "cell_type": "markdown",
      "source": [
        "##### 3. Will the gained insights help creating a positive business impact?\n",
        "Are there any insights that lead to negative growth? Justify with specific reason."
      ],
      "metadata": {
        "id": "qYpmQ266Yuh3"
      }
    },
    {
      "cell_type": "markdown",
      "source": [
        "Answer Here"
      ],
      "metadata": {
        "id": "_WtzZ_hCYuh4"
      }
    },
    {
      "cell_type": "markdown",
      "source": [
        "#### Chart - 6"
      ],
      "metadata": {
        "id": "OH-pJp9IphqM"
      }
    },
    {
      "cell_type": "code",
      "source": [
        "# Chart - 6 visualization code"
      ],
      "metadata": {
        "id": "kuRf4wtuphqN"
      },
      "execution_count": null,
      "outputs": []
    },
    {
      "cell_type": "markdown",
      "source": [
        "##### 1. Why did you pick the specific chart?"
      ],
      "metadata": {
        "id": "bbFf2-_FphqN"
      }
    },
    {
      "cell_type": "markdown",
      "source": [
        "Answer Here."
      ],
      "metadata": {
        "id": "loh7H2nzphqN"
      }
    },
    {
      "cell_type": "markdown",
      "source": [
        "##### 2. What is/are the insight(s) found from the chart?"
      ],
      "metadata": {
        "id": "_ouA3fa0phqN"
      }
    },
    {
      "cell_type": "markdown",
      "source": [
        "Answer Here"
      ],
      "metadata": {
        "id": "VECbqPI7phqN"
      }
    },
    {
      "cell_type": "markdown",
      "source": [
        "##### 3. Will the gained insights help creating a positive business impact?\n",
        "Are there any insights that lead to negative growth? Justify with specific reason."
      ],
      "metadata": {
        "id": "Seke61FWphqN"
      }
    },
    {
      "cell_type": "markdown",
      "source": [
        "Answer Here"
      ],
      "metadata": {
        "id": "DW4_bGpfphqN"
      }
    },
    {
      "cell_type": "markdown",
      "source": [
        "#### Chart - 7"
      ],
      "metadata": {
        "id": "PIIx-8_IphqN"
      }
    },
    {
      "cell_type": "code",
      "source": [
        "# Chart - 7 visualization code"
      ],
      "metadata": {
        "id": "lqAIGUfyphqO"
      },
      "execution_count": null,
      "outputs": []
    },
    {
      "cell_type": "markdown",
      "source": [
        "##### 1. Why did you pick the specific chart?"
      ],
      "metadata": {
        "id": "t27r6nlMphqO"
      }
    },
    {
      "cell_type": "markdown",
      "source": [
        "Answer Here."
      ],
      "metadata": {
        "id": "iv6ro40sphqO"
      }
    },
    {
      "cell_type": "markdown",
      "source": [
        "##### 2. What is/are the insight(s) found from the chart?"
      ],
      "metadata": {
        "id": "r2jJGEOYphqO"
      }
    },
    {
      "cell_type": "markdown",
      "source": [
        "Answer Here"
      ],
      "metadata": {
        "id": "Po6ZPi4hphqO"
      }
    },
    {
      "cell_type": "markdown",
      "source": [
        "##### 3. Will the gained insights help creating a positive business impact?\n",
        "Are there any insights that lead to negative growth? Justify with specific reason."
      ],
      "metadata": {
        "id": "b0JNsNcRphqO"
      }
    },
    {
      "cell_type": "markdown",
      "source": [
        "Answer Here"
      ],
      "metadata": {
        "id": "xvSq8iUTphqO"
      }
    },
    {
      "cell_type": "markdown",
      "source": [
        "#### Chart - 8"
      ],
      "metadata": {
        "id": "BZR9WyysphqO"
      }
    },
    {
      "cell_type": "code",
      "source": [
        "# Chart - 8 visualization code"
      ],
      "metadata": {
        "id": "TdPTWpAVphqO"
      },
      "execution_count": null,
      "outputs": []
    },
    {
      "cell_type": "markdown",
      "source": [
        "##### 1. Why did you pick the specific chart?"
      ],
      "metadata": {
        "id": "jj7wYXLtphqO"
      }
    },
    {
      "cell_type": "markdown",
      "source": [
        "Answer Here."
      ],
      "metadata": {
        "id": "Ob8u6rCTphqO"
      }
    },
    {
      "cell_type": "markdown",
      "source": [
        "##### 2. What is/are the insight(s) found from the chart?"
      ],
      "metadata": {
        "id": "eZrbJ2SmphqO"
      }
    },
    {
      "cell_type": "markdown",
      "source": [
        "Answer Here"
      ],
      "metadata": {
        "id": "mZtgC_hjphqO"
      }
    },
    {
      "cell_type": "markdown",
      "source": [
        "##### 3. Will the gained insights help creating a positive business impact?\n",
        "Are there any insights that lead to negative growth? Justify with specific reason."
      ],
      "metadata": {
        "id": "rFu4xreNphqO"
      }
    },
    {
      "cell_type": "markdown",
      "source": [
        "Answer Here"
      ],
      "metadata": {
        "id": "ey_0qi68phqO"
      }
    },
    {
      "cell_type": "markdown",
      "source": [
        "#### Chart - 9"
      ],
      "metadata": {
        "id": "YJ55k-q6phqO"
      }
    },
    {
      "cell_type": "code",
      "source": [
        "# Chart - 9 visualization code"
      ],
      "metadata": {
        "id": "B2aS4O1ophqO"
      },
      "execution_count": null,
      "outputs": []
    },
    {
      "cell_type": "markdown",
      "source": [
        "##### 1. Why did you pick the specific chart?"
      ],
      "metadata": {
        "id": "gCFgpxoyphqP"
      }
    },
    {
      "cell_type": "markdown",
      "source": [
        "Answer Here."
      ],
      "metadata": {
        "id": "TVxDimi2phqP"
      }
    },
    {
      "cell_type": "markdown",
      "source": [
        "##### 2. What is/are the insight(s) found from the chart?"
      ],
      "metadata": {
        "id": "OVtJsKN_phqQ"
      }
    },
    {
      "cell_type": "markdown",
      "source": [
        "Answer Here"
      ],
      "metadata": {
        "id": "ngGi97qjphqQ"
      }
    },
    {
      "cell_type": "markdown",
      "source": [
        "##### 3. Will the gained insights help creating a positive business impact?\n",
        "Are there any insights that lead to negative growth? Justify with specific reason."
      ],
      "metadata": {
        "id": "lssrdh5qphqQ"
      }
    },
    {
      "cell_type": "markdown",
      "source": [
        "Answer Here"
      ],
      "metadata": {
        "id": "tBpY5ekJphqQ"
      }
    },
    {
      "cell_type": "markdown",
      "source": [
        "#### Chart - 10"
      ],
      "metadata": {
        "id": "U2RJ9gkRphqQ"
      }
    },
    {
      "cell_type": "code",
      "source": [
        "# Chart - 10 visualization code"
      ],
      "metadata": {
        "id": "GM7a4YP4phqQ"
      },
      "execution_count": null,
      "outputs": []
    },
    {
      "cell_type": "markdown",
      "source": [
        "##### 1. Why did you pick the specific chart?"
      ],
      "metadata": {
        "id": "1M8mcRywphqQ"
      }
    },
    {
      "cell_type": "markdown",
      "source": [
        "Answer Here."
      ],
      "metadata": {
        "id": "8agQvks0phqQ"
      }
    },
    {
      "cell_type": "markdown",
      "source": [
        "##### 2. What is/are the insight(s) found from the chart?"
      ],
      "metadata": {
        "id": "tgIPom80phqQ"
      }
    },
    {
      "cell_type": "markdown",
      "source": [
        "Answer Here"
      ],
      "metadata": {
        "id": "Qp13pnNzphqQ"
      }
    },
    {
      "cell_type": "markdown",
      "source": [
        "##### 3. Will the gained insights help creating a positive business impact?\n",
        "Are there any insights that lead to negative growth? Justify with specific reason."
      ],
      "metadata": {
        "id": "JMzcOPDDphqR"
      }
    },
    {
      "cell_type": "markdown",
      "source": [
        "Answer Here"
      ],
      "metadata": {
        "id": "R4Ka1PC2phqR"
      }
    },
    {
      "cell_type": "markdown",
      "source": [
        "#### Chart - 11"
      ],
      "metadata": {
        "id": "x-EpHcCOp1ci"
      }
    },
    {
      "cell_type": "code",
      "source": [
        "# Chart - 11 visualization code"
      ],
      "metadata": {
        "id": "mAQTIvtqp1cj"
      },
      "execution_count": null,
      "outputs": []
    },
    {
      "cell_type": "markdown",
      "source": [
        "##### 1. Why did you pick the specific chart?"
      ],
      "metadata": {
        "id": "X_VqEhTip1ck"
      }
    },
    {
      "cell_type": "markdown",
      "source": [
        "Answer Here."
      ],
      "metadata": {
        "id": "-vsMzt_np1ck"
      }
    },
    {
      "cell_type": "markdown",
      "source": [
        "##### 2. What is/are the insight(s) found from the chart?"
      ],
      "metadata": {
        "id": "8zGJKyg5p1ck"
      }
    },
    {
      "cell_type": "markdown",
      "source": [
        "Answer Here"
      ],
      "metadata": {
        "id": "ZYdMsrqVp1ck"
      }
    },
    {
      "cell_type": "markdown",
      "source": [
        "##### 3. Will the gained insights help creating a positive business impact?\n",
        "Are there any insights that lead to negative growth? Justify with specific reason."
      ],
      "metadata": {
        "id": "PVzmfK_Ep1ck"
      }
    },
    {
      "cell_type": "markdown",
      "source": [
        "Answer Here"
      ],
      "metadata": {
        "id": "druuKYZpp1ck"
      }
    },
    {
      "cell_type": "markdown",
      "source": [
        "#### Chart - 12"
      ],
      "metadata": {
        "id": "n3dbpmDWp1ck"
      }
    },
    {
      "cell_type": "code",
      "source": [
        "# Chart - 12 visualization code"
      ],
      "metadata": {
        "id": "bwevp1tKp1ck"
      },
      "execution_count": null,
      "outputs": []
    },
    {
      "cell_type": "markdown",
      "source": [
        "##### 1. Why did you pick the specific chart?"
      ],
      "metadata": {
        "id": "ylSl6qgtp1ck"
      }
    },
    {
      "cell_type": "markdown",
      "source": [
        "Answer Here."
      ],
      "metadata": {
        "id": "m2xqNkiQp1ck"
      }
    },
    {
      "cell_type": "markdown",
      "source": [
        "##### 2. What is/are the insight(s) found from the chart?"
      ],
      "metadata": {
        "id": "ZWILFDl5p1ck"
      }
    },
    {
      "cell_type": "markdown",
      "source": [
        "Answer Here"
      ],
      "metadata": {
        "id": "x-lUsV2mp1ck"
      }
    },
    {
      "cell_type": "markdown",
      "source": [
        "##### 3. Will the gained insights help creating a positive business impact?\n",
        "Are there any insights that lead to negative growth? Justify with specific reason."
      ],
      "metadata": {
        "id": "M7G43BXep1ck"
      }
    },
    {
      "cell_type": "markdown",
      "source": [
        "Answer Here"
      ],
      "metadata": {
        "id": "5wwDJXsLp1cl"
      }
    },
    {
      "cell_type": "markdown",
      "source": [
        "#### Chart - 13"
      ],
      "metadata": {
        "id": "Ag9LCva-p1cl"
      }
    },
    {
      "cell_type": "code",
      "source": [
        "# Chart - 13 visualization code"
      ],
      "metadata": {
        "id": "EUfxeq9-p1cl"
      },
      "execution_count": null,
      "outputs": []
    },
    {
      "cell_type": "markdown",
      "source": [
        "##### 1. Why did you pick the specific chart?"
      ],
      "metadata": {
        "id": "E6MkPsBcp1cl"
      }
    },
    {
      "cell_type": "markdown",
      "source": [
        "Answer Here."
      ],
      "metadata": {
        "id": "V22bRsFWp1cl"
      }
    },
    {
      "cell_type": "markdown",
      "source": [
        "##### 2. What is/are the insight(s) found from the chart?"
      ],
      "metadata": {
        "id": "2cELzS2fp1cl"
      }
    },
    {
      "cell_type": "markdown",
      "source": [
        "Answer Here"
      ],
      "metadata": {
        "id": "ozQPc2_Ip1cl"
      }
    },
    {
      "cell_type": "markdown",
      "source": [
        "##### 3. Will the gained insights help creating a positive business impact?\n",
        "Are there any insights that lead to negative growth? Justify with specific reason."
      ],
      "metadata": {
        "id": "3MPXvC8up1cl"
      }
    },
    {
      "cell_type": "markdown",
      "source": [
        "Answer Here"
      ],
      "metadata": {
        "id": "GL8l1tdLp1cl"
      }
    },
    {
      "cell_type": "markdown",
      "source": [
        "#### Chart - 14 - Correlation Heatmap"
      ],
      "metadata": {
        "id": "NC_X3p0fY2L0"
      }
    },
    {
      "cell_type": "code",
      "source": [
        "# Correlation Heatmap visualization code"
      ],
      "metadata": {
        "id": "xyC9zolEZNRQ"
      },
      "execution_count": null,
      "outputs": []
    },
    {
      "cell_type": "markdown",
      "source": [
        "##### 1. Why did you pick the specific chart?"
      ],
      "metadata": {
        "id": "UV0SzAkaZNRQ"
      }
    },
    {
      "cell_type": "markdown",
      "source": [
        "Answer Here."
      ],
      "metadata": {
        "id": "DVPuT8LYZNRQ"
      }
    },
    {
      "cell_type": "markdown",
      "source": [
        "##### 2. What is/are the insight(s) found from the chart?"
      ],
      "metadata": {
        "id": "YPEH6qLeZNRQ"
      }
    },
    {
      "cell_type": "markdown",
      "source": [
        "Answer Here"
      ],
      "metadata": {
        "id": "bfSqtnDqZNRR"
      }
    },
    {
      "cell_type": "markdown",
      "source": [
        "#### Chart - 15 - Pair Plot"
      ],
      "metadata": {
        "id": "q29F0dvdveiT"
      }
    },
    {
      "cell_type": "code",
      "source": [
        "# Pair Plot visualization code"
      ],
      "metadata": {
        "id": "o58-TEIhveiU"
      },
      "execution_count": null,
      "outputs": []
    },
    {
      "cell_type": "markdown",
      "source": [
        "##### 1. Why did you pick the specific chart?"
      ],
      "metadata": {
        "id": "EXh0U9oCveiU"
      }
    },
    {
      "cell_type": "markdown",
      "source": [
        "Answer Here."
      ],
      "metadata": {
        "id": "eMmPjTByveiU"
      }
    },
    {
      "cell_type": "markdown",
      "source": [
        "##### 2. What is/are the insight(s) found from the chart?"
      ],
      "metadata": {
        "id": "22aHeOlLveiV"
      }
    },
    {
      "cell_type": "markdown",
      "source": [
        "Answer Here"
      ],
      "metadata": {
        "id": "uPQ8RGwHveiV"
      }
    },
    {
      "cell_type": "markdown",
      "source": [
        "## **5. Solution to Business Objective**"
      ],
      "metadata": {
        "id": "JcMwzZxoAimU"
      }
    },
    {
      "cell_type": "markdown",
      "source": [
        "#### What do you suggest the client to achieve Business Objective ?\n",
        "Explain Briefly."
      ],
      "metadata": {
        "id": "8G2x9gOozGDZ"
      }
    },
    {
      "cell_type": "markdown",
      "source": [
        "Answer Here."
      ],
      "metadata": {
        "id": "pASKb0qOza21"
      }
    },
    {
      "cell_type": "markdown",
      "source": [
        "# **Conclusion**"
      ],
      "metadata": {
        "id": "gCX9965dhzqZ"
      }
    },
    {
      "cell_type": "markdown",
      "source": [
        "Write the conclusion here."
      ],
      "metadata": {
        "id": "Fjb1IsQkh3yE"
      }
    },
    {
      "cell_type": "markdown",
      "source": [
        "### ***Hurrah! You have successfully completed your EDA Capstone Project !!!***"
      ],
      "metadata": {
        "id": "gIfDvo9L0UH2"
      }
    }
  ]
}