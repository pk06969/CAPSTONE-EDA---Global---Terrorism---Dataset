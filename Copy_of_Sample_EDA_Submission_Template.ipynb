{
  "nbformat": 4,
  "nbformat_minor": 0,
  "metadata": {
    "colab": {
      "provenance": [],
      "collapsed_sections": [
        "mDgbUHAGgjLW",
        "MSa1f5Uengrz",
        "-JiQyfWJYklI",
        "EM7whBJCYoAo",
        "fge-S5ZAYoAp",
        "85gYPyotYoAp",
        "RoGjAbkUYoAp",
        "4Of9eVA-YrdM",
        "iky9q4vBYrdO",
        "F6T5p64dYrdO",
        "y-Ehk30pYrdP",
        "bamQiAODYuh1",
        "QHF8YVU7Yuh3",
        "GwzvFGzlYuh3",
        "qYpmQ266Yuh3",
        "OH-pJp9IphqM",
        "bbFf2-_FphqN",
        "_ouA3fa0phqN",
        "Seke61FWphqN",
        "PIIx-8_IphqN",
        "t27r6nlMphqO",
        "r2jJGEOYphqO",
        "b0JNsNcRphqO",
        "BZR9WyysphqO",
        "jj7wYXLtphqO",
        "eZrbJ2SmphqO",
        "rFu4xreNphqO",
        "YJ55k-q6phqO",
        "gCFgpxoyphqP",
        "OVtJsKN_phqQ",
        "lssrdh5qphqQ",
        "U2RJ9gkRphqQ",
        "1M8mcRywphqQ",
        "tgIPom80phqQ",
        "JMzcOPDDphqR",
        "x-EpHcCOp1ci",
        "X_VqEhTip1ck",
        "8zGJKyg5p1ck",
        "PVzmfK_Ep1ck",
        "n3dbpmDWp1ck",
        "ylSl6qgtp1ck",
        "ZWILFDl5p1ck",
        "M7G43BXep1ck",
        "Ag9LCva-p1cl",
        "E6MkPsBcp1cl",
        "2cELzS2fp1cl",
        "3MPXvC8up1cl",
        "NC_X3p0fY2L0",
        "UV0SzAkaZNRQ",
        "YPEH6qLeZNRQ",
        "q29F0dvdveiT",
        "EXh0U9oCveiU",
        "22aHeOlLveiV",
        "JcMwzZxoAimU",
        "8G2x9gOozGDZ",
        "gCX9965dhzqZ",
        "gIfDvo9L0UH2"
      ],
      "include_colab_link": true
    },
    "kernelspec": {
      "name": "python3",
      "display_name": "Python 3"
    },
    "language_info": {
      "name": "python"
    }
  },
  "cells": [
    {
      "cell_type": "markdown",
      "metadata": {
        "id": "view-in-github",
        "colab_type": "text"
      },
      "source": [
        "<a href=\"https://colab.research.google.com/github/pk06969/CAPSTONE-EDA---Global---Terrorism---Dataset/blob/main/Copy_of_Sample_EDA_Submission_Template.ipynb\" target=\"_parent\"><img src=\"https://colab.research.google.com/assets/colab-badge.svg\" alt=\"Open In Colab\"/></a>"
      ]
    },
    {
      "cell_type": "markdown",
      "source": [
        "S# **EDA- CAPSTONE- GLOBAL_TERRORISM_DATASET**    -\n",
        "\n"
      ],
      "metadata": {
        "id": "vncDsAP0Gaoa"
      }
    },
    {
      "cell_type": "markdown",
      "source": [
        "##### **Project Type**    - EDA/Regression/Classification/Unsupervised\n",
        "##### **Contribution**    - Individual\n",
        "##### **Parikshit -**\n"
      ],
      "metadata": {
        "id": "beRrZCGUAJYm"
      }
    },
    {
      "cell_type": "markdown",
      "source": [
        "# **Project Summary -**"
      ],
      "metadata": {
        "id": "FJNUwmbgGyua"
      }
    },
    {
      "cell_type": "markdown",
      "source": [
        "**The Global Terrorism Database (GTD) is a comprehensive open-source repository that records detailed information about terrorist attacks worldwide from 1970 through 2017. This extensive dataset, managed by the National Consortium for the Study of Terrorism and Responses to Terrorism (START) at the University of Maryland, encompasses both domestic and international terrorist incidents, totaling over 180,000 attacks. The GTD plays a pivotal role in providing critical insights into the nature, trends, and characteristics of terrorism, facilitating in-depth analysis to develop effective counterterrorism strategies and policies.**\n",
        "\n",
        "**The GTD's historical scope allows researchers and policymakers to study the evolution of terrorism over nearly five decades. By capturing data on a vast array of terrorist activities, it offers a nuanced understanding of the changing face of terrorism, enabling a deeper appreciation of its complexity. This temporal breadth equips analysts with the tools to identify long-term patterns, crucial milestones, and periods of heightened terrorism, empowering them to address the issue with greater accuracy and foresight.**\n",
        "\n",
        "**One of the GTD's key strengths lies in its systematic classification of incidents. By categorizing attacks based on various attributes such as attack type, target type, weapon used, and geographic location, the database offers a rich resource for examining trends and tendencies across different terrorist organizations and regions. Researchers can discern the preferred tactics of various groups, the relative frequency of attack types, and the preferred targets of terrorism. Such knowledge allows for targeted counterterrorism efforts and the allocation of resources in high-risk areas.**\n",
        "\n",
        "**The GTD's inclusion of both domestic and international terrorist incidents offers a comprehensive picture of the global threat landscape. This feature allows researchers to draw connections between local and transnational terrorism, leading to insights into potential linkages between seemingly isolated attacks. Understanding these connections is crucial for formulating multinational counterterrorism strategies and improving international cooperation in tackling the global menace.**\n",
        "\n",
        "**Additionally, the GTD captures data on the aftermath of terrorist attacks, including information on casualties, injuries, and property damage. This wealth of post-attack data enables researchers to assess the true impact of terrorism on affected communities, providing valuable insights into the psychological, social, and economic consequences of such acts. Policymakers can use this knowledge to devise measures that go beyond immediate security concerns, focusing on the long-term rehabilitation and resilience of communities affected by terrorism.**\n",
        "\n",
        "**Moreover, the GTD's extensive dataset allows for a thorough examination of the ideologies and motivations behind terrorist activities. Researchers can explore the affiliations and ideologies of different terrorist groups, shedding light on the underlying causes of violence. This knowledge is crucial for addressing root causes and developing strategies to prevent radicalization and recruitment into extremist organizations.**\n",
        "\n",
        "**The database's centralized collection of data also aids in identifying hotspots of terrorist activity around the world. Through geographic analysis, researchers can pinpoint regions and countries with high concentrations of terrorist incidents, thereby prioritizing resources for counterterrorism efforts in these areas.**\n",
        "\n",
        "**The GTD's ongoing updates and maintenance by researchers at START ensure that it remains a dynamic and reliable resource for counterterrorism research. Its accessibility to the public and the academic community allows for collaborative efforts in analyzing trends and generating actionable insights.**\n",
        "\n",
        "**In conclusion, the Global Terrorism Database serves as a critical tool in understanding and analyzing the multifaceted phenomenon of terrorism. With its extensive historical scope, systematic classification, and comprehensive global coverage, the GTD empowers researchers and policymakers to uncover key insights and trends in terrorist activities. By leveraging this data-driven knowledge, the international community can develop effective strategies to counter terrorism, enhance security, and promote peace worldwide.**"
      ],
      "metadata": {
        "id": "F6v_1wHtG2nS"
      }
    },
    {
      "cell_type": "markdown",
      "source": [
        "# **GitHub Link -**"
      ],
      "metadata": {
        "id": "w6K7xa23Elo4"
      }
    },
    {
      "cell_type": "markdown",
      "source": [
        "https://github.com/pk06969/CAPSTONE-EDA---Global---Terrorism---DatasetProvide"
      ],
      "metadata": {
        "id": "h1o69JH3Eqqn"
      }
    },
    {
      "cell_type": "markdown",
      "source": [
        "# **Problem Statement**\n"
      ],
      "metadata": {
        "id": "yQaldy8SH6Dl"
      }
    },
    {
      "cell_type": "markdown",
      "source": [
        "1. **Total Terrorist Attacks by Year**\n",
        "\n",
        "2. **Top 10 Countries with the Most Terrorist Attacks**\n",
        "\n",
        "3. **Terrorist Attack Types**\n",
        "\n",
        "4. **Terrorist Attacks by Region**\n",
        "\n",
        "5. **Terrorist Attacks by Target Type**\n",
        "\n",
        "6. **Terrorist Attacks by Weapon Type**\n",
        "\n",
        "7. **Terrorist Attacks by Casualties**\n",
        "\n",
        "8. **Terrorist Attacks Trend over Time**\n",
        "\n",
        "9. **Terrorist Attacks Heatmap**\n",
        "\n",
        "10. **Terrorist Attacks and Success Rate**\n",
        "\n",
        "11. **Terrorist Attacks by Perpetrator Group**\n",
        "\n",
        "12. **Terrorist Attacks by Motive**\n"
      ],
      "metadata": {
        "id": "DpeJGUA3kjGy"
      }
    },
    {
      "cell_type": "markdown",
      "source": [
        "#### **Define Your Business Objective?**"
      ],
      "metadata": {
        "id": "PH-0ReGfmX4f"
      }
    },
    {
      "cell_type": "markdown",
      "source": [
        "**My business objective is to utilize the rich data available in the Global Terrorism Database (GTD) to develop innovative and effective security solutions for governments, organizations, and communities. By leveraging the comprehensive information on terrorist attacks worldwide from 1970 through 2017, we aim to provide data-driven insights, risk assessments, and actionable recommendations to enhance global security and counterterrorism effortsAnswer Here.**"
      ],
      "metadata": {
        "id": "PhDvGCAqmjP1"
      }
    },
    {
      "cell_type": "markdown",
      "source": [
        "# **General Guidelines** : -  "
      ],
      "metadata": {
        "id": "mDgbUHAGgjLW"
      }
    },
    {
      "cell_type": "markdown",
      "source": [
        "1.   Well-structured, formatted, and commented code is required.\n",
        "2.   Exception Handling, Production Grade Code & Deployment Ready Code will be a plus. Those students will be awarded some additional credits.\n",
        "     \n",
        "     The additional credits will have advantages over other students during Star Student selection.\n",
        "       \n",
        "             [ Note: - Deployment Ready Code is defined as, the whole .ipynb notebook should be executable in one go\n",
        "                       without a single error logged. ]\n",
        "\n",
        "3.   Each and every logic should have proper comments.\n",
        "4. You may add as many number of charts you want. Make Sure for each and every chart the following format should be answered.\n",
        "        \n",
        "\n",
        "```\n",
        "# Chart visualization code\n",
        "```\n",
        "            \n",
        "\n",
        "*   Why did you pick the specific chart?\n",
        "*   What is/are the insight(s) found from the chart?\n",
        "* Will the gained insights help creating a positive business impact?\n",
        "Are there any insights that lead to negative growth? Justify with specific reason.\n",
        "\n",
        "5. You have to create at least 20 logical & meaningful charts having important insights.\n",
        "\n",
        "\n",
        "[ Hints : - Do the Vizualization in  a structured way while following \"UBM\" Rule.\n",
        "\n",
        "U - Univariate Analysis,\n",
        "\n",
        "B - Bivariate Analysis (Numerical - Categorical, Numerical - Numerical, Categorical - Categorical)\n",
        "\n",
        "M - Multivariate Analysis\n",
        " ]\n",
        "\n",
        "\n",
        "\n"
      ],
      "metadata": {
        "id": "ZrxVaUj-hHfC"
      }
    },
    {
      "cell_type": "markdown",
      "source": [
        "# ***Let's Begin !***"
      ],
      "metadata": {
        "id": "O_i_v8NEhb9l"
      }
    },
    {
      "cell_type": "markdown",
      "source": [
        "## ***1. Know Your Data***"
      ],
      "metadata": {
        "id": "HhfV-JJviCcP"
      }
    },
    {
      "cell_type": "markdown",
      "source": [
        "### Import Libraries"
      ],
      "metadata": {
        "id": "Y3lxredqlCYt"
      }
    },
    {
      "cell_type": "code",
      "source": [
        "# Import Libraries\n",
        "import pandas as pd\n",
        "import numpy as np\n",
        "import matplotlib.pyplot as plt\n",
        "import seaborn as sns\n"
      ],
      "metadata": {
        "id": "T4imUqmYfQZr"
      },
      "execution_count": 10,
      "outputs": []
    },
    {
      "cell_type": "markdown",
      "source": [
        "### Dataset Loading"
      ],
      "metadata": {
        "id": "3RnN4peoiCZX"
      }
    },
    {
      "cell_type": "code",
      "source": [
        "# Load Dataset\n",
        "file_path = \"/content/Global_Terrorism-Dataset.csv\"\n",
        "encoding = \"latin-1\"\n",
        "df = pd.read_csv(file_path, encoding=encoding)"
      ],
      "metadata": {
        "colab": {
          "base_uri": "https://localhost:8080/"
        },
        "id": "DgxdMUgbhsf-",
        "outputId": "acdc39ed-a3d5-4d41-c71d-e7abef246bc0"
      },
      "execution_count": 55,
      "outputs": [
        {
          "output_type": "stream",
          "name": "stderr",
          "text": [
            "<ipython-input-55-63b758d8774c>:4: DtypeWarning: Columns (4,6,31,33,61,62,63,76,79,90,92,94,96,114,115,121) have mixed types. Specify dtype option on import or set low_memory=False.\n",
            "  df = pd.read_csv(file_path, encoding=encoding)\n"
          ]
        }
      ]
    },
    {
      "cell_type": "markdown",
      "source": [
        "### Dataset First View"
      ],
      "metadata": {
        "id": "x71ZqKXriCWQ"
      }
    },
    {
      "cell_type": "code",
      "source": [
        "# Dataset First Look\n",
        "print(df.head())"
      ],
      "metadata": {
        "id": "LWNFOSvLl09H",
        "colab": {
          "base_uri": "https://localhost:8080/"
        },
        "outputId": "c0dd519c-f6f6-4e37-a2fc-6c21ccb2bf1c"
      },
      "execution_count": 56,
      "outputs": [
        {
          "output_type": "stream",
          "name": "stdout",
          "text": [
            "        eventid  iyear  imonth  iday approxdate  extended resolution  country  \\\n",
            "0  197000000001   1970       7     2        NaN         0        NaN       58   \n",
            "1  197000000002   1970       0     0        NaN         0        NaN      130   \n",
            "2  197001000001   1970       1     0        NaN         0        NaN      160   \n",
            "3  197001000002   1970       1     0        NaN         0        NaN       78   \n",
            "4  197001000003   1970       1     0        NaN         0        NaN      101   \n",
            "\n",
            "          country_txt  region  ... addnotes scite1 scite2  scite3  dbsource  \\\n",
            "0  Dominican Republic       2  ...      NaN    NaN    NaN     NaN      PGIS   \n",
            "1              Mexico       1  ...      NaN    NaN    NaN     NaN      PGIS   \n",
            "2         Philippines       5  ...      NaN    NaN    NaN     NaN      PGIS   \n",
            "3              Greece       8  ...      NaN    NaN    NaN     NaN      PGIS   \n",
            "4               Japan       4  ...      NaN    NaN    NaN     NaN      PGIS   \n",
            "\n",
            "   INT_LOG  INT_IDEO INT_MISC INT_ANY  related  \n",
            "0        0         0        0       0      NaN  \n",
            "1        0         1        1       1      NaN  \n",
            "2       -9        -9        1       1      NaN  \n",
            "3       -9        -9        1       1      NaN  \n",
            "4       -9        -9        1       1      NaN  \n",
            "\n",
            "[5 rows x 135 columns]\n"
          ]
        }
      ]
    },
    {
      "cell_type": "markdown",
      "source": [
        "### Dataset Rows & Columns count"
      ],
      "metadata": {
        "id": "7hBIi_osiCS2"
      }
    },
    {
      "cell_type": "code",
      "source": [
        "# Dataset Rows & Columns count\n",
        "num_rows, num_columns = df.shape\n",
        "print(\"Number of rows:\", num_rows)\n",
        "print(\"Number of columns:\", num_columns)"
      ],
      "metadata": {
        "id": "Kllu7SJgmLij",
        "colab": {
          "base_uri": "https://localhost:8080/"
        },
        "outputId": "bc760e06-19df-4054-8759-b6f8d54e72bc"
      },
      "execution_count": 57,
      "outputs": [
        {
          "output_type": "stream",
          "name": "stdout",
          "text": [
            "Number of rows: 181691\n",
            "Number of columns: 135\n"
          ]
        }
      ]
    },
    {
      "cell_type": "markdown",
      "source": [
        "### Dataset Information"
      ],
      "metadata": {
        "id": "JlHwYmJAmNHm"
      }
    },
    {
      "cell_type": "code",
      "source": [
        "# Dataset Info\n",
        "df.info()"
      ],
      "metadata": {
        "id": "e9hRXRi6meOf",
        "colab": {
          "base_uri": "https://localhost:8080/"
        },
        "outputId": "c04edc30-2e4d-44e1-a919-87a4e29e8bb8"
      },
      "execution_count": 58,
      "outputs": [
        {
          "output_type": "stream",
          "name": "stdout",
          "text": [
            "<class 'pandas.core.frame.DataFrame'>\n",
            "RangeIndex: 181691 entries, 0 to 181690\n",
            "Columns: 135 entries, eventid to related\n",
            "dtypes: float64(55), int64(22), object(58)\n",
            "memory usage: 187.1+ MB\n"
          ]
        }
      ]
    },
    {
      "cell_type": "markdown",
      "source": [
        "#### Duplicate Values"
      ],
      "metadata": {
        "id": "35m5QtbWiB9F"
      }
    },
    {
      "cell_type": "code",
      "source": [
        "# Dataset Duplicate Value Count\n",
        "total_duplicates = df.duplicated().sum()\n",
        "\n",
        "columns_to_check_duplicates = ['eventid', 'iyear', 'imonth', 'iday', 'approxdate', 'extended',\n",
        "                               'resolution', 'country', 'country_txt', 'region',\n",
        "                               'addnotes', 'scite1', 'scite2', 'scite3', 'dbsource', 'INT_LOG',\n",
        "                               'INT_IDEO', 'INT_MISC', 'INT_ANY', 'related']\n",
        "\n",
        "# Count the duplicate rows for the specified columns\n",
        "column_duplicates = df.duplicated(subset=columns_to_check_duplicates).sum()\n",
        "\n",
        "# Print the results\n",
        "print(\"Total duplicate rows in the DataFrame:\", total_duplicates)\n",
        "print(\"Duplicate rows in the specified columns:\", column_duplicates)\n"
      ],
      "metadata": {
        "id": "1sLdpKYkmox0",
        "colab": {
          "base_uri": "https://localhost:8080/"
        },
        "outputId": "18127b82-e72c-4063-d5f2-66f545fa2b63"
      },
      "execution_count": 59,
      "outputs": [
        {
          "output_type": "stream",
          "name": "stdout",
          "text": [
            "Total duplicate rows in the DataFrame: 0\n",
            "Duplicate rows in the specified columns: 0\n"
          ]
        }
      ]
    },
    {
      "cell_type": "markdown",
      "source": [
        "#### Missing Values/Null Values"
      ],
      "metadata": {
        "id": "PoPl-ycgm1ru"
      }
    },
    {
      "cell_type": "code",
      "source": [
        "# Missing Values/Null Values Count\n",
        "import pandas as pd\n",
        "\n",
        "# Count the missing values in the entire DataFrame\n",
        "total_missing_values = df.isnull().sum().sum()\n",
        "\n",
        "# Count the missing values in each column\n",
        "missing_values_per_column = df.isnull().sum()\n",
        "\n",
        "# Print the results\n",
        "print(\"Total missing values in the DataFrame:\", total_missing_values)\n",
        "print(\"Missing values per column:\")\n",
        "print(missing_values_per_column)\n"
      ],
      "metadata": {
        "id": "GgHWkxvamxVg",
        "colab": {
          "base_uri": "https://localhost:8080/"
        },
        "outputId": "92a6289e-0be1-460c-8bfa-b0870d7ea36b"
      },
      "execution_count": 60,
      "outputs": [
        {
          "output_type": "stream",
          "name": "stdout",
          "text": [
            "Total missing values in the DataFrame: 13853997\n",
            "Missing values per column:\n",
            "eventid            0\n",
            "iyear              0\n",
            "imonth             0\n",
            "iday               0\n",
            "approxdate    172452\n",
            "               ...  \n",
            "INT_LOG            0\n",
            "INT_IDEO           0\n",
            "INT_MISC           0\n",
            "INT_ANY            0\n",
            "related       156653\n",
            "Length: 135, dtype: int64\n"
          ]
        }
      ]
    },
    {
      "cell_type": "code",
      "source": [
        "# Visualizing the missing values\n",
        "plt.figure(figsize=(10, 6))\n",
        "sns.heatmap(df.isnull(), cmap='viridis', cbar=False, yticklabels=False)\n",
        "plt.title(\"Missing Values Heatmap\")\n",
        "plt.show()\n",
        "\n",
        "# Create a bar plot to visualize missing values per column\n",
        "plt.figure(figsize=(10, 6))\n",
        "missing_values_per_column = df.isnull().sum()\n",
        "sns.barplot(x=missing_values_per_column.index, y=missing_values_per_column.values, palette='viridis')\n",
        "plt.xticks(rotation=90)\n",
        "plt.xlabel('Columns')\n",
        "plt.ylabel('Missing Values Count')\n",
        "plt.title('Missing Values per Column')\n",
        "plt.show()"
      ],
      "metadata": {
        "id": "3q5wnI3om9sJ",
        "colab": {
          "base_uri": "https://localhost:8080/",
          "height": 1000
        },
        "outputId": "c66cdaa6-d2cf-4d2e-badc-2cbfb7bbf821"
      },
      "execution_count": 61,
      "outputs": [
        {
          "output_type": "display_data",
          "data": {
            "text/plain": [
              "<Figure size 1000x600 with 1 Axes>"
            ],
            "image/png": "[encoded data removed]"
          },
          "metadata": {}
        },
        {
          "output_type": "display_data",
          "data": {
            "text/plain": [
              "<Figure size 1000x600 with 1 Axes>"
            ],
            "image/png": "[encoded data removed]"
          },
          "metadata": {}
        }
      ]
    },
    {
      "cell_type": "markdown",
      "source": [
        "### What did you know about your dataset?"
      ],
      "metadata": {
        "id": "H0kj-8xxnORC"
      }
    },
    {
      "cell_type": "markdown",
      "source": [
        "**The Global Terrorism Database (GTD) is an dataset that compiles information on terrorist attacks worldwide from 1970 to 2017, encompassing over 180,000 incidents. It includes data on both domestic and international terrorist acts, allowing researchers to study trends and patterns over time. The database is curated and maintained by the National Consortium for the Study of Terrorism and Responses to Terrorism (START), based at the University of Maryland. Researchers use this dataset to analyze and understand key factors related to terrorist activities, such as attack frequencies, targets, weapons used, perpetrator groups, and geographical distributions. The GTD serves as a valuable resource for governments, academics, and policymakers in their efforts to counter terrorism and enhance global security.**"
      ],
      "metadata": {
        "id": "gfoNAAC-nUe_"
      }
    },
    {
      "cell_type": "markdown",
      "source": [
        "## ***2. Understanding Your Variables***"
      ],
      "metadata": {
        "id": "nA9Y7ga8ng1Z"
      }
    },
    {
      "cell_type": "code",
      "source": [
        "# Dataset Columns\n",
        "column_names = df.columns.tolist()\n",
        "print(\"Column names:\", column_names)"
      ],
      "metadata": {
        "id": "j7xfkqrt5Ag5",
        "colab": {
          "base_uri": "https://localhost:8080/"
        },
        "outputId": "d44796c2-f17c-4336-e0f3-878d3c1f657b"
      },
      "execution_count": 38,
      "outputs": [
        {
          "output_type": "stream",
          "name": "stdout",
          "text": [
            "Column names: ['eventid', 'iyear', 'imonth', 'iday', 'approxdate', 'extended', 'resolution', 'country', 'country_txt', 'region', 'region_txt', 'provstate', 'city', 'latitude', 'longitude', 'specificity', 'vicinity', 'location', 'summary', 'crit1', 'crit2', 'crit3', 'doubtterr', 'alternative', 'alternative_txt', 'multiple', 'success', 'suicide', 'attacktype1', 'attacktype1_txt', 'attacktype2', 'attacktype2_txt', 'attacktype3', 'attacktype3_txt', 'targtype1', 'targtype1_txt', 'targsubtype1', 'targsubtype1_txt', 'corp1', 'target1', 'natlty1', 'natlty1_txt', 'targtype2', 'targtype2_txt', 'targsubtype2', 'targsubtype2_txt', 'corp2', 'target2', 'natlty2', 'natlty2_txt', 'targtype3', 'targtype3_txt', 'targsubtype3', 'targsubtype3_txt', 'corp3', 'target3', 'natlty3', 'natlty3_txt', 'gname', 'gsubname', 'gname2', 'gsubname2', 'gname3', 'gsubname3', 'motive', 'guncertain1', 'guncertain2', 'guncertain3', 'individual', 'nperps', 'nperpcap', 'claimed', 'claimmode', 'claimmode_txt', 'claim2', 'claimmode2', 'claimmode2_txt', 'claim3', 'claimmode3', 'claimmode3_txt', 'compclaim', 'weaptype1', 'weaptype1_txt', 'weapsubtype1', 'weapsubtype1_txt', 'weaptype2', 'weaptype2_txt', 'weapsubtype2', 'weapsubtype2_txt', 'weaptype3', 'weaptype3_txt', 'weapsubtype3', 'weapsubtype3_txt', 'weaptype4', 'weaptype4_txt', 'weapsubtype4', 'weapsubtype4_txt', 'weapdetail', 'nkill', 'nkillus', 'nkillter', 'nwound', 'nwoundus', 'nwoundte', 'property', 'propextent', 'propextent_txt', 'propvalue', 'propcomment', 'ishostkid', 'nhostkid', 'nhostkidus', 'nhours', 'ndays', 'divert', 'kidhijcountry', 'ransom', 'ransomamt', 'ransomamtus', 'ransompaid', 'ransompaidus', 'ransomnote', 'hostkidoutcome', 'hostkidoutcome_txt', 'nreleased', 'addnotes', 'scite1', 'scite2', 'scite3', 'dbsource', 'INT_LOG', 'INT_IDEO', 'INT_MISC', 'INT_ANY', 'related']\n"
          ]
        }
      ]
    },
    {
      "cell_type": "code",
      "source": [
        "# Dataset Describe\n",
        "description = df.describe()\n",
        "print(description)"
      ],
      "metadata": {
        "id": "DnOaZdaE5Q5t",
        "colab": {
          "base_uri": "https://localhost:8080/"
        },
        "outputId": "2fa44ab6-6981-405c-d4f8-43edddf77317"
      },
      "execution_count": 39,
      "outputs": [
        {
          "output_type": "stream",
          "name": "stdout",
          "text": [
            "            eventid         iyear        imonth          iday      extended  \\\n",
            "count  7.741300e+04  77413.000000  77413.000000  77413.000000  77413.000000   \n",
            "mean   1.988737e+11   1988.671011      6.459303     15.333562      0.025655   \n",
            "std    7.717344e+08      7.717004      3.397142      8.824209      0.158104   \n",
            "min    1.970000e+11   1970.000000      0.000000      0.000000      0.000000   \n",
            "25%    1.983072e+11   1983.000000      4.000000      8.000000      0.000000   \n",
            "50%    1.989063e+11   1989.000000      6.000000     15.000000      0.000000   \n",
            "75%    1.994122e+11   1994.000000      9.000000     23.000000      0.000000   \n",
            "max    2.005011e+11   2005.000000     12.000000     31.000000      1.000000   \n",
            "\n",
            "            country        region      latitude     longitude   specificity  \\\n",
            "count  77413.000000  77413.000000  73556.000000  7.355500e+04  77412.000000   \n",
            "mean     145.267152      5.915621     19.310514 -1.178813e+03      1.431923   \n",
            "std      135.432426      3.190920     23.737009  3.177826e+05      1.095451   \n",
            "min        4.000000      1.000000    -53.154613 -8.618590e+07      1.000000   \n",
            "25%       61.000000      3.000000      6.242026 -7.515143e+01      1.000000   \n",
            "50%      110.000000      6.000000     19.371887  1.231572e+00      1.000000   \n",
            "75%      183.000000      8.000000     38.290490  3.550351e+01      1.000000   \n",
            "max     1003.000000     12.000000     74.633553  1.793667e+02      5.000000   \n",
            "\n",
            "       ...     ransomamt   ransomamtus    ransompaid  ransompaidus  \\\n",
            "count  ...  8.170000e+02  1.150000e+02  2.950000e+02    111.000000   \n",
            "mean   ...  3.332860e+06  4.605453e+05  7.297225e+05   1114.225225   \n",
            "std    ...  3.644035e+07  1.809967e+06  3.469721e+06   6438.343489   \n",
            "min    ... -9.900000e+01 -9.900000e+01 -9.900000e+01    -99.000000   \n",
            "25%    ...  0.000000e+00  0.000000e+00  0.000000e+00      0.000000   \n",
            "50%    ...  1.200000e+04  0.000000e+00  0.000000e+00      0.000000   \n",
            "75%    ...  5.000000e+05  0.000000e+00  7.750000e+04      0.000000   \n",
            "max    ...  1.000000e+09  1.500000e+07  4.100000e+07  48000.000000   \n",
            "\n",
            "       hostkidoutcome    nreleased       INT_LOG      INT_IDEO      INT_MISC  \\\n",
            "count     2519.000000  2106.000000  77412.000000  77412.000000  77412.000000   \n",
            "mean         3.853116   -10.161918     -3.799114     -3.754818      0.126156   \n",
            "std          1.965312    61.001350      4.508034      4.565426      0.784106   \n",
            "min          1.000000   -99.000000     -9.000000     -9.000000     -9.000000   \n",
            "25%          2.000000     0.000000     -9.000000     -9.000000      0.000000   \n",
            "50%          4.000000     1.000000      0.000000      0.000000      0.000000   \n",
            "75%          5.500000     2.000000      0.000000      0.000000      0.000000   \n",
            "max          7.000000   856.000000      1.000000      1.000000      1.000000   \n",
            "\n",
            "            INT_ANY  \n",
            "count  77412.000000  \n",
            "mean      -3.000065  \n",
            "std        4.528913  \n",
            "min       -9.000000  \n",
            "25%       -9.000000  \n",
            "50%        0.000000  \n",
            "75%        1.000000  \n",
            "max        1.000000  \n",
            "\n",
            "[8 rows x 77 columns]\n"
          ]
        }
      ]
    },
    {
      "cell_type": "markdown",
      "source": [
        "# Variable Description\n",
        "\n"
      ],
      "metadata": {
        "id": "PBTbrJXOngz2"
      }
    },
    {
      "cell_type": "markdown",
      "source": [
        "\n",
        "\n"
      ],
      "metadata": {
        "id": "aJV4KIxSnxay"
      }
    },
    {
      "cell_type": "markdown",
      "source": [
        "### Check Unique Values for each variable."
      ],
      "metadata": {
        "id": "u3PMJOP6ngxN"
      }
    },
    {
      "cell_type": "code",
      "source": [
        "# Check Unique Values for each variable.\n",
        "for column in df.columns:\n",
        "    unique_values = df[column].unique()\n",
        "    print(f\"Unique values in '{column}': {unique_values}\")"
      ],
      "metadata": {
        "id": "zms12Yq5n-jE",
        "colab": {
          "base_uri": "https://localhost:8080/"
        },
        "outputId": "c19fc464-560e-4813-fb58-ab7719a759f0"
      },
      "execution_count": 40,
      "outputs": [
        {
          "output_type": "stream",
          "name": "stdout",
          "text": [
            "Unique values in 'eventid': [197000000001 197000000002 197001000001 ... 200501120003 200501120004\n",
            " 200501120005]\n",
            "Unique values in 'iyear': [1970 1971 1972 1973 1974 1975 1976 1977 1978 1979 1980 1981 1986 1982\n",
            " 1983 1984 1985 1987 1988 1989 1990 1991 1992 1994 1995 1996 1997 1998\n",
            " 1999 2000 2001 2002 2003 2004 2005]\n",
            "Unique values in 'imonth': [ 7  0  1  2  3  4  5  6  8  9 10 11 12]\n",
            "Unique values in 'iday': [ 2  0  1  3  6  8  9 10 11 12 13 14 15 19 20 21 22 25 26 27 28 30 31  4\n",
            "  7 16 17 18 23 24  5 29]\n",
            "Unique values in 'approxdate': [nan 'January 19-20, 1970' 'February 6-9, 1970' 'February 11-14, 1970'\n",
            " 'February 16-17, 1970' 'March 16-17, 1970' 'May 27 - June 5, 1970'\n",
            " 'February 25-28, 1971' 'March 6-7, 1971' 'June 14-16, 1971'\n",
            " 'June 24-25, 1971' 'July 18-19, 1971' 'August 17-18, 1972'\n",
            " 'September 10-14, 1972' 'March 16-17, 1974' 'June 22 - July 22, 1979'\n",
            " 'January 8 - 12, 1980' 'January 12 - 17, 1980' 'April - May, 1980'\n",
            " 'July 9 - 17, 1981' '10/21/1986' 'December 15-16, 1987'\n",
            " 'October 25-26, 1988' 'July 23-30, 1990' 'November 11-19, 1990'\n",
            " 'December 14-15, 1994' 'March 31-April1, 1997' '12/24/1997'\n",
            " 'February 20-21, 1998' 'April 1998' 'June 1998' 'June 17-18, 1998'\n",
            " '07/29/1998' 'Late November 1998' 'December 1-2, 1998'\n",
            " 'January 1-2, 1999' 'April 3-5, 1999'\n",
            " 'Within the first 10 days of the month' 'June 1-3,1999'\n",
            " 'On or before June 9, 1999' 'On or before June 10, 1999'\n",
            " 'On or before June 11, 1999' 'On or around June 11, 1999'\n",
            " 'On or before June 16, 1999' '06/19/1999' 'On or before June 20, 1999'\n",
            " 'On or around June 22, 1999' 'June 25-27, 1999' 'June 30 - July 1, 1999'\n",
            " 'October 16-17, 1999' 'October 21-22, 1999' '01/04/2000' '12/15/1999'\n",
            " 'January 27-28, 2000' 'On or before February 16, 2000.' '02/02/2000'\n",
            " 'March 1-31, 2000' '05/26/2000' '06/27/2000' 'July 17-19, 2000'\n",
            " 'July 1-2, 2000' 'July 19-20, 2000' 'July 26-27, 2000'\n",
            " 'August 12-13, 2000' '08/13/2000' 'August 4-5, 2000' 'August 7-22, 2000'\n",
            " '09/20/2000' '10-18 October 2000' 'On or before October 18, 2000'\n",
            " '18-21 October 2000' 'October 8-9, 2000' 'October 9-10,2000'\n",
            " 'October 14-15, 2000' 'October 24-25, 2000' '11/12/2000'\n",
            " 'November 11-12, 2000' 'November 20-21, 2000' 'November 27-28, 2000'\n",
            " 'December 2-3, 2000' 'December 3-4, 2000' 'December 25-26, 2000'\n",
            " 'January 8-9, 2001' 'January 16-17, 2001' 'February 11-12, 2001'\n",
            " 'February 5-6, 2001' 'February 10-11, 2001' 'February 2-9, 2001'\n",
            " 'February 14-15, 2001' 'February 27-March 1, 2001' 'March 3-4, 2001'\n",
            " 'June 15-16, 2001' 'August 2001' '08/02/2001' '10/21/2001' '11/07/2001'\n",
            " 'November 12-16, 2001' 'November 19-20, 2001' 'Late December 2001'\n",
            " '12/12/2001' '01/28/2002' '05/03/2002' '02/07/2002'\n",
            " 'February 23 or 24, 2002'\n",
            " 'Overnight on February 27th/February 28th, 2002' '2/28/2002'\n",
            " 'March 29-30, 2002' 'March 1-3, 2002' 'March 1-2, 2002'\n",
            " 'March 1-31, 2002' 'March 18-25, 2002' 'March 28-29, 2002'\n",
            " 'April 17-18, 2002' 'April 15-19, 2002' '04/23/2002'\n",
            " 'May 31-June 2, 2002' 'May 4-5, 2007' 'July 14-15, 2002' '07/24/2002'\n",
            " 'July 27-30, 2002' '08/17/2002' 'August 23-25, 2002'\n",
            " 'October 17-18, 2002' 'December 12-13, 2002' 'December 11-12, 2002'\n",
            " 'December 16-21, 2002' 'February 15-May 12, 2003' 'March 23 or 24, 2003'\n",
            " '04/25/2003' 'May 3-5, 2003' 'May 17-18, 2003' '06/02/2003'\n",
            " 'October 10-11, 2003' 'October 29-30, 2003' 'February 5-9, 2004'\n",
            " 'July 8-14, 2004' 'July 29-30, 2004' '08/11/2004' 'September 16-17, 2004'\n",
            " 'November 29-December 4, 2004' 'November 7-8, 2004']\n",
            "Unique values in 'extended': [0 1]\n",
            "Unique values in 'resolution': [nan '3/8/1970' '3/15/1970' ... '10/16/2004' '1/5/2005' '9/3/2005']\n",
            "Unique values in 'country': [  58  130  160   78  101  217  218   98  499   65   83  222  362  199\n",
            "  102  185   30   60   11  110   96  209  158   94  603   45   26  145\n",
            "  142   21   38   14  153  230  198   49  406   36   97  161  201  156\n",
            "  106  155   15  236   92   69  428   31  604  605  162    6   61  205\n",
            "   87  195  136   53  138    4  159   43   88  235   59  144  121  178\n",
            "   29  100   42  377    7  200  184  215  183  104   95  182  203  186\n",
            "  139   17  147   20  207   19    8  128  173   56   93  124  403  359\n",
            "   55  349   86  137  208  213  151  111   72  113   18   89  174  231\n",
            "   84   80  532   22   81  127  221    5   41  176   57  164   32  196\n",
            "  197  116   91   70   66   33  143  166  146  141  204   68   67   76\n",
            "  122  129   90  108  157   44  112   47  123   75  228  168  177   37\n",
            "   51   50   74   16  119  115   34  214  132   12  167   99  103   10\n",
            "   28   62  202  120  219  109   64  223   46   23  179  118  226   35\n",
            "   54  180   73  149   63  189   71  117  107  220  229 1003  181  347\n",
            "  190   85 1002  422  210  175]\n",
            "Unique values in 'country_txt': ['Dominican Republic' 'Mexico' 'Philippines' 'Greece' 'Japan'\n",
            " 'United States' 'Uruguay' 'Italy' 'East Germany (GDR)' 'Ethiopia'\n",
            " 'Guatemala' 'Venezuela' 'West Germany (FRG)' 'Switzerland' 'Jordan'\n",
            " 'Spain' 'Brazil' 'Egypt' 'Argentina' 'Lebanon' 'Ireland' 'Turkey'\n",
            " 'Paraguay' 'Iran' 'United Kingdom' 'Colombia' 'Bolivia' 'Nicaragua'\n",
            " 'Netherlands' 'Belgium' 'Canada' 'Australia' 'Pakistan' 'Zambia' 'Sweden'\n",
            " 'Costa Rica' 'South Yemen' 'Cambodia' 'Israel' 'Poland' 'Taiwan' 'Panama'\n",
            " 'Kuwait' 'West Bank and Gaza Strip' 'Austria' 'Czechoslovakia' 'India'\n",
            " 'France' 'South Vietnam' 'Brunei' 'Zaire'\n",
            " \"People's Republic of the Congo\" 'Portugal' 'Algeria' 'El Salvador'\n",
            " 'Thailand' 'Haiti' 'Sudan' 'Morocco' 'Cyprus' 'Myanmar' 'Afghanistan'\n",
            " 'Peru' 'Chile' 'Honduras' 'Yugoslavia' 'Ecuador' 'New Zealand' 'Malaysia'\n",
            " 'Singapore' 'Botswana' 'Jamaica' 'Chad' 'North Yemen' 'Andorra' 'Syria'\n",
            " 'South Korea' 'United Arab Emirates' 'South Africa' 'Kenya' 'Iraq'\n",
            " 'Somalia' 'Tanzania' 'Sri Lanka' 'Namibia' 'Bahamas' 'Nigeria' 'Barbados'\n",
            " 'Trinidad and Tobago' 'Bangladesh' 'Angola' 'Mauritania' 'Saudi Arabia'\n",
            " 'Djibouti' 'Indonesia' 'Malta' 'Rhodesia' 'Soviet Union' 'Denmark'\n",
            " 'Western Sahara' 'Guyana' 'Mozambique' 'Tunisia' 'Uganda' 'Norway'\n",
            " 'Lesotho' 'Gabon' 'Libya' 'Bahrain' 'Hong Kong' 'Senegal' 'Zimbabwe'\n",
            " 'Guinea' 'Grenada' 'New Hebrides' 'Belize' 'Guadeloupe' 'Martinique'\n",
            " 'Vatican City' 'Albania' 'Central African Republic' 'Seychelles'\n",
            " 'Dominica' 'Qatar' 'Bulgaria' 'Suriname' 'Swaziland' 'Luxembourg'\n",
            " 'Iceland' 'French Guiana' 'Falkland Islands' 'Burkina Faso'\n",
            " 'New Caledonia' 'Romania' 'Niger' 'Nepal' 'Togo' 'Finland' 'Fiji' 'Ghana'\n",
            " 'Maldives' 'Mauritius' 'Hungary' 'Laos' 'Papua New Guinea' 'China'\n",
            " 'Liberia' 'Republic of the Congo' 'Mali' 'Germany' 'Yemen' 'Rwanda'\n",
            " 'Sierra Leone' 'Cameroon' 'Cuba' 'Croatia' 'Georgia' 'Azerbaijan'\n",
            " 'Madagascar' 'Lithuania' 'Burundi' 'Ukraine' 'Moldova' 'Armenia' 'Russia'\n",
            " 'Ivory Coast' 'Kazakhstan' 'Antigua and Barbuda' 'Bosnia-Herzegovina'\n",
            " 'Equatorial Guinea' 'Tajikistan' 'Malawi' 'Uzbekistan' 'Latvia' 'Estonia'\n",
            " 'Vietnam' 'Comoros' 'Benin' 'Slovak Republic' 'Macedonia'\n",
            " 'Wallis and Futuna' 'Belarus' 'Czech Republic' 'Slovenia' 'Gambia'\n",
            " 'North Korea' 'Eritrea' 'St. Kitts and Nevis' 'French Polynesia' 'Macau'\n",
            " 'Kyrgyzstan' 'Vanuatu' 'Democratic Republic of the Congo' 'Kosovo'\n",
            " 'Solomon Islands' 'East Timor' 'St. Lucia' 'Guinea-Bissau' 'Montenegro'\n",
            " 'International' 'Turkmenistan' 'Serbia-Montenegro']\n",
            "Unique values in 'region': [ 2  1  5  8  4  3  9 11 10 12  6  7]\n",
            "Unique values in 'region_txt': ['Central America & Caribbean' 'North America' 'Southeast Asia'\n",
            " 'Western Europe' 'East Asia' 'South America' 'Eastern Europe'\n",
            " 'Sub-Saharan Africa' 'Middle East & North Africa' 'Australasia & Oceania'\n",
            " 'South Asia' 'Central Asia']\n",
            "Unique values in 'provstate': [nan 'Federal' 'Tarlac' ... 'Cortés (Department)'\n",
            " 'Krasnodar (Federal Subject)' 'Kachin (State)']\n",
            "Unique values in 'city': ['Santo Domingo' 'Mexico city' 'Unknown' ... 'Gatumba' 'Vakaneri'\n",
            " 'Mastung']\n",
            "Unique values in 'latitude': [18.456792 19.371887 15.478598 ... -3.333204  7.928636 29.803965]\n",
            "Unique values in 'longitude': [-69.951164 -99.086624 120.599741 ...  29.249419  81.436831  66.85099 ]\n",
            "Unique values in 'specificity': [ 1.  4.  5.  2.  3. nan]\n",
            "Unique values in 'vicinity': [ 0  1 -9]\n",
            "Unique values in 'location': [nan 'Edes Substation' 'Caparra Shopping Center' ...\n",
            " 'The incident occurred near Tuburan, Basilan' 'Tikrit Police Directorate'\n",
            " 'Mansour']\n",
            "Unique values in 'summary': [nan\n",
            " '1/1/1970: Unknown African American assailants fired several bullets at police headquarters in Cairo, Illinois, United States.  There were no casualties, however, one bullet narrowly missed several police officers.  This attack took place during heightened racial tensions, including a Black boycott of White-owned businesses, in Cairo Illinois.'\n",
            " '1/2/1970: Unknown perpetrators detonated explosives at the Pacific Gas & Electric Company Edes substation in Oakland, California, United States.  Three transformers were damaged costing an estimated $20,000 to $25,000.  There were no casualties.'\n",
            " ...\n",
            " '01/12/2005: Unknown perpetrators killed three members of Iraq\\x92s National Guard and injured six others in an attack in Al-Mansar, Iraq. The National Guard personnel came under attack while they were delivering supplies to a local school. No group claimed responsibility for the attack.'\n",
            " '01/12/2005: Unknown perpetrators threw a grenade into a cinema in Mogadishu, Somalia. The explosion and resulting stampede killed three people and left nine others injured.'\n",
            " '01/12/2005: Two suspected Communist rebels killed a retired police superintendent, Eduardo Sebastian, in Lucena City, Philippines. The perpetrators broke into the victim\\x92s house and shot him. Local authorities indicated that a Communist rebel spokesperson had claimed responsibility for the assassination, but indicated that they were skeptical as to the authenticity of the claim.']\n",
            "Unique values in 'crit1': [1 0]\n",
            "Unique values in 'crit2': [1 0]\n",
            "Unique values in 'crit3': [1 0]\n",
            "Unique values in 'doubtterr': [ 0. -9.  1. nan]\n",
            "Unique values in 'alternative': [nan  2.  1.  3.  5.  4.]\n",
            "Unique values in 'alternative_txt': [nan 'Other Crime Type' 'Insurgency/Guerilla Action'\n",
            " 'Intra/Inter-group Conflict' 'State Actors' 'Lack of Intentionality']\n",
            "Unique values in 'multiple': [ 0.  1. nan]\n",
            "Unique values in 'success': [ 1.  0. nan]\n",
            "Unique values in 'suicide': [ 0.  1. nan]\n",
            "Unique values in 'attacktype1': [ 1.  6.  3.  7.  2.  4.  9.  8.  5. nan]\n",
            "Unique values in 'attacktype1_txt': ['Assassination' 'Hostage Taking (Kidnapping)' 'Bombing/Explosion'\n",
            " 'Facility/Infrastructure Attack' 'Armed Assault' 'Hijacking' 'Unknown'\n",
            " 'Unarmed Assault' 'Hostage Taking (Barricade Incident)' nan]\n",
            "Unique values in 'attacktype2': [nan  2.  7.  3.  6.  1.  4.  5.  9.  8.]\n",
            "Unique values in 'attacktype2_txt': [nan 'Armed Assault' 'Facility/Infrastructure Attack' 'Bombing/Explosion'\n",
            " 'Hostage Taking (Kidnapping)' 'Assassination' 'Hijacking'\n",
            " 'Hostage Taking (Barricade Incident)' 'Unknown' 'Unarmed Assault']\n",
            "Unique values in 'attacktype3': [nan  2.  4.  7.  3.  6.  1.]\n",
            "Unique values in 'attacktype3_txt': [nan 'Armed Assault' 'Hijacking' 'Facility/Infrastructure Attack'\n",
            " 'Bombing/Explosion' 'Hostage Taking (Kidnapping)' 'Assassination']\n",
            "Unique values in 'targtype1': [14.  7. 10.  3. 21.  4.  2.  6.  1.  8. 22. 15. 20. 19. 18. 12. 16.  9.\n",
            " 17. 13. 11.  5. nan]\n",
            "Unique values in 'targtype1_txt': ['Private Citizens & Property' 'Government (Diplomatic)'\n",
            " 'Journalists & Media' 'Police' 'Utilities' 'Military'\n",
            " 'Government (General)' 'Airports & Aircraft' 'Business'\n",
            " 'Educational Institution' 'Violent Political Party'\n",
            " 'Religious Figures/Institutions' 'Unknown' 'Transportation' 'Tourists'\n",
            " 'NGO' 'Telecommunication' 'Food or Water Supply'\n",
            " 'Terrorists/Non-State Militia' 'Other' 'Maritime' 'Abortion Related' nan]\n",
            "Unique values in 'targsubtype1': [ 68.  45.  54.  46.  22.  25. 107.  28.  21.  27.  42.   7.  nan  34.\n",
            "  49.   4. 110.  76.  71.  14.  23.  86.  73.  99.  15.   8.  44.   3.\n",
            "  12.  96. 100.  69.   1.  53.  32.  17.  11.  82.   2.  81.  18.  79.\n",
            "   5.  62.  67.  84.  90.  43.  52.  77.  35.  61.  88.   9.  93.  29.\n",
            "  64.  50.  78.  10. 108.   6.  75.  80.  47.  87.  95.  89.  56.  55.\n",
            " 109. 104.  59.  98.  97.  16.  57. 106.  37.  31. 105.  48.  85.  58.\n",
            "  94.  74.  26. 102. 101. 103.  20. 113.  70. 112.  40.  19.  92.  72.\n",
            "  51.  13.  60.  24.  83.  65.  39.  36. 111.  41.  91.  63.  30.  66.]\n",
            "Unique values in 'targsubtype1_txt': ['Named Civilian' 'Diplomatic Personnel (outside of embassy, consulate)'\n",
            " 'Radio Journalist/Staff/Facility' 'Embassy/Consulate'\n",
            " 'Police Building (headquarters, station, school)'\n",
            " 'Police Security Forces/Officers' 'Electricity'\n",
            " 'Military Recruiting Station/Academy'\n",
            " 'Government Building/Facility/Office'\n",
            " 'Military Barracks/Base/Headquarters/Checkpost'\n",
            " 'Aircraft (not at an airport)' 'Retail/Grocery/Bakery' nan\n",
            " 'Military Personnel (soldiers, troops, officers, forces)'\n",
            " 'School/University/Educational Building' 'Multinational Corporation'\n",
            " 'Party Office/Facility' 'House/Apartment/Residence'\n",
            " 'Race/Ethnicity Identified' 'Judge/Attorney/Court'\n",
            " 'Police Patrol (including vehicles and convoys)' 'Place of Worship'\n",
            " 'Vehicles/Transportation' 'Bus (excluding tourists)'\n",
            " 'Politician or Political Party Movement/Meeting/Rally' 'Hotel/Resort'\n",
            " 'Airport' 'Bank/Commerce' 'Construction' 'Tour Bus/Van'\n",
            " 'Train/Train Tracks/Trolley' 'Religion Identified' 'Gas/Oil/Electric'\n",
            " 'Newspaper Journalist/Staff/Facility' 'Military Maritime' 'Head of State'\n",
            " 'Entertainment/Cultural/Stadium/Casino' 'Labor Union Related'\n",
            " 'Restaurant/Bar/Café' 'Museum/Cultural Center/Cultural House'\n",
            " 'Government Personnel (excluding police, military)'\n",
            " 'Public Area (garden, parking lot, garage, beach, public building, camp)'\n",
            " 'Industrial/Textiles/Factory' 'International NGO'\n",
            " 'Unnamed Civilian/Unspecified' 'Political Party Member/Rally'\n",
            " 'Telephone/Telegraph' 'Airline Officer/Personnel' 'Water Supply'\n",
            " 'Laborer (General)/Occupation Identified'\n",
            " 'Military Transportation/Vehicle (excluding convoys)' 'Domestic NGO'\n",
            " 'Radio' 'Farm/Ranch' 'Terrorist' 'Military Unit/Patrol/Convoy'\n",
            " 'Fire Fighter/Truck' 'Other Personnel'\n",
            " 'Procession/Gathering (funeral, wedding, birthday, religious)' 'Mining'\n",
            " 'Oil' 'Medical/Pharmaceutical' 'Village/City/Town/Suburb'\n",
            " 'Memorial/Cemetery/Monument'\n",
            " 'International Organization (peacekeeper, aid agency, compound)'\n",
            " 'Affiliated Institution' 'Tourism Travel Agency' 'Television'\n",
            " 'Other (including online news agencies)'\n",
            " 'Television Journalist/Staff/Facility'\n",
            " 'Party Official/Candidate/Other Personnel'\n",
            " 'Highway/Road/Toll/Traffic Signal' 'Oil Tanker' 'Other Facility'\n",
            " 'Tourist' 'Royalty' 'Civilian Maritime' 'Gas' 'NATO' 'Military Aircraft'\n",
            " 'Taxi/Rickshaw' 'Teacher/Professor/Instructor' 'Religious Figure'\n",
            " 'Commercial Maritime' 'Non-State Militia' 'Marketplace/Plaza/Square'\n",
            " 'Prison/Jail' 'Subway' 'Bus Station/Stop' 'Bridge/Car Tunnel'\n",
            " 'Intelligence' 'Alleged Informant' 'Student' 'Legal Services' 'Clinics'\n",
            " 'Election-related' 'Multiple Telecommunication Targets' 'Farmer'\n",
            " 'Food Supply' 'Private Security Company/Firm' 'Port' 'Police Checkpoint'\n",
            " 'Protester' 'Refugee (including Camps/IDP/Asylum Seekers)' 'Paramilitary'\n",
            " 'Military Checkpoint' 'Rally' 'Personnel' 'Internet Infrastructure'\n",
            " 'Ambulance' 'Military Weaponry'\n",
            " 'Demilitarized Zone (including Green Zone)']\n",
            "Unique values in 'corp1': [nan 'Belgian Ambassador Daughter' 'Voice of America' ... 'Shi i Isam'\n",
            " 'Philippine Paramilitary Forces' 'Russian Border Security Forces']\n",
            "Unique values in 'target1': ['Julio Guzman' 'Nadine Chaval, daughter' 'Employee' ...\n",
            " 'A US Army soldier in Al-Anbar Governorate'\n",
            " 'Iraqi guardsmen in Al-Mansar' 'Civilians in cinema hall']\n",
            "Unique values in 'natlty1': [  58.   21.  217.  218.   75.  216.  222.  163.   97.   15.  199.  102.\n",
            "   65.  185.   nan  101.  422.   60.  158.  359.   96.   11.  160.   44.\n",
            "  155.  999.  233.   30.   87.  183.  162.   45.   78.  145.   93.  235.\n",
            "   98.  403.   99.   94.   38.  161.  198.  209.   49.  167.   95.   51.\n",
            "   69.  120.  229.  142.   43.   89.  228.  130.  200.   92.  144.  174.\n",
            "    6.  159.  236.  173.   55.  362.   17.   26.   61.   29.   83.  110.\n",
            "  149.    5.  184.  603.  153.  104.   53.  156.  186.   59.  121.  136.\n",
            "  182.  147.  139.   12.   20.  106.  137.   86.  201.  208.  138.  207.\n",
            "  128.   32.  205.   18.   68.  223.  215.  124.   14.  231.  230.    8.\n",
            "  151.  100.  213.   50.  111.  203.   84.   67.   56.  113.   63.    4.\n",
            "   88.  604.  123.   19.   80.  220.   22.  377.  166.  195.   42.   41.\n",
            "  112.  176.   57.  605.   46.  196.  221.  115.   81.  127.  349.  197.\n",
            "   33.  125.  143.   36.  178.  238.  116.  146.  141.   90.  204.   91.\n",
            "  520.   76.  122.  129.  157.  164.  168.   37.   64.  177.  109.   79.\n",
            "   28.  119.   34.   16.  103.   74.   10.  351.  214.  132.   62.  202.\n",
            "  108.   31.  219.  175.   47.   72.  179.  118.  134.   23.   35.  152.\n",
            "   54.   73.  334. 1001.  189.  107.  117.  180.   70.  347. 1003.  181.\n",
            "  190.   85. 1002.   25.]\n",
            "Unique values in 'natlty1_txt': ['Dominican Republic' 'Belgium' 'United States' 'Uruguay' 'Germany'\n",
            " 'Great Britain' 'Venezuela' 'Puerto Rico' 'Israel' 'Austria'\n",
            " 'Switzerland' 'Jordan' 'Ethiopia' 'Spain' nan 'Japan' 'International'\n",
            " 'Egypt' 'Paraguay' 'Soviet Union' 'Ireland' 'Argentina' 'Philippines'\n",
            " 'China' 'West Bank and Gaza Strip' 'Multinational' 'Northern Ireland'\n",
            " 'Brazil' 'Haiti' 'South Africa' 'Portugal' 'Colombia' 'Greece'\n",
            " 'Nicaragua' 'Indonesia' 'Yugoslavia' 'Italy' 'Rhodesia' 'Ivory Coast'\n",
            " 'Iran' 'Canada' 'Poland' 'Sweden' 'Turkey' 'Costa Rica' 'Russia' 'Iraq'\n",
            " 'Cuba' 'France' 'Malawi' 'Democratic Republic of the Congo' 'Netherlands'\n",
            " 'Chile' 'Hong Kong' 'Yemen' 'Mexico' 'Syria' 'India' 'New Zealand'\n",
            " 'Senegal' 'Algeria' 'Peru' 'Czechoslovakia' 'Saudi Arabia' 'Denmark'\n",
            " 'West Germany (FRG)' 'Bahamas' 'Bolivia' 'El Salvador' 'Botswana'\n",
            " 'Guatemala' 'Lebanon' 'North Korea' 'Albania' 'South Korea'\n",
            " 'United Kingdom' 'Pakistan' 'Kenya' 'Cyprus' 'Panama' 'Sri Lanka'\n",
            " 'Ecuador' 'Malaysia' 'Morocco' 'Somalia' 'Nigeria' 'Namibia' 'Armenia'\n",
            " 'Barbados' 'Kuwait' 'Mozambique' 'Guyana' 'Taiwan' 'Tunisia' 'Myanmar'\n",
            " 'Trinidad and Tobago' 'Mauritania' 'Bulgaria' 'Thailand' 'Bahrain'\n",
            " 'Finland' 'Vietnam' 'United Arab Emirates' 'Malta' 'Australia' 'Zimbabwe'\n",
            " 'Zambia' 'Angola' 'Norway' 'Jamaica' 'Uganda' 'Croatia' 'Lesotho'\n",
            " 'Tanzania' 'Guinea' 'Fiji' 'Djibouti' 'Libya' 'Eritrea' 'Afghanistan'\n",
            " 'Honduras' 'Zaire' 'Mali' 'Bangladesh' 'Grenada' 'Vanuatu' 'Belize'\n",
            " 'North Yemen' 'Romania' 'Sudan' 'Chad' 'Central African Republic'\n",
            " 'Liberia' 'Seychelles' 'Dominica' \"People's Republic of the Congo\"\n",
            " 'Comoros' 'Suriname' 'Vatican City' 'Lithuania' 'Guadeloupe' 'Martinique'\n",
            " 'Western Sahara' 'Swaziland' 'Burkina Faso' 'Man, Isle of'\n",
            " 'New Caledonia' 'Cambodia' 'Singapore' 'Corsica' 'Luxembourg' 'Niger'\n",
            " 'Nepal' 'Hungary' 'Togo' 'Iceland' 'Sinhalese' 'Ghana' 'Maldives'\n",
            " 'Mauritius' 'Papua New Guinea' 'Qatar' 'Rwanda' 'Cameroon' 'Estonia'\n",
            " 'Sierra Leone' 'Latvia' 'Greenland' 'Bosnia-Herzegovina' 'Madagascar'\n",
            " 'Burundi' 'Azerbaijan' 'Kazakhstan' 'Georgia' 'Antigua and Barbuda'\n",
            " 'Commonwealth of Independent States' 'Ukraine' 'Moldova'\n",
            " 'Equatorial Guinea' 'Tajikistan' 'Laos' 'Brunei' 'Uzbekistan'\n",
            " 'Serbia-Montenegro' 'Republic of the Congo' 'Gabon' 'Slovak Republic'\n",
            " 'Macedonia' 'Mongolia' 'Benin' 'Belarus' 'Oman' 'Czech Republic' 'Gambia'\n",
            " 'Asian' 'Serbia' 'St. Kitts and Nevis' 'Kyrgyzstan' 'Macau' 'Slovenia'\n",
            " 'French Guiana' 'East Timor' 'Kosovo' 'Solomon Islands' 'St. Lucia'\n",
            " 'Guinea-Bissau' 'Montenegro' 'Bhutan']\n",
            "Unique values in 'targtype2': [nan  3.  8. 20.  1. 14.  2.  7. 16. 21.  6.  4. 15. 17. 19. 10. 18. 22.\n",
            " 12. 11.  5. 13.  9.]\n",
            "Unique values in 'targtype2_txt': [nan 'Police' 'Educational Institution' 'Unknown' 'Business'\n",
            " 'Private Citizens & Property' 'Government (General)'\n",
            " 'Government (Diplomatic)' 'Telecommunication' 'Utilities'\n",
            " 'Airports & Aircraft' 'Military' 'Religious Figures/Institutions'\n",
            " 'Terrorists/Non-State Militia' 'Transportation' 'Journalists & Media'\n",
            " 'Tourists' 'Violent Political Party' 'NGO' 'Maritime' 'Abortion Related'\n",
            " 'Other' 'Food or Water Supply']\n",
            "Unique values in 'targsubtype2': [ nan  25.  50.   2.  70.   5.  15.  68.  77.  45.  67.  88.  22.  49.\n",
            "   1.  23.  69. 107.  79.  78.  34.  46.  28.  85.  87.  21.  48.  93.\n",
            "  71.  18.   7.  99.   3.  54.  72.  89.  37. 108.  84.   4.  98. 100.\n",
            "  82.   9.  62.  43.  61.  53.  97.  92. 106.  73.  10.  11.  35.  57.\n",
            "  27.  86.  75.  96.  55.  12.   8.  81.  40.  42. 101.  76.  29.   6.\n",
            "  26.  47.  64.  17. 109. 113.  60.  74.  14.  51. 104.  19. 102.  20.\n",
            "  52.  39.  36.  13.]\n",
            "Unique values in 'targsubtype2_txt': [nan 'Police Security Forces/Officers' 'Other Personnel'\n",
            " 'Restaurant/Bar/Café' 'Student' 'Industrial/Textiles/Factory'\n",
            " 'Politician or Political Party Movement/Meeting/Rally' 'Named Civilian'\n",
            " 'Laborer (General)/Occupation Identified'\n",
            " 'Diplomatic Personnel (outside of embassy, consulate)'\n",
            " 'Unnamed Civilian/Unspecified' 'Radio'\n",
            " 'Police Building (headquarters, station, school)'\n",
            " 'School/University/Educational Building' 'Gas/Oil/Electric'\n",
            " 'Police Patrol (including vehicles and convoys)' 'Religion Identified'\n",
            " 'Electricity'\n",
            " 'Public Area (garden, parking lot, garage, beach, public building, camp)'\n",
            " 'Procession/Gathering (funeral, wedding, birthday, religious)'\n",
            " 'Military Personnel (soldiers, troops, officers, forces)'\n",
            " 'Embassy/Consulate' 'Military Recruiting Station/Academy'\n",
            " 'Religious Figure' 'Affiliated Institution'\n",
            " 'Government Building/Facility/Office' 'Teacher/Professor/Instructor'\n",
            " 'Terrorist' 'Race/Ethnicity Identified'\n",
            " 'Government Personnel (excluding police, military)'\n",
            " 'Retail/Grocery/Bakery' 'Bus (excluding tourists)' 'Bank/Commerce'\n",
            " 'Radio Journalist/Staff/Facility' 'Farmer' 'Television' 'NATO' 'Oil'\n",
            " 'Political Party Member/Rally' 'Multinational Corporation'\n",
            " 'Other Facility' 'Train/Train Tracks/Trolley' 'Labor Union Related'\n",
            " 'Farm/Ranch' 'International NGO' 'Airline Officer/Personnel'\n",
            " 'Domestic NGO' 'Newspaper Journalist/Staff/Facility' 'Tourist'\n",
            " 'Multiple Telecommunication Targets' 'Gas' 'Vehicles/Transportation'\n",
            " 'Mining' 'Entertainment/Cultural/Stadium/Casino'\n",
            " 'Military Transportation/Vehicle (excluding convoys)' 'Civilian Maritime'\n",
            " 'Military Barracks/Base/Headquarters/Checkpost' 'Place of Worship'\n",
            " 'Village/City/Town/Suburb' 'Tour Bus/Van'\n",
            " 'Television Journalist/Staff/Facility' 'Construction' 'Hotel/Resort'\n",
            " 'Museum/Cultural Center/Cultural House' 'Clinics'\n",
            " 'Aircraft (not at an airport)' 'Bus Station/Stop'\n",
            " 'House/Apartment/Residence' 'Military Unit/Patrol/Convoy'\n",
            " 'Medical/Pharmaceutical' 'Prison/Jail'\n",
            " 'International Organization (peacekeeper, aid agency, compound)'\n",
            " 'Fire Fighter/Truck' 'Head of State'\n",
            " 'Party Official/Candidate/Other Personnel' 'Alleged Informant' 'Port'\n",
            " 'Marketplace/Plaza/Square' 'Judge/Attorney/Court' 'Food Supply'\n",
            " 'Highway/Road/Toll/Traffic Signal' 'Election-related' 'Subway'\n",
            " 'Intelligence' 'Water Supply' 'Paramilitary' 'Military Checkpoint'\n",
            " 'Private Security Company/Firm']\n",
            "Unique values in 'corp2': [nan 'Fraternal Order of Police' 'San Francisco State College' 'Tavern'\n",
            " 'Psi Upsilon fraternity' 'American Potash and Chemical Company'\n",
            " 'Oakland Police Department' 'Illinois General Assembly'\n",
            " 'Akron Beacon Journal'\n",
            " 'Residence housing printers for the San Rafael Independent Journal'\n",
            " 'Los Angeles District Attorney' 'Cairo Police and Fire Departments'\n",
            " 'Polish Ministry of Foreign Affairs' 'Not Applicable'\n",
            " 'White principal of a predominantly African American high school'\n",
            " 'Radio beacon tower' 'Stanford University Campus Police'\n",
            " 'Stanford University'\n",
            " 'Gas station next to Spanish language television station in the Los Angeles area'\n",
            " 'Campus police, California State University, Los Angeles'\n",
            " 'Los Angeles Police Department' 'Oklahoma University Campus Police'\n",
            " 'Hillview Hanover substation'\n",
            " 'United States park displaying Soviet art exhibit' 'Sabena Airlines'\n",
            " 'Israeli Ministry of Foreign Affairs' 'Brazilian pavallion'\n",
            " 'New York bar owner' 'White people' 'state dept' 'British Army'\n",
            " 'Ford Motor Co., Buenos Aires' 'three others'\n",
            " 'American Evangelical mission Hospital, Ghinda'\n",
            " 'Civilians at a meeting at the Holy Rosary Church where Latino-American relations were being discussed'\n",
            " 'City Hall' 'Guards' 'Sally Voye'\n",
            " 'U.S. Information Agency Printing Plant' 'Civilians' 'IRA'\n",
            " 'Fotem, Southern California Turkish dance troupe' 'Uruguayan Govt.'\n",
            " 'US Govt' 'Armored truck' 'Fongerolle company' 'Duraflex Corp.'\n",
            " 'civil guard' 'Ulster Volunteer Force' 'Royal Ulster Constabulary'\n",
            " 'Ulster Defence Association' 'Colgate Palmolive' 'Malaysian Airlines'\n",
            " 'Trans-Yumbo' 'unk' 'bank of london and south america'\n",
            " 'City of San Sebastien' 'Coin Depot Corperation' 'slaughterhouse'\n",
            " 'security guards' 'Jamica home guard' 'Founder, Lancia motor co.'\n",
            " 'Granja Penal de Pavon (Pavon Penal Farm)' 'Radio Mundial'\n",
            " 'U.K. State Dept' 'Police' 'independent' 'Alabama Police' 'unk radio'\n",
            " 'Army' 'N.A.' 'Beckman instruments'\n",
            " 'Soviet performers in the United States' 'Calzados Centroamericanos'\n",
            " 'English Millionaire Phillip Jones' 'Middle Eastern Airlines' 'Navy'\n",
            " 'Purolator Courier' 'United Industrial Inc.' 'Salvador Govt' 'Unk'\n",
            " 'consulate' 'Shell' 'Own Firm' 'Sanchez Estate'\n",
            " 'Democratic Revolutionary Front (FDR)' 'Egypt' 'AFL-CIO' 'Lemba Bayabao'\n",
            " 'Patriotic Front Party' 'Colombian' 'Turkish Labor Office'\n",
            " 'Henry Kissinger' 'State' 'Publishers Paper Company'\n",
            " \"The Brink's Company\" 'Transport Firm' 'Police Civil Guard Patrol'\n",
            " 'Supreme Defence Council' 'Gilan Province' 'Yugoslav Embassy'\n",
            " 'Valle del Cauca Dept.'\n",
            " 'Peronist Intransigence Faction of Peronist Party' 'Aviateca Airline'\n",
            " 'United States Air Force'\n",
            " 'American National Committee to Aid Homeless Armenians'\n",
            " 'Punjab Government' 'Local' 'Guatemalan' 'San Bartolome Jocopilas'\n",
            " 'Wildlife school' 'Roman Catholic Church' 'San Carlos University'\n",
            " 'own ranchers' 'Nimacabaj' 'University of Antioquia' 'local papers'\n",
            " 'Secretary of Housing for Puerto Rico, Jorge Pierluisi' 'Naples'\n",
            " 'Barangay' 'U.S.' 'American University of Beirut'\n",
            " 'Civilian Home Defense Force' 'Pakistanis Military Government'\n",
            " 'Barangay Aurora' 'unknown' 'on farm Zagan da Lorga' 'Supermarket'\n",
            " 'local' 'Caltex' 'Huahuapuquio' 'Save the Children Fund' 'own firm'\n",
            " 'Starker Forest Inc.' 'Govt of Colombia' 'town of yacan'\n",
            " 'Cuban Military Advisors' 'Passengers'\n",
            " 'Agency for International development -US supported'\n",
            " 'U.S. Base Communication facilities'\n",
            " 'William Strumpp, pawnshop proprietor' 'French-run Canal project'\n",
            " 'Irish Army' 'Columbia' 'colombian army' 'local, La Traviata Hacienda'\n",
            " 'Sinn Fein' 'own factory' 'Mill hill missionaries'\n",
            " 'West German firm/Mannesmann -Anlagenban AG' 'Kuwait Airlines' 'UPS'\n",
            " 'Volunteer Organization \"Doctors without Borders\"' 'French Govt/Embassy'\n",
            " 'Govt Agency--French Embassy' 'Govt Agency' 'National Unity Committee'\n",
            " 'Anglovaal' '\"L\\'evenement Du Jeudi\", a magazine' 'TWA'\n",
            " 'Trans World Airlines' 'Radio Station' 'Soviet Embassy'\n",
            " 'Occidental Petroleum Co.' 'Hugh Campbell Scrutton' 'Boston Garderns'\n",
            " 'Solomon Trucking' 'United States Military'\n",
            " 'Tree Culture for Nicaraguan Govt'\n",
            " 'Palo Verde Nuclear Generating Station' 'Mobil Refinery'\n",
            " 'Military Police' 'French Auto Companies' \"Dimic's Restaurant and Bar\"\n",
            " 'Ethiopian Army' 'Province of Victor Fajardo' 'National Police'\n",
            " 'U.S Army' 'Inter. Red Cross' 'Lebanon govt' 'Not applicable'\n",
            " 'Pilipinas Shell Petroleum Co.' 'Kuwaiti-French Bank' 'Extebandes Bank'\n",
            " 'Citibank' 'U.S. Mil' 'Concern' 'Oxfam (U.K. Aid Agency)'\n",
            " 'Moslem (Sunni) Clergy' 'Colombo American Institute of English Studies'\n",
            " 'Belgian State Dept' 'Philippine-Soviet Shipping Lines'\n",
            " 'Maldives National Defence Force' 'Govt' 'Government (Councilmen)'\n",
            " 'Patriotic Union Party' \"Turkish American Businessmen's Association\"\n",
            " 'Industrialist' 'Military' 'Carabineros (Police)' 'Catholic Church'\n",
            " 'Summer Language Institute' 'International Red Cross'\n",
            " 'Village Council (government)' 'Mosque' 'University of Arizona'\n",
            " 'Mountain Climbing Federation' 'U.S. State Dept' 'Ingeser' 'Cubiertas'\n",
            " 'Duegeot - Talbot dealership'\n",
            " 'Harcuvar Substation owned by the Central Arizona Project (CAP)'\n",
            " 'Tour Company' 'avance (educational organization)' 'Ecopetrol'\n",
            " 'Binational Center' 'Ngoi Viet Daily News' 'Ford Aerospace' 'Tourists'\n",
            " 'Italian-French Construction Firm' 'Termontecnia Industrial'\n",
            " 'Elin-Union/ National Power Corp.' 'Government U.S.' 'Sheraton Hotels'\n",
            " 'government (post office)' 'Peace Brigades International'\n",
            " 'Chiliean-American Binational Center' 'Mormon Church' 'Kodak/Photoworld'\n",
            " 'Social Democrat Party (Guatemala)'\n",
            " 'Bridgestone Earthmovers Tyres Pty. Ltd.'\n",
            " 'Doctors without Borders (European relief agency)'\n",
            " 'Searlcom Construction Co.' 'U.S State Department'\n",
            " 'Nestle Philippines Inc., company owned by Swiss*'\n",
            " 'Jordanian-Soviet Friendship Society' 'Doctors Without Borders'\n",
            " 'Sanford Canadian Company' 'Arab-American Anti-Discrimination Committee'\n",
            " 'Media' 'Royal Tours' 'Govt.' 'Avis Rent a car' 'Journalist'\n",
            " 'Fina Petroleros de Angola' 'Govt. U.S.'\n",
            " 'Christian Missions in Many Lands' 'Lakas Manggagawa Labor Center'\n",
            " 'American Airlines' 'Fransabank' 'Beirut-Riyadh Bank'\n",
            " 'Turkish-American Association' 'Fransa Bank' 'Banque Libano-Francoise'\n",
            " 'Saudi Air Lines' 'Coca Cola' 'United Nations' 'Kentucky Fried Chicken'\n",
            " 'local government' 'U.S. Military' 'Egypt-Lebanon Bank'\n",
            " 'Presavisa (Subsidiary of Wackenhut)' 'Taraza Town' 'British War Cabinet'\n",
            " 'Planned Parenthood' 'Saudi-Lebanese Bank'\n",
            " 'Caltex (combine of Texaco and' 'Banque Libano-Francaise' 'Burger King'\n",
            " 'Toyota Sa' 'World Vision' 'Catholic church' 'Doctors without Borders'\n",
            " 'Friends of America Assoc.' 'kentucky fried chicken' 'Military (Militia)'\n",
            " 'Toshiba Corporation' \"Noah's Ark Research Foundation\" 'government'\n",
            " 'Smithkline Beecham' 'African National Congress (ANC)'\n",
            " 'Pentecostal Church' 'Venezuelan-American Chamber of Commerce'\n",
            " 'Italian Circus' 'Businesmen' 'British Channel 4 TV'\n",
            " 'Washington Post / Weekly Mail (Johannesburg Paper)' 'Govt US'\n",
            " 'US Firm (Petroleum Company)'\n",
            " 'Utah State University Predator Ecology Project' 'U.N. Relief Aircraft'\n",
            " 'Odebrecht (Brazilian Firm)' 'US Manufacturing Subsidiary*'\n",
            " 'International Medical Corps' 'Conference on Latin American Economics'\n",
            " 'Sofsa - Renault*' 'US owned firm' 'Medellin Drug Cartei' 'ABC Stringers'\n",
            " 'Alexandria Kuwait International Bank' 'guards' 'Egyptian-American Bank'\n",
            " 'Morris Catering Austrailia' 'Misr America International Bank'\n",
            " 'RAi-3 Television' 'Israel Military/ South Lebanon Army'\n",
            " 'Gulf King/ Oceanic' 'Sonatrach' 'Tourist' 'Yemeni State Dept.' 'Militar'\n",
            " 'Unknown' 'UNK' 'Aristide Supporters' 'taxi cab driver'\n",
            " 'tourists on tour bus' 'asylum seekers' 'Schlumberger' 'Sieromco'\n",
            " 'Store selling adult magazines in Grants Pass, Oregon'\n",
            " 'Medecins du Monde' 'Jinotega Department / \"Humbolt\" NGO'\n",
            " 'Total/Unocal Oil Companies' 'Intl Agency (UN Development Program)'\n",
            " 'Concern (Irish NGO)' 'AEG Siemens' 'British tourists'\n",
            " 'British Broadcasting Corporation (BBC)' 'Ibero-American Summit'\n",
            " 'Rioclaro Cement' 'business' 'UK-based mines advisory group'\n",
            " 'Ital-Thai Construction Co.' 'Action Against Hunger' 'Subsidiary of BASF'\n",
            " 'Greenpeace' 'Christian Religious Denomination' 'hospital' 'A hotel'\n",
            " 'Oil Production Co.' 'Compania General de Combustibles'\n",
            " 'Itartass & Radio Russia' 'ETPM French Oil Field Services Corporation'\n",
            " 'Bank' 'Societe Generale' 'people in shop' 'Migues Enriquez Hospital'\n",
            " 'Turkish campers' 'Chateau Hotel' 'tourists'\n",
            " 'ICA Grandicon A civil engineering firm' 'civilians' 'Journalists'\n",
            " 'European Union' \"foreigners' hostel\" 'Luz del Sur' 'Tax Bureau'\n",
            " 'Indiscriminate Algerian citizens' 'Rubber plantation workers'\n",
            " 'Egyptian Police' 'Italian Tourist' 'Bird-watcher from Italy'\n",
            " 'Governor of Santander' 'Irish Police' 'Santa Isabel Police'\n",
            " 'South Lebanon Army (SLA)' 'Indian Police' 'Oil infrastructure'\n",
            " 'Angostura Councilman' 'Former Government Official'\n",
            " \"Uganda People's Defense Force\" 'Government Officials'\n",
            " 'Sri Lankan Military' 'Colombian Prison' 'Municipal Office' 'Civilian'\n",
            " 'Economic Community of West African States Monitoring Group (ECOMOG)'\n",
            " 'Israeli Security Forces' 'Refugees' 'Colombian Police'\n",
            " 'Turkish Defense Ministry' 'Town of Mitu'\n",
            " 'United Nations Development Program (UNDP) Official'\n",
            " 'Queen Bee Restaurant' 'French Journalist' 'Kosovar business'\n",
            " 'Government Official' 'Ugandan School Facility' 'Navacong'\n",
            " 'Uzbekistan Government' 'Philippine Army' 'Alcatel'\n",
            " 'International Committee of the Red Cross (ICRC)' 'Bouygues / Chevron'\n",
            " 'Caja Agaria Development Bank' 'Sri Lanka Freedom Party (SLFP)'\n",
            " 'Federal Republic of Yugoslavia (FRY) Police' 'Sri Lankan Police'\n",
            " 'Motherland Party (ANAVATAN)' 'Cauca Telecom' 'Colombian Media'\n",
            " 'Philippines Law Enforcement' 'El Cairo Cement Works'\n",
            " 'Bolivian Government' 'Angola Army'\n",
            " 'Nigerian Agip Oil Company (NAOC) Limited' 'Minsk Synagogue'\n",
            " 'Christian Youth Association' 'US Department of State'\n",
            " 'Universalization: Invitation for Greece and Europe Conference'\n",
            " 'Marina Roshcha Synagogue' 'Algerian Police'\n",
            " 'Central Reserve Police Force (CRPF)' 'Indonesian Military'\n",
            " 'Philippine Police' 'Russian Peacekeepers' 'Turkish Police'\n",
            " 'Hotel Mediterrane' 'Military personnel' 'Shell Oil Company'\n",
            " 'Uganda Peoples Defense Forces soldiers'\n",
            " 'Angolan Rapid Intervention Police' 'Self Defense Force' 'Namibia Army'\n",
            " 'Indian railway' 'Relief Workers' 'Kyrgyzstan' 'Dutch Doctor'\n",
            " 'Washington Post' 'Kyrgyzstan Military' 'Nicaraguan Military'\n",
            " 'Humanitarian Event' 'Roman Catholic Priests'\n",
            " 'French Ministry of Finance' 'Armenian Parliament' 'British government'\n",
            " 'The Office of the United Nations High Commissioner for Refugees'\n",
            " 'American citizen' 'International Committee of the Red Cross'\n",
            " 'Israel Defense Forces' 'Colombia Businesses'\n",
            " 'Niger Delta Police Authority' 'Philippines military' 'Café'\n",
            " 'Italian Government' 'Ugandan military' 'Passenger Bus'\n",
            " 'Domestic Businesses' \"Mano's Restaurant\" 'Bus Terminal'\n",
            " 'Israeli Defense Forces' 'Chittagong Port' 'Bangladeshi Police'\n",
            " 'Banco Central Hispano' 'Banco de Comercio' 'Iranian military'\n",
            " 'Travnik police' 'Sri Lankan civilian'\n",
            " 'Tripura Upajati Juba Samity (TUJS)'\n",
            " 'Electrical Inter-Connection, Inc., ISA' 'Sobetra construction camp'\n",
            " 'Colombian police' 'Sri Lankan civilians' 'Pakistan railway'\n",
            " \"Ugandan People's Defense Force\" 'Mayor of Dushanbe'\n",
            " 'Civilian property and people' 'Jaffna Municipal Council'\n",
            " 'Citizens Armed Forces Geographical Unit (CAFGU)'\n",
            " 'Algerian Defense Forces' 'Algerian Municipal Guards'\n",
            " 'Mayor of Vigia del Fuerte' 'Algerian Police Force' 'Gas Station'\n",
            " 'Maqbool Hotel' 'Medellin Private Enterprises' 'Russian Police'\n",
            " 'Kenyan Military' 'Sri Lankan police' 'Buug Buildings'\n",
            " 'Sierra Leone Military' 'Hullo Trust' 'Marcellesi Civil Engineering Firm'\n",
            " 'National Conference Party' 'The Nepalese population' 'Kosovar Civilian'\n",
            " 'Courts' 'Individuals' 'A brewery' 'Pakistani bus service'\n",
            " 'Left Front leader' 'Serb Orthodox Church' 'Russian Military'\n",
            " 'Quetta Police' 'Shell Oil' \"People's National Army\" 'Diamond Mine'\n",
            " 'Civilian property' 'A brothel' 'A health center'\n",
            " 'Sierra Leonean Military' 'Guinean Civilian Population'\n",
            " 'Nkooko Subcounty, Kibale District' 'Turkish Embassy'\n",
            " 'Telecommunications Company, Colombia' 'Dagestan Civilian Population'\n",
            " 'A soldier' 'Russian Railway Network' 'Democratic Alliance'\n",
            " 'Foreign companies in Aceh'\n",
            " 'Empresa de Petroleos de Colombia (ECOPETROL)' 'Indian Army'\n",
            " 'Burundian Army' 'US Citizen' 'Indonesian Police'\n",
            " 'District Police Headquarters' 'Nepalese Government'\n",
            " 'Gasakuza Health Center' 'Forest Office' 'Israeli citizens'\n",
            " 'Guinean Army' 'Municipality of Matanza' 'Sri Lankan Civilians'\n",
            " 'Ugandan business' 'Tajikistan Government Staff'\n",
            " 'Russian Security Services' 'Catholic Church representatives'\n",
            " 'Serbian Police' 'Israeli military' 'Public transportation'\n",
            " 'Indonesian military' 'Cebu police' 'A café' 'Copper mine'\n",
            " 'Indonesian Communion of Churches (PGI)' 'Israeli Defence Forces (IDF)'\n",
            " 'A teahouse' 'Sri Lankan Busing System' 'Cambodian Cabinet'\n",
            " 'Guinean soldiers' 'Georgian police chief' 'Indian Security Forces'\n",
            " 'Bus transport' 'Guinean military' 'Indonesian soldiers' 'Public bus'\n",
            " 'Algerian police' 'Local stores' 'Algerian municipal guard'\n",
            " 'Algerian school' 'Exxon Mobil' 'Grozny police' 'Chechen university'\n",
            " 'Turkish businesses' \"Cote D' Ivoire Government\" 'Radio office'\n",
            " 'Local business' 'Argentine police' 'U.S. Department of State'\n",
            " 'Narita airport' 'Civilians and civilian property' 'Nepalese police'\n",
            " 'KAMPSAX' 'North Atlantic Treaty Organization (NATO)' 'Kazakhstan police'\n",
            " 'The Anglican church' 'A taxi depot' 'Chechen police' 'Thai government'\n",
            " 'Pakistan Police Forces'\n",
            " 'Federal Republic of Yugoslavia (FRY) Interior Ministry'\n",
            " 'Russian Busing System' 'Titanite Explosifs'\n",
            " 'Portuguese Construction Company' 'An officer with the Vedeno commandant'\n",
            " 'Sipah-I-Sahaba' 'Public Market' 'Citizens at the bus stand'\n",
            " 'Private citizens outside of the bookstore' 'Islamic seminary'\n",
            " 'Algerian Military Forces'\n",
            " 'Private citizens in and around the bus station' 'The Tembo Inn'\n",
            " 'Officers called to the scene' 'Gas Stations' 'Jame Cloth Market'\n",
            " 'Central Reserve Police Force' 'Private citizens in the vicinity'\n",
            " 'Indonesian Police Forces' 'Citizens in the vicinity of the attack'\n",
            " 'The bus and its passengers' 'Citizens in the vicinity of the explosion'\n",
            " 'Lawyer and driver of religious leader' 'The stadium and concert'\n",
            " 'Algerian security forces'\n",
            " 'Private citizens and property in the vicinity of the explosion'\n",
            " 'Private citizens and property' 'Italian-American Council'\n",
            " 'Village Businesses'\n",
            " 'Private citizens and property passing through the outpost'\n",
            " 'Thai Diplomatic Corps' 'Private citizens and property in the vicinity'\n",
            " 'Private citizens with the soldier' 'Thai Military'\n",
            " 'Businesses and patrons in the vicinity of the explosion'\n",
            " 'Federal Republic of Yugoslavia (FRY) Military' 'Stores in the vicinity'\n",
            " 'Voz newspaper' 'Burundi Busing System' 'Resort Hotel'\n",
            " 'Ram Janambhoomi Trust' 'Junior Commerce and Industry Ministry'\n",
            " 'Pakistani Busing System' 'Private citizens and property in Sion Mills'\n",
            " 'Kashmir bus system' 'Medical facilities and personnel in Philippines'\n",
            " 'Catholics in predominantly Muslim Bangladesh'\n",
            " 'Royal Ulster Constabulary (RUC)' 'Angolan Police'\n",
            " 'Sufi Muslims in Kashmir' 'The World Food Program'\n",
            " 'Village religious institutions' 'Indonesian civilians' 'Chechen Police'\n",
            " 'Burundi Public Transport Company' 'Algerian Senator' 'Spanish Civilians'\n",
            " 'Buses' 'Indian Border Security Force' 'Catholic and Protestant Churches'\n",
            " 'Two soldiers' 'Military members in Bujumbura' 'Sri Lankan Army'\n",
            " 'Algerian Resort' 'Apartment complex in Vitoria' 'A local bus'\n",
            " 'Burundi Business' 'Angolan Government' 'Sbarro' 'Israeli Business'\n",
            " 'Russian Government' 'Vehicles' 'Tourists Visiting Spain'\n",
            " 'Russian Markets' 'Polish Hotels' 'Russian Law Enforcement'\n",
            " 'Citizens and property in Medellin' 'Public Bus'\n",
            " 'Democratic Alternative Movement' 'Spanish Law Enforcement'\n",
            " 'Indonesian Commercial Enterprises' 'Israeli Education System'\n",
            " 'Cerrejon Northern Zone coal mine'\n",
            " 'First Deputy Prosecutor-General of Azerbaijan' 'Colombian Pipelines'\n",
            " 'Basque police' 'Pagadian police' 'Train Station' 'Local Turkish Police'\n",
            " 'Burundi Military' 'World Trade Center Complex'\n",
            " 'United States Department of Defense' 'United States Congress'\n",
            " 'Communal Guards' 'Atrium Plaza Shopping Mall'\n",
            " 'Local Police and Philippine Army' 'Colombian workers'\n",
            " 'Algerian soldiers' 'Citizens at a roadblock'\n",
            " 'Soldiers who often used the road' \"Municipal People's Assembly\"\n",
            " 'Municipal building' 'Israel Public Transportation' 'Health Center'\n",
            " 'Government Employees' 'A private school' 'Algerian Military'\n",
            " 'Asian Airways' 'Indo-Tibetan Border Police' 'Nepal Police'\n",
            " 'Israeli Army' 'Israeli bus transport' 'Police officers' 'Bodyguards'\n",
            " 'Colombia Defense Forces' 'Highway' 'Hotel' 'Manuel Moreira'\n",
            " 'Spanish Police' 'Indian Military' 'Liquor Store' 'Colombian School'\n",
            " 'Market businesses' 'Aguas Blancas Police Department' 'NATO security'\n",
            " 'Calcutta Police Department' 'Bus Station'\n",
            " 'Police Service of Northern Ireland (PSNI)' 'Sigfried Whitman'\n",
            " 'Laxmi Venkateshwara Cinema' 'Nepalese Law Enforcement' 'Private school'\n",
            " 'Colombian Senate' 'Campaign manager'\n",
            " 'Colombian Telecommunications System' 'Toronto Ventures Inc.'\n",
            " 'Protestant Church' 'United States Department of State.'\n",
            " 'Russian Security Task Force' 'Shopping Mall' 'Senegal Retail Stores'\n",
            " 'Park Hotel' 'Commuter Train' 'Colombian soldiers' 'Restaurant'\n",
            " 'Israeli Police' 'A mosque' 'Passenger bus' 'United Nations Observers'\n",
            " 'Police station' 'Entertainment businesses' 'Bus load of tourists'\n",
            " 'Border patrol' 'US-led Coalition forces' 'Presidential candidate'\n",
            " 'Colombian Soldiers' 'Colombian Railroad' 'U.S. Postal Service'\n",
            " 'Bus System' 'Ertzaintza (Basque regional police)' 'US/British Military'\n",
            " 'Pakistan Military' 'Local Hotel' 'Russian Police Force' 'A bus'\n",
            " 'Colombian Law Enforcement' 'Spanish Tourism Industry'\n",
            " 'Municipal government' 'Indian police' 'Small businesses'\n",
            " 'Congolese Amry' 'American Civilians' 'Spanish Civil Guard'\n",
            " 'Colombian military base' 'Ugandan forces'\n",
            " 'Cano Limon Covenas Oil Pipeline' 'A dam' 'Indian civilians'\n",
            " 'Afghani civilians' 'Soldiers' 'India police officer'\n",
            " 'Bobi Trading Center' 'US military' 'A rebel splinter group'\n",
            " 'Freeport-McMoRan Copper-and-Gold Inc.' 'Churches and mosques'\n",
            " 'A polling station' 'Government high school'\n",
            " 'Judicial Police Mobile Brigade' 'Senior Indonesian Military Officer'\n",
            " 'A Georgetown bar' 'U.S. Army' 'Aide to Governor  Valentin Tsvetkov'\n",
            " 'Colombian Councilmen' 'Burundi Electricity Utility System'\n",
            " 'Nepal Transportation System' 'India' 'Afghan Educational Institution'\n",
            " 'Venezuela Metro System' 'Algerian citizens'\n",
            " 'Nepalese Government Buildings' 'McDonalds' 'Mining company'\n",
            " 'America Airlines' 'Nigerian Businesses' 'Pakistan Retailers'\n",
            " 'City of Moscow' 'Congo Civilians' 'US Drug and Enforcement Agency (DEA)'\n",
            " 'Government of Australia' 'Russian Citizens' 'Tsinghua University'\n",
            " 'Beijing University' 'United States Department of State'\n",
            " 'Israel Border Police' 'Colombian Busing System'\n",
            " 'Coalition Special Operations forces' 'Philippines Army' 'Paramilitary'\n",
            " 'Top district officials' 'Indian army' 'Philippine Military' 'Chaplain'\n",
            " 'Afghanistan Military' 'Belgian Ministry of Foreign Affairs'\n",
            " 'Swiss Ministry of Defense' 'Hands for Colombia'\n",
            " \"Uganda People's Defense Force (UPDF)\"\n",
            " 'Civilians of the United States of America'\n",
            " 'Algerian civilians who collaborated with the security services'\n",
            " 'Burundi Government' 'Indian Public Transportation System'\n",
            " 'Afghan Military' 'Israel Defence Forces (IDF)' 'The Zaveri Bazaar'\n",
            " 'The Supreme Assembly of the Islamic Revolution in Iraq (SAIRI)'\n",
            " 'Indian Kashmiri civilians' 'Facilities Protection Services' 'Drummond'\n",
            " 'Millat-e-Islamia' 'Town of San Andresito' 'Al-Rashid Hotel'\n",
            " 'Al-Rafidayn Bank' 'Save the Children' 'Synagogue' 'Enniskeen Hotel'\n",
            " 'Bredero Shaw Company' 'Coalition Forces'\n",
            " 'Turkish Petroleum Company (TPAO)' 'Georgian State Television'\n",
            " 'Governorate of Ibb Intelligence service' 'Indian Contract Engineers'\n",
            " 'Israeli residents' 'Karbala University' 'Government of Karbala'\n",
            " 'Iraqi Civil Defense Corps' 'Thai Army Engineers Camp'\n",
            " 'Rainbow District police' 'Burundi Army' 'Muslim Worshippers'\n",
            " 'Pakistan Police' 'Nepal Busing System' 'American Military'\n",
            " 'Algerian prison guards' 'Russian Civilians'\n",
            " 'Indian civilians and bystanders' 'French construction workers'\n",
            " 'Iraqi civilians' 'Afghan Military Forces' \"Shi'ite Civilians\"\n",
            " 'Government of Bhojpur' 'Government of Mindoro Occidental'\n",
            " 'Kathmandu Transportation System' 'Government Information office'\n",
            " 'United States Army' 'Commuter Rail System' 'Port of Ashdod'\n",
            " 'Thailand Police' 'International Aid Workers' 'Nepalese Police'\n",
            " 'US Utilities' 'Greek Police Forces' 'Rashtriya Janata Dal (RJD)'\n",
            " 'Lake Heights Development' 'Al-Basra Oil Terminal'\n",
            " 'Coordination of Humanitarian Assistance (CHA)' 'Syrian Police'\n",
            " 'City of Baghdad' 'British Diplomats' 'National Gendarmerie'\n",
            " 'Foreign Aid Workers' 'Kashmir Civilians' 'General Electric'\n",
            " 'Unknown security forces' 'Iraqi Armed Forces'\n",
            " 'Iraqi National Accord Movement' 'Machkhowa Bus Stand'\n",
            " 'Iraqi Security Personnel' 'Indian Government' 'Foreign Workers'\n",
            " 'Afghanistan Ministry of Health' 'Iraq government' 'Citizens in Nepal'\n",
            " 'Christian Missionaries' 'Thailand Education System' 'Tamil media'\n",
            " 'Awami League' 'Multi-National Force \\x96 Iraq (MNF-I)' 'Aid Worker'\n",
            " 'Bar' 'The US embassy' 'An oil company' 'Algerian militia'\n",
            " 'British GSCS Employee' 'Legitimate Defense Group (GLD)' 'A civilian'\n",
            " 'Orascom Employees' 'A market in Dimapur.' 'U.S. Armed Forces'\n",
            " 'Chinese Ministry of Foreign Affairs' 'Tamil National Alliance'\n",
            " 'Malaysian civilian' 'Thai police' 'United States military'\n",
            " 'Pan-Arab Satellite TV network' 'Olice Security' 'Iraqi Police'\n",
            " 'Iraqi Police Service (IPS)' 'Nepalese Police Forces' 'Village'\n",
            " 'Government Offices' 'National Seed Center' 'Iraqi Army' 'residents'\n",
            " 'Saudi Troop Recruitment Center' 'Burgess pulp mill'\n",
            " 'Thailand educational institution' 'Al-Hadarah School'\n",
            " 'Al-Maqasid School' 'Israel Security Forces'\n",
            " 'Brimob Paramilitary Police Force' 'Nigerian Police Forces'\n",
            " 'Unknown woman and two children' 'Iraqi Police Forces'\n",
            " 'Thailand Railway System' 'Local Shops' 'Mogadishu Cinema']\n",
            "Unique values in 'target2': [nan 'Fraternal Order of Police, Cleveland Ohio'\n",
            " 'Officer of the president, San Francisco State College' ...\n",
            " 'Privately owned establishments in Yala Province'\n",
            " 'Civilians near the morag settlement'\n",
            " 'The Tiitiinley Cinema in Mogadishu']\n",
            "Unique values in 'natlty2': [  nan  217.  233.  161.  422.  216.   97.   30.  144.  142.   92.  218.\n",
            "  605.  130.   96.  185.   45.  145.  100.   98.   61.  110.   94.   59.\n",
            "  359.  201.  173.   83.   51.   21.  199.  209.   38.   95.   69.   60.\n",
            "  160.  231.  101.   75.  235.   11.   43.  159.  163.  999.  155.  153.\n",
            "  183.   15.  143.  113.  186.  162.   65.  603.  200.  122.  208.    4.\n",
            "  157.   47.  362.  213.   89.  203.   36.  112.  167.   14.  106.  104.\n",
            "  179.  166.    6.   78.  197.  156.  198.   87.   84.  123.  151.   42.\n",
            "  124.  168.   53.   19.  102.  205.   81.   93.  177.  222.   55.   74.\n",
            "   44.  228.   34.    8.  229.    5.  175. 1003.  219.  195.   28.   26.\n",
            "   35.  141.  139.  107.   50.   12.  147.  202.   22.   16.  121.  204.\n",
            "   67.   99.  108.  182.  137.  174.  184.  103.  118.   32.  138.   86.\n",
            "   88.]\n",
            "Unique values in 'natlty2_txt': [nan 'United States' 'Northern Ireland' 'Poland' 'International'\n",
            " 'Great Britain' 'Israel' 'Brazil' 'New Zealand' 'Netherlands' 'India'\n",
            " 'Uruguay' \"People's Republic of the Congo\" 'Mexico' 'Ireland' 'Spain'\n",
            " 'Colombia' 'Nicaragua' 'Jamaica' 'Italy' 'El Salvador' 'Lebanon' 'Iran'\n",
            " 'Ecuador' 'Soviet Union' 'Taiwan' 'Saudi Arabia' 'Guatemala' 'Cuba'\n",
            " 'Belgium' 'Switzerland' 'Turkey' 'Canada' 'Iraq' 'France' 'Egypt'\n",
            " 'Philippines' 'Zimbabwe' 'Japan' 'Germany' 'Yugoslavia' 'Argentina'\n",
            " 'Chile' 'Peru' 'Puerto Rico' 'Multinational' 'West Bank and Gaza Strip'\n",
            " 'Pakistan' 'South Africa' 'Austria' 'New Caledonia' 'Libya' 'Sri Lanka'\n",
            " 'Portugal' 'Ethiopia' 'United Kingdom' 'Syria' 'Maldives' 'Tunisia'\n",
            " 'Afghanistan' 'Papua New Guinea' 'Republic of the Congo'\n",
            " 'West Germany (FRG)' 'Uganda' 'Hong Kong' 'Tanzania' 'Cambodia' 'Liberia'\n",
            " 'Russia' 'Australia' 'Kuwait' 'Kenya' 'Slovak Republic' 'Romania'\n",
            " 'Algeria' 'Greece' 'Swaziland' 'Panama' 'Sweden' 'Haiti' 'Guinea' 'Mali'\n",
            " 'Norway' 'Chad' 'Malta' 'Rwanda' 'Cyprus' 'Bangladesh' 'Jordan'\n",
            " 'Thailand' 'Guadeloupe' 'Indonesia' 'Sierra Leone' 'Venezuela' 'Denmark'\n",
            " 'Georgia' 'China' 'Yemen' 'Burundi' 'Angola'\n",
            " 'Democratic Republic of the Congo' 'Albania' 'Serbia-Montenegro' 'Kosovo'\n",
            " 'Uzbekistan' 'Sudan' 'Bosnia-Herzegovina' 'Bolivia' 'Belarus' 'Nepal'\n",
            " 'Namibia' 'Kyrgyzstan' 'Croatia' 'Armenia' 'Nigeria' 'Tajikistan'\n",
            " 'Belize' 'Azerbaijan' 'Malaysia' 'Togo' 'Fiji' 'Ivory Coast' 'Laos'\n",
            " 'Somalia' 'Mozambique' 'Senegal' 'South Korea' 'Kazakhstan' 'Macedonia'\n",
            " 'Bulgaria' 'Myanmar' 'Guyana' 'Honduras']\n",
            "Unique values in 'targtype3': [nan  7.  1. 14.  2.  3.  6. 10. 22.  4. 15. 21. 12. 18. 19.  8. 17. 16.]\n",
            "Unique values in 'targtype3_txt': [nan 'Government (Diplomatic)' 'Business' 'Private Citizens & Property'\n",
            " 'Government (General)' 'Police' 'Airports & Aircraft'\n",
            " 'Journalists & Media' 'Violent Political Party' 'Military'\n",
            " 'Religious Figures/Institutions' 'Utilities' 'NGO' 'Tourists'\n",
            " 'Transportation' 'Educational Institution' 'Terrorists/Non-State Militia'\n",
            " 'Telecommunication']\n",
            "Unique values in 'targsubtype3': [ nan  45.   8.  68.  18.  25.  42.  72.  77.  46.  34.  85.  67.  53.\n",
            "  39. 108.  62.  15.  11.   7.  21.  76.  44.  86.  82.  97.  96. 101.\n",
            "  49.  47.  87.   1.  71.   3.  73. 100.  22.  13.  78.  81.  23.  93.\n",
            "  70.  69.  61.  99.  48.  88.  37.  35.  89.  75.  19.]\n",
            "Unique values in 'targsubtype3_txt': [nan 'Diplomatic Personnel (outside of embassy, consulate)' 'Hotel/Resort'\n",
            " 'Named Civilian' 'Government Personnel (excluding police, military)'\n",
            " 'Police Security Forces/Officers' 'Aircraft (not at an airport)' 'Farmer'\n",
            " 'Laborer (General)/Occupation Identified' 'Embassy/Consulate'\n",
            " 'Military Personnel (soldiers, troops, officers, forces)'\n",
            " 'Religious Figure' 'Unnamed Civilian/Unspecified'\n",
            " 'Newspaper Journalist/Staff/Facility' 'Paramilitary' 'Oil'\n",
            " 'International NGO'\n",
            " 'Politician or Political Party Movement/Meeting/Rally'\n",
            " 'Entertainment/Cultural/Stadium/Casino' 'Retail/Grocery/Bakery'\n",
            " 'Government Building/Facility/Office' 'House/Apartment/Residence'\n",
            " 'Airport' 'Place of Worship' 'Labor Union Related' 'Tourist'\n",
            " 'Tour Bus/Van' 'Bus Station/Stop'\n",
            " 'School/University/Educational Building'\n",
            " 'International Organization (peacekeeper, aid agency, compound)'\n",
            " 'Affiliated Institution' 'Gas/Oil/Electric' 'Race/Ethnicity Identified'\n",
            " 'Bank/Commerce' 'Vehicles/Transportation' 'Train/Train Tracks/Trolley'\n",
            " 'Police Building (headquarters, station, school)'\n",
            " 'Private Security Company/Firm'\n",
            " 'Procession/Gathering (funeral, wedding, birthday, religious)'\n",
            " 'Museum/Cultural Center/Cultural House'\n",
            " 'Police Patrol (including vehicles and convoys)' 'Terrorist' 'Student'\n",
            " 'Religion Identified' 'Domestic NGO' 'Bus (excluding tourists)'\n",
            " 'Teacher/Professor/Instructor' 'Radio' 'NATO'\n",
            " 'Military Transportation/Vehicle (excluding convoys)' 'Television'\n",
            " 'Village/City/Town/Suburb' 'Election-related']\n",
            "Unique values in 'corp3': [nan 'Polish Ministry of Foreign Affairs' 'Howard Johnson Hotel'\n",
            " 'Royal Ulster Constabulary' 'Airplane' 'City of San Sebastien' 'EFE'\n",
            " 'independent' 'Democratic Revolutionary Front (FDR)' 'India' 'Guatemalan'\n",
            " 'local papers' 'unk' 'Unknown' 'Mobil' 'Save the Children Fund'\n",
            " 'colombian army' 'local, La Traviata Hacienda' 'Sinn Fein'\n",
            " 'Mill hill missionaries' 'West German firm/Mannesmann -Anlagenban AG'\n",
            " 'UPS' 'International Jewish Film Festival' 'French Auto Companies'\n",
            " 'Kuwait Airways' 'Male International Airport' 'Catholic Church'\n",
            " 'International Red Cross' 'Village Council (government)'\n",
            " 'Mountain Climbing Federation' 'Tourists' 'Military' 'Journalist'\n",
            " 'Sanford Canadian Company' 'Journalists'\n",
            " 'Christian Missions in Many Lands' 'Lakas Manggagawa Labor Center'\n",
            " 'local government' 'Doctors without Borders'\n",
            " \"Noah's Ark Research Foundation\" 'government'\n",
            " 'African National Congress (ANC)' 'World Action Against Hunger' 'Unk'\n",
            " 'Schlumberger' 'Sieromco' 'Jinotega Department / \"Humbolt\" NGO'\n",
            " 'Intl Agency (UN Development Program)' 'German tourists' 'civilians'\n",
            " 'Ibero-American Summit' 'Indian Army' 'Sri Lankan Police' 'Civilians'\n",
            " 'Rioclaro Cement' 'Christian Religious Denomination'\n",
            " 'ETPM French Oil Field Services Corporation' 'Small businesses'\n",
            " 'Credit Lyonnais' 'person in shop' 'Govt' 'Triton Hotel' 'Police'\n",
            " 'Farm administrator' 'Civilian' 'Alcatel' 'Cooperative'\n",
            " 'Caloto Government' 'Christian Congressional Association' 'Vehicles'\n",
            " 'European Union (EU)' 'Turkish Government' 'Indian railway'\n",
            " 'Shell Oil Company' 'Namibia Police' 'United Nations' 'Relief Workers'\n",
            " 'Humanitarian aid workers' 'Turkish government' 'Nigerian citizen'\n",
            " 'Philippines police' 'Kashmir police' 'Tamil party'\n",
            " 'Bangladesh Rifles (BDR)' 'Bilbao Bizkaia Kutxa (BBK)'\n",
            " 'Colombia Government' 'Tenere Hotel' 'Shell Oil' 'Civilian vehicle'\n",
            " 'Kenyan Civilians' 'Sri Lankan civilians' 'Abkhaz Translator'\n",
            " 'Muslim Community in Athlone, South Africa'\n",
            " 'Agricultural Development Bank' 'Municipality of Surata'\n",
            " 'Guinean government' 'Sri Lankan police' 'A rival terrorist group'\n",
            " \"Municipal People's Assembly\" 'Telecommunications office'\n",
            " 'Indian Paramilitary'\n",
            " 'Private citizens and property in the vicinity of the blast'\n",
            " 'Undangan Police' 'Private citizens' 'Employees' 'Philippine military'\n",
            " 'Airline Travellers' 'Barrancabermeja Harbor'\n",
            " 'Pagadian citizens and property' 'Australian Tourist' 'American Airlines'\n",
            " 'United Airlines' 'Haifa police officers'\n",
            " 'Krasnodar nongovernmental organizations' 'Sgem World of Colombia'\n",
            " 'Algerian Police' 'Government Administrative Infrastructure'\n",
            " 'Royal Nepalese Army' 'US diplomat' 'United Nations Observers'\n",
            " 'Civilians and civilian property' 'Bus load of tourists' 'Local Bus'\n",
            " 'Spanish police' 'Spanish Tourism Industry' 'Businesses'\n",
            " 'Local businesses' 'A passenger bus' 'Indian Police force'\n",
            " \"Les Coulisses' newspaper\" 'Border Security Force'\n",
            " 'Parliamentary candidate' 'Local Telecommunications equipment'\n",
            " 'Government of the United Kingdom' 'A bus terminal'\n",
            " 'Indiscriminate Algerian citizens' 'US Department of Defense'\n",
            " 'Indian Military Forces' 'NATO' 'Not Applicable' 'Algerian soldiers'\n",
            " 'Nepalese Bank' 'British Soldiers' 'Turkish Police'\n",
            " 'British security firm' 'Orascom Employees' 'Peacekeepers'\n",
            " 'Pan-Arab Satellite TV network' 'Olice Security' 'Village' 'Halliburton'\n",
            " 'Kroll Inc.' 'Government Polling Station']\n",
            "Unique values in 'target3': [nan 'Consul General in Karachi: W. Duda'\n",
            " 'The Downtown Howard Johnson Hotel in New Orleans' 'Brian Haslehurst'\n",
            " 'Zuhayr Mughrabi, driver' 'Norman Lynch, Protestant' 'woolworth'\n",
            " 'Cypriot Airlines' 'Angel Crus Salcines, Policeman'\n",
            " 'Filadelfo Martinez, EFE; correspondent' 'Gabriel Gomez Arrubla, rancher'\n",
            " 'British Airways' 'Manuel Franco, leader' '4 construction workers'\n",
            " 'Centroamericana Building (houses 4 embassies)' 'Banker, Ilkay KArokoc'\n",
            " 'unknown' 'Corporal, Unk, Military Driver, Unk' 'Leading Clergyman'\n",
            " 'unk, bodyguard  (wounded)' 'unidentified woman'\n",
            " 'Felit Argueta, seminarist' 'Rafael Arrieta, reporter'\n",
            " 'car (on Ilisia) belonging to foreign diplomatic mission'\n",
            " 'Karl Hans Schulz, technician' 'James Greenwell, 18' 'Unknowns'\n",
            " \"Surgeon: Dr. As'ad Taha\" '3 unk militiamen escorts'\n",
            " 'Oil storage complex (called Munhava tanker farm)' 'Unks' 'pavillion'\n",
            " 'Orlando Estrada, sgt.' 'Jorge Montoya, land owners, peasants'\n",
            " 'Joe Keenan' 'Rev Zachariah Chatin, roman catholic priest'\n",
            " 'unk, interpreter' 'Maggie Fox, 25, fereelance reporter'\n",
            " 'International Jewish Film Festival' 'Rental Car Agency/Ford Dealer'\n",
            " 'Office of National Planning Institute' 'Turkish Woman, 27 years old'\n",
            " 'state enterprise' '1 Citroen dealership' 'Homes (2)'\n",
            " 'Kuwait Airways property and employees' 'Airport' '*'\n",
            " 'Ruben Gallo, associate' 'Trevor Anderson' 'Dino Rossy' '4 soldiers'\n",
            " 'Wemer Kiwitt' 'Engineer Marcel Chambard' 'Aurora Building'\n",
            " 'West German National' '5 Others' '3 Missionaries'\n",
            " 'Honorio Bulacao, Pres. Cebu alternative workers assembly' '4 persons'\n",
            " 'Belgian Paramedic' '5 companions to mayor' 'governor'\n",
            " 'East Rand (ANC official)' 'Tourist Vehicle Carrying German tourists'\n",
            " 'other leaders' 'tourists, 1 Swede, Tommy Cylad (21)'\n",
            " 'International Bus Terminal' 'Apartment block occupied by immigrants'\n",
            " 'Foreign workers' \"Foreign support of the gov't\"\n",
            " 'Students and teachers at the Lincoln Savage Middle School'\n",
            " 'Sarah Howart' 'German tourists' 'Asylum seeker'\n",
            " 'civilians including children' 'Summit Attendees' 'Two soldiers'\n",
            " 'Egyptian Embassy'\n",
            " 'Police near army headquarters and Slave Island Railway Station'\n",
            " 'Russian Citizens' 'Ulrich Dresser' 'UN Peacekeepers'\n",
            " 'UN peacekeepers/ Aid Workers' 'Aid workers'\n",
            " 'Roman Catholic Priests/Nuns*' '1 orphanage' 'AID Workers' 'UN Personnel'\n",
            " 'Tourists at Empire State Bldg' 'Oil barge 3 Britons'\n",
            " 'Shops surrounding the bus station' 'Arab civilian' 'Bank'\n",
            " 'Filipino Good Samaritan' 'work crew' 'Candidates (6)' 'Hotel'\n",
            " 'Egyptian police' 'Colombian Birdwatchers' 'Colombian Civilians'\n",
            " 'Civilians' 'Juan Carlos Sierra' 'Sri Lankan Police Officers'\n",
            " 'Shops and Banks in Dabeiba' 'Palestinian civilians' 'Rudolf Peichy'\n",
            " 'Vehicles owned by residents of Albania, Colombia'\n",
            " \"Civilians' homes in Chinhungo, Algeria\"\n",
            " \"Australian tourists near Sana'a, Yemen\"\n",
            " 'Four civilians working for Alcatel in Chinchina, Colombia'\n",
            " 'Three New Zealander Tourists' 'Cooperative in Piendamo, Colombia'\n",
            " 'City Hall and Town Council in Caloto, Colombia'\n",
            " 'Civilians at roadblocks in El Desastre' 'Civilians in Margosatubig'\n",
            " 'British Citizen' 'Angolan Aid Workers'\n",
            " 'A cargo truck and three trailers transporting vehicles from Venezuela'\n",
            " 'Stephan Devaux, EU Official' 'A private homestead'\n",
            " 'Two Indian Army Soldiers' 'Nigerian jet passengers'\n",
            " 'Private homes in El Espino' 'Serb civilian'\n",
            " 'Unnamed municipal government buildings in Diyadin District'\n",
            " 'New Jalpaiguri railway station' 'Employees of Shell Oil'\n",
            " 'Nigerian Citizens working on a Royal Dutch Oil rig'\n",
            " 'Namibia Police Station in Katima Mulilo, Namibia'\n",
            " 'United Nations staff in Sierra Leone' 'Norwegian Relief Workers'\n",
            " 'United Nations  High Commissioner for Refugees (UNHCR) employee'\n",
            " 'Foreign civilians in Sucumbios Province, Ecuador'\n",
            " 'Workers of an unnamed U.S. Oil Company'\n",
            " 'Workers from an unnamed humanitarian aid organization'\n",
            " 'Individuals at the Turkish embassy' 'Nigerian citizens'\n",
            " 'Nigerian citizen' 'Police officers in the area of Tibao village'\n",
            " 'Constable Latief Ahmad; Constable Mohammad Dayim' \"Tamil party's office\"\n",
            " 'Bangladesh Rifles (BDR)'\n",
            " 'A cash dispenser at a Bilbao Bizkaia Kutxa (BBK) bank in Gernika'\n",
            " 'Government buildings in Puerra' 'Government buildings in Cordoba'\n",
            " 'Government buildings in Potosi' 'Farmer Angga Antinado'\n",
            " 'Tenere Hotel in Algeria' 'Private Shell secuity guards'\n",
            " 'South Korean Citizens living in residences owned by Elf Aquitaine Oil Company'\n",
            " 'Private vehicle between Anori and Amalfi, Antioquia Department, Colombia'\n",
            " 'Kenyan Civilians who had gathered around a stadium in Isiolo'\n",
            " 'Tamil civilians' 'An Abkhaz Woman Interpreter' 'Italian Journalist'\n",
            " 'Power Plant, Tomas Razon town' 'A journalist in the park'\n",
            " 'Samaj Community Center and Gatesville Mosque, Athlone'\n",
            " 'UN employee Sapeu Laurence Djeya'\n",
            " 'Agricultural Development Bank building in Bhorletar in Lamjung District'\n",
            " 'Mayor Orlando Lizcano' 'Government buildings in Gueckedou'\n",
            " 'Police officers on board the passenger bus'\n",
            " 'United Self Defense Units of Colombia (AUC)'\n",
            " \"Chairman of Bordj Thar's Municipal People's Assembly\"\n",
            " 'Students at the university in Grozny'\n",
            " 'Indonesian Telecommunications office'\n",
            " 'Civilian accompanying the transport'\n",
            " 'Civilians on board a passenger plane bound for Chiang Mai'\n",
            " 'Civilians worshipping in a mosque in Lahore'\n",
            " 'A paramilitary soldier in Imphal'\n",
            " 'Private citizens and property near Montecarlo Hotel'\n",
            " 'Police Barracks in Kasese'\n",
            " 'Private citizens in the vicinity of the blast'\n",
            " 'Serbian Civilian in the village of Matejce'\n",
            " 'Employees at the Dos Palmas Island Resort at Honda Bay'\n",
            " 'Philippine soldiers responding to the attack'\n",
            " 'People at the airport waiting to depart' 'Barrancabermeja Harbor'\n",
            " 'Citizens and property in the vicinity of the explosion'\n",
            " 'Amanda Brigg, Australian Tourist'\n",
            " 'American Airlines-owned Boeing 767 passenger jet aircraft'\n",
            " 'United Airlines-owned Boeing 767 passenger jet aircraft'\n",
            " 'American Airlines-owned Boeing 757 passenger jet aircraft'\n",
            " 'United Airlines-owned Boeing 757 passenger jet aircraft'\n",
            " 'Police officers in the vicinity of the explosion'\n",
            " 'A convoy of Krasnodar nongovernmental organization vehicles'\n",
            " 'Employees of Sgem World of Colombia'\n",
            " 'Algerian policemen at a restaurant in Laghouat'\n",
            " 'Nepal district administrative offices in Salleri'\n",
            " 'Civilians in Cauca, Colombia' 'Nepalese soldiers in Mangalsen'\n",
            " 'US diplomat and wife' 'UN Observers in Lebanon'\n",
            " 'Private homes and civilians in Rovira'\n",
            " 'Tourists unloading from bus near the Ghriba synogogue'\n",
            " 'Civilians at the Mamara Hotel in Istanbul' 'A bus in Bilbao'\n",
            " 'Police in the vicinity of the parking lot at the university'\n",
            " 'Tourists and vehicles in the Spanish town of Santander'\n",
            " 'Pakistani security guard'\n",
            " 'Small and large business buildings in Dolores'\n",
            " 'Local businesses in the vicinity of the police station'\n",
            " 'A passenger bus traveling to Palu' 'Central Reserve Police Force (CRPF)'\n",
            " 'Afghan civilians'\n",
            " \"Nicaise Kibelbel, editor of 'Les Coulisses' newspaper\"\n",
            " '2 American teachers working at a school near the mine'\n",
            " 'Border Security Force members at a bus stand in Surankote'\n",
            " 'Civilians at a bar in Georgetown'\n",
            " 'Zahoor Ali Chishti, a candidate for Parliament'\n",
            " 'Nephew of Mayor Luis Antonio Motta' 'Indiscriminate civilians in Gitega'\n",
            " 'Indiscriminate civilians at the Paradise Hotel in Mombasa'\n",
            " 'Multi-Access Radio relay equipment in Peddaktnta, India'\n",
            " 'Civilians in the vicinity of the hotel'\n",
            " 'Various Congolese Shop Owners in Yamba'\n",
            " 'British High Commissioner in Wellington, New Zealand'\n",
            " 'Civilians in Ricaurte, Colombia' 'A bus terminal in Parang'\n",
            " 'Indiscriminate citizens in Siocon, Philippines'\n",
            " 'Civilians in the vicinity of a patrol in Granada'\n",
            " 'Algerian civilians travelling through Batna'\n",
            " 'Indians and tourists visiting the Gateway of India and the Zaveri Bazaar'\n",
            " 'Attendees at the weekly sermon at the Tomb of Ali'\n",
            " 'Somali maintenance worker'\n",
            " 'US Deputy Defense Secretary Paul D. Wolfowitz'\n",
            " 'Federal Police at the central telegraph office in Srinagar'\n",
            " 'International Security Assistance Force'\n",
            " 'Churchgoers and passersby at the incident site'\n",
            " 'Algerian soldier driving through Skikda'\n",
            " 'A state-run bank in the town of Bhojpur'\n",
            " 'Two British soldiers serving in Basra'\n",
            " 'Indiscriminate Syrian civilian near the Diplomatic Quarters in Damascus'\n",
            " 'A Police Station of Pervari, Turkey.'\n",
            " 'Security guards from a private British security firm'\n",
            " 'Iraqi Orascom employees in Qaim, Iraq' 'Icelandic peacekeepers'\n",
            " 'Pan-Arab Satellite TV network' 'Olice Security Convoy'\n",
            " 'Indiscriminate Iraqi citizens' 'Indiscriminate citizens' 'Unknown'\n",
            " 'Contractors' 'British and American employees of Kroll Inc. in Baghdad'\n",
            " 'A government polling station located 90 miles south of Charlie Camp'\n",
            " 'Civilians in Yala Province']\n",
            "Unique values in 'natlty3': [ nan 161. 217. 216. 110. 233.  53. 185.  45.  61.  92. 199. 209.  94.\n",
            "  83.  32.  75.  15. 231. 160.  98.   6. 195.  38. 422.  69. 159. 106.\n",
            " 122.  96. 362. 144. 183.  21. 198. 236. 235. 182. 177.  42.  76.  95.\n",
            "   4. 186. 167.  55.  90.  93. 104.  99.  11.  51.  60. 155.   8.  14.\n",
            " 222. 147. 175. 139. 999. 151.  65.  19. 184.  74. 229. 141.  84. 205.\n",
            " 153. 213.  97. 101.  86.  34.  59.  47. 200.]\n",
            "Unique values in 'natlty3_txt': [nan 'Poland' 'United States' 'Great Britain' 'Lebanon' 'Northern Ireland'\n",
            " 'Cyprus' 'Spain' 'Colombia' 'El Salvador' 'India' 'Switzerland' 'Turkey'\n",
            " 'Iran' 'Guatemala' 'Bulgaria' 'Germany' 'Austria' 'Zimbabwe'\n",
            " 'Philippines' 'Italy' 'Algeria' 'Sudan' 'Canada' 'International' 'France'\n",
            " 'Peru' 'Kuwait' 'Maldives' 'Ireland' 'West Germany (FRG)' 'New Zealand'\n",
            " 'South Africa' 'Belgium' 'Sweden' 'Czechoslovakia' 'Yugoslavia' 'Somalia'\n",
            " 'Sierra Leone' 'Chad' 'Ghana' 'Iraq' 'Afghanistan' 'Sri Lanka' 'Russia'\n",
            " 'Denmark' 'Hungary' 'Indonesia' 'Kenya' 'Ivory Coast' 'Argentina' 'Cuba'\n",
            " 'Egypt' 'West Bank and Gaza Strip' 'Angola' 'Australia' 'Venezuela'\n",
            " 'Nigeria' 'Serbia-Montenegro' 'Namibia' 'Multinational' 'Norway'\n",
            " 'Ethiopia' 'Bangladesh' 'South Korea' 'Georgia'\n",
            " 'Democratic Republic of the Congo' 'Nepal' 'Guinea' 'Thailand' 'Pakistan'\n",
            " 'Uganda' 'Israel' 'Japan' 'Guyana' 'Burundi' 'Ecuador'\n",
            " 'Republic of the Congo' 'Syria']\n",
            "Unique values in 'gname': ['MANO-D' '23rd of September Communist League' 'Unknown' ...\n",
            " 'Etnocacerista Movement' 'Liberals of Galilee' nan]\n",
            "Unique values in 'gsubname': [nan 'FALN-R' 'Palestinian Liberation Army (military wing)'\n",
            " 'Perfect Park Home Garden Society' 'Patrol Vessel' \"People's Struggle\"\n",
            " 'Rebels' 'Breton Revolutionary Army (armed wing)' 'Holger Meins Commando'\n",
            " 'EOKA-B' 'Baader Solidarity' 'Justice for Armenian Genocide'\n",
            " 'Cuban Power 76' 'Sam Melville and Jonathan Jackson Unit'\n",
            " 'Autonomous Group Ulrike Meinhof' 'Che Guevara Internationalist Brigage'\n",
            " 'Unit 666' 'Meinhof Anti-Imperialist Group'\n",
            " 'Assault Brigade Ulrike Meinhof' 'Commando Ulrike Meinhof' 'Black June'\n",
            " 'Anti-Imperialist Centrol Holger Meins' 'Acilciler'\n",
            " 'Ulrike Meinhof Action Committee' 'Ulrike Meinhof Communist Commandos'\n",
            " 'Che Guevara Fighting Communist Nuclei' 'Guerrillas'\n",
            " 'Andreas Baader Brigade, German Liberation Popular Front'\n",
            " 'Revolutionary Fighting Group' 'Insurgents' \"Militant Women's Group\"\n",
            " 'International Brigades' 'Fatima Georgi Morales Lara Brigade' '6th Front'\n",
            " \"Prolonged People's War (GPP) faction, Julio Avendana Command\"\n",
            " \"Justo Centeno Quiroz Brigade of Prolonged People's War Faction\"\n",
            " 'Commando Solidarity with Euskadi' 'June 78 Organization'\n",
            " 'Edgar Ibarra Group' \"Prolonged People's War Faction\"\n",
            " \"People's Revolutionary Commandos of Proletarian Faction\"\n",
            " 'Perdo Altamirano Squad of combined Prolonged Popular War and Tercistas'\n",
            " 'Edgar Munguia Brigade of Western Front' 'Charik Group' '5th Front'\n",
            " 'ZANLA (armed wing)'\n",
            " 'Ricardo Morales Aviles Squad and Mario Narvaes Column'\n",
            " 'Carlos Fonseca Northern Front' \"People's Military Organization\"\n",
            " 'Alvaro Rodrigo Command' 'Eagles of the Revolution' 'Spear of the Nation'\n",
            " 'Pedro Jose Chamorro Squadron'\n",
            " 'Basutoland Congress Party, Dissident Faction' 'Bangsa Moro Army'\n",
            " 'Liquidation Squad' 'Politics-Military Wing' 'Faction'\n",
            " 'Avengers for Armenian Genocide' 'Gunmen' 'Revolutionary Left'\n",
            " 'ZIPRA (armed wing)' 'Believed Linked to Red Brigades'\n",
            " 'Muslim Students (Pro-Khomeini)' 'Security Disturbance Movement'\n",
            " 'Linked to Red Brigades' 'Separatist Guerrillas'\n",
            " 'Ukranian Underground Organization' 'Proletarian Patrols for Communism'\n",
            " \"People's Liberation Forces (FPL)\" 'Anti-Jewish Group'\n",
            " 'Central American Revolutionary Workers Party (PRTC)'\n",
            " \"People's Revolutionary Army (ERP) (El Salvador)\" 'Trotskyite Group'\n",
            " 'Lybian-backed Tunisia Emigre' 'ELN Branch' 'Andalusian Separatists'\n",
            " 'Militants' 'Agitators' 'Students' 'Pattani United Liberation Front'\n",
            " '4th Front' 'Death Squad' 'Ultra-Nationalists' 'Armed' 'ALQ'\n",
            " 'The Reconstituted Spanish Communist Party'\n",
            " 'Armed Forces of National Resistance (FARN)'\n",
            " 'Hunt the Communists Vanguard' 'Turkish Communist Party'\n",
            " 'From Surat Dhani 3 Working Area led by Huang Chaichumcho'\n",
            " 'Rightist Supporters' 'Pro-Soviet Movement' 'October 3 Movement'\n",
            " 'Commando' 'Popular Resistance Militia' 'Tyrol'\n",
            " 'Fatah Revolutionary Council' 'Armed Forces of Liberation (FAL)'\n",
            " \"Enemy's Fifth Column\" 'Confederate Vigilante Knights of KKK'\n",
            " \"Irish People's Liberation Army\" 'Guwwat as-Saff al Mujahid'\n",
            " 'Modesto Ramirez Central Front' 'Gudrun Ensslin Commando'\n",
            " 'Popular Revolutionary Command' 'Popular Revolutionary Front'\n",
            " 'Assifa Forces' 'Resistencia' 'September France' 'Bobby Sands Group'\n",
            " 'Bakunin Gdansk Paris Group' 'TIKKO' 'Black Bird Group of the 10th Front'\n",
            " 'Militia' 'Carlos Toledo Plata' 'Popular Liberation Front'\n",
            " \"People's Command\" 'Popular Revolutionary Forces' 'Secessionists'\n",
            " 'Froylan Turcios Group' 'Militant Faction' 'Basutoland Congress Party'\n",
            " 'Nationalists' 'Pro-Autonomy Faction' 'Communist Party of Peru'\n",
            " 'Anarchist Organization' '10th Front' 'Opposition Group' '8th Front'\n",
            " 'Iraultza' 'Republican Gunmen' 'Islamic Jihad' '1st Front'\n",
            " 'Nicaraguan Democratic Revolutionary Alliance' '12th Front' '13th Front'\n",
            " 'Dissident Faction' 'Feliciano Ama Western Front' 'Lautaro'\n",
            " 'Arab Revolutionary Brigades' 'Armed Resistance Unit'\n",
            " 'Basque Revolution Group (Grupo Vasco Iraultza)' 'Nagaland'\n",
            " 'Core Faction' '11th Front' 'National Resistance Army (Armed Wing)'\n",
            " 'Democratic Revolutionary Front' 'Hit Squads' 'Separatists' 'Presumed'\n",
            " 'Squadron of Commander General Luis de la Puente Uceda'\n",
            " 'Red Guerrilla Resistance' 'Guerrilla Resistance in support of FMLN'\n",
            " 'Japanese Anarchist Group' 'Freedom Fighters' 'Military'\n",
            " '14th and 15th Fronts' 'Caloma Resistance' 'South African Suicide Squad'\n",
            " 'Guerrilla Army of the People' 'Separatist Rebels'\n",
            " 'Tribal National Volunteers' 'Nicaraguan Democratic Alliance'\n",
            " 'Guerrilla Resistance' 'Chosen Communist Fighters' 'Sparrow Unit'\n",
            " 'Nationalist Guerrillas' 'Jose Antonio Galan Front'\n",
            " 'Christian Klar Action Group' 'Organization of the Oppressed on Earth'\n",
            " 'Ulrike Meinhof Fighting Unit' 'Henchmen' 'Amal Security Bureau'\n",
            " \"Uganda People's Congress\" 'Western Cape Suicide Squad'\n",
            " 'Communist Party of the Philippines' 'Mardoqueo Guardado Front'\n",
            " 'South Down Brigade' 'Democracia (Dissident)'\n",
            " 'Saharan Liberation Army (SLA)' 'Lebanese Communist Party'\n",
            " 'Lucio Ramerez Front' 'Che Guevara Commando' 'Extremists'\n",
            " 'Islamic Resistance' 'South African backed' 'Fundamentalists'\n",
            " 'Militant Separatists' 'Gunter Sonnenberg' 'Nicaraguan Democratic Force'\n",
            " 'Subversives' 'Undergroup Marxist Group' 'Frente Diego Cristobal Uribe'\n",
            " 'uMkhonto weSizwe (MK)- Spear of the Nation' 'Quaraysh Hawk Group'\n",
            " 'Under Samih Al-Ajami' 'Mara Casol Commando' 'Sheban Atlouf'\n",
            " 'Pro-Libyan Group' 'Traffickers'\n",
            " 'al-Rafidayn - Vanguard of the Hezbollah'\n",
            " 'Revolutionary Punishment Organization'\n",
            " 'Anna Maria Ludmann Fighting Unit' 'Revolutionary Justice Organization'\n",
            " 'Bandits' 'Hind Alameh Fighting Cell' 'Fighters'\n",
            " 'Four Palestinian Guerrilla Groups' 'Youth Brigade'\n",
            " 'Bayardo Paguada Movement' 'Islamic Liberation Organization'\n",
            " 'Rambo Commando' \"Kurdistan People's Liberation Army (Military Wing)\"\n",
            " 'MONAFIQIN' \"Patriotic People's Movement\" 'Khalistan Reserve Force'\n",
            " 'Kurdistan National Liberation Front (Military Wing)' 'Anti-Red Squad'\n",
            " \"Uganda People's Liberation Army\" 'Khalistan' 'Khalil Akkawi Unit'\n",
            " 'Komala' 'Lautaro Group' 'Lautaro Youth Movement'\n",
            " 'Lautaro Rebel and Popular Forces' 'Moises Wentla Group'\n",
            " 'Lautaro Rebel Group' 'Riot Police' 'Palestinian Eagles'\n",
            " 'Kurdish Organization' 'Islamic Resistance Movement' 'National Army'\n",
            " 'Bougainville Republican Army' 'Lebanese Resistance Brigades'\n",
            " 'Omar Torrijos Anti-Intervention Command'\n",
            " 'Anti-Imperial and Anti-Emperor' 'CEPAC Allende Group'\n",
            " 'Lautaro Rebel Forces' 'Students Liberation Front'\n",
            " 'New Mon State Insurgents' 'Mohajir Qaumi Movement'\n",
            " 'Black Consciousness Movement of Azania' 'Radicals'\n",
            " 'Irish Republican Liberation Front' 'Lions of Fury' 'Vigilantes'\n",
            " 'Corsican Liberation Army' 'Red Eagles'\n",
            " 'Jamal Suleiman Dissident Faction' 'Columbian' 'al-Aqsa Battallions'\n",
            " 'Anjuman' 'Tribesmen' 'Dissidents'\n",
            " 'Lautaro Popular and Revolutionary Forces' 'Zulu' 'Fanatics' 'ISA'\n",
            " 'Rival Faction' 'Mafia' 'KGB' 'linked to ETA'\n",
            " 'From Puerto Quetzal Naval Base' 'Bangladesh Chhatra League'\n",
            " 'Corsica National Liberation Movement' 'Militant Group'\n",
            " 'Rival Resistance Group' 'Iraultza-Aske (Free Revolution)'\n",
            " 'Fundamentalist' 'Settlers' 'Turkish Islamic Jihad'\n",
            " 'Arab Revolutionary Squads' 'Jatiyatabadi Chatra Dal'\n",
            " 'Gerombolon Pangacau Keamanan' 'East Jercito Comunero Tomas Katari'\n",
            " 'Rejito' 'Chhatra Shibir (Student Wing)' 'University Students'\n",
            " \"Azanian People's Liberation Army\" 'City Workers'\n",
            " 'Extreme Right Commandos' 'Student Members'\n",
            " 'Followers of Brooklyn Rivera' 'Former Members' 'Separatist Group'\n",
            " 'Islamic Jihad for the Liberation of Palestine'\n",
            " 'Jharkhand Mukti Morcha Party' 'Villagers' 'Protesters' 'Activists'\n",
            " 'Youth' 'Racist Gang' 'Lautaro Guerrilla Group' 'Awami Jubo League'\n",
            " 'Truck Drivers' 'Jharkhand Freedom Front'\n",
            " 'Former Members of Defunct Panama Defense Force' 'Splinter'\n",
            " 'Lautaro Rebel and Popular Movement' 'All Tripura Tribal Force'\n",
            " 'Bodo Security Force' 'Kurdistan Committee' 'Self Defense Unit'\n",
            " 'Terrorist Insurgents' 'Afrikaner Republican League' 'Strikers' 'Mob'\n",
            " 'Izz-al-Din al-Qassam Brigades' 'Dissident Elements' 'Ghana-backed'\n",
            " 'Metropolitan Revenge Brigade' 'Supremacists' 'Demonstrators' 'Sithole'\n",
            " 'Linked to Contras' 'Dissident Pado Wer' 'Partisans of God'\n",
            " 'Former RENAMO Guerrillas' 'Altaf Factiion' 'Bedri Yagan Faction'\n",
            " 'Dev Sol: Dursun Karatas Faction' 'Rival MQM' 'Rightists' 'Ex-MNLF'\n",
            " 'Opposition Party' 'PLUG' 'Metropolitan Revenge Team' 'Tribesman'\n",
            " '32nd Front' 'Gang' 'Aum Supreme Truth' 'Shaqaqi Faction'\n",
            " 'Student Militia' 'Backing Mayoral Candidate' 'Policeman' 'Ellalan Force'\n",
            " 'Renegades' 'Commander Shamil Basayev' 'Public Employees' 'Soldiers'\n",
            " 'Orthodox' 'Sea Tigers' 'Army' 'Breakaway NPA' 'Black Sea Tigers'\n",
            " 'Public Sector Workers' 'Haqiqi Faction' 'Mohasir Tiger Force'\n",
            " 'Lost Command' 'Bugti Sub-Tribe' 'Migrant Workers' 'The Family'\n",
            " 'Pistol Gang' 'Commander Salman Raduyev' 'Student Activists'\n",
            " 'Student Wing' 'Opposition Party Activists' 'Strike Enforcers' 'Rwandan'\n",
            " 'GHQ' 'Lashkar-e-Sajjad' 'Democratic Revival Front' 'Saudi Hezbollah'\n",
            " 'Land Owners' 'Student Militants' 'Sunni Muslims' 'Irish Continuity Army'\n",
            " 'Anarchists' 'Irish Continuity Army Council (CAC)'\n",
            " 'Bodoland Army (Armed Wing)' 'Junejo' 'Coal Miners' 'Loyal to Pol Pot'\n",
            " 'Gourgen Yanikian' 'Ex-Paramilitaries' 'CAC' 'Interahamwe Rebels'\n",
            " 'Former MNLF' 'Communist Party of India- Marxist/Leninist'\n",
            " 'Commander Ibn al-Khattab' 'Bozkurtlar'\n",
            " 'Forces for National Liberation (FNL)'\n",
            " \"Martyr 'Abd-al-Jabir Zadah Group of the Islamic Resistance\"\n",
            " 'Lebanese Resistance Brigades (Saraya)'\n",
            " 'Provisional Irish Republican Army' 'Bajrang Dal' 'Belfast Brigade'\n",
            " 'Commander Abu Omar al-Saif' 'Forces for the Defense of Democracy (FDD)'\n",
            " 'November 19 Anarchist Faction' 'Commander Aslan Maskhadov'\n",
            " 'Commander Ramzan Akhmad' 'Commander Movladi Udugov' 'Akhmadov Brothers'\n",
            " 'Black Widows, Commander Arbi Barayev' 'Commander Arbi Barayev'\n",
            " 'Commander Ramzan Akhmadov' 'al-Quds Brigades' 'Black Widows'\n",
            " 'Al Nasir Salah al-Din Brigades' 'Commander Yakub'\n",
            " 'Mojahedin Unit, Commander Amir Muslimun' 'Thabet Thabet Brigade'\n",
            " 'Brigades of Palestinian National Resistance' 'Commander Rustam Surguev'\n",
            " 'Mojahedin Unit, Seyfulla Detachment' 'Jerusalem Brigade'\n",
            " 'Ezzedine al-Qassam Brigades' 'Katibat El Ahoual' 'Jerusalem Brigades'\n",
            " 'Mojahedin Unit, Lechi Dudayev subunit' 'Gustavo Palmezano Ojeda Front'\n",
            " 'Commander Doku Umarov' 'Mojahedin Unit'\n",
            " \"National Movement for the Restoration of Pakistan's Sovereignty\"\n",
            " 'Commander Islam Khasukhanov' 'Commander Movsar Barayev'\n",
            " 'Islamic Army for the Liberation of the Holy Sites'\n",
            " 'Commander Zelimkhan Akmadov'\n",
            " 'Commander Rapani Khalilov, under the command of Abu al-Walid'\n",
            " 'Tarjuman Al-Qanoon' 'Draa El Mizan seriat' 'The 29th Division'\n",
            " 'Army of Palestine' 'Republican Extremists' 'Commander Amir Abdu-Sabur'\n",
            " 'Commander Amir Abdulla' 'Black Widows, Commander Shamil Basayev'\n",
            " 'Black Widows, Commander Abu al-Walid' \"People's Defense Forces (HPG)\"\n",
            " 'El Forkane phalange' 'Commander Mamatsuyev' 'Followers of Zarqawi Group']\n",
            "Unique values in 'gname2': [nan 'Armed Revolutionary Independence Movement (MIRA)'\n",
            " 'Popular Front for the Liberation of Palestine (PFLP)'\n",
            " 'Carlos the Jackal' 'Palestine Liberation Organization (PLO)'\n",
            " 'Puerto Rican Nationalists'\n",
            " 'Organization of Volunteers for the Puerto Rican Revolution'\n",
            " 'Revolutionary Student Movement (MER)' 'Jewish Action Movement'\n",
            " 'Abu Baker Martyr Group' 'National Liberation Army of Colombia (ELN)'\n",
            " \"People's Revolutionary Army (ERP) (El Salvador)\"\n",
            " 'Armed Forces of National Resistance (FARN)' 'Ex-Somoza National Guard'\n",
            " 'Revolutionary Armed Forces of Colombia (FARC)'\n",
            " 'Justice Commandos for the Armenian Genocide' 'The Mukti Bahini'\n",
            " 'Palestinians' 'Moro National Liberation Front (MNLF)'\n",
            " 'M-19 (Movement of April 19)'\n",
            " 'Vietnamese Organization to Exterminate Communists and Restore the Nation'\n",
            " 'Popular Liberation Army (EPL)' \"Al-Gama'at al-Islamiyya (IG)\"\n",
            " \"Al-Da'wah Party\" 'Democratic Revolutionary Front (FDR)'\n",
            " 'Boricuan Armed Anti-Imperialist Commandos' 'Armed Struggle Organization'\n",
            " 'Zairean Socialist Party' 'Red Brigades' 'Quintin Lame' 'Hezbollah'\n",
            " 'Lebanese National Resistance Front'\n",
            " 'Ricardo Franco Front (Dissident FARC)' 'Red Army Faction (RAF)'\n",
            " 'America Battalion' 'Tupac Amaru Revolutionary Movement (MRTA)'\n",
            " 'Movement of the Revolutionary Left (MIR) (Peru)'\n",
            " 'Omar Torrijos Commando for Latin American Dignity'\n",
            " 'Patriotic Morazanista Front (FPM)' 'Karen National Union'\n",
            " 'The Extraditables' '1 May' 'Popular Militia (Chile)'\n",
            " 'Afrikaner Resistance Movement (AWB)' 'Force 17'\n",
            " \"Revolutionary People's Struggle (ELA)\" 'Shining Path (SL)'\n",
            " 'Montoneros (Argentina)' 'Recompras' 'Cali Narcotics Cartel'\n",
            " 'Fatherland for the Poor' 'Turkish Communist Party/Marxist (TKP-ML)'\n",
            " 'Hizbul Mujahideen (HM)' 'Bougainville Revolutionary Army (BRA)'\n",
            " 'Shia Muslim extremists' 'Egyptian Islamic Jihad (Al-Jihad)'\n",
            " 'West Nile Bank Front (WNBF)' 'Earth Liberation Front (ELF)'\n",
            " 'Palestinian Islamic Revolutionary Army'\n",
            " 'Revolutionary Bolivariano Movement 200' 'Harkat ul Ansar'\n",
            " 'Muslim Mujahideen' 'Animal Liberation Front (ALF)'\n",
            " 'Moro Islamic Liberation Front (MILF)' 'Fighting Guerrillas of May'\n",
            " 'Forest Brothers' 'Hamas (Islamic Resistance Movement)'\n",
            " 'Armed Forces Revolutionary Council (AFRC)' 'Chechen Rebels' 'Unknown'\n",
            " 'White Wolves (UK)' 'Aitarak Militia' 'Nationalsocialistisk Front (NSF)'\n",
            " 'Al-Badr' 'Revolutionaries of the Streets'\n",
            " 'Grupo de Combatientes Populares' 'Abu Sayyaf Group (ASG)'\n",
            " 'Oromo Liberation Front' 'Jamiat ul-Mujahedin (JuM)'\n",
            " \"United People's Democratic Solidarity (UPDS)\" 'Al-Aqsa Martyrs Brigade'\n",
            " 'United Liberation Front of Assam (ULFA)' 'Jaish-e-Mohammad (JeM)'\n",
            " 'Lashkar-e-Taiba (LeT)' 'Palestinian Hezbollah' 'Mayi Mayi'\n",
            " 'Palestinian Islamic Jihad (PIJ)'\n",
            " 'Salafist Group for Preaching and Fighting (GSPC)'\n",
            " 'Albanian Liberation Army' \"People's Revolutionary Army (ERP)\"\n",
            " \"People's Army's Pioneers\" 'Hutu extremists' 'Armed Islamic Group (GIA)'\n",
            " 'Ulster Freedom Fighters (UFF)' 'Asif Raza Commandos' 'Al-Qaida'\n",
            " 'Al-Fatah' 'Al-Mansoorian' 'Ulster Volunteer Force (UVF)' 'Al-Madina'\n",
            " 'Dima Halao Daoga (DHD)' 'Adan Abyan Islamic Army (AAIA)'\n",
            " 'Riyadus-Salikhin Reconnaissance and Sabotage Battalion of Chechen Martyrs'\n",
            " 'Taliban' 'Harkatul Jihad-e-Islami' 'Save Kashmir Movement'\n",
            " 'Hizb-I-Islami' \"People's Revolutionary Militias (MRP)\"\n",
            " \"New People's Army (NPA)\" 'Harakat ul-Mujahidin (HuM)'\n",
            " 'Lashkar-e-Fidayan-e-Islam' 'Jemaah Islamiya (JI)'\n",
            " 'Tehrik-e-Jehad-e-Islami'\n",
            " 'National Council for Defense of Democracy (NCDD)'\n",
            " 'Free Aceh Movement (GAM)' 'Forces for the Defense of Democracy (FDD)'\n",
            " 'Great Eastern Islamic Raiders Front (IBDA-C)' 'Ansar al-Islam'\n",
            " 'Jamaat-E-Islami (India/Pakistan)' 'Maoist Communist Party (MKP)'\n",
            " 'Islamic Movement of Uzbekistan (IMU)'\n",
            " 'National Democratic Front of Bodoland (NDFB)'\n",
            " 'Egyptian Tawhid and Jihad' 'Colonel Karuna Faction' 'Ansar al-Sunna'\n",
            " 'Islamic Army in Iraq (al-Jaish al-Islami fi al-Iraq)'\n",
            " \"Jihad Martyr's Companies in Iraq\" 'Black Banner Brigade']\n",
            "Unique values in 'gsubname2': [nan 'Islamic Jihad' 'The Family' 'Abu Ali Mustafa Brigades'\n",
            " 'Ezzedine al-Qassam Brigades' 'Forces for the Defense of Democracy (FDD)'\n",
            " 'al-Quds Brigades']\n",
            "Unique values in 'gname3': [nan 'Guerrilla Column 29 September' 'Lebanese Resistance Group'\n",
            " 'Armed Revolutionary Nuclei (NAR)' 'M-19 (Movement of April 19)'\n",
            " 'Armed Forces of Popular Resistance (FARP)'\n",
            " 'November 17 Revolutionary Organization (N17RO)' 'SKIF Detachment'\n",
            " 'Unknown' 'Umar al-Mukhtar Martyr Forces' 'Harkatul Jihad-e-Islami'\n",
            " 'Al-Aqsa Martyrs Brigade' 'Al-Fatah'\n",
            " 'Popular Front for the Liberation of Palestine (PFLP)'\n",
            " 'Jamiat ul-Mujahedin (JuM)'\n",
            " 'Democratic Front for the Liberation of Palestine (DFLP)'\n",
            " 'Achik National Volunteer Council (ANVC)' 'Al-Barq'\n",
            " 'Islamic International Peacekeeping Brigade (IIPB)'\n",
            " 'Palestinian Islamic Jihad (PIJ)' 'Hizb-I-Islami' 'Tanzim'\n",
            " 'Hizb al-Tahrir al-Islami (HT)'\n",
            " 'Jamaa Al-Islamiya Al-Alamiya (World Islamist Group)'\n",
            " 'Mutassim Bellah Brigade']\n",
            "Unique values in 'gsubname3': [nan 'Commander Ibn al-Khattab']\n",
            "Unique values in 'motive': [nan 'To protest the Cairo Illinois Police Deparment'\n",
            " 'To protest the War in Vietnam and the draft' ...\n",
            " 'The perpetrators motives were indoctrination of the victims and the spread of Maoist propaganda.'\n",
            " 'Specific motive is unknown, but sources suspect that Christians were retaliating because Hindus had demolished a Christian church prior to the attack.'\n",
            " \"To strike Iraqi Police Forces whom members of Abu Musab al-Zarqawi's group thought were cowards.\"]\n",
            "Unique values in 'guncertain1': [ 0.  1. nan]\n",
            "Unique values in 'guncertain2': [nan  1.  0.]\n",
            "Unique values in 'guncertain3': [nan  0.  1.]\n",
            "Unique values in 'individual': [ 0.  1. nan]\n",
            "Unique values in 'nperps': [      nan  7.00e+00 -9.90e+01  3.00e+00  1.00e+00  5.00e+00  2.00e+00\n",
            "  4.00e+00  6.00e+00  4.20e+01  2.20e+01  9.00e+00  2.50e+01  1.60e+01\n",
            "  1.10e+01  1.20e+01  8.00e+00  0.00e+00  1.50e+01  1.00e+01  1.80e+01\n",
            "  1.70e+01  2.00e+02  3.00e+01  6.00e+01  2.00e+01  5.00e+01  1.30e+01\n",
            "  2.40e+01  7.00e+01  4.00e+01  1.00e+02  1.40e+01  1.40e+02  8.00e+01\n",
            "  3.20e+01  4.00e+02  1.00e+03  2.50e+02  3.50e+01  1.50e+02  3.00e+02\n",
            "  7.50e+01  5.00e+02  6.00e+02  4.40e+01  4.50e+01  3.80e+01  9.00e+01\n",
            "  1.20e+02  3.40e+01  2.70e+01  1.80e+02  9.00e+02  1.20e+03  3.70e+02\n",
            "  1.30e+02  7.50e+02  4.80e+01  7.00e+02  7.20e+01  3.30e+01  3.90e+01\n",
            "  4.90e+01  2.60e+01  1.90e+01  2.90e+02  6.80e+01  1.60e+02  2.04e+02\n",
            "  2.80e+01  3.60e+01  2.10e+01  2.50e+04  2.90e+01  1.50e+03  2.50e+03\n",
            "  1.90e+02  4.70e+01  1.00e+04  1.38e+02  2.00e+04  3.50e+02  5.10e+01\n",
            "  5.50e+01  5.60e+01  8.00e+02  3.20e+03  5.00e+03  3.10e+01  4.50e+02\n",
            "  4.10e+01  8.70e+01  3.00e+03  2.00e+03]\n",
            "Unique values in 'nperpcap': [  nan -99.    1.    2.    0.    4.    3.    6.    5.    7.    8.    9.\n",
            "  10.   26.   24.   13.   14.   45.   12.   11.    2.5  25.   32.   27.\n",
            "  -9.   15.   43.   21.   50.  406.   17.  100.   60.   87.   55.   20.\n",
            "  18.   76. ]\n",
            "Unique values in 'claimed': [nan  0.  1. -9.]\n",
            "Unique values in 'claimmode': [nan  1. 10.  3.  9.  8.  5.  2.  7.  4.  6.]\n",
            "Unique values in 'claimmode_txt': [nan 'Letter' 'Unknown' 'Call (pre-incident)' 'Other' 'Personal claim'\n",
            " 'Note left at scene' 'Call (post-incident)'\n",
            " 'Posted to website, blog, etc.' 'E-mail' 'Video']\n",
            "Unique values in 'claim2': [nan  0.  1. -9.]\n",
            "Unique values in 'claimmode2': [nan  2. 10.  1.  5.  9.  7.  4.  8.  6.]\n",
            "Unique values in 'claimmode2_txt': [nan 'Call (post-incident)' 'Unknown' 'Letter' 'Note left at scene'\n",
            " 'Other' 'Posted to website, blog, etc.' 'E-mail' 'Personal claim' 'Video']\n",
            "Unique values in 'claim3': [nan  1.  0.]\n",
            "Unique values in 'claimmode3': [nan  1.  9.  2. 10.  7.  6.]\n",
            "Unique values in 'claimmode3_txt': [nan 'Letter' 'Other' 'Call (post-incident)' 'Unknown'\n",
            " 'Posted to website, blog, etc.' 'Video']\n",
            "Unique values in 'compclaim': [nan  0.  1. -9.]\n",
            "Unique values in 'weaptype1': [13.  6.  8.  5.  2.  9. 11. 10.  7.  3. 12.  1. nan]\n",
            "Unique values in 'weaptype1_txt': ['Unknown' 'Explosives' 'Incendiary' 'Firearms' 'Chemical' 'Melee'\n",
            " 'Sabotage Equipment'\n",
            " 'Vehicle (not to include vehicle-borne explosives, i.e., car or truck bombs)'\n",
            " 'Fake Weapons' 'Radiological' 'Other' 'Biological' nan]\n",
            "Unique values in 'weapsubtype1': [nan 16.  5.  2. 19. 20.  4. 18. 31. 15. 28. 10. 14. 17.  1. 11.  3.  9.\n",
            " 21. 29.  7. 23.  8. 22. 12. 24. 30. 27. 26. 13.  6.]\n",
            "Unique values in 'weapsubtype1_txt': [nan 'Unknown Explosive Type' 'Unknown Gun Type'\n",
            " 'Automatic or Semi-Automatic Rifle' 'Molotov Cocktail/Petrol Bomb'\n",
            " 'Gasoline or Alcohol' 'Rifle/Shotgun (non-automatic)' 'Arson/Fire'\n",
            " 'Pipe Bomb' 'Vehicle' 'Dynamite/TNT' 'Pressure Trigger' 'Time Fuse'\n",
            " 'Other Explosive Type' 'Poisoning'\n",
            " 'Projectile (rockets, mortars, RPGs, etc.)' 'Handgun' 'Letter Bomb'\n",
            " 'Blunt Object' 'Sticky Bomb' 'Grenade' 'Knife or Other Sharp Object'\n",
            " 'Landmine' 'Hands, Feet, Fists' 'Remote Trigger'\n",
            " 'Rope or Other Strangling Device' 'Explosive' 'Unknown Weapon Type'\n",
            " 'Suffocation' 'Suicide (carried bodily by human being)' 'Other Gun Type']\n",
            "Unique values in 'weaptype2': [nan  5.  7.  9.  8.  6. 12. 11.  2. 13. 10.]\n",
            "Unique values in 'weaptype2_txt': [nan 'Firearms' 'Fake Weapons' 'Melee' 'Incendiary' 'Explosives' 'Other'\n",
            " 'Sabotage Equipment' 'Chemical' 'Unknown'\n",
            " 'Vehicle (not to include vehicle-borne explosives, i.e., car or truck bombs)']\n",
            "Unique values in 'weapsubtype2': [nan  3.  5. 23. 20.  2.  7. 18. 19.  4. 22. 16. 26. 21. 11. 14. 24. 28.\n",
            "  8. 27. 17. 12.  6. 31. 13.]\n",
            "Unique values in 'weapsubtype2_txt': [nan 'Handgun' 'Unknown Gun Type' 'Knife or Other Sharp Object'\n",
            " 'Gasoline or Alcohol' 'Automatic or Semi-Automatic Rifle' 'Grenade'\n",
            " 'Arson/Fire' 'Molotov Cocktail/Petrol Bomb'\n",
            " 'Rifle/Shotgun (non-automatic)' 'Hands, Feet, Fists'\n",
            " 'Unknown Explosive Type' 'Suffocation' 'Blunt Object'\n",
            " 'Projectile (rockets, mortars, RPGs, etc.)' 'Time Fuse'\n",
            " 'Rope or Other Strangling Device' 'Dynamite/TNT' 'Landmine'\n",
            " 'Unknown Weapon Type' 'Other Explosive Type' 'Remote Trigger'\n",
            " 'Other Gun Type' 'Pipe Bomb' 'Suicide (carried bodily by human being)']\n",
            "Unique values in 'weaptype3': [nan 13.  5.  9.  8.  6. 12.  7. 11. 10.  2.]\n",
            "Unique values in 'weaptype3_txt': [nan 'Unknown' 'Firearms' 'Melee' 'Incendiary' 'Explosives' 'Other'\n",
            " 'Fake Weapons' 'Sabotage Equipment'\n",
            " 'Vehicle (not to include vehicle-borne explosives, i.e., car or truck bombs)'\n",
            " 'Chemical']\n",
            "Unique values in 'weapsubtype3': [nan 23.  2. 16.  7. 11.  3. 21.  5.  4. 17. 18. 19. 28. 26.  8. 20. 24.\n",
            " 22.  6. 15.]\n",
            "Unique values in 'weapsubtype3_txt': [nan 'Knife or Other Sharp Object' 'Automatic or Semi-Automatic Rifle'\n",
            " 'Unknown Explosive Type' 'Grenade'\n",
            " 'Projectile (rockets, mortars, RPGs, etc.)' 'Handgun' 'Blunt Object'\n",
            " 'Unknown Gun Type' 'Rifle/Shotgun (non-automatic)' 'Other Explosive Type'\n",
            " 'Arson/Fire' 'Molotov Cocktail/Petrol Bomb' 'Dynamite/TNT' 'Suffocation'\n",
            " 'Landmine' 'Gasoline or Alcohol' 'Rope or Other Strangling Device'\n",
            " 'Hands, Feet, Fists' 'Other Gun Type' 'Vehicle']\n",
            "Unique values in 'weaptype4': [nan  6.  9.  5.  8. 12.]\n",
            "Unique values in 'weaptype4_txt': [nan 'Explosives' 'Melee' 'Firearms' 'Incendiary' 'Other']\n",
            "Unique values in 'weapsubtype4': [nan 16. 11. 21.  2.  7.  5.  8. 23.  4. 27. 18.  3. 14. 20. 17. 28.]\n",
            "Unique values in 'weapsubtype4_txt': [nan 'Unknown Explosive Type' 'Projectile (rockets, mortars, RPGs, etc.)'\n",
            " 'Blunt Object' 'Automatic or Semi-Automatic Rifle' 'Grenade'\n",
            " 'Unknown Gun Type' 'Landmine' 'Knife or Other Sharp Object'\n",
            " 'Rifle/Shotgun (non-automatic)' 'Unknown Weapon Type' 'Arson/Fire'\n",
            " 'Handgun' 'Time Fuse' 'Gasoline or Alcohol' 'Other Explosive Type'\n",
            " 'Dynamite/TNT']\n",
            "Unique values in 'weapdetail': [nan 'Explosive' 'Incendiary' ...\n",
            " 'Thai authorities believed that the bomb was detonated with a cell phone.'\n",
            " 'The attack was perpetrated by a suicide bomber driving a vehicle rigged with explosive devices.'\n",
            " 'The explosive device was composed of dynamite.']\n",
            "Unique values in 'nkill': [1.000e+00 0.000e+00       nan 7.000e+00 4.700e+01 2.000e+00 3.600e+01\n",
            " 5.000e+00 3.000e+00 4.000e+00 2.500e+01 1.500e+01 2.600e+01 8.000e+00\n",
            " 8.100e+01 6.000e+00 9.000e+00 1.600e+01 3.000e+01 3.100e+01 1.200e+01\n",
            " 2.100e+01 1.400e+01 8.800e+01 1.100e+01 1.000e+01 2.700e+01 1.800e+01\n",
            " 2.200e+01 1.900e+01 9.200e+01 1.300e+01 7.300e+01 1.000e+02 4.200e+01\n",
            " 4.300e+01 1.700e+01 9.800e+01 4.220e+02 4.800e+01 3.400e+01 5.400e+01\n",
            " 5.000e+01 3.500e+01 2.000e+01 4.100e+01 3.700e+01 2.800e+01 4.000e+01\n",
            " 3.200e+01 8.500e+01 2.300e+01 3.000e+02 6.000e+01 2.400e+01 5.800e+01\n",
            " 7.000e+01 8.700e+01 4.500e+01 3.800e+01 2.900e+01 7.400e+01 8.300e+01\n",
            " 9.000e+01 6.600e+01 8.000e+01 6.700e+01 5.100e+01 3.900e+01 1.140e+02\n",
            " 1.240e+02 7.600e+01 3.300e+01 7.500e+01 5.700e+01 6.200e+01 4.600e+01\n",
            " 5.600e+01 6.300e+01 1.200e+02 1.020e+02 7.800e+01 7.900e+01 5.200e+01\n",
            " 7.700e+01 2.000e+02 4.900e+01 1.110e+02 1.650e+02 4.400e+01 2.410e+02\n",
            " 6.400e+01 1.080e+02 6.500e+01 1.320e+02 2.700e+02 2.280e+02 1.100e+02\n",
            " 1.360e+02 1.800e+02 2.500e+02 9.300e+01 1.300e+02 5.900e+01 9.400e+01\n",
            " 5.300e+01 1.460e+02 3.290e+02 9.700e+01 7.100e+01 2.400e+02 2.270e+02\n",
            " 1.260e+02 1.060e+02 3.880e+02 6.800e+01 8.400e+01 8.200e+01 1.710e+02\n",
            " 1.070e+02 5.500e+01 1.120e+02 7.200e+01 9.600e+01 1.400e+02 6.100e+01\n",
            " 1.050e+02 1.500e+02 1.150e+02 8.900e+01 1.180e+03 1.700e+02 1.680e+02\n",
            " 1.210e+02 3.750e+02 9.100e+01 3.040e+02 1.230e+02 1.350e+02 2.560e+02\n",
            " 1.090e+02 2.710e+02 2.060e+02 1.040e+02 3.200e+02 2.750e+02 2.240e+02\n",
            " 1.180e+02 1.290e+02 9.500e+01 2.590e+02 1.384e+03 1.383e+03 1.900e+02\n",
            " 1.190e+02 1.010e+02 1.160e+02 5.180e+02 3.440e+02]\n",
            "Unique values in 'nkillus': [      nan 0.000e+00 2.000e+00 1.000e+00 4.000e+00 3.000e+00 8.000e+00\n",
            " 7.000e+00 3.000e+01 1.100e+01 5.000e+00 1.700e+01 2.410e+02 6.000e+00\n",
            " 3.100e+01 1.890e+02 1.680e+02 1.900e+01 6.000e+01 1.200e+01 1.500e+01\n",
            " 1.360e+03 1.327e+03 1.820e+02 3.800e+01 9.000e+00 1.400e+01 1.600e+01\n",
            " 2.000e+01]\n",
            "Unique values in 'nkillter': [ nan   0.   2.   1.   3.   4.   5.  15.  85.   7.   6.   9.  12.  14.\n",
            "  10.  18.  11.   8.  20.  17.  60.  34.  23.  24.  21.  35.  16.  41.\n",
            "  13.  80. 100. 300.  47.  70.  50.  64.  25.  30.  19.  48.  62.  40.\n",
            " 500.  27.]\n",
            "Unique values in 'nwound': [0.000e+00       nan 1.000e+00 2.000e+00 7.000e+00 9.000e+00 1.700e+01\n",
            " 5.000e+00 3.000e+00 1.000e+01 1.200e+01 2.000e+01 4.000e+00 1.100e+01\n",
            " 2.700e+01 1.300e+01 1.900e+01 1.300e+02 5.600e+01 2.400e+01 6.000e+00\n",
            " 7.200e+01 2.380e+02 5.500e+01 1.500e+01 8.000e+00 1.800e+01 5.000e+01\n",
            " 3.400e+01 1.400e+01 7.000e+01 1.020e+02 4.100e+01 4.800e+01 3.600e+01\n",
            " 2.500e+01 8.100e+01 5.400e+01 5.300e+01 1.000e+02 4.500e+01 3.300e+01\n",
            " 4.000e+01 6.200e+01 7.400e+01 2.200e+01 3.100e+01 1.600e+01 3.000e+01\n",
            " 2.850e+02 2.300e+01 4.200e+01 4.300e+01 7.600e+01 4.400e+01 5.200e+01\n",
            " 4.600e+01 4.900e+01 1.600e+02 3.700e+01 2.100e+01 6.000e+01 7.800e+01\n",
            " 2.600e+01 2.800e+01 3.900e+01 3.800e+01 3.500e+01 3.200e+01 8.000e+01\n",
            " 4.700e+01 1.880e+02 2.150e+02 8.500e+01 7.500e+01 1.610e+02 9.000e+01\n",
            " 3.000e+02 9.500e+01 1.350e+02 6.100e+01 1.380e+02 7.100e+01 7.000e+02\n",
            " 6.600e+01 1.360e+02 1.200e+02 2.170e+02 3.190e+02 1.330e+02 6.800e+01\n",
            " 7.300e+01 2.900e+01 7.510e+02 2.000e+02 1.120e+02 2.500e+02 8.200e+01\n",
            " 1.320e+02 2.300e+02 1.070e+02 1.140e+02 8.400e+01 1.400e+02 1.500e+02\n",
            " 9.600e+01 5.100e+01 5.800e+01 6.400e+01 2.950e+02 1.060e+02 1.250e+02\n",
            " 6.900e+01 5.900e+01 5.700e+01 1.220e+02 1.090e+02 8.800e+01 1.150e+02\n",
            " 1.760e+02 2.200e+02 9.700e+01 6.500e+01 8.000e+02 1.730e+02 9.200e+01\n",
            " 5.000e+02 2.360e+02 9.800e+01 2.860e+02 1.410e+02 5.500e+03 6.500e+02\n",
            " 6.710e+02 8.600e+01 1.040e+02 8.300e+01 1.010e+02 1.272e+03 1.050e+02\n",
            " 3.860e+02 3.910e+02 1.100e+02 1.490e+02 8.900e+01 9.100e+01 1.190e+02\n",
            " 7.700e+01 1.180e+02 6.700e+01 1.700e+02 1.940e+02 1.920e+02 2.270e+02\n",
            " 2.600e+02 4.000e+03 1.800e+02 1.840e+02 9.900e+01 9.400e+01 1.370e+02\n",
            " 8.190e+03 8.191e+03 1.710e+02 1.210e+02 1.030e+02 1.620e+02 1.970e+02\n",
            " 1.510e+02 2.240e+02 1.340e+02 2.330e+02 1.670e+02 4.500e+02 2.160e+02\n",
            " 1.450e+02 6.300e+01 7.270e+02 1.820e+02 1.590e+02]\n",
            "Unique values in 'nwoundus': [ nan   0.   1.   2.   7.  17.   5.   3.  10.  12.  20.  27.   8.  50.\n",
            "   4.  36.  11.  22.   9.  75.  25.  18. 751.  14.  64.   6.  15. 650.\n",
            "  78.  37. 109.  19.  24.  38.  33.  13.  57.]\n",
            "Unique values in 'nwoundte': [ nan   0.   1.   4.   2.   3.   5.   6.  50.  10.  16.  20.   9.  13.\n",
            "  11. 200.   7.]\n",
            "Unique values in 'property': [ 0.  1. -9. nan]\n",
            "Unique values in 'propextent': [nan  3.  2.  4.  1.]\n",
            "Unique values in 'propextent_txt': [nan 'Minor (likely < $1 million)'\n",
            " 'Major (likely >= $1 million but < $1 billion)' 'Unknown'\n",
            " 'Catastrophic (likely >= $1 billion)']\n",
            "Unique values in 'propvalue': [            nan  2.25000000e+04  6.00000000e+04  0.00000000e+00\n",
            "  3.05000000e+02  2.00000000e+06  1.70000000e+04  2.50000000e+03\n",
            "  2.20000000e+03  5.00000000e+03  8.80000000e+03  3.00000000e+03\n",
            "  4.18900000e+03  2.00000000e+05  1.00000000e+03  1.00000000e+06\n",
            "  8.00000000e+03  3.50000000e+05  4.50000000e+02  1.00000000e+05\n",
            "  3.00000000e+06  2.00000000e+03  5.00000000e+02  2.00000000e+02\n",
            "  3.20000000e+05  2.50000000e+04  4.00000000e+03  1.05000000e+05\n",
            "  7.00000000e+05  1.50000000e+04  5.00000000e+04  3.00000000e+04\n",
            "  2.50000000e+05  7.50000000e+04  2.00000000e+04  4.00000000e+04\n",
            "  3.33000000e+02  1.00000000e+04  9.00000000e+03  1.60000000e+03\n",
            "  6.00000000e+05  2.50000000e+06  2.31000000e+05  1.50000000e+05\n",
            "  3.00000000e+05  7.00000000e+03  1.50000000e+03  2.35000000e+04\n",
            "  6.00000000e+02  5.00000000e+05  2.75000000e+03  1.50000000e+06\n",
            "  1.60000000e+05  5.00000000e+06  6.00000000e+03  4.00000000e+02\n",
            "  7.00000000e+02  7.50000000e+03  5.02500000e+05  7.00000000e+04\n",
            "  1.10000000e+04  1.20000000e+04  2.50000000e+02  5.50000000e+03\n",
            "  1.75000000e+05  5.00000000e+01  1.50000000e+02  3.50000000e+03\n",
            "  8.50000000e+03  2.40000000e+03  9.40000000e+03  3.00000000e+02\n",
            "  1.00000000e+02  1.18000000e+05  1.80000000e+04  7.00000000e+06\n",
            "  3.70000000e+03 -9.90000000e+01  8.00000000e+04  4.40000000e+05\n",
            "  1.30000000e+04  1.00000000e+07  1.20000000e+05  4.50000000e+05\n",
            "  5.20000000e+04  2.60000000e+04  9.00000000e+06  2.20000000e+04\n",
            "  1.30000000e+05  5.30000000e+04  1.20000000e+03  1.35000000e+05\n",
            "  3.50000000e+04  9.00000000e+02  4.50000000e+03  7.40000000e+04\n",
            "  3.59400000e+03  3.20000000e+04  4.63610000e+04  2.80000000e+04\n",
            "  1.26060000e+04  1.25000000e+05  5.10000000e+04  3.20000000e+03\n",
            "  2.30000000e+03  1.66000000e+05  1.10000000e+03  2.80000000e+05\n",
            "  1.30000000e+03  3.90000000e+04  3.00000000e+07  4.20000000e+03\n",
            "  8.00000000e+02  7.50000000e+06  6.00000000e+06  4.00000000e+05\n",
            "  1.37853000e+05  1.13000000e+04  1.55600000e+06  1.38000000e+04\n",
            "  5.90000000e+03  3.60000000e+04  3.50000000e+02  6.20000000e+04\n",
            "  8.50000000e+04  2.60000000e+03  3.50000000e+06  1.25000000e+07\n",
            "  1.80000000e+03  7.50000000e+02  1.40000000e+04  2.55000000e+05\n",
            "  2.10000000e+04  5.60000000e+06  1.70000000e+02  2.10000000e+02\n",
            "  3.75000000e+04  2.70000000e+05  3.75000000e+03  1.20000000e+06\n",
            "  4.28000000e+05  9.00000000e+04  1.70000000e+03  2.40000000e+04\n",
            "  1.60000000e+04  3.25000000e+02  4.50000000e+04  1.10000000e+05\n",
            "  9.00000000e+05  8.38000000e+03  4.27000000e+04  1.40000000e+05\n",
            "  2.85700000e+03  7.14000000e+02  8.50000000e+02  5.28000000e+05\n",
            "  1.40000000e+06  3.30000000e+05  4.28570000e+04  3.33000000e+05\n",
            "  5.71420000e+04  5.25000000e+05  1.12500000e+04  4.30000000e+04\n",
            "  6.80000000e+05  4.00000000e+06  1.70000000e+05  1.25000000e+03\n",
            "  5.75000000e+05  1.90000000e+04  2.10000000e+03  2.92656300e+06\n",
            "  2.40000000e+06  1.72000000e+05  1.15000000e+05  3.70000000e+06\n",
            "  7.50000000e+05  5.29000000e+05  9.99000000e+02  6.50000000e+06\n",
            "  1.18000000e+06  8.00000000e+06  1.66058000e+05  1.90000000e+06\n",
            "  7.78000000e+00  7.80000000e+03  6.50000000e+05  8.50000000e+05\n",
            "  2.37603900e+06  5.00000000e+07  4.50000000e+07  5.85000000e+02\n",
            "  8.42100000e+04  2.09000000e+05  3.48000000e+05  5.90000000e+04\n",
            "  3.80000000e+04  1.80000000e+05  2.92000000e+05  5.33330000e+04\n",
            "  4.90000000e+04  8.90000000e+04  2.82550000e+04  6.25000000e+05\n",
            "  2.75000000e+05  6.25000000e+02  3.10000000e+01  4.70000000e+04\n",
            "  6.24100000e+04  4.99300000e+03  2.62120000e+04  1.88000000e+05\n",
            "  6.60000000e+04  1.93730000e+04  3.13101700e+06  5.71400000e+01\n",
            "  1.90000000e+03  6.40000000e+04  6.24100000e+03  6.89770000e+04\n",
            "  5.52900000e+03  4.69653000e+05  1.20000000e+07  1.90000000e+05\n",
            "  8.40000000e+03  8.19600000e+03  6.14940000e+04  4.88511300e+06\n",
            "  1.22000000e+05  3.40000000e+05  1.95000000e+05  4.80000000e+05\n",
            "  2.25700000e+05  5.48000000e+08  1.57000000e+06  1.07000000e+08\n",
            "  5.71500000e+03  1.64000000e+04  3.12000000e+05  3.70000000e+04\n",
            "  1.40350000e+05  1.23000000e+02  2.40000000e+05  9.50000000e+04\n",
            "  2.60000000e+05  8.20000000e+04  1.92000000e+05  6.84660000e+04\n",
            "  5.87000000e+05  6.01200000e+03  8.82000000e+05  1.61500000e+03\n",
            "  1.00210000e+04  1.15800000e+03  4.70000000e+05  8.30000000e+06\n",
            "  1.00400000e+03  1.00000000e+00  1.65000000e+05  7.78000000e+02\n",
            "  1.50000000e+07  1.57000000e+05  3.69100000e+02  1.95000000e+02\n",
            "  2.65000000e+05  4.40000000e+04  3.40000000e+04  8.73800000e+03\n",
            "  1.42857000e+05  3.60000000e+03  7.70000000e+01  1.21200000e+05\n",
            "  4.12500000e+05  1.70000000e+06  4.33450000e+04  4.84000000e+02\n",
            "  4.25000000e+06  5.36000000e+05  2.90000000e+01  1.28200000e+04\n",
            "  6.34100000e+03  1.47400000e+03  1.97500000e+05  3.00000000e+00\n",
            "  2.30000000e+05  3.60000000e+06  1.96000000e+04  2.60550000e+04\n",
            "  3.50000000e+01  2.78000000e+03  4.32000000e+05  4.84000000e+03\n",
            "  1.61335000e+05  9.66000000e+03  1.61000000e+05  1.62500000e+05\n",
            "  8.75000000e+04  8.60000000e+04  6.53750000e+04  4.00000000e+01\n",
            "  3.87000000e+02  5.00700000e+03  5.40000000e+06  6.40000000e+05\n",
            "  6.50000000e+04  1.70360000e+04  5.50000000e+04  1.30000000e+06\n",
            "  4.12000000e+04  8.00000000e+05  7.11750000e+05  2.20000000e+01\n",
            "  3.55000000e+05  1.50300000e+03  1.53000000e+05  1.92932700e+06\n",
            "  3.21260000e+04  2.64000000e+04  1.34110500e+06  9.47500000e+03\n",
            "  1.05200000e+03  5.25150000e+04  2.18650000e+04  1.68000000e+05\n",
            "  2.90000000e+04  4.20000000e+05  5.54500000e+04  2.82000000e+03\n",
            "  1.27000000e+02  4.30000000e+05  9.80000000e+04  1.35000000e+04\n",
            "  3.27000000e+04  9.88000000e+02  1.45000000e+04  4.80000000e+03\n",
            "  2.32600000e+05  8.20000000e+05  1.85000000e+05  4.50000000e+01\n",
            "  1.60000000e+07  1.39000000e+05  1.60000000e+06  3.80000000e+05\n",
            "  2.70000000e+04  3.85714000e+05  4.67741000e+05  3.62000000e+05\n",
            "  4.30000000e+06  2.73000000e+05  4.22500000e+03  1.27000000e+05\n",
            "  1.69000000e+05  7.00000000e+07  2.70000000e+06  1.00600000e+04\n",
            "  1.66666700e+04  1.10000000e+06  5.95000000e+05  3.10000000e+05\n",
            "  1.14600000e+04  1.90000000e+07  7.08880000e+04  1.49500000e+05\n",
            "  3.70700000e+03  4.16666667e+04  2.10600000e+06  3.70000000e+05\n",
            "  3.30000000e+03  5.70000000e+02  1.06000000e+06  5.16000000e+02\n",
            "  9.30000000e+05  1.06000000e+05  2.16000000e+05  2.14000000e+05\n",
            "  5.40000000e+04  2.14000000e+07  5.80000000e+04  1.87500000e+05\n",
            "  6.60700000e+06  2.10000000e+05  9.60000000e+04  2.00000000e+07\n",
            "  2.33380000e+05  9.27550000e+04  1.14390000e+04  2.70000000e+09\n",
            "  3.79000000e+05  5.82200000e+03  4.18000000e+05  2.20000000e+05\n",
            "  8.40000000e+04  7.14280000e+04  8.92800000e+03  7.20000000e+04\n",
            "  1.13207600e+06  5.71400000e+03  2.25000000e+06  1.66700000e+05\n",
            "  5.70000000e+05  1.62600000e+06  3.40000000e+06  1.02180000e+04\n",
            "  4.40000000e+03  8.82350000e+04  1.18900000e+04  2.87000000e+03\n",
            "  3.73000000e+05  3.40000000e+03  7.90600000e+03  3.01440000e+04\n",
            "  7.10000000e+05  1.89000000e+04  1.78000000e+05  7.10000000e+04\n",
            "  6.52000000e+08  1.66060000e+04  9.84500000e+03  1.42000000e+05\n",
            "  7.40000000e+03  1.55000000e+08  6.60000000e+03  2.37000000e+03\n",
            "  1.42230000e+04  1.07912000e+09  7.90000000e+04  6.75400000e+04\n",
            "  2.02600000e+04  2.95000000e+07  1.74750000e+04  1.86401900e+06\n",
            "  2.15000000e+04  2.10000000e+07  9.50000000e+03  4.65000000e+03\n",
            "  1.86046500e+06  1.21138800e+06  2.32558000e+05  4.02400000e+03\n",
            "  1.61031000e+05  6.19075000e+05  1.93098000e+05  2.40000000e+07\n",
            "  9.90220000e+05  1.32000000e+05  1.17700000e+06  5.13000000e+05\n",
            "  1.68959300e+06  1.26000000e+05  8.60000000e+01  2.87000000e+04\n",
            "  1.75000000e+03  1.04169600e+06  1.35000000e+02  9.59000000e+05\n",
            "  9.94412000e+05  3.31243400e+06  3.50000000e+08  2.04415950e+05\n",
            "  4.68010000e+02  2.23813790e+05  1.34228000e+05  2.37183000e+03\n",
            "  2.90000000e+06  2.07497000e+05  7.30000000e+07  6.66666666e+04\n",
            "  9.35000000e+05  6.20000000e+03  3.66000000e+05  9.25900000e+04\n",
            "  1.32000000e+04  6.60000000e+06  1.30000000e+07]\n",
            "Unique values in 'propcomment': [nan 'Three transformers were damaged.'\n",
            " 'Basketball courts, weight room, swimming pool, gymnastic equipment, and lockers were destroyed.'\n",
            " ... 'The bomb damaged one vehicle.' 'One Jeep was damaged in the attack.'\n",
            " 'A cinema sustained damage in the attack.']\n",
            "Unique values in 'ishostkid': [ 0.  1. nan -9.]\n",
            "Unique values in 'nhostkid': [      nan  1.00e+00  5.00e+00  1.30e+01  1.29e+02  6.00e+01  2.00e+00\n",
            "  5.50e+01 -9.90e+01  1.55e+02  1.75e+02  3.00e+00  4.40e+01  4.00e+00\n",
            "  6.00e+00  2.40e+01  1.87e+02  6.10e+01  1.20e+01  2.00e+01  1.10e+01\n",
            "  1.00e+01  4.00e+01  1.40e+02  5.00e+01  3.00e+01  1.40e+01  7.00e+00\n",
            "  1.60e+01  1.02e+02  1.80e+01  8.00e+00  3.50e+01  5.30e+01  2.60e+01\n",
            "  3.10e+01  8.70e+01  2.50e+01  2.57e+02  9.20e+01  9.00e+01  1.10e+02\n",
            "  6.40e+01  2.42e+02  1.46e+02  1.00e+02  4.50e+01  3.40e+01  7.00e+01\n",
            "  5.60e+01  1.20e+03  2.50e+02  1.30e+02  8.20e+01  1.30e+03  1.70e+01\n",
            "  3.60e+01  2.30e+01  4.00e+03  1.35e+02  1.86e+02  2.00e+02  5.00e+02\n",
            "  1.50e+01  2.10e+01  2.70e+01  9.00e+00  5.40e+01  1.13e+02  2.15e+02\n",
            "  1.19e+02  3.90e+01  1.17e+02  4.80e+01  2.63e+02  1.28e+02  2.70e+02\n",
            "  2.80e+01  6.90e+01  7.30e+01  6.20e+01  3.80e+01  1.00e+03  3.90e+02\n",
            "  1.89e+02  5.00e+03  1.00e+04  1.70e+04  1.50e+02  7.70e+01  1.42e+02\n",
            "  6.00e+02  2.64e+02  7.90e+01  1.18e+02  1.20e+02  1.31e+02  1.27e+02\n",
            "  8.00e+01  1.61e+02  2.20e+01  3.30e+01  9.70e+01  7.40e+01  1.53e+02\n",
            "  4.20e+02  4.90e+01  9.80e+01  1.70e+02  4.00e+02  5.70e+01  3.20e+01\n",
            "  3.70e+01  4.30e+01  1.56e+02  1.12e+02  1.90e+01  1.60e+02  2.07e+02\n",
            "  1.25e+02  1.04e+02  2.90e+01  1.37e+02  1.44e+02  1.05e+02  8.80e+01\n",
            "  1.15e+02  4.60e+01  8.30e+01  1.39e+02  3.00e+02  7.80e+01  7.20e+01\n",
            "  1.64e+02  4.20e+01  8.50e+01  1.07e+02  2.00e+03  3.64e+02  2.98e+02\n",
            "  1.94e+02  1.16e+02  1.99e+02  2.01e+02  7.50e+01  2.32e+02  1.58e+02\n",
            "  5.03e+02  4.70e+01  4.10e+01  1.68e+02  7.50e+02  1.51e+02  3.29e+02\n",
            "  1.65e+02  9.10e+01  1.74e+02  1.90e+02  5.90e+01  9.12e+02  2.67e+02\n",
            "  6.50e+01  1.69e+02  1.83e+02]\n",
            "Unique values in 'nhostkidus': [ nan   0.   1.  13. -99.   2.   4.  11.  50.   3.  30.   6.   9.  70.\n",
            "  10.  66.   5.   8.  21.  19.  35.  15.   7.  56.  86.  54.  38.  17.]\n",
            "Unique values in 'nhours': [      nan  0.00e+00  2.20e+01  1.70e+01  2.00e+00  1.80e+01 -9.90e+01\n",
            "  1.50e+01  1.00e+00  5.00e+00  3.00e+01  8.00e+00  1.00e+01  2.50e-01\n",
            "  6.00e+00  3.00e+00  4.00e+00  1.20e+01  9.99e+02  7.20e+01  3.70e+01\n",
            "  1.40e+01  5.00e-01  3.60e+01  1.60e+01  2.40e+01  1.90e+01  2.60e+01\n",
            "  9.00e+00  2.00e+01  7.00e+00 -9.00e+00]\n",
            "Unique values in 'ndays': [       nan  2.000e+00  4.000e+00  1.700e+01  1.000e+00  5.000e+00\n",
            "  0.000e+00  3.000e+00  7.000e+00  6.000e+00  2.020e+02  1.000e+01\n",
            "  8.000e+00  5.900e+01  2.300e+01  4.200e+01  1.410e+02  2.100e+01\n",
            "  1.200e+01  6.300e+01  4.000e+01  1.300e+01  1.540e+02  1.800e+02\n",
            "  9.500e+01  1.350e+02  4.100e+01  8.000e+01  2.600e+01  1.900e+01\n",
            "  2.700e+01  6.200e+01  2.900e+02  3.000e+01  8.900e+01  1.170e+02\n",
            "  3.500e+01  1.910e+02  6.100e+01  2.900e+01  1.500e+01  1.620e+02\n",
            "  6.000e+01  1.200e+02  3.650e+02  4.800e+01  1.070e+02  7.520e+02\n",
            "  2.800e+01  2.580e+02  1.010e+02  1.800e+01  8.500e+01  3.800e+01\n",
            "  2.000e+01  2.200e+01  1.090e+02  8.800e+01  2.400e+01  5.500e+01\n",
            "  3.700e+01  1.400e+01  9.300e+01  1.610e+02  5.000e+01  5.200e+01\n",
            "  2.160e+02  4.500e+01  8.700e+01  9.100e+01  1.240e+02  9.000e+00\n",
            "  4.300e+01  1.020e+02  1.100e+01  3.200e+01  3.300e+01  4.700e+01\n",
            "  9.900e+01  5.670e+02  3.800e+02  2.454e+03 -9.900e+01  1.140e+02\n",
            "  1.935e+03  9.000e+01  3.370e+02  1.759e+03  1.600e+01  6.100e+02\n",
            "  3.150e+02  1.720e+02  5.290e+02  2.490e+02  3.930e+02  1.730e+02\n",
            "  6.700e+01  5.600e+01  8.400e+01  1.920e+02  6.500e+01  1.470e+02\n",
            "  1.190e+02  6.400e+02  3.100e+01  4.400e+01  5.400e+01  6.900e+01\n",
            "  1.870e+02  4.900e+01  7.500e+01  5.100e+01  5.700e+01  8.100e+01\n",
            "  4.600e+01  4.920e+02  5.160e+02  1.060e+02  3.100e+02  1.000e+02\n",
            "  2.120e+02  1.130e+02  5.020e+02  5.310e+02  2.200e+02  1.280e+02\n",
            "  2.470e+02  1.400e+02  2.850e+02  2.050e+02  1.530e+02  7.800e+01\n",
            "  6.400e+01  2.500e+01  1.030e+02  2.640e+02  2.610e+02  3.900e+01\n",
            "  2.440e+02  3.300e+02  9.400e+01  1.790e+02  2.080e+02  1.220e+02\n",
            "  1.150e+02  2.320e+02  3.400e+01  1.500e+02  1.970e+02  6.800e+01\n",
            "  3.600e+02  1.120e+02  3.600e+01  4.500e+02  7.000e+01  1.380e+02\n",
            "  7.100e+01  2.280e+02  3.730e+02  2.690e+02  3.700e+02  1.680e+02\n",
            "  9.700e+01  2.700e+02  1.474e+03  3.790e+02  4.100e+02  3.110e+02]\n",
            "Unique values in 'divert': [nan 'Beirut' 'Cambodia' 'South Korea' 'Jordan' 'Egypt' 'England'\n",
            " 'Arrested before boarding' 'Iraq' 'Libya' 'China' 'Yemen' 'Bulgaria'\n",
            " 'Lod Airport in Israel' 'Spain' 'Cuba' 'United Arab Emirates' 'Kuwait'\n",
            " 'Netherlands' 'Tunisia' 'Iran' 'Zamboanga Philippines' 'Uganda' 'Paris'\n",
            " 'Qatar' 'Peru' 'Italy' 'Algeria' 'Somalia' 'Singapore' 'Cyprus'\n",
            " 'Stockholm' 'San Jose, Costa Rica' 'Ireland' 'Cologne' 'Malta' 'Teheran'\n",
            " 'Cuba, Havana' 'unknown' 'Diyarbakir, Turkley for refueling'\n",
            " 'Brussels (to a broadcasting centre)' 'Cuba (Havana)'\n",
            " 'Higuerote, 110km NE of Caracus' 'Havana, Cuba' 'Cucuta'\n",
            " 'no (police foiled operation)' 'Kabul, Afghanistan- Damascus, Syria'\n",
            " 'Managua Nicaragua to Panama' 'Bangkok, Thailand' 'France'\n",
            " 'Tangiers, Morocco' 'Tel Aviv' 'Lakore, Pakistan'\n",
            " 'Guajira Peninsula in N. Colombia' 'Colombia'\n",
            " 'Costa Rica, Juan Santamaria Airport' 'Costa Rica, San Jose' 'Durban, SA'\n",
            " 'Lebanon' 'Guatemala city, Panama, Havana' 'Bogota, Cali'\n",
            " 'Nairobi, Kenya, Jidda, Saudi Arabia, Athens, *' 'Tegucigalpa'\n",
            " 'Amristar, India' 'Djibouti, Africa' 'Mexico'\n",
            " 'Greece, Athens-Ellinikon Airport' 'Larnaca, Cyprus' 'Paris, France'\n",
            " 'Beneva, Sicily, Damascus, Teheran' 'West Bank and Gaza Strip'\n",
            " 'Pakistan, Lahore' 'Trinidad-This; Aruba-12 hrs; Curacas'\n",
            " 'Pakistan (Lahore, Karachi) Dubai' 'Baghdad' 'Teheran, Iran'\n",
            " 'Addis Ababa, Ethiopia (Bole international airport)' 'Tehran airport'\n",
            " 'Vienna, Austria' 'Amalfi' 'Kasese' 'Prague to Karolovy Vary Flight'\n",
            " 'En route Nickerie to Paramaribo' 'Fukuoka, Japan' 'Bandar Abbas'\n",
            " 'Finland' 'Calcutta, India' 'Lima' 'Medellin'\n",
            " 'Singapore s Changi Airport' 'United States' 'strip near Neiva'\n",
            " 'Djibouti' 'Saudi Arabia' 'Russia' 'Madrid' 'Nairobi, Kenya' 'Moscow'\n",
            " 'Ho Chi Minh City' 'Afghanistan' 'Rome, Italy' 'Taiwan' 'Alicante, Spain'\n",
            " 'Luxor, Egypt' 'Sanaa, Yemen' 'Salonika' 'Estonia' 'not stated'\n",
            " 'Marseilles' 'Port Sudan' 'Sudan' 'Johannesburg, South Africa' 'Geneva'\n",
            " 'Greece' 'Unknown' 'Miami, Florida, USA' 'Great Britain'\n",
            " 'Varna, Bulgaria' 'Germany' 'India' 'Tanzania' 'Angola' 'Uzbekistan'\n",
            " 'Bangladesh' 'Philippines' 'Sierra Leone' 'Ethiopia' 'Burundi' 'Congo'\n",
            " 'Gambia' 'Mali']\n",
            "Unique values in 'kidhijcountry': [nan 'Mexico' 'Beirut' 'Venezuela' 'Spain' 'Guatemala' 'Brazil' 'Ethiopia'\n",
            " 'Cambodia' 'Dominican Republic' 'Argentina' 'South Korea' 'Jordan'\n",
            " 'Colombia' 'Bolivia' 'Greece' 'Nicaragua' 'Uruguay' 'Egypt' 'England'\n",
            " 'Great Britain' 'Arrested before boarding' 'Canada' 'Iraq' 'Iran'\n",
            " 'Zambia' 'Libya' 'Turkey' 'Costa Rica' 'China' 'Northern Ireland' 'Yemen'\n",
            " 'Bulgaria' 'Lod Airport in Israel' 'United States' 'France' 'Cuba'\n",
            " 'West Germany (FRG)' 'Haiti' 'Myanmar' 'Austria' 'United Arab Emirates'\n",
            " 'Kuwait' 'Italy' 'Netherlands' 'Chad' 'Thailand' 'Lebanon' 'Japan'\n",
            " 'East Germany (GDR)' 'Tunisia' 'Somalia' 'Tanzania' 'Ireland'\n",
            " 'Philippines' 'Morocco' 'Portugal' 'Zamboanga Philippines' 'Uganda'\n",
            " 'El Salvador' 'Paris' 'Republic of the Congo' 'Mauritania'\n",
            " 'Democratic Republic of the Congo' 'Qatar' 'Peru' 'Algeria' 'Ecuador'\n",
            " 'Djibouti' 'Singapore' 'Cyprus' 'Rhodesia' 'Belgium' 'Western Sahara'\n",
            " 'Indonesia' 'Jamaica' 'Afghanistan' 'Stockholm' 'Namibia'\n",
            " 'San Jose, Costa Rica' 'Israel' 'Cologne' 'Malta' 'Puerto Rico' 'Corsica'\n",
            " 'Teheran' 'Cuba, Havana' 'Honduras' 'unknown'\n",
            " 'Diyarbakir, Turkley for refueling' 'Brussels (to a broadcasting centre)'\n",
            " 'Cuba (Havana)' 'Higuerote, 110km NE of Caracus' 'Havana, Cuba' 'Syria'\n",
            " 'Cucuta' 'no (police foiled operation)'\n",
            " 'Kabul, Afghanistan- Damascus, Syria' 'Managua Nicaragua to Panama'\n",
            " 'Bangkok, Thailand' 'Guyana' 'Tangiers, Morocco' 'Tel Aviv'\n",
            " 'Lakore, Pakistan' 'Guajira Peninsula in N. Colombia'\n",
            " 'Costa Rica, Juan Santamaria Airport' 'Costa Rica, San Jose' 'Durban, SA'\n",
            " 'Guatemala city, Panama, Havana' 'Mozambique' 'Bogota, Cali'\n",
            " 'Nairobi, Kenya, Jidda, Saudi Arabia,' 'Tegucigalpa' 'Zimbabwe'\n",
            " 'Amristar, India' 'Angola' 'Djibouti, Africa'\n",
            " 'Greece, Athens-Ellinikon Airport' 'Sudan' 'Larnaca, Cyprus'\n",
            " 'Paris, France' 'Beneva, Sicily, Damascus, Teheran' 'India'\n",
            " 'West Bank and Gaza Strip' 'Sri Lanka' 'Chile' 'Pakistan, Lahore'\n",
            " 'Trinidad-This; Aruba-12 hrs; Curacas' 'Pakistan (Lahore, Karachi) Dubai'\n",
            " 'Baghdad' 'Teheran, Iran' 'Addis Ababa, Ethiopia (Bole internati'\n",
            " 'Tehran airport' 'Vienna, Austria' 'Saudi Arabia' 'Amalfi' 'Kasese'\n",
            " 'Swaziland' 'Suriname' 'Pakistan' 'Switzerland' 'New Caledonia'\n",
            " 'Bangladesh' 'Lesotho' 'South Africa' 'Laos' 'Czechoslovakia'\n",
            " 'Prague to Karolovy Vary Flight' 'En route Nickerie to Paramaribo'\n",
            " 'Fukuoka, Japan' 'Bandar Abbas' 'Papua New Guinea' 'Liberia' 'Panama'\n",
            " 'Soviet Union' 'Finland' 'Calcutta, India' 'Lima' 'Medellin'\n",
            " 'Singapore s Changi Airport' 'Sierra Leone' 'Belize' 'Yugoslavia'\n",
            " 'Georgia' 'strip near Neiva' 'Azerbaijan' 'Togo' 'Kazakhstan' 'Niger'\n",
            " 'Russia' 'Madrid' 'Nairobi, Kenya' 'Moldova' 'Nigeria' 'Moscow' 'Senegal'\n",
            " 'Madagascar' 'Ho Chi Minh City' 'Tajikistan' 'Bosnia-Herzegovina'\n",
            " 'Rome, Italy' 'Germany' 'Taiwan' 'Alicante, Spain' 'Ivory Coast'\n",
            " 'Luxor, Egypt' 'Sanaa, Yemen' 'New Zealand' 'Hong Kong' 'Norway'\n",
            " 'Salonika' 'Estonia' 'not stated' 'Marseilles' 'Port Sudan' 'Cameroon'\n",
            " 'Eritrea' 'Denmark' 'Johannesburg, South Africa' 'Geneva' 'Benin'\n",
            " 'Guadeloupe' 'Miami, Florida, USA' 'Ukraine' 'Varna, Bulgaria' 'Vanuatu'\n",
            " 'Paraguay' 'Albania' 'Unknown' 'United Kingdom' 'International' 'Burundi'\n",
            " 'Congo' 'Russian Federation' 'Palestine' 'Nepal']\n",
            "Unique values in 'ransom': [ 0.  1. nan -9.]\n",
            "Unique values in 'ransomamt': [         nan  8.00000e+05  1.10000e+05  0.00000e+00  7.00000e+05\n",
            "  1.20000e+04  1.50000e+04  2.50000e+05  1.00000e+05  4.00000e+05\n",
            "  8.00000e+04  5.00000e+06  1.00000e+06  2.20000e+05  5.00000e+05\n",
            "  4.00000e+04  1.05000e+05  3.20000e+05  2.50000e+04  1.00000e+07\n",
            "  2.00000e+04  1.50000e+06  2.00000e+05  1.68000e+05  1.14500e+06\n",
            "  1.42000e+07  3.00000e+06  6.21000e+05  6.10000e+07  1.33000e+04\n",
            "  2.70000e+04  2.00000e+07  3.40000e+06  3.00000e+05  3.75000e+05\n",
            "  4.08000e+05  2.80000e+04  1.40000e+05  1.30000e+06  5.07000e+06\n",
            "  1.40000e+07  4.37000e+05  2.10000e+06  1.94000e+05  5.00000e+04\n",
            "  1.35000e+06  4.77950e+05  6.00000e+06  3.50000e+05  1.50000e+07\n",
            "  6.00000e+05  2.20000e+06  1.07000e+07  5.30000e+04  7.40000e+05\n",
            "  6.00000e+04  1.30000e+05  3.10000e+05  4.00000e+06  1.40000e+06\n",
            "  1.50000e+05  2.60000e+05  8.20000e+07  1.30000e+07  1.00000e+09\n",
            "  7.50000e+04  2.10000e+04  2.00000e+06  8.70000e+04  4.40000e+04\n",
            "  1.25000e+05  8.00000e+06  2.30000e+06  3.60000e+04  5.90000e+05\n",
            "  1.42000e+05  4.50000e+05  1.10000e+06  1.00000e+04  7.50000e+05\n",
            "  1.54000e+05  2.40000e+05  4.15000e+05  1.20000e+06  5.00000e+07\n",
            "  1.25000e+04  4.35000e+05  4.30000e+06  9.26000e+05  9.00000e+05\n",
            "  3.00000e+07  8.34000e+05  2.50000e+06  1.20000e+05  9.99000e+02\n",
            "  5.00000e+03  7.50000e+06  2.50000e+07  3.90000e+05  2.40000e+06\n",
            "  8.40000e+06  2.40000e+04  1.70000e+07  4.60000e+04  3.30000e+06\n",
            "  2.80000e+06  5.10700e+06  2.18000e+05  3.57000e+04  1.79000e+05\n",
            "  3.55000e+05  1.00000e+00  7.10000e+04  1.15000e+05  3.42000e+05\n",
            "  6.20000e+04  1.72000e+03  1.00000e+08  1.80000e+06  2.12000e+05\n",
            "  7.00000e+06  5.80000e+06  3.70000e+05  4.61500e+05  1.80600e+05\n",
            "  1.28000e+06  3.00000e+04  4.16660e+04  3.20000e+04  2.07641e+05\n",
            "  6.30000e+05  1.93000e+04  1.94332e+05  2.60000e+07  3.10000e+03\n",
            "  3.90000e+03  7.80000e+04  1.90000e+06  1.70000e+04  5.72210e+04\n",
            "  4.00000e+03  5.80000e+05  1.20000e+07  5.55000e+05  3.85000e+04\n",
            "  3.84000e+05  1.91000e+05  2.00000e+03  6.82000e+05  2.62000e+06\n",
            "  5.70600e+03  3.85000e+05  1.92000e+05  3.55000e+04  5.65000e+04\n",
            "  1.15384e+05  4.71920e+04  5.66300e+04  1.90440e+05  2.65836e+05\n",
            "  5.79000e+05  1.23000e+06  5.80000e+07  1.86000e+03  9.00000e+03\n",
            "  1.02500e+07  8.24640e+04  9.43430e+04  2.42317e+05  8.07750e+04\n",
            "  1.43000e+05  2.61136e+05  4.50000e+03  1.10000e+07  8.10000e+03\n",
            " -9.90000e+01  1.03300e+05  1.98000e+06  1.50000e+03  2.00000e+08\n",
            "  1.20000e+03  4.76190e+05  1.17000e+05  2.30600e+05  2.25174e+05\n",
            "  1.60000e+06 -9.00000e+00  3.40000e+04  1.27621e+05  6.15260e+04\n",
            "  1.03300e+03  2.12800e+05  1.88400e+06  1.78000e+05]\n",
            "Unique values in 'ransomamtus': [       nan  2.000e+04  0.000e+00 -9.900e+01  4.000e+05  6.000e+04\n",
            "  1.000e+05  2.000e+05  3.000e+06  5.000e+06  6.000e+06  2.000e+06\n",
            "  3.000e+05  1.884e+06  1.500e+07]\n",
            "Unique values in 'ransompaid': [         nan  1.10000e+05  1.20000e+04  1.50000e+04  1.00000e+05\n",
            "  4.00000e+05  8.00000e+04  0.00000e+00  2.20000e+05  4.00000e+04\n",
            "  2.50000e+04  1.00000e+07  2.00000e+04  1.00000e+06  7.00000e+05\n",
            "  5.00000e+06  1.50000e+06  1.15000e+06  1.42000e+07  5.00000e+05\n",
            "  6.21000e+05  4.10000e+07  1.33000e+04  2.70000e+04  2.00000e+06\n",
            "  4.08000e+05  1.40000e+05  1.30000e+06  8.57140e+04  5.07000e+06\n",
            "  2.10000e+06  5.10000e+05  2.20000e+06  1.07000e+07  5.30000e+04\n",
            "  5.71420e+04  1.25000e+05  7.50000e+04  5.00000e+04  4.50000e+04\n",
            "  8.00000e+05  2.30000e+06  3.60000e+04  3.85000e+04  1.40000e+06\n",
            "  6.60000e+04  9.99000e+02  1.20000e+05  2.40000e+04  2.00000e+00\n",
            "  2.50000e+06  3.57000e+04  6.00000e+06  7.50000e+06  6.20000e+04\n",
            "  3.00000e+07  8.00000e+06  2.40000e+05  7.40000e+03  2.63250e+04\n",
            "  1.95000e+05  3.85000e+05  1.95000e+07  2.00000e+05  1.91000e+05\n",
            "  2.62000e+06  1.30000e+03  9.00000e+04  4.12320e+05  9.43430e+04\n",
            "  2.42317e+05 -9.90000e+01  4.80000e+04  2.60000e+04  2.30600e+05\n",
            " -9.00000e+00  3.69000e+06  1.70000e+06  1.00000e+04  1.72500e+03]\n",
            "Unique values in 'ransompaidus': [        nan  0.0000e+00  2.6325e+04  4.0000e+04  6.5000e+02 -9.9000e+01\n",
            "  4.8000e+04 -9.0000e+00  1.0000e+04]\n",
            "Unique values in 'ransomnote': [nan\n",
            " 'A note, with a sticker of the Black Liberation Army, demanded $20,000 for the safe return of the bartender.  However, the perpetrators left the bartender alone and he was able to escape.'\n",
            " 'Perpetrators demanded support by the Dutch in the UN for independence for the Moluccan Islands.'\n",
            " 'The gunmen demanded the release of 21 South Moluccans jailed in the Netherlands on terrorism charges.  They also demanded a plane to transport themselves and the jailed individuals to an unspecified location.'\n",
            " 'Demand access to the airport.'\n",
            " 'Assailants demanded the release of prisoners'\n",
            " 'The perpetrators demanded that Russians forces stop shelling the town of Pervomayskaya.'\n",
            " 'Reports on whether or not ransom was paid were conflicting.'\n",
            " 'Two ransoms were demanded in this incident, for a total of $2,500,000 ($500,000 for hostage number one, Edward Leonard, and $2 million for hostage number 2, Norbert Reinhart).'\n",
            " 'The note, left in an envelope, said the plane would be blown up unless a ransom of 621,000 rubles ($100,000) was placed in the toilet and the aircraft belonging to East-Line Airlines allowed to fly out of Russia.  The note said there were several remote-control bombs on the plane, while the hijacker was armed with a grenade.'\n",
            " '5 Million Philippine Pesos [converted to 2009 USD]'\n",
            " 'The ransom was only demanded for one of the Spanish hostages.'\n",
            " 'This kidnapping was a financing operation for ELN and FARC. No specific information was given on the ransom.'\n",
            " 'This kidnapping was a financing operation for FARC. No specific information was given on the ransom.'\n",
            " 'The ransom note was sent to the family for 5 million Philippine Pesos. [converted to 2009 USD]'\n",
            " 'The perpetrators demanded the release of  Islamic extremists held in Uzbek prisons.'\n",
            " \"While Downey's body was found 15 hours after his abduction, it is unclear when he died and hence how long the kidnapping incident lasted.\"\n",
            " 'It was not known whether a ransom was demanded.'\n",
            " 'The ransom was never paid.'\n",
            " 'Reports did not specify the amount of ransom requested.' 'No'\n",
            " 'One hostage was killed on day 1. Ransom demand included $200 million (U.S.), the body of a dead comrade, and the release of a Muslim cleric and 35 other militants held in Indian jails. They settled for the release of three prominent militants: Maulana Masood Azhar, Mohammad Omar Syed, and Mushtaq Ahmad Zarzar.  One of the released was a cleric who leads a group seeking independence for Indian-held Kashmir.'\n",
            " 'None' 'Unknown'\n",
            " 'The victim was told that she was on a death list, as was four other journalists.'\n",
            " 'The ransom note, demanding 10 million rupees, was sent by way of release of other hostages'\n",
            " 'In addition to money, the abductors also made a variety of political demands, including the release of prisoners'\n",
            " \"Drummond Company stated during the kidnapping that they would not pay any ransom.  However, there was no mention of ransom paid in reports of the hostages' releases.\"\n",
            " 'Azad made a list of seven demands: 1) eradicate corruption from society, 2) salary and wage rises for the Police Force, 3) execution for Policemen found taking bribes, 4) closing all tobacco industries and advertisements in Bangladesh, 5) a fine of Taka 1'\n",
            " \"The kidnapper's demands included the implementation of two drinking water projects and the reinstatement of tribe members to the civil and military jobs, from which they had been dismissed.\"\n",
            " 'The abductors demanded the release of prisoners'\n",
            " 'The group also demanded a halt to logging by the firm and the removal of police forces from the region.'\n",
            " 'The captors asked for employment in return for the the release of the captive.'\n",
            " 'The captors asked for schools and development projects in return for the the release of the captive.'\n",
            " 'The hostages were only held a few hours before they were killed.' '0'\n",
            " '-9'\n",
            " 'The assailants demanded the removal of government troops from Congo in exchange for the release of the hostages.'\n",
            " 'Gracia Burham later stated that although ransom was paid for her and her husband, the ASG refused to release them.'\n",
            " 'Philippino President Gloria Arroyo refused to pay any ransom from the very beginning of the conflict, although it is possible that ransom was paid for some of the hostages by their relatives: $100000 - 200000 per person.  Many of those taken hostage in the initial attack escaped or were freed during government offensives during the following year.'\n",
            " 'Philippino President Gloria Arroyo refused to pay any ransom for hostages taken in the attck, although it is possible that ransom was paid for some of the hostages by their relatives: $100000 - 200000 per person.'\n",
            " 'Ransom: 30 million dinar.'\n",
            " 'One of the people who had to collect the money demanded by the kidnappers warned the military, which immediately proceeded to carry out the rescue operation, according to the military report.'\n",
            " '160,000 Cdn [converted to 2009 USD]'\n",
            " 'Chechen law-enforcement carried out search operations.'\n",
            " 'A letter was mailed to the provincial governor with the ransom demand.'\n",
            " 'The assailants demanded the release of ten of their people'\n",
            " 'P50,000 [converted to 2009 USD]'\n",
            " 'Whether any ransom had been asked or paid was not reported.'\n",
            " 'It was reported that the perpetrators demanded one million dollars for each hostage.'\n",
            " 'The assailants demanded that a rival paramilitary leader be killed'\n",
            " 'The kidnappers demanded that six Taliban members be freed from prison.'\n",
            " \"The kidnapper called Francis Ngajokpa stating that he would release the minister's daughter for an undisclosed ransom amount.\"\n",
            " 'N260,000,000'\n",
            " 'The group released one hostage a head of the rest to relay the demand.'\n",
            " 'The kidnappers were demanding the release of two Taliban fighters in exchange for the hostages.'\n",
            " 'Ransom was not in a nominal amount. It was for the immediate removal of Italian forces in Southern Iraq, specifically around Nasiriyah.'\n",
            " 'Ansar E-Din wanted the release of Muslim prisoners in Iraq who were detained by US led coalition.'\n",
            " 'The ransom was not paid by Indonesia or Malaysia.'\n",
            " 'The \"ransom\" demanded on video was the departure of the Turkish truck driver\\'s company from Iraq.'\n",
            " 'In addition to the ransom, the kidnappers demanded the release of at least four prisoners from Abu Ghraib prison in Iraq.'\n",
            " 'The group demanded the resignation of President Alejandro Toledo.'\n",
            " 'Demanded release of one thousand Palestinian prisoners in exchange for her release.']\n",
            "Unique values in 'hostkidoutcome': [nan  2.  5.  4.  3.  7.  6.  1.]\n",
            "Unique values in 'hostkidoutcome_txt': [nan 'Hostage(s) released by perpetrators' 'Successful Rescue'\n",
            " 'Hostage(s) killed (not during rescue attempt)'\n",
            " 'Hostage(s) escaped (not during rescue attempt)' 'Unknown' 'Combination'\n",
            " 'Attempted Rescue']\n",
            "Unique values in 'nreleased': [ nan   1.   5.  60.  10. 155. 175.   3.   4.   6.  26. 187. 105.   2.\n",
            "  82.  13.  48. -99.  16.   8.  23.  25.  92.   7.  12.  70.  56.  14.\n",
            "  34.   0.  66.  44.  30. 137.  18. 110. 147.  43.  50.  54. 113. 215.\n",
            "  79.  38. 102. 138. 100.  90.   9.  21. 114. 390. 189. 264.  46. 118.\n",
            " 131. 127. 157.  33.  97.  71. 161. 152.  22. 125. 151. 129.  42.  31.\n",
            "  32. 162.  88. 144. 115.  19.  40.  11. 130. 139. 156.  27. 164.  69.\n",
            "  36. 107. 199. 201.  15.  80.  47.  20.  17.  83.  24.  64. 230.  81.\n",
            " 188. 750.  39. 496. 165.  91. 172. 104.  51. 190.  41.  28.  62.  29.\n",
            "  61. 780. 267. 183. 856. 207.]\n",
            "Unique values in 'addnotes': [nan\n",
            " 'The Cairo Chief of Police, William Petersen, resigned as a result of the attack.'\n",
            " 'Damages were estimated to be between $20,000-$25,000.' ...\n",
            " 'Abu Sayyaf Group was known to have connections with Al-Qaida during the time of this attack.'\n",
            " \"Abu-Musab al-Zarqawi's group claimed responsibility for the attack which it said was a suicide operation against those whom it called cowardly mercenaries.\"\n",
            " 'The exact location of the attack was not indicated in the article describing the attack.']\n",
            "Unique values in 'scite1': [nan '\"Police Chief Quits,\" Washington Post, January 2, 1970.'\n",
            " 'Committee on Government Operations United States Senate, \"Riots, Civil, and Criminal Disorders,\" U.S. Government Printing Office, August 6, 1970.'\n",
            " ...\n",
            " '\"One Civilian Killed, Three Soldiers Wounded in Bomb Explosion Near Morag,\\x94 Voice of Israel Network B, January 12, 2005.'\n",
            " '\"One US Soldier Killed in Al-Anbar, Three Iraqi Guardsmen Killed in Northern Iraq,\\x94 Al-Arabiyah Television, January 12, 2005.'\n",
            " '\\x93Bomb Attack on Mogadishu Cinema Hall Kills Three Soccer Fans,\\x94 Dayniile.com, January 13, 2005.']\n",
            "Unique values in 'scite2': [nan\n",
            " '\"Cairo Police Chief Quits; Decries Local \\'Militants\\',\" Afro-American, January 10, 1970.'\n",
            " 'Christopher Hewitt, \"Political Violence and Terrorism in Modern America: A Chronology,\" Praeger Security International, 2005.'\n",
            " ...\n",
            " '\"Abortion Clinic Fire in Olympia Ruled Arson,\" Seattle Post-Intelligencer, January 11, 2005.'\n",
            " 'Richard A. Oppel Jr. and Khalid Al-Ansary, \"Insurgents Kill Senior Official in Iraqi Police,\\x94 The New York Times, January 11, 2005.'\n",
            " '\"Al-Zarqawi Group Claims Attck on Tikrit Police Headquarters,\\x94 Al-Arabiyah Television, January 11, 2005.']\n",
            "Unique values in 'scite3': [nan\n",
            " 'Christopher Hewitt, \"Political Violence and Terrorism in Modern America: A Chronology,\" Praeger Security International, 2005.'\n",
            " 'The Wisconsin Cartographers\\' Guild, \"Wisconsin\\'s Past and Present: A Historical Atlas,\" The University of Wisconsin Press, 2002.'\n",
            " ...\n",
            " '\"Sri Lanka grenade attack kills 3 villagers, injures 38,\" AFX Asia, January 9, 2005.'\n",
            " 'Donna Gordon Blankinship, \"FBI Probes Fire at Clinic Where Abortions Were Performed,\" Associated Press, January 9, 2005.'\n",
            " '\\x93Eight Killed in Attack on Bus in Al-Yusufiyah,\\x94 Al-Jazirah Satellite Channel Television, January 11, 2005.']\n",
            "Unique values in 'dbsource': ['PGIS' 'Hewitt Project' 'Hijacking DB' 'CBRN Global Chronology' 'CAIN'\n",
            " 'HSI' 'Disorders and Terrorism Chronology' 'UMD Miscellaneous'\n",
            " 'State Department 1997 Document'\n",
            " 'UMD Encyclopedia of World Terrorism 2012' 'Hyland' 'Armenian Website'\n",
            " 'UMD Sri Lanka 2011' 'UMD South Africa' 'Anti-Abortion Project 2010'\n",
            " 'UMD Assassinations Project' 'Eco Project 2010' 'UMD Algeria 2010-2012'\n",
            " 'CETIS' 'Leuprecht Canadian Data' 'UMD Schmid 2012'\n",
            " 'UMD Black Widows 2011' 'Sageman' nan]\n",
            "Unique values in 'INT_LOG': [ 0. -9.  1. nan]\n",
            "Unique values in 'INT_IDEO': [ 0.  1. -9. nan]\n",
            "Unique values in 'INT_MISC': [ 0.  1. -9. nan]\n",
            "Unique values in 'INT_ANY': [ 0.  1. -9. nan]\n",
            "Unique values in 'related': [nan '197001300001, 197001300002' '197002030001, 197002030002' ...\n",
            " '200412100009, 200412100004, 200412100008' '200501020004, 200501020005'\n",
            " '200501020005, 200501020004']\n"
          ]
        }
      ]
    },
    {
      "cell_type": "markdown",
      "source": [
        "## 3. ***Data Wrangling***"
      ],
      "metadata": {
        "id": "dauF4eBmngu3"
      }
    },
    {
      "cell_type": "markdown",
      "source": [
        "### Data Wrangling Code"
      ],
      "metadata": {
        "id": "bKJF3rekwFvQ"
      }
    },
    {
      "cell_type": "code",
      "source": [
        "# Write your code to make your dataset analysis ready.\n",
        "df.dropna(inplace=True)\n",
        "\n",
        "df.drop_duplicates(inplace=True)\n",
        "\n",
        "# Convert 'date_column' to datetime type (if it exists)\n",
        "if 'date_column' in df.columns:\n",
        "    df['date_column'] = pd.to_datetime(df['date_column'])\n",
        "\n",
        "# Convert 'categorical_column' to 'category' type (if it exists)\n",
        "if 'categorical_column' in df.columns:\n",
        "    df['categorical_column'] = df['categorical_column'].astype('category')\n",
        "\n",
        "# Perform one-hot encoding on 'categorical_column' (if it exists)\n",
        "if 'categorical_column' in df.columns:\n",
        "    df_encoded = pd.get_dummies(df, columns=['categorical_column'])\n",
        "\n",
        "# Drop 'unwanted_column' (if it exists)\n",
        "if 'unwanted_column' in df.columns:\n",
        "    df.drop(['unwanted_column'], axis=1, inplace=True)\n",
        "\n",
        "# Set 'date_column' as the DataFrame index (if it exists)\n",
        "if 'date_column' in df.columns:\n",
        "    df.set_index('date_column', inplace=True)\n"
      ],
      "metadata": {
        "id": "wk-9a2fpoLcV"
      },
      "execution_count": 48,
      "outputs": []
    },
    {
      "cell_type": "markdown",
      "source": [
        "### What all manipulations have you done and insights you found?"
      ],
      "metadata": {
        "id": "MSa1f5Uengrz"
      }
    },
    {
      "cell_type": "markdown",
      "source": [
        "Answer Here."
      ],
      "metadata": {
        "id": "LbyXE7I1olp8"
      }
    },
    {
      "cell_type": "markdown",
      "source": [
        "## ***4. Data Vizualization, Storytelling & Experimenting with charts : Understand the relationships between variables***"
      ],
      "metadata": {
        "id": "GF8Ens_Soomf"
      }
    },
    {
      "cell_type": "markdown",
      "source": [
        "#### Chart - 1"
      ],
      "metadata": {
        "id": "0wOQAZs5pc--"
      }
    },
    {
      "cell_type": "code",
      "source": [
        "# Chart - 1 visualization code\n",
        "attacks_by_year = df['iyear'].value_counts().sort_index()\n",
        "\n",
        "# Create the line chart\n",
        "plt.figure(figsize=(12, 6))\n",
        "plt.plot(attacks_by_year.index, attacks_by_year.values, marker='o', linestyle='-', color='skyblue')\n",
        "plt.xlabel('Year')\n",
        "plt.ylabel('Number of Terrorist Attacks')\n",
        "plt.title('Total Number of Terrorist Attacks Worldwide (1970-2017)')\n",
        "plt.grid(True)\n",
        "plt.xticks(attacks_by_year.index, rotation=45)\n",
        "plt.tight_layout()\n",
        "plt.show()"
      ],
      "metadata": {
        "id": "7v_ESjsspbW7",
        "colab": {
          "base_uri": "https://localhost:8080/",
          "height": 607
        },
        "outputId": "91644303-0766-4a3b-c08d-383e6ee5d56f"
      },
      "execution_count": 62,
      "outputs": [
        {
          "output_type": "display_data",
          "data": {
            "text/plain": [
              "<Figure size 1200x600 with 1 Axes>"
            ],
            "image/png": "[encoded data removed]"
          },
          "metadata": {}
        }
      ]
    },
    {
      "cell_type": "markdown",
      "source": [
        "##### 1. Why did you pick the specific chart?"
      ],
      "metadata": {
        "id": "K5QZ13OEpz2H"
      }
    },
    {
      "cell_type": "markdown",
      "source": [
        "\n",
        "Because line chart isused to display data points over time and it is a suitable choice for showing trends and patterns in a continuous dataset like the total number of terrorist attacks over the years.."
      ],
      "metadata": {
        "id": "XESiWehPqBRc"
      }
    },
    {
      "cell_type": "markdown",
      "source": [
        "##### 2. What is/are the insight(s) found from the chart?"
      ],
      "metadata": {
        "id": "lQ7QKXXCp7Bj"
      }
    },
    {
      "cell_type": "markdown",
      "source": [
        "\n",
        "The gained insights from analyzing the chart can have both positive and negative impacts on businesses, depending on how they are interpreted and applied."
      ],
      "metadata": {
        "id": "C_j1G7yiqdRP"
      }
    },
    {
      "cell_type": "markdown",
      "source": [
        "##### 3. Will the gained insights help creating a positive business impact?\n",
        "Are there any insights that lead to negative growth? Justify with specific reason."
      ],
      "metadata": {
        "id": "448CDAPjqfQr"
      }
    },
    {
      "cell_type": "markdown",
      "source": [
        "The gained insights from analyzing the chart can have both positive and negative impacts on businesses, depending on how they are interpreted and applied.\n",
        "\n",
        "Positive impact are:- Risk Assessment and Mitigation, Insurance and Financial Planning, Targeted Marketing and Outreach\n",
        "\n",
        "Negative impact are:- Market Instability, Impact on Tourism and Hospitality, Infrastructure and Property Damage\n"
      ],
      "metadata": {
        "id": "3cspy4FjqxJW"
      }
    },
    {
      "cell_type": "markdown",
      "source": [
        "#### Chart - 2"
      ],
      "metadata": {
        "id": "KSlN3yHqYklG"
      }
    },
    {
      "cell_type": "code",
      "source": [
        "# Chart - 2 visualization code\n",
        "attacks_by_country = df['country_txt'].value_counts().nlargest(10)\n",
        "\n",
        "# Create the horizontal bar chart\n",
        "plt.figure(figsize=(10, 6))\n",
        "attacks_by_country.plot(kind='barh', color='skyblue')\n",
        "plt.xlabel('Number of Terrorist Attacks')\n",
        "plt.ylabel('Country')\n",
        "plt.title('Top 10 Countries with the Highest Number of Terrorist Attacks')\n",
        "plt.tight_layout()\n",
        "plt.show()"
      ],
      "metadata": {
        "id": "R4YgtaqtYklH",
        "colab": {
          "base_uri": "https://localhost:8080/",
          "height": 607
        },
        "outputId": "1591ddc8-eafd-4ac0-e3ef-3184d10b1c4e"
      },
      "execution_count": 63,
      "outputs": [
        {
          "output_type": "display_data",
          "data": {
            "text/plain": [
              "<Figure size 1000x600 with 1 Axes>"
            ],
            "image/png": "[encoded data removed]"
          },
          "metadata": {}
        }
      ]
    },
    {
      "cell_type": "markdown",
      "source": [
        "##### 1. Why did you pick the specific chart?"
      ],
      "metadata": {
        "id": "t6dVpIINYklI"
      }
    },
    {
      "cell_type": "markdown",
      "source": [
        "the horizontal bar chart is commonly preferred because of its advantages in readability and efficient comparison of data points."
      ],
      "metadata": {
        "id": "5aaW0BYyYklI"
      }
    },
    {
      "cell_type": "markdown",
      "source": [
        "##### 2. What is/are the insight(s) found from the chart?"
      ],
      "metadata": {
        "id": "ijmpgYnKYklI"
      }
    },
    {
      "cell_type": "markdown",
      "source": [
        "its clearly visible that IRAQ is the most effected country from terrorism whereas TURKEY is the least one"
      ],
      "metadata": {
        "id": "PSx9atu2YklI"
      }
    },
    {
      "cell_type": "markdown",
      "source": [
        "##### 3. Will the gained insights help creating a positive business impact?\n",
        "Are there any insights that lead to negative growth? Justify with specific reason."
      ],
      "metadata": {
        "id": "-JiQyfWJYklI"
      }
    },
    {
      "cell_type": "markdown",
      "source": [
        "Answer Here"
      ],
      "metadata": {
        "id": "BcBbebzrYklV"
      }
    },
    {
      "cell_type": "markdown",
      "source": [
        "#### Chart - 3"
      ],
      "metadata": {
        "id": "EM7whBJCYoAo"
      }
    },
    {
      "cell_type": "code",
      "source": [
        "# Chart - 3 visualization code"
      ],
      "metadata": {
        "id": "t6GMdE67YoAp"
      },
      "execution_count": null,
      "outputs": []
    },
    {
      "cell_type": "markdown",
      "source": [
        "##### 1. Why did you pick the specific chart?"
      ],
      "metadata": {
        "id": "fge-S5ZAYoAp"
      }
    },
    {
      "cell_type": "markdown",
      "source": [
        "Answer Here."
      ],
      "metadata": {
        "id": "5dBItgRVYoAp"
      }
    },
    {
      "cell_type": "markdown",
      "source": [
        "##### 2. What is/are the insight(s) found from the chart?"
      ],
      "metadata": {
        "id": "85gYPyotYoAp"
      }
    },
    {
      "cell_type": "markdown",
      "source": [
        "Answer Here"
      ],
      "metadata": {
        "id": "4jstXR6OYoAp"
      }
    },
    {
      "cell_type": "markdown",
      "source": [
        "##### 3. Will the gained insights help creating a positive business impact?\n",
        "Are there any insights that lead to negative growth? Justify with specific reason."
      ],
      "metadata": {
        "id": "RoGjAbkUYoAp"
      }
    },
    {
      "cell_type": "markdown",
      "source": [
        "Answer Here"
      ],
      "metadata": {
        "id": "zfJ8IqMcYoAp"
      }
    },
    {
      "cell_type": "markdown",
      "source": [
        "#### Chart - 4"
      ],
      "metadata": {
        "id": "4Of9eVA-YrdM"
      }
    },
    {
      "cell_type": "code",
      "source": [
        "# Chart - 4 visualization code"
      ],
      "metadata": {
        "id": "irlUoxc8YrdO"
      },
      "execution_count": null,
      "outputs": []
    },
    {
      "cell_type": "markdown",
      "source": [
        "##### 1. Why did you pick the specific chart?"
      ],
      "metadata": {
        "id": "iky9q4vBYrdO"
      }
    },
    {
      "cell_type": "markdown",
      "source": [
        "Answer Here."
      ],
      "metadata": {
        "id": "aJRCwT6DYrdO"
      }
    },
    {
      "cell_type": "markdown",
      "source": [
        "##### 2. What is/are the insight(s) found from the chart?"
      ],
      "metadata": {
        "id": "F6T5p64dYrdO"
      }
    },
    {
      "cell_type": "markdown",
      "source": [
        "Answer Here"
      ],
      "metadata": {
        "id": "Xx8WAJvtYrdO"
      }
    },
    {
      "cell_type": "markdown",
      "source": [
        "##### 3. Will the gained insights help creating a positive business impact?\n",
        "Are there any insights that lead to negative growth? Justify with specific reason."
      ],
      "metadata": {
        "id": "y-Ehk30pYrdP"
      }
    },
    {
      "cell_type": "markdown",
      "source": [
        "Answer Here"
      ],
      "metadata": {
        "id": "jLNxxz7MYrdP"
      }
    },
    {
      "cell_type": "markdown",
      "source": [
        "#### Chart - 5"
      ],
      "metadata": {
        "id": "bamQiAODYuh1"
      }
    },
    {
      "cell_type": "code",
      "source": [
        "# Chart - 5 visualization code"
      ],
      "metadata": {
        "id": "TIJwrbroYuh3"
      },
      "execution_count": null,
      "outputs": []
    },
    {
      "cell_type": "markdown",
      "source": [
        "##### 1. Why did you pick the specific chart?"
      ],
      "metadata": {
        "id": "QHF8YVU7Yuh3"
      }
    },
    {
      "cell_type": "markdown",
      "source": [
        "Answer Here."
      ],
      "metadata": {
        "id": "dcxuIMRPYuh3"
      }
    },
    {
      "cell_type": "markdown",
      "source": [
        "##### 2. What is/are the insight(s) found from the chart?"
      ],
      "metadata": {
        "id": "GwzvFGzlYuh3"
      }
    },
    {
      "cell_type": "markdown",
      "source": [
        "Answer Here"
      ],
      "metadata": {
        "id": "uyqkiB8YYuh3"
      }
    },
    {
      "cell_type": "markdown",
      "source": [
        "##### 3. Will the gained insights help creating a positive business impact?\n",
        "Are there any insights that lead to negative growth? Justify with specific reason."
      ],
      "metadata": {
        "id": "qYpmQ266Yuh3"
      }
    },
    {
      "cell_type": "markdown",
      "source": [
        "Answer Here"
      ],
      "metadata": {
        "id": "_WtzZ_hCYuh4"
      }
    },
    {
      "cell_type": "markdown",
      "source": [
        "#### Chart - 6"
      ],
      "metadata": {
        "id": "OH-pJp9IphqM"
      }
    },
    {
      "cell_type": "code",
      "source": [
        "# Chart - 6 visualization code"
      ],
      "metadata": {
        "id": "kuRf4wtuphqN"
      },
      "execution_count": null,
      "outputs": []
    },
    {
      "cell_type": "markdown",
      "source": [
        "##### 1. Why did you pick the specific chart?"
      ],
      "metadata": {
        "id": "bbFf2-_FphqN"
      }
    },
    {
      "cell_type": "markdown",
      "source": [
        "Answer Here."
      ],
      "metadata": {
        "id": "loh7H2nzphqN"
      }
    },
    {
      "cell_type": "markdown",
      "source": [
        "##### 2. What is/are the insight(s) found from the chart?"
      ],
      "metadata": {
        "id": "_ouA3fa0phqN"
      }
    },
    {
      "cell_type": "markdown",
      "source": [
        "Answer Here"
      ],
      "metadata": {
        "id": "VECbqPI7phqN"
      }
    },
    {
      "cell_type": "markdown",
      "source": [
        "##### 3. Will the gained insights help creating a positive business impact?\n",
        "Are there any insights that lead to negative growth? Justify with specific reason."
      ],
      "metadata": {
        "id": "Seke61FWphqN"
      }
    },
    {
      "cell_type": "markdown",
      "source": [
        "Answer Here"
      ],
      "metadata": {
        "id": "DW4_bGpfphqN"
      }
    },
    {
      "cell_type": "markdown",
      "source": [
        "#### Chart - 7"
      ],
      "metadata": {
        "id": "PIIx-8_IphqN"
      }
    },
    {
      "cell_type": "code",
      "source": [
        "# Chart - 7 visualization code"
      ],
      "metadata": {
        "id": "lqAIGUfyphqO"
      },
      "execution_count": null,
      "outputs": []
    },
    {
      "cell_type": "markdown",
      "source": [
        "##### 1. Why did you pick the specific chart?"
      ],
      "metadata": {
        "id": "t27r6nlMphqO"
      }
    },
    {
      "cell_type": "markdown",
      "source": [
        "Answer Here."
      ],
      "metadata": {
        "id": "iv6ro40sphqO"
      }
    },
    {
      "cell_type": "markdown",
      "source": [
        "##### 2. What is/are the insight(s) found from the chart?"
      ],
      "metadata": {
        "id": "r2jJGEOYphqO"
      }
    },
    {
      "cell_type": "markdown",
      "source": [
        "Answer Here"
      ],
      "metadata": {
        "id": "Po6ZPi4hphqO"
      }
    },
    {
      "cell_type": "markdown",
      "source": [
        "##### 3. Will the gained insights help creating a positive business impact?\n",
        "Are there any insights that lead to negative growth? Justify with specific reason."
      ],
      "metadata": {
        "id": "b0JNsNcRphqO"
      }
    },
    {
      "cell_type": "markdown",
      "source": [
        "Answer Here"
      ],
      "metadata": {
        "id": "xvSq8iUTphqO"
      }
    },
    {
      "cell_type": "markdown",
      "source": [
        "#### Chart - 8"
      ],
      "metadata": {
        "id": "BZR9WyysphqO"
      }
    },
    {
      "cell_type": "code",
      "source": [
        "# Chart - 8 visualization code"
      ],
      "metadata": {
        "id": "TdPTWpAVphqO"
      },
      "execution_count": null,
      "outputs": []
    },
    {
      "cell_type": "markdown",
      "source": [
        "##### 1. Why did you pick the specific chart?"
      ],
      "metadata": {
        "id": "jj7wYXLtphqO"
      }
    },
    {
      "cell_type": "markdown",
      "source": [
        "Answer Here."
      ],
      "metadata": {
        "id": "Ob8u6rCTphqO"
      }
    },
    {
      "cell_type": "markdown",
      "source": [
        "##### 2. What is/are the insight(s) found from the chart?"
      ],
      "metadata": {
        "id": "eZrbJ2SmphqO"
      }
    },
    {
      "cell_type": "markdown",
      "source": [
        "Answer Here"
      ],
      "metadata": {
        "id": "mZtgC_hjphqO"
      }
    },
    {
      "cell_type": "markdown",
      "source": [
        "##### 3. Will the gained insights help creating a positive business impact?\n",
        "Are there any insights that lead to negative growth? Justify with specific reason."
      ],
      "metadata": {
        "id": "rFu4xreNphqO"
      }
    },
    {
      "cell_type": "markdown",
      "source": [
        "Answer Here"
      ],
      "metadata": {
        "id": "ey_0qi68phqO"
      }
    },
    {
      "cell_type": "markdown",
      "source": [
        "#### Chart - 9"
      ],
      "metadata": {
        "id": "YJ55k-q6phqO"
      }
    },
    {
      "cell_type": "code",
      "source": [
        "# Chart - 9 visualization code"
      ],
      "metadata": {
        "id": "B2aS4O1ophqO"
      },
      "execution_count": null,
      "outputs": []
    },
    {
      "cell_type": "markdown",
      "source": [
        "##### 1. Why did you pick the specific chart?"
      ],
      "metadata": {
        "id": "gCFgpxoyphqP"
      }
    },
    {
      "cell_type": "markdown",
      "source": [
        "Answer Here."
      ],
      "metadata": {
        "id": "TVxDimi2phqP"
      }
    },
    {
      "cell_type": "markdown",
      "source": [
        "##### 2. What is/are the insight(s) found from the chart?"
      ],
      "metadata": {
        "id": "OVtJsKN_phqQ"
      }
    },
    {
      "cell_type": "markdown",
      "source": [
        "Answer Here"
      ],
      "metadata": {
        "id": "ngGi97qjphqQ"
      }
    },
    {
      "cell_type": "markdown",
      "source": [
        "##### 3. Will the gained insights help creating a positive business impact?\n",
        "Are there any insights that lead to negative growth? Justify with specific reason."
      ],
      "metadata": {
        "id": "lssrdh5qphqQ"
      }
    },
    {
      "cell_type": "markdown",
      "source": [
        "Answer Here"
      ],
      "metadata": {
        "id": "tBpY5ekJphqQ"
      }
    },
    {
      "cell_type": "markdown",
      "source": [
        "#### Chart - 10"
      ],
      "metadata": {
        "id": "U2RJ9gkRphqQ"
      }
    },
    {
      "cell_type": "code",
      "source": [
        "# Chart - 10 visualization code"
      ],
      "metadata": {
        "id": "GM7a4YP4phqQ"
      },
      "execution_count": null,
      "outputs": []
    },
    {
      "cell_type": "markdown",
      "source": [
        "##### 1. Why did you pick the specific chart?"
      ],
      "metadata": {
        "id": "1M8mcRywphqQ"
      }
    },
    {
      "cell_type": "markdown",
      "source": [
        "Answer Here."
      ],
      "metadata": {
        "id": "8agQvks0phqQ"
      }
    },
    {
      "cell_type": "markdown",
      "source": [
        "##### 2. What is/are the insight(s) found from the chart?"
      ],
      "metadata": {
        "id": "tgIPom80phqQ"
      }
    },
    {
      "cell_type": "markdown",
      "source": [
        "Answer Here"
      ],
      "metadata": {
        "id": "Qp13pnNzphqQ"
      }
    },
    {
      "cell_type": "markdown",
      "source": [
        "##### 3. Will the gained insights help creating a positive business impact?\n",
        "Are there any insights that lead to negative growth? Justify with specific reason."
      ],
      "metadata": {
        "id": "JMzcOPDDphqR"
      }
    },
    {
      "cell_type": "markdown",
      "source": [
        "Answer Here"
      ],
      "metadata": {
        "id": "R4Ka1PC2phqR"
      }
    },
    {
      "cell_type": "markdown",
      "source": [
        "#### Chart - 11"
      ],
      "metadata": {
        "id": "x-EpHcCOp1ci"
      }
    },
    {
      "cell_type": "code",
      "source": [
        "# Chart - 11 visualization code"
      ],
      "metadata": {
        "id": "mAQTIvtqp1cj"
      },
      "execution_count": null,
      "outputs": []
    },
    {
      "cell_type": "markdown",
      "source": [
        "##### 1. Why did you pick the specific chart?"
      ],
      "metadata": {
        "id": "X_VqEhTip1ck"
      }
    },
    {
      "cell_type": "markdown",
      "source": [
        "Answer Here."
      ],
      "metadata": {
        "id": "-vsMzt_np1ck"
      }
    },
    {
      "cell_type": "markdown",
      "source": [
        "##### 2. What is/are the insight(s) found from the chart?"
      ],
      "metadata": {
        "id": "8zGJKyg5p1ck"
      }
    },
    {
      "cell_type": "markdown",
      "source": [
        "Answer Here"
      ],
      "metadata": {
        "id": "ZYdMsrqVp1ck"
      }
    },
    {
      "cell_type": "markdown",
      "source": [
        "##### 3. Will the gained insights help creating a positive business impact?\n",
        "Are there any insights that lead to negative growth? Justify with specific reason."
      ],
      "metadata": {
        "id": "PVzmfK_Ep1ck"
      }
    },
    {
      "cell_type": "markdown",
      "source": [
        "Answer Here"
      ],
      "metadata": {
        "id": "druuKYZpp1ck"
      }
    },
    {
      "cell_type": "markdown",
      "source": [
        "#### Chart - 12"
      ],
      "metadata": {
        "id": "n3dbpmDWp1ck"
      }
    },
    {
      "cell_type": "code",
      "source": [
        "# Chart - 12 visualization code"
      ],
      "metadata": {
        "id": "bwevp1tKp1ck"
      },
      "execution_count": null,
      "outputs": []
    },
    {
      "cell_type": "markdown",
      "source": [
        "##### 1. Why did you pick the specific chart?"
      ],
      "metadata": {
        "id": "ylSl6qgtp1ck"
      }
    },
    {
      "cell_type": "markdown",
      "source": [
        "Answer Here."
      ],
      "metadata": {
        "id": "m2xqNkiQp1ck"
      }
    },
    {
      "cell_type": "markdown",
      "source": [
        "##### 2. What is/are the insight(s) found from the chart?"
      ],
      "metadata": {
        "id": "ZWILFDl5p1ck"
      }
    },
    {
      "cell_type": "markdown",
      "source": [
        "Answer Here"
      ],
      "metadata": {
        "id": "x-lUsV2mp1ck"
      }
    },
    {
      "cell_type": "markdown",
      "source": [
        "##### 3. Will the gained insights help creating a positive business impact?\n",
        "Are there any insights that lead to negative growth? Justify with specific reason."
      ],
      "metadata": {
        "id": "M7G43BXep1ck"
      }
    },
    {
      "cell_type": "markdown",
      "source": [
        "Answer Here"
      ],
      "metadata": {
        "id": "5wwDJXsLp1cl"
      }
    },
    {
      "cell_type": "markdown",
      "source": [
        "#### Chart - 13"
      ],
      "metadata": {
        "id": "Ag9LCva-p1cl"
      }
    },
    {
      "cell_type": "code",
      "source": [
        "# Chart - 13 visualization code"
      ],
      "metadata": {
        "id": "EUfxeq9-p1cl"
      },
      "execution_count": null,
      "outputs": []
    },
    {
      "cell_type": "markdown",
      "source": [
        "##### 1. Why did you pick the specific chart?"
      ],
      "metadata": {
        "id": "E6MkPsBcp1cl"
      }
    },
    {
      "cell_type": "markdown",
      "source": [
        "Answer Here."
      ],
      "metadata": {
        "id": "V22bRsFWp1cl"
      }
    },
    {
      "cell_type": "markdown",
      "source": [
        "##### 2. What is/are the insight(s) found from the chart?"
      ],
      "metadata": {
        "id": "2cELzS2fp1cl"
      }
    },
    {
      "cell_type": "markdown",
      "source": [
        "Answer Here"
      ],
      "metadata": {
        "id": "ozQPc2_Ip1cl"
      }
    },
    {
      "cell_type": "markdown",
      "source": [
        "##### 3. Will the gained insights help creating a positive business impact?\n",
        "Are there any insights that lead to negative growth? Justify with specific reason."
      ],
      "metadata": {
        "id": "3MPXvC8up1cl"
      }
    },
    {
      "cell_type": "markdown",
      "source": [
        "Answer Here"
      ],
      "metadata": {
        "id": "GL8l1tdLp1cl"
      }
    },
    {
      "cell_type": "markdown",
      "source": [
        "#### Chart - 14 - Correlation Heatmap"
      ],
      "metadata": {
        "id": "NC_X3p0fY2L0"
      }
    },
    {
      "cell_type": "code",
      "source": [
        "# Correlation Heatmap visualization code"
      ],
      "metadata": {
        "id": "xyC9zolEZNRQ"
      },
      "execution_count": null,
      "outputs": []
    },
    {
      "cell_type": "markdown",
      "source": [
        "##### 1. Why did you pick the specific chart?"
      ],
      "metadata": {
        "id": "UV0SzAkaZNRQ"
      }
    },
    {
      "cell_type": "markdown",
      "source": [
        "Answer Here."
      ],
      "metadata": {
        "id": "DVPuT8LYZNRQ"
      }
    },
    {
      "cell_type": "markdown",
      "source": [
        "##### 2. What is/are the insight(s) found from the chart?"
      ],
      "metadata": {
        "id": "YPEH6qLeZNRQ"
      }
    },
    {
      "cell_type": "markdown",
      "source": [
        "Answer Here"
      ],
      "metadata": {
        "id": "bfSqtnDqZNRR"
      }
    },
    {
      "cell_type": "markdown",
      "source": [
        "#### Chart - 15 - Pair Plot"
      ],
      "metadata": {
        "id": "q29F0dvdveiT"
      }
    },
    {
      "cell_type": "code",
      "source": [
        "# Pair Plot visualization code"
      ],
      "metadata": {
        "id": "o58-TEIhveiU"
      },
      "execution_count": null,
      "outputs": []
    },
    {
      "cell_type": "markdown",
      "source": [
        "##### 1. Why did you pick the specific chart?"
      ],
      "metadata": {
        "id": "EXh0U9oCveiU"
      }
    },
    {
      "cell_type": "markdown",
      "source": [
        "Answer Here."
      ],
      "metadata": {
        "id": "eMmPjTByveiU"
      }
    },
    {
      "cell_type": "markdown",
      "source": [
        "##### 2. What is/are the insight(s) found from the chart?"
      ],
      "metadata": {
        "id": "22aHeOlLveiV"
      }
    },
    {
      "cell_type": "markdown",
      "source": [
        "Answer Here"
      ],
      "metadata": {
        "id": "uPQ8RGwHveiV"
      }
    },
    {
      "cell_type": "markdown",
      "source": [
        "## **5. Solution to Business Objective**"
      ],
      "metadata": {
        "id": "JcMwzZxoAimU"
      }
    },
    {
      "cell_type": "markdown",
      "source": [
        "#### What do you suggest the client to achieve Business Objective ?\n",
        "Explain Briefly."
      ],
      "metadata": {
        "id": "8G2x9gOozGDZ"
      }
    },
    {
      "cell_type": "markdown",
      "source": [
        "Answer Here."
      ],
      "metadata": {
        "id": "pASKb0qOza21"
      }
    },
    {
      "cell_type": "markdown",
      "source": [
        "# **Conclusion**"
      ],
      "metadata": {
        "id": "gCX9965dhzqZ"
      }
    },
    {
      "cell_type": "markdown",
      "source": [
        "Write the conclusion here."
      ],
      "metadata": {
        "id": "Fjb1IsQkh3yE"
      }
    },
    {
      "cell_type": "markdown",
      "source": [
        "### ***Hurrah! You have successfully completed your EDA Capstone Project !!!***"
      ],
      "metadata": {
        "id": "gIfDvo9L0UH2"
      }
    }
  ]
}